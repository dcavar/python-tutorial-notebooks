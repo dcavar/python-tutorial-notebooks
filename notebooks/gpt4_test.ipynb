{
 "cells": [
  {
   "cell_type": "markdown",
   "metadata": {},
   "source": [
    "# GPT-4 interaction using the OpenAI API\n",
    "\n",
    "(C) 2024 by [Damir Cavar](http://damir.cavar.me/)\n",
    "\n",
    "The basic API example is documented on the [OpenAI](https://openai.com/) website. The code below is extended and based on the example provided by [OpenAI](https://openai.com/)."
   ]
  },
  {
   "cell_type": "markdown",
   "metadata": {},
   "source": [
    "**Download:** This and various other Jupyter notebooks are available from my [GitHub repo](https://github.com/dcavar/python-tutorial-for-ipython)."
   ]
  },
  {
   "cell_type": "markdown",
   "metadata": {},
   "source": [
    "**Version:** 1.0, March 2024"
   ]
  },
  {
   "cell_type": "markdown",
   "metadata": {},
   "source": [
    "**License:** [Creative Commons Attribution-ShareAlike 4.0 International License](https://creativecommons.org/licenses/by-sa/4.0/) ([CA BY-SA 4.0](https://creativecommons.org/licenses/by-sa/4.0/))"
   ]
  },
  {
   "cell_type": "markdown",
   "metadata": {},
   "source": [
    "**Prerequisites:**\n",
    "\n",
    "The code requires the `openai` module for Python:"
   ]
  },
  {
   "cell_type": "code",
   "execution_count": null,
   "metadata": {},
   "outputs": [],
   "source": [
    "!pip install -U openai"
   ]
  },
  {
   "cell_type": "markdown",
   "metadata": {},
   "source": [
    "You will need to create a file `secret.py` in the same location as this notebook and set the following variable in it:\n",
    "\n",
    "    api_key = \"...\"\n",
    "\n",
    "Make sure that you replace the three dots with your [OpenAI](https://openai.com/) API key.\n",
    "\n",
    "Alternatively, follow the instructions on the [OpenAI](https://openai.com/) site and set the environmental variable with the API key. Should you prefer to use some alternative method to provide the API key to the code, you might need to comment out `from secret import apikey` below."
   ]
  },
  {
   "cell_type": "markdown",
   "metadata": {},
   "source": [
    "## Introduction\n",
    "\n",
    "This is a simple notebook that shows how to use the [OpenAI](https://openai.com/) endpoint for [GPT](https://chat.openai.com/), in particular the newly released [GPT-4 turbo](https://platform.openai.com/docs/models/gpt-4-and-gpt-4-turbo)."
   ]
  },
  {
   "cell_type": "code",
   "execution_count": 1,
   "metadata": {},
   "outputs": [],
   "source": [
    "from openai import OpenAI\n",
    "from secret import apikey\n",
    "gpt_model = \"gpt-4-turbo-preview\""
   ]
  },
  {
   "cell_type": "markdown",
   "metadata": {},
   "source": [
    "The following code creates an OpenAI `client` that connects with GPT-4."
   ]
  },
  {
   "cell_type": "code",
   "execution_count": 2,
   "metadata": {},
   "outputs": [],
   "source": [
    "client = OpenAI(api_key=apikey)"
   ]
  },
  {
   "cell_type": "markdown",
   "metadata": {},
   "source": [
    "The following function performs the API call and returns the resulting message content."
   ]
  },
  {
   "cell_type": "code",
   "execution_count": 3,
   "metadata": {},
   "outputs": [],
   "source": [
    "def call_gpt4(prompt: str, instructions: str) -> str:\n",
    "    chat_completion = client.chat.completions.create(\n",
    "        messages=[ {\n",
    "                \"role\": \"user\",\n",
    "                \"content\": f'{instructions} {prompt}.'\n",
    "            } ],\n",
    "        model=gpt_model\n",
    "    )\n",
    "    return chat_completion.choices[0].message.content.strip()"
   ]
  },
  {
   "cell_type": "markdown",
   "metadata": {},
   "source": [
    "The `instructions` text provides a context and instructions to GPT-4. The `prompt` contains the full textual prompt."
   ]
  },
  {
   "cell_type": "code",
   "execution_count": 4,
   "metadata": {},
   "outputs": [
    {
     "data": {
      "text/plain": [
       "'The claim, \"I bought the blue car,\" carries several implicatures, which are meanings implied rather than directly stated. Implicatures vary based on context and the shared knowledge between the speaker and listener, but here are some common ones for this statement:\\n\\n1. **Ownership**: The speaker now owns the blue car. By stating they bought it, it\\'s implied that the transaction has concluded, and ownership has transferred to them.\\n   \\n2. **Specificity and Exclusivity**: The speaker specifically chose a car that is blue, implying a preference or decision-making process based on color. It may also imply that the choice of color was significant enough to mention, setting it apart from other cars they could have bought.\\n\\n3. **Transaction Completed**: The speaker has completed a purchase, implying they had the resources to do so. It suggests a financial exchange or agreement that has been fulfilled.\\n\\n4. **There were multiple options available**: By specifying the color of the car, it might imply that there were other cars (possibly of different colors or features) that the speaker could have chosen instead.\\n\\n5. **Physical presence or access**: By saying they bought the car, it\\'s implied that the speaker either has the car now or will soon have it physically available to them. This suggests a change in the speaker\\'s immediate physical environment or possessions.\\n\\n6. **Decision-making and preference**: The statement might also imply that the speaker made a deliberate choice, likely based on personal preference or other factors like price, model, or features, but color was an important enough characteristic to mention.\\n\\nThese implicatures rely heavily on the assumption that the statement is straightforward and honest. In different contexts or with additional information, other implicatures might emerge. For instance, if the conversation previously involved discussions of needing a vehicle for a specific purpose, mention of purchasing the car might also imply that the speaker\\'s needs will now be met.'"
      ]
     },
     "execution_count": 4,
     "metadata": {},
     "output_type": "execute_result"
    }
   ],
   "source": [
    "instructions = \"Answer the following question.\"\n",
    "prompt       = \"\"\"What are the implicatures of the claim:\n",
    "'I bought the blue car.'\n",
    "\"\"\"\n",
    "call_gpt4(prompt, instructions)"
   ]
  },
  {
   "cell_type": "markdown",
   "metadata": {},
   "source": [
    "(C) 2024 by [Damir Cavar](http://damir.cavar.me/)"
   ]
  }
 ],
 "metadata": {
  "kernelspec": {
   "display_name": "Python 3",
   "language": "python",
   "name": "python3"
  },
  "language_info": {
   "codemirror_mode": {
    "name": "ipython",
    "version": 3
   },
   "file_extension": ".py",
   "mimetype": "text/x-python",
   "name": "python",
   "nbconvert_exporter": "python",
   "pygments_lexer": "ipython3",
   "version": "3.11.6"
  }
 },
 "nbformat": 4,
 "nbformat_minor": 2
}
