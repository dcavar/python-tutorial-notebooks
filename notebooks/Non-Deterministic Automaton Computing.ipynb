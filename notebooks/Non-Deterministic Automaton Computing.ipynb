{
 "cells": [
  {
   "cell_type": "markdown",
   "metadata": {},
   "source": [
    "# Computing FSAs"
   ]
  },
  {
   "cell_type": "markdown",
   "metadata": {},
   "source": [
    "**(C) 2017-2024 by [Damir Cavar](http://damir.cavar.me/)**"
   ]
  },
  {
   "cell_type": "markdown",
   "metadata": {},
   "source": [
    "**Version:** 1.1, January 2024"
   ]
  },
  {
   "cell_type": "markdown",
   "metadata": {},
   "source": [
    "**License:** [Creative Commons Attribution-ShareAlike 4.0 International License](https://creativecommons.org/licenses/by-sa/4.0/) ([CA BY-SA 4.0](https://creativecommons.org/licenses/by-sa/4.0/))"
   ]
  },
  {
   "cell_type": "markdown",
   "metadata": {},
   "source": [
    "**Prerequisites:**"
   ]
  },
  {
   "cell_type": "code",
   "execution_count": null,
   "metadata": {},
   "outputs": [],
   "source": [
    "!pip install -U numpy"
   ]
  },
  {
   "cell_type": "markdown",
   "metadata": {},
   "source": [
    "## Introduction"
   ]
  },
  {
   "cell_type": "markdown",
   "metadata": {},
   "source": [
    "Consider the following automaton:"
   ]
  },
  {
   "cell_type": "markdown",
   "metadata": {},
   "source": [
    "<img src=\"NDFSAMatrixOp.png\" caption=\"Non-deterministic Finite State Automaton\" style=\"width: 200px;\"/>"
   ]
  },
  {
   "cell_type": "markdown",
   "metadata": {},
   "source": [
    "We can represent it in terms of transition tables. We will use the Python numpy module for that."
   ]
  },
  {
   "cell_type": "code",
   "execution_count": 1,
   "metadata": {},
   "outputs": [],
   "source": [
    "from numpy import array"
   ]
  },
  {
   "cell_type": "markdown",
   "metadata": {},
   "source": [
    "The transitions are coded in terms of state to state transitions. The columns and rows represent the states 0, 1, and 2. The following transition matrix shows all transitions that are associated with the label \"a\", that is from 0 to 0, from 0 to 1, and from 1 to 0."
   ]
  },
  {
   "cell_type": "code",
   "execution_count": 3,
   "metadata": {},
   "outputs": [],
   "source": [
    "a = array([\n",
    "    [1, 1, 0],\n",
    "    [1, 0, 0],\n",
    "    [0, 0, 0]\n",
    "])"
   ]
  },
  {
   "cell_type": "markdown",
   "metadata": {},
   "source": [
    "The following transition matrix shows that for the transitions associated with \"b\"."
   ]
  },
  {
   "cell_type": "code",
   "execution_count": 4,
   "metadata": {},
   "outputs": [],
   "source": [
    "b = array([\n",
    "    [0, 1, 0],\n",
    "    [0, 1, 0],\n",
    "    [0, 0, 0]\n",
    "])"
   ]
  },
  {
   "cell_type": "markdown",
   "metadata": {},
   "source": [
    "The following transition matrix shows this for the transitions associated with \"c\"."
   ]
  },
  {
   "cell_type": "code",
   "execution_count": 5,
   "metadata": {},
   "outputs": [],
   "source": [
    "c = array([\n",
    "    [0, 0, 0],\n",
    "    [0, 0, 1],\n",
    "    [0, 0, 0]\n",
    "])"
   ]
  },
  {
   "cell_type": "markdown",
   "metadata": {},
   "source": [
    "We can define the start state using an init vector. This init vector indicates that the start state should be 0."
   ]
  },
  {
   "cell_type": "code",
   "execution_count": 6,
   "metadata": {},
   "outputs": [],
   "source": [
    "init = array([\n",
    "    [1, 0, 0]\n",
    "])"
   ]
  },
  {
   "cell_type": "markdown",
   "metadata": {},
   "source": [
    "The set of final states can be encoded as a column vector that in this case defines state 3 as the only final state."
   ]
  },
  {
   "cell_type": "code",
   "execution_count": 7,
   "metadata": {},
   "outputs": [],
   "source": [
    "final = array([\n",
    "    [0],\n",
    "    [0],\n",
    "    [1]\n",
    "])"
   ]
  },
  {
   "cell_type": "markdown",
   "metadata": {},
   "source": [
    "If we want to compute the possibility for a sequence like \"aa\" to be accepted by this automaton, we could compute the dot product of the init-vector and the a matrices, with the dot product of the final state."
   ]
  },
  {
   "cell_type": "code",
   "execution_count": 9,
   "metadata": {},
   "outputs": [
    {
     "data": {
      "text/plain": [
       "array([[1]])"
      ]
     },
     "execution_count": 9,
     "metadata": {},
     "output_type": "execute_result"
    }
   ],
   "source": [
    "init.dot(a).dot(c).dot(final)"
   ]
  },
  {
   "cell_type": "markdown",
   "metadata": {},
   "source": [
    "The 0 indicates that there is no path from the initial state to the final state based on a sequence \"aa\"."
   ]
  },
  {
   "cell_type": "markdown",
   "metadata": {},
   "source": [
    "Let us verify this for a sequence \"bc\", for which we know that there is such a path:"
   ]
  },
  {
   "cell_type": "code",
   "execution_count": 8,
   "metadata": {},
   "outputs": [
    {
     "data": {
      "text/plain": [
       "array([[1]])"
      ]
     },
     "execution_count": 8,
     "metadata": {},
     "output_type": "execute_result"
    }
   ],
   "source": [
    "init.dot(b).dot(c).dot(final)"
   ]
  },
  {
   "cell_type": "markdown",
   "metadata": {},
   "source": [
    "Just to verify once more, let us consider the sequence \"aabc\":"
   ]
  },
  {
   "cell_type": "code",
   "execution_count": 10,
   "metadata": {},
   "outputs": [
    {
     "data": {
      "text/plain": [
       "array([[3]])"
      ]
     },
     "execution_count": 10,
     "metadata": {},
     "output_type": "execute_result"
    }
   ],
   "source": [
    "init.dot(a).dot(a).dot(b).dot(c).dot(final)"
   ]
  },
  {
   "cell_type": "markdown",
   "metadata": {},
   "source": [
    "There are obviously three paths in our Non-deterministic Finite State Automaton that generate the sequence \"aabc\"."
   ]
  },
  {
   "cell_type": "markdown",
   "metadata": {},
   "source": [
    "## Wrapping the Process into a Function"
   ]
  },
  {
   "cell_type": "markdown",
   "metadata": {},
   "source": [
    "We could define the FSA above as a 5-tuple $(\\Sigma, Q, i, F, E)$, with:"
   ]
  },
  {
   "cell_type": "markdown",
   "metadata": {},
   "source": [
    "$\\Sigma = \\{a, b, c\\}$, the set of symbols."
   ]
  },
  {
   "cell_type": "markdown",
   "metadata": {},
   "source": [
    "$Q = \\{ 0, 1, 2 \\}$, the set of states."
   ]
  },
  {
   "cell_type": "markdown",
   "metadata": {},
   "source": [
    "$i \\in Q$, with $i = 0$, the initial state."
   ]
  },
  {
   "cell_type": "markdown",
   "metadata": {},
   "source": [
    "$F \\subseteq Q$, with $F = \\{ 2 \\}$, the set of final states."
   ]
  },
  {
   "cell_type": "markdown",
   "metadata": {},
   "source": [
    "$E \\subseteq Q \\times (\\Sigma \\cup \\epsilon) \\times Q$, the set of transitions."
   ]
  },
  {
   "cell_type": "markdown",
   "metadata": {},
   "source": [
    "$E$ is the subset of tuples determined by the cartesian product of the set of states, the set of symbols including the empty set, and the set of states. This tuple defines a transition from one state to another state with a specific symbol."
   ]
  },
  {
   "cell_type": "markdown",
   "metadata": {},
   "source": [
    "$E$ could also be defined in terms of a function $\\delta(\\sigma, q)$, with $\\sigma$ an input symbol and $q$ the current state. $\\delta(\\sigma, q)$ returns the new state of the transition, or a failure. The possible transitions for any given symbol from any state can be defined in a transition table:"
   ]
  },
  {
   "cell_type": "markdown",
   "metadata": {},
   "source": [
    "|        | a     | b     | c     |\n",
    "| :---:  | :---: | :---: | :---: |\n",
    "| **0**  | 0, 1  | 1     | -     |\n",
    "| **1**  | 0     | 1     | 2     |\n",
    "| **2:** | -     | -     | -     |"
   ]
  },
  {
   "cell_type": "markdown",
   "metadata": {},
   "source": [
    "We can define the automaton in Python:"
   ]
  },
  {
   "cell_type": "code",
   "execution_count": 45,
   "metadata": {},
   "outputs": [],
   "source": [
    "S = set( ['a', 'b', 'c'] )\n",
    "Q = set( [0, 1, 2] )\n",
    "i = 0\n",
    "F = set( [ 2 ] )\n",
    "td = { (0, 'a'): [0, 1],\n",
    "       (1, 'a'): [0],\n",
    "       (0, 'b'): [1],\n",
    "       (1, 'b'): [1],\n",
    "       (1, 'c'): [2]\n",
    "     }\n",
    "\n",
    "def df(state, symbol):\n",
    "    print(state, symbol)\n",
    "    return td.get(tuple( [state, symbol] ), [])"
   ]
  },
  {
   "cell_type": "code",
   "execution_count": 46,
   "metadata": {},
   "outputs": [],
   "source": [
    "def accept(sequence):\n",
    "    agenda = []\n",
    "    state = i\n",
    "    count = len(sequence)\n",
    "    agenda.append((state, 0))\n",
    "    while agenda:\n",
    "        print(agenda)\n",
    "        if not agenda:\n",
    "            break\n",
    "        state, pos = agenda.pop()\n",
    "        states = df(state, sequence[pos])\n",
    "        if not states:\n",
    "            print(\"No transition\")\n",
    "            return False\n",
    "        state = states[0]\n",
    "        if pos == count - 1:\n",
    "            print(\"Reached end\")\n",
    "            if F.intersection(set(states)):\n",
    "                return True\n",
    "            break\n",
    "        for s in states[1:]:\n",
    "            agenda.append( (s, pos+1) )\n",
    "    if state in F:\n",
    "        print(\"Not final state\")\n",
    "        return True\n",
    "    return False"
   ]
  },
  {
   "cell_type": "code",
   "execution_count": 47,
   "metadata": {},
   "outputs": [
    {
     "name": "stdout",
     "output_type": "stream",
     "text": [
      "[(0, 0)]\n",
      "0 a\n",
      "[(1, 1)]\n",
      "1 a\n"
     ]
    },
    {
     "data": {
      "text/plain": [
       "False"
      ]
     },
     "execution_count": 47,
     "metadata": {},
     "output_type": "execute_result"
    }
   ],
   "source": [
    "accept(\"aac\")"
   ]
  },
  {
   "cell_type": "code",
   "execution_count": 14,
   "metadata": {},
   "outputs": [],
   "source": [
    "alphabetMatrices = {}\n",
    "alphabetMatrices[\"a\"] = array([\n",
    "    [1, 1, 0],\n",
    "    [1, 0, 0],\n",
    "    [0, 0, 0]\n",
    "])\n",
    "alphabetMatrices[\"b\"] = array([\n",
    "    [0, 1, 0],\n",
    "    [0, 1, 0],\n",
    "    [0, 0, 0]\n",
    "])\n",
    "alphabetMatrices[\"c\"] = array([\n",
    "    [0, 0, 0],\n",
    "    [0, 0, 1],\n",
    "    [0, 0, 0]\n",
    "])\n",
    "alphabetMatrices[\"default\"] = array([\n",
    "    [0, 0, 0],\n",
    "    [0, 0, 0],\n",
    "    [0, 0, 0]\n",
    "])"
   ]
  },
  {
   "cell_type": "code",
   "execution_count": 17,
   "metadata": {},
   "outputs": [],
   "source": [
    "def paths(seq):\n",
    "    res = init\n",
    "    for x in seq:\n",
    "        res = res.dot( alphabetMatrices.get(x, alphabetMatrices[\"default\"]) )\n",
    "    return res.dot(array([\n",
    "    [0],\n",
    "    [0],\n",
    "    [1]\n",
    "]))[0][0]"
   ]
  },
  {
   "cell_type": "code",
   "execution_count": 18,
   "metadata": {},
   "outputs": [
    {
     "data": {
      "text/plain": [
       "3"
      ]
     },
     "execution_count": 18,
     "metadata": {},
     "output_type": "execute_result"
    }
   ],
   "source": [
    "paths(\"aabc\")"
   ]
  },
  {
   "cell_type": "markdown",
   "metadata": {},
   "source": [
    "**(C) 2016-2024 by [Damir Cavar](http://damir.cavar.me/) <<dcavar@iu.edu>>**"
   ]
  }
 ],
 "metadata": {
  "kernelspec": {
   "display_name": "Python 3",
   "language": "python",
   "name": "python3"
  },
  "language_info": {
   "codemirror_mode": {
    "name": "ipython",
    "version": 3
   },
   "file_extension": ".py",
   "mimetype": "text/x-python",
   "name": "python",
   "nbconvert_exporter": "python",
   "pygments_lexer": "ipython3",
   "version": "3.7.3"
  },
  "toc": {
   "base_numbering": 1,
   "nav_menu": {},
   "number_sections": false,
   "sideBar": false,
   "skip_h1_title": false,
   "title_cell": "Table of Contents",
   "title_sidebar": "Contents",
   "toc_cell": false,
   "toc_position": {},
   "toc_section_display": false,
   "toc_window_display": false
  }
 },
 "nbformat": 4,
 "nbformat_minor": 2
}
