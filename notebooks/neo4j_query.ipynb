{
 "cells": [
  {
   "cell_type": "markdown",
   "metadata": {},
   "source": [
    "# Neo4j Endpoint for Graph Queries\n",
    "\n",
    "(C) 2024 by [Damir Cavar](http://damir.cavar.me/)\n",
    "\n",
    "This code shows how to query the Neo4j endpoint graph. The code expects that you specify the neo4j URI for the BOLT interface, which could be localhost and port 7687 as in \"bolt://localhost:7687\". Specify the URL, login, and password in the file `secret.py`. Of course, it is necessary to have a running instance of Neo4j that serves to this port using the BOLT protocol, etc. Read the Neo4j configuration related to this."
   ]
  },
  {
   "cell_type": "code",
   "execution_count": 1,
   "metadata": {},
   "outputs": [
    {
     "name": "stdout",
     "output_type": "stream",
     "text": [
      "Requirement already satisfied: neo4j in c:\\users\\damir\\appdata\\local\\programs\\python\\python312\\lib\\site-packages (5.23.0)\n",
      "Collecting neo4j\n",
      "  Downloading neo4j-5.25.0-py3-none-any.whl.metadata (5.7 kB)\n",
      "Requirement already satisfied: pytz in c:\\users\\damir\\appdata\\local\\programs\\python\\python312\\lib\\site-packages (from neo4j) (2024.1)\n",
      "Downloading neo4j-5.25.0-py3-none-any.whl (296 kB)\n",
      "Installing collected packages: neo4j\n",
      "Successfully installed neo4j-5.25.0\n"
     ]
    }
   ],
   "source": [
    "!pip install -U --user neo4j"
   ]
  },
  {
   "cell_type": "markdown",
   "metadata": {},
   "source": [
    "Import the neo4j module and the credentials from the `secret.py` file:"
   ]
  },
  {
   "cell_type": "code",
   "execution_count": 1,
   "metadata": {},
   "outputs": [],
   "source": [
    "from neo4j import GraphDatabase\n",
    "from secret import neo4j_login, neo4j_password, neo4j_uri"
   ]
  },
  {
   "cell_type": "markdown",
   "metadata": {},
   "source": [
    "Create a driver instance with the URI and credentials:"
   ]
  },
  {
   "cell_type": "code",
   "execution_count": 2,
   "metadata": {},
   "outputs": [],
   "source": [
    "secGDriver = GraphDatabase.driver(neo4j_uri, auth=(neo4j_login, neo4j_password))"
   ]
  },
  {
   "cell_type": "markdown",
   "metadata": {},
   "source": [
    "Verify the connectivity before submitting queries:"
   ]
  },
  {
   "cell_type": "code",
   "execution_count": 3,
   "metadata": {},
   "outputs": [],
   "source": [
    "secGDriver.verify_connectivity()"
   ]
  },
  {
   "cell_type": "markdown",
   "metadata": {},
   "source": [
    "A query to add some nodes is for example:"
   ]
  },
  {
   "cell_type": "code",
   "execution_count": 5,
   "metadata": {},
   "outputs": [],
   "source": [
    "queryies = [\"\"\"\n",
    "CREATE (virgin_galactic_holdings_inc:Corporation { name: \"Virgin Galactic Holdings, Inc\"}),\n",
    "(rocket_lab_usa_inc:Corporation { name: \"Rocket Lab USA, Inc.\"}),\n",
    "(pfizer_inc:Corporation { name: \"PFIZER INC\"}),\n",
    "(usa:Country { name: \"USA\"}),\n",
    "(merck_co_inc:Corporation { name: \"Merck & Co., Inc.\"});\n",
    "\"\"\",\n",
    "\"\"\"\n",
    "MATCH (a {name: \"Rocket Lab USA, Inc.\"}), (d {name:\"USA\"})\n",
    "CREATE (a)-[:IS_LOCATED_IN]->(d);\n",
    "\"\"\",\n",
    "\"\"\"\n",
    "MATCH (a {name: 'PFIZER INC'}), (b {name: 'USA'})\n",
    "CREATE (a)-[:IS_LOCATED_IN]->(b);\n",
    "\"\"\",\n",
    "\"\"\"\n",
    "MATCH (a {name: 'Merck & Co., Inc.'}), (b {name: 'USA'})\n",
    "CREATE (a)-[:IS_LOCATED_IN]->(b);\n",
    "\"\"\"\n",
    "]"
   ]
  },
  {
   "cell_type": "markdown",
   "metadata": {},
   "source": [
    "We execute the query:"
   ]
  },
  {
   "cell_type": "code",
   "execution_count": 13,
   "metadata": {},
   "outputs": [
    {
     "data": {
      "text/plain": [
       "EagerResult(records=[], summary=<neo4j._work.summary.ResultSummary object at 0x00000227FFED03E0>, keys=[])"
      ]
     },
     "execution_count": 13,
     "metadata": {},
     "output_type": "execute_result"
    }
   ],
   "source": [
    "for query in queryies:\n",
    "    secGDriver.execute_query(query)"
   ]
  },
  {
   "cell_type": "markdown",
   "metadata": {},
   "source": [
    "Here is a query to pull some nodes from the graph:"
   ]
  },
  {
   "cell_type": "code",
   "execution_count": 14,
   "metadata": {},
   "outputs": [],
   "source": [
    "query_corporations = \"MATCH (x:Corporation) RETURN x.name\""
   ]
  },
  {
   "cell_type": "markdown",
   "metadata": {},
   "source": [
    "Executing the query will return a list of nodes:"
   ]
  },
  {
   "cell_type": "code",
   "execution_count": 15,
   "metadata": {},
   "outputs": [],
   "source": [
    "records, summary, keys = secGDriver.execute_query(query_corporations)"
   ]
  },
  {
   "cell_type": "markdown",
   "metadata": {},
   "source": [
    "Printing out the names:"
   ]
  },
  {
   "cell_type": "code",
   "execution_count": 16,
   "metadata": {},
   "outputs": [
    {
     "name": "stdout",
     "output_type": "stream",
     "text": [
      "Virgin Galactic Holdings, Inc\n",
      "Rocket Lab USA, Inc.\n",
      "PFIZER INC\n",
      "Merck & Co., Inc.\n"
     ]
    }
   ],
   "source": [
    "for node in records:\n",
    "    print(node.data()['x.name'])"
   ]
  },
  {
   "cell_type": "markdown",
   "metadata": {},
   "source": [
    "Clear all entries in the graph:"
   ]
  },
  {
   "cell_type": "code",
   "execution_count": 17,
   "metadata": {},
   "outputs": [],
   "source": [
    "query_clear_graph = \"MATCH (n) DETACH DELETE n\""
   ]
  },
  {
   "cell_type": "markdown",
   "metadata": {},
   "source": [
    "Executing the clear graph query:"
   ]
  },
  {
   "cell_type": "code",
   "execution_count": 18,
   "metadata": {},
   "outputs": [
    {
     "data": {
      "text/plain": [
       "EagerResult(records=[], summary=<neo4j._work.summary.ResultSummary object at 0x00000227FFED17F0>, keys=[])"
      ]
     },
     "execution_count": 18,
     "metadata": {},
     "output_type": "execute_result"
    }
   ],
   "source": [
    "secGDriver.execute_query(query_clear_graph)"
   ]
  },
  {
   "cell_type": "markdown",
   "metadata": {},
   "source": [
    "Closing the connection to Neo4j:"
   ]
  },
  {
   "cell_type": "code",
   "execution_count": 14,
   "metadata": {},
   "outputs": [],
   "source": [
    "secGDriver.close()"
   ]
  },
  {
   "cell_type": "markdown",
   "metadata": {},
   "source": [
    "(C) 2024 by [Damir Cavar](http://damir.cavar.com/)"
   ]
  }
 ],
 "metadata": {
  "kernelspec": {
   "display_name": "Python 3",
   "language": "python",
   "name": "python3"
  },
  "language_info": {
   "codemirror_mode": {
    "name": "ipython",
    "version": 3
   },
   "file_extension": ".py",
   "mimetype": "text/x-python",
   "name": "python",
   "nbconvert_exporter": "python",
   "pygments_lexer": "ipython3",
   "version": "3.12.3"
  }
 },
 "nbformat": 4,
 "nbformat_minor": 2
}
