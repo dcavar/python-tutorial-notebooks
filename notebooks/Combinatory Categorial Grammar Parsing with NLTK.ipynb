{
 "cells": [
  {
   "cell_type": "markdown",
   "metadata": {},
   "source": [
    "# Combinatory Categorial Grammar Parsing with NLTK"
   ]
  },
  {
   "cell_type": "markdown",
   "metadata": {},
   "source": [
    "**(C) 2019-2024 by [Damir Cavar](http://damir.cavar.me/)**"
   ]
  },
  {
   "cell_type": "markdown",
   "metadata": {},
   "source": [
    "**License:** [Creative Commons Attribution-ShareAlike 4.0 International License](https://creativecommons.org/licenses/by-sa/4.0/) ([CA BY-SA 4.0](https://creativecommons.org/licenses/by-sa/4.0/))"
   ]
  },
  {
   "cell_type": "markdown",
   "metadata": {},
   "source": [
    "This is a tutorial related to the discussion of grammar engineering and parsing in the class Alternative Syntactic Theories and Advanced Natural Language Processing taught at Indiana University in Spring 2019."
   ]
  },
  {
   "cell_type": "markdown",
   "metadata": {},
   "source": [
    "The examples presuppose an installed Python 3.x [NLTK](https://www.nltk.org/) module with all the dependent modules and packages, as well as the [data set for NLTK](https://www.nltk.org/data.html)."
   ]
  },
  {
   "cell_type": "markdown",
   "metadata": {},
   "source": [
    "**Prerequisites:**"
   ]
  },
  {
   "cell_type": "code",
   "execution_count": null,
   "metadata": {},
   "outputs": [],
   "source": [
    "!pip install -U nltk"
   ]
  },
  {
   "cell_type": "markdown",
   "metadata": {},
   "source": [
    "## Introduction"
   ]
  },
  {
   "cell_type": "markdown",
   "metadata": {},
   "source": [
    "coming soon..."
   ]
  },
  {
   "cell_type": "markdown",
   "metadata": {},
   "source": [
    "## Code Examples"
   ]
  },
  {
   "cell_type": "markdown",
   "metadata": {},
   "source": [
    "The initial code examples here were taken from http://www.nltk.org/howto/ccg.html and adapted for our course needs."
   ]
  },
  {
   "cell_type": "code",
   "execution_count": 1,
   "metadata": {},
   "outputs": [],
   "source": [
    "from nltk.ccg import chart, lexicon"
   ]
  },
  {
   "cell_type": "markdown",
   "metadata": {},
   "source": [
    "We can specify a lexicon as follows:"
   ]
  },
  {
   "cell_type": "code",
   "execution_count": 2,
   "metadata": {},
   "outputs": [],
   "source": [
    "lex = lexicon.fromstring('''\n",
    ":- S, NP, N, VP\n",
    "Det :: NP/N\n",
    "Pro :: NP\n",
    "Modal :: S\\\\NP/VP\n",
    "\n",
    "TV :: VP/NP\n",
    "DTV :: TV/NP\n",
    "\n",
    "the => Det\n",
    "\n",
    "that => Det\n",
    "that => NP\n",
    "\n",
    "I => Pro\n",
    "you => Pro\n",
    "we => Pro\n",
    "\n",
    "chef => N\n",
    "cake => N\n",
    "children => N\n",
    "dough => N\n",
    "\n",
    "will => Modal\n",
    "should => Modal\n",
    "might => Modal\n",
    "must => Modal\n",
    "\n",
    "and => var\\\\.,var/.,var\n",
    "\n",
    "to => VP[to]/VP\n",
    "\n",
    "without => (VP\\\\VP)/VP[ing]\n",
    "\n",
    "be => TV\n",
    "cook => TV\n",
    "eat => TV\n",
    "\n",
    "cooking => VP[ing]/NP\n",
    "\n",
    "give => DTV\n",
    "\n",
    "is => (S\\\\NP)/NP\n",
    "prefer => (S\\\\NP)/NP\n",
    "\n",
    "which => (N\\\\N)/(S/NP)\n",
    "\n",
    "persuade => (VP/VP[to])/NP\n",
    "''')"
   ]
  },
  {
   "cell_type": "markdown",
   "metadata": {},
   "source": [
    "We instantiate a parser instance using this lexicon specification:"
   ]
  },
  {
   "cell_type": "code",
   "execution_count": 3,
   "metadata": {},
   "outputs": [],
   "source": [
    "parser = chart.CCGChartParser(lex, chart.DefaultRuleSet)"
   ]
  },
  {
   "cell_type": "markdown",
   "metadata": {},
   "source": [
    "The following function wraps the parser calls. It takes a parser object as the first argument and the sentence as a string as the second."
   ]
  },
  {
   "cell_type": "code",
   "execution_count": 4,
   "metadata": {},
   "outputs": [],
   "source": [
    "def parse(myparser, sentence):\n",
    "    for p in myparser.parse(sentence.split()):  # doctest: +SKIP\n",
    "        chart.printCCGDerivation(p)\n",
    "        break"
   ]
  },
  {
   "cell_type": "code",
   "execution_count": 6,
   "metadata": {},
   "outputs": [
    {
     "name": "stdout",
     "output_type": "stream",
     "text": [
      " I      will          give      you   that   cake\n",
      " NP  ((S\\NP)/VP)  ((VP/NP)/NP)  NP   (NP/N)   N\n",
      "                 ------------------->\n",
      "                       (VP/NP)\n",
      "                                    -------------->\n",
      "                                          NP\n",
      "                 --------------------------------->\n",
      "                                VP\n",
      "    ---------------------------------------------->\n",
      "                        (S\\NP)\n",
      "--------------------------------------------------<\n",
      "                        S\n"
     ]
    }
   ],
   "source": [
    "parse(parser, \"I will give you that cake\")"
   ]
  },
  {
   "cell_type": "code",
   "execution_count": 7,
   "metadata": {},
   "outputs": [
    {
     "name": "stdout",
     "output_type": "stream",
     "text": [
      " that      is        the    cake      which       you    prefer\n",
      "  NP   ((S\\NP)/NP)  (NP/N)   N    ((N\\N)/(S/NP))  NP   ((S\\NP)/NP)\n",
      "                                                 ----->T\n",
      "                                              (S/(S\\NP))\n",
      "                                                 ------------------>B\n",
      "                                                       (S/NP)\n",
      "                                 ---------------------------------->\n",
      "                                               (N\\N)\n",
      "                           ----------------------------------------<\n",
      "                                              N\n",
      "                   ------------------------------------------------>\n",
      "                                          NP\n",
      "      ------------------------------------------------------------->\n",
      "                                 (S\\NP)\n",
      "-------------------------------------------------------------------<\n",
      "                                 S\n"
     ]
    }
   ],
   "source": [
    "parse(parser, \"that is the cake which you prefer\")"
   ]
  },
  {
   "cell_type": "code",
   "execution_count": 8,
   "metadata": {},
   "outputs": [],
   "source": [
    "nosub_parser = chart.CCGChartParser(lex, chart.ApplicationRuleSet + chart.CompositionRuleSet + chart.TypeRaiseRuleSet)"
   ]
  },
  {
   "cell_type": "code",
   "execution_count": 9,
   "metadata": {},
   "outputs": [],
   "source": [
    "parse(nosub_parser, \"that is the dough which you will eat without cooking\")"
   ]
  },
  {
   "cell_type": "code",
   "execution_count": 10,
   "metadata": {},
   "outputs": [
    {
     "name": "stdout",
     "output_type": "stream",
     "text": [
      " that      is        the    dough      which       you     will        eat          without           cooking\n",
      "  NP   ((S\\NP)/NP)  (NP/N)    N    ((N\\N)/(S/NP))  NP   ((S\\NP)/VP)  (VP/NP)  ((VP\\VP)/VP['ing'])  (VP['ing']/NP)\n",
      "                                                  ----->T\n",
      "                                               (S/(S\\NP))\n",
      "                                                                             ------------------------------------->B\n",
      "                                                                                         ((VP\\VP)/NP)\n",
      "                                                                    ----------------------------------------------<Sx\n",
      "                                                                                       (VP/NP)\n",
      "                                                       ----------------------------------------------------------->B\n",
      "                                                                               ((S\\NP)/NP)\n",
      "                                                  ---------------------------------------------------------------->B\n",
      "                                                                               (S/NP)\n",
      "                                  -------------------------------------------------------------------------------->\n",
      "                                                                       (N\\N)\n",
      "                           ---------------------------------------------------------------------------------------<\n",
      "                                                                      N\n",
      "                   ----------------------------------------------------------------------------------------------->\n",
      "                                                                 NP\n",
      "      ------------------------------------------------------------------------------------------------------------>\n",
      "                                                         (S\\NP)\n",
      "------------------------------------------------------------------------------------------------------------------<\n",
      "                                                        S\n"
     ]
    }
   ],
   "source": [
    "parse(parser, \"that is the dough which you will eat without cooking\")"
   ]
  },
  {
   "cell_type": "code",
   "execution_count": 11,
   "metadata": {},
   "outputs": [
    {
     "name": "stdout",
     "output_type": "stream",
     "text": [
      " that      is        the    cake      which       we     will           persuade        the    chef       to         cook\n",
      "  NP   ((S\\NP)/NP)  (NP/N)   N    ((N\\N)/(S/NP))  NP  ((S\\NP)/VP)  ((VP/VP['to'])/NP)  (NP/N)   N    (VP['to']/VP)  (VP/NP)\n",
      "                                                 ---->T\n",
      "                                              (S/(S\\NP))\n",
      "                                                                                      -------------->\n",
      "                                                                                            NP\n",
      "                                                                  ---------------------------------->\n",
      "                                                                            (VP/VP['to'])\n",
      "                                                                                                    ------------------------>B\n",
      "                                                                                                         (VP['to']/NP)\n",
      "                                                                  ---------------------------------------------------------->B\n",
      "                                                                                           (VP/NP)\n",
      "                                                     ----------------------------------------------------------------------->B\n",
      "                                                                                   ((S\\NP)/NP)\n",
      "                                                 --------------------------------------------------------------------------->B\n",
      "                                                                                   (S/NP)\n",
      "                                 ------------------------------------------------------------------------------------------->\n",
      "                                                                            (N\\N)\n",
      "                           -------------------------------------------------------------------------------------------------<\n",
      "                                                                           N\n",
      "                   --------------------------------------------------------------------------------------------------------->\n",
      "                                                                      NP\n",
      "      ---------------------------------------------------------------------------------------------------------------------->\n",
      "                                                              (S\\NP)\n",
      "----------------------------------------------------------------------------------------------------------------------------<\n",
      "                                                             S\n"
     ]
    }
   ],
   "source": [
    "parse(parser, \"that is the cake which we will persuade the chef to cook\")"
   ]
  },
  {
   "cell_type": "code",
   "execution_count": 12,
   "metadata": {},
   "outputs": [
    {
     "name": "stdout",
     "output_type": "stream",
     "text": [
      " that      is        the    cake      which       we     will           persuade        the    chef       to            give       the    children\n",
      "  NP   ((S\\NP)/NP)  (NP/N)   N    ((N\\N)/(S/NP))  NP  ((S\\NP)/VP)  ((VP/VP['to'])/NP)  (NP/N)   N    (VP['to']/VP)  ((VP/NP)/NP)  (NP/N)     N\n",
      "                                                 ---->T\n",
      "                                              (S/(S\\NP))\n",
      "                                                                                      -------------->\n",
      "                                                                                            NP\n",
      "                                                                  ---------------------------------->\n",
      "                                                                            (VP/VP['to'])\n",
      "                                                                                                                                 ------------------>\n",
      "                                                                                                                                         NP\n",
      "                                                                                                                   -------------------------------->\n",
      "                                                                                                                               (VP/NP)\n",
      "                                                                                                    ----------------------------------------------->B\n",
      "                                                                                                                     (VP['to']/NP)\n",
      "                                                                  --------------------------------------------------------------------------------->B\n",
      "                                                                                                       (VP/NP)\n",
      "                                                     ---------------------------------------------------------------------------------------------->B\n",
      "                                                                                              ((S\\NP)/NP)\n",
      "                                                 -------------------------------------------------------------------------------------------------->B\n",
      "                                                                                               (S/NP)\n",
      "                                 ------------------------------------------------------------------------------------------------------------------>\n",
      "                                                                                       (N\\N)\n",
      "                           ------------------------------------------------------------------------------------------------------------------------<\n",
      "                                                                                      N\n",
      "                   -------------------------------------------------------------------------------------------------------------------------------->\n",
      "                                                                                  NP\n",
      "      --------------------------------------------------------------------------------------------------------------------------------------------->\n",
      "                                                                         (S\\NP)\n",
      "---------------------------------------------------------------------------------------------------------------------------------------------------<\n",
      "                                                                         S\n"
     ]
    }
   ],
   "source": [
    "parse(parser, \"that is the cake which we will persuade the chef to give the children\")"
   ]
  },
  {
   "cell_type": "markdown",
   "metadata": {},
   "source": [
    "**(C) 2021-2024 by [Damir Cavar](http://damir.cavar.me/) <<dcavar@iu.edu>>**"
   ]
  }
 ],
 "metadata": {
  "kernelspec": {
   "display_name": "Python 3",
   "language": "python",
   "name": "python3"
  },
  "language_info": {
   "codemirror_mode": {
    "name": "ipython",
    "version": 3
   },
   "file_extension": ".py",
   "mimetype": "text/x-python",
   "name": "python",
   "nbconvert_exporter": "python",
   "pygments_lexer": "ipython3",
   "version": "3.11.6"
  },
  "toc": {
   "base_numbering": 1,
   "nav_menu": {},
   "number_sections": false,
   "sideBar": false,
   "skip_h1_title": false,
   "title_cell": "Table of Contents",
   "title_sidebar": "Contents",
   "toc_cell": false,
   "toc_position": {},
   "toc_section_display": false,
   "toc_window_display": false
  }
 },
 "nbformat": 4,
 "nbformat_minor": 4
}
