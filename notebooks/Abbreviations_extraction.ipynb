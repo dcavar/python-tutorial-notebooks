{
 "cells": [
  {
   "cell_type": "markdown",
   "metadata": {},
   "source": [
    "# Acronym Extraction"
   ]
  },
  {
   "cell_type": "markdown",
   "metadata": {},
   "source": [
    "(C) 2022 by [Damir Cavar](http://damir.cavar.me/)"
   ]
  },
  {
   "cell_type": "markdown",
   "metadata": {},
   "source": [
    "This is an example of the use of the *[abbreviations](https://github.com/philgooch/abbreviation-extraction)* module to extract acronyms from documents."
   ]
  },
  {
   "cell_type": "markdown",
   "metadata": {},
   "source": [
    "Install the module using:\n",
    "\n",
    "    pip install abbreviations\n",
    "\n",
    "For the *FileChooser* widget in this Jupyter notebook you might need to install also the *[ipyfilechooser](https://github.com/crahan/ipyfilechooser)*:\n",
    "\n",
    "    pip install ipyfilechooser\n",
    "\n",
    "The code below assumes that the text is encoded as UTF-8. If this is not the case for you, adapt the encoding specification in the *get_abbreviation* function below or convert your text to use the UTF-8 character encoding."
   ]
  },
  {
   "cell_type": "markdown",
   "metadata": {},
   "source": [
    "Run the following code to activate the *FileChooser* and select a folder with the target text files in it. The target text files can be in subfolders of arbitrary depth within this folder."
   ]
  },
  {
   "cell_type": "code",
   "execution_count": 1,
   "metadata": {},
   "outputs": [
    {
     "data": {
      "application/vnd.jupyter.widget-view+json": {
       "model_id": "4bc1383eba8744bcac19be5e1fa51094",
       "version_major": 2,
       "version_minor": 0
      },
      "text/plain": [
       "FileChooser(path='/home/damir/iCatalyst/Dev/similarityServiceMy/acronym_extraction', filename='', title='', sh…"
      ]
     },
     "metadata": {},
     "output_type": "display_data"
    }
   ],
   "source": [
    "from ipyfilechooser import FileChooser\n",
    "fc = FileChooser()\n",
    "display(fc)"
   ]
  },
  {
   "cell_type": "markdown",
   "metadata": {},
   "source": [
    "In the following code cell we will import the necessary modules *[abbreviations](https://github.com/philgooch/abbreviation-extraction)* and *os* used in the functions below to process subfolders, find target text files, and extract all abbreviations from them."
   ]
  },
  {
   "cell_type": "code",
   "execution_count": 2,
   "metadata": {},
   "outputs": [],
   "source": [
    "from abbreviations import schwartz_hearst\n",
    "import os"
   ]
  },
  {
   "cell_type": "markdown",
   "metadata": {},
   "source": [
    "The following function reads the content from a text file in the *folder_path* and *directory* subdirectory."
   ]
  },
  {
   "cell_type": "code",
   "execution_count": 7,
   "metadata": {},
   "outputs": [],
   "source": [
    "def get_abbreviations(file_name = \"\", filter_terms = []):\n",
    "    if not os.path.exists(file_name):\n",
    "        return\n",
    "    print(\"Processing file:\", file_name)\n",
    "    try:\n",
    "        ifp = open(file_name, mode='r', encoding='utf-8')\n",
    "        text = ifp.read()\n",
    "        ifp.close()\n",
    "    except IOError:\n",
    "        return\n",
    "    if not text:\n",
    "        return\n",
    "    most_common_defs = schwartz_hearst.extract_abbreviation_definition_pairs(doc_text=text, most_common_definition=True)\n",
    "    first_defs       = schwartz_hearst.extract_abbreviation_definition_pairs(doc_text=text, first_definition=True)\n",
    "    for x in filter_terms:\n",
    "        if x in most_common_defs:\n",
    "            del most_common_defs[x]\n",
    "        if x in first_defs:\n",
    "            del first_defs[x]\n",
    "    res = {}\n",
    "    for s in (first_defs, most_common_defs):\n",
    "        for x in s:\n",
    "            val = res.get(x, set())\n",
    "            full_form = s[x].lower().title()\n",
    "            val.add(full_form)\n",
    "            res[x] = val\n",
    "    abbreviations = list(res.items())\n",
    "    abbreviations.sort()\n",
    "    return abbreviations"
   ]
  },
  {
   "cell_type": "markdown",
   "metadata": {},
   "source": [
    "We can define the folders to be skipped here in this list. For example, the following specification would ignore the folder *_test* and *not_relevant* in the target path:"
   ]
  },
  {
   "cell_type": "code",
   "execution_count": 8,
   "metadata": {},
   "outputs": [],
   "source": [
    "skip_folders = [\"_test\", \"not_relevant\"]"
   ]
  },
  {
   "cell_type": "markdown",
   "metadata": {},
   "source": [
    "The following loop will walk through all subfolders, skipping the ones specified above, and processing each text file ending in *.txt* in the folder. When calling *get_abbreviations*, the second parameter can be a list of strings that should be skipped in the output of the abbreviation extractor."
   ]
  },
  {
   "cell_type": "code",
   "execution_count": 17,
   "metadata": {},
   "outputs": [
    {
     "name": "stdout",
     "output_type": "stream",
     "text": [
      "Processing file: /home/damir/iCatalyst/Dev/similarityServiceMy/Data/FAA_Order_1100.161A/FAA_Order_1100.161A_tab.txt\n",
      "AC: Advisory Circular\n",
      "AOV: Air Traffic Safety Oversight Service\n",
      "ATO: Air Traffic Organization\n",
      "AVS: Aviation Safety\n",
      "FAA: Federal Aviation Administration\n",
      "ICAO: International Civil Aviation Organization\n",
      "NAS: National Airspace System\n",
      "NOTAM: Notices To Airmen\n",
      "SMS: Safety Management System\n",
      "Processing file: /home/damir/iCatalyst/Dev/similarityServiceMy/Data/FAA_Order_1100.161A/FAA_Order_1100.161A_adobe_tab.txt\n",
      "AC: Advisory Circular\n",
      "AOV: Air Traffic Safety Oversight Service\n",
      "ATO: Air Traffic Organization\n",
      "AVS: Aviation Safety\n",
      "FAA: Federal Aviation Administration\n",
      "ICAO: International Civil Aviation Organization\n",
      "NAS: National Airspace System\n",
      "NOTAM: Notices To Airmen\n",
      "SMS: Safety Management System\n"
     ]
    }
   ],
   "source": [
    "for root, dirs, files in os.walk(fc.selected_path):\n",
    "    if os.path.basename(os.path.normpath(root)) in skip_folders:\n",
    "        continue\n",
    "    for file in files:\n",
    "        if file.endswith(\".txt\"):\n",
    "            [ print(f\"{x[0]}: {', '.join(x[1])}\") for x in get_abbreviations(os.path.join(root, file), [\"if any\", \"The\"]) ]\n"
   ]
  },
  {
   "cell_type": "markdown",
   "metadata": {},
   "source": [
    "(C) 2022 by [Damir Cavar](http://damir.cavar.me/)"
   ]
  }
 ],
 "metadata": {
  "interpreter": {
   "hash": "ea0a34ab112a5e7e51385017cf7ec681330485c5ce301f8dcc3d1248c782cb63"
  },
  "kernelspec": {
   "display_name": "Python 3.9.7 64-bit",
   "language": "python",
   "name": "python3"
  },
  "language_info": {
   "codemirror_mode": {
    "name": "ipython",
    "version": 3
   },
   "file_extension": ".py",
   "mimetype": "text/x-python",
   "name": "python",
   "nbconvert_exporter": "python",
   "pygments_lexer": "ipython3",
   "version": "3.10.4"
  },
  "orig_nbformat": 4
 },
 "nbformat": 4,
 "nbformat_minor": 2
}
