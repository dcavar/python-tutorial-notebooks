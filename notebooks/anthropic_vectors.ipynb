{
 "cells": [
  {
   "cell_type": "markdown",
   "metadata": {},
   "source": [
    "# Anthropic / VoyageAI Embeddings\n",
    "\n",
    "(C) 2024 by [Damir Cavar](http://damir.cavar.me/)\n",
    "\n",
    "The vectors from [VoyageAI](https://www.voyageai.com/) are recommended by [Anthropic](https://www.anthropic.com/). You will need to get an API key to use these vectors. \n",
    "\n",
    "The Python module `voyageai` is required."
   ]
  },
  {
   "cell_type": "code",
   "execution_count": null,
   "metadata": {},
   "outputs": [],
   "source": [
    "!pip install -U voyageai"
   ]
  },
  {
   "cell_type": "markdown",
   "metadata": {},
   "source": [
    "I store my API keys in the `secret.py` file in the same location as this notebook."
   ]
  },
  {
   "cell_type": "code",
   "execution_count": 17,
   "metadata": {},
   "outputs": [],
   "source": [
    "import voyageai\n",
    "import csv\n",
    "import os\n",
    "from secret import voyageai_apikey"
   ]
  },
  {
   "cell_type": "markdown",
   "metadata": {},
   "source": [
    "We need to define the model for the embeddings that we want to use, as well as the maximum batch size for the list of words that we can submit to the VoyageAI API:"
   ]
  },
  {
   "cell_type": "code",
   "execution_count": 18,
   "metadata": {},
   "outputs": [],
   "source": [
    "model = \"voyage-3\"\n",
    "batch_size = 128"
   ]
  },
  {
   "cell_type": "markdown",
   "metadata": {},
   "source": [
    "We can create a client now to communicate with the remote VoyageAI API:"
   ]
  },
  {
   "cell_type": "code",
   "execution_count": 19,
   "metadata": {},
   "outputs": [],
   "source": [
    "vo = voyageai.Client(api_key=voyageai_apikey)"
   ]
  },
  {
   "cell_type": "markdown",
   "metadata": {},
   "source": [
    "The following function requests the embeddings for a word list and returns them:"
   ]
  },
  {
   "cell_type": "code",
   "execution_count": 20,
   "metadata": {},
   "outputs": [],
   "source": [
    "def get_embeddings(wordlist):\n",
    "    return vo.embed(wordlist, model=model, input_type=\"document\").embeddings"
   ]
  },
  {
   "cell_type": "markdown",
   "metadata": {},
   "source": [
    "The following function saves the embeddings to a CSV file:"
   ]
  },
  {
   "cell_type": "code",
   "execution_count": 24,
   "metadata": {},
   "outputs": [],
   "source": [
    "def save_embeddings(wordlist, embeddings, output_file):\n",
    "    if not os.path.exists(output_file):\n",
    "        with open(output_file, mode='a', encoding='utf-8', newline='') as ofp:\n",
    "            writer = csv.writer(ofp)\n",
    "            header = [\"word\"] + [str(i) for i in range(len(embeddings[0]))]\n",
    "            writer.writerow(header)\n",
    "    with open(output_file, mode='a', encoding='utf-8', newline='') as ofp:\n",
    "        writer = csv.writer(ofp)\n",
    "        for word, embedding in zip(wordlist, embeddings):\n",
    "            row = [word] + embedding  # Concatenate word with its embedding values\n",
    "            writer.writerow(row)"
   ]
  },
  {
   "cell_type": "markdown",
   "metadata": {},
   "source": [
    "Let us try a set of words:"
   ]
  },
  {
   "cell_type": "code",
   "execution_count": 22,
   "metadata": {},
   "outputs": [],
   "source": [
    "words = \"\"\"\n",
    "cat dog bird fish\n",
    "car truck bike bus\n",
    "apple banana orange pear\n",
    "\"\"\""
   ]
  },
  {
   "cell_type": "markdown",
   "metadata": {},
   "source": [
    "The following loop will split the word list into a list of word lists with the maximum length of the batch size. It will request the embeddings for a batch of words and store them in the target CSV file."
   ]
  },
  {
   "cell_type": "code",
   "execution_count": 25,
   "metadata": {},
   "outputs": [],
   "source": [
    "new_words = list({ word for word in words.split() })\n",
    "new_words_lists = [ new_words[i:i+batch_size] for i in range(0, len(new_words), batch_size) ]\n",
    "output_file = os.path.join(\"data\", \"voyage_embeddings.csv\")\n",
    "for nwl in new_words_lists:\n",
    "    if nwl:\n",
    "        embeddings = get_embeddings(nwl)\n",
    "        save_embeddings(nwl, embeddings, output_file)"
   ]
  },
  {
   "cell_type": "markdown",
   "metadata": {},
   "source": [
    "(C) 2024 by [Damir Cavar](http://damir.cavar.com/)"
   ]
  }
 ],
 "metadata": {
  "kernelspec": {
   "display_name": "Python 3",
   "language": "python",
   "name": "python3"
  },
  "language_info": {
   "codemirror_mode": {
    "name": "ipython",
    "version": 3
   },
   "file_extension": ".py",
   "mimetype": "text/x-python",
   "name": "python",
   "nbconvert_exporter": "python",
   "pygments_lexer": "ipython3",
   "version": "3.12.3"
  }
 },
 "nbformat": 4,
 "nbformat_minor": 2
}
