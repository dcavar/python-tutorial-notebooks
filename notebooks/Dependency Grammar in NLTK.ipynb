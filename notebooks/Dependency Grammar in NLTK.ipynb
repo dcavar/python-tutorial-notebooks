{
 "cells": [
  {
   "cell_type": "markdown",
   "metadata": {},
   "source": [
    "# Dependency Grammar in NLTK"
   ]
  },
  {
   "cell_type": "markdown",
   "metadata": {},
   "source": [
    "(C) 2019-2023 by [Damir Cavar](http://damir.cavar.me/)"
   ]
  },
  {
   "cell_type": "markdown",
   "metadata": {},
   "source": [
    "Based on the [NLTK HOWTO Dependency](https://www.nltk.org/howto/dependency.html)."
   ]
  },
  {
   "cell_type": "markdown",
   "metadata": {},
   "source": [
    "We load the DependencyGrammar module from NLTK Grammar:"
   ]
  },
  {
   "cell_type": "code",
   "execution_count": null,
   "metadata": {
    "scrolled": true
   },
   "outputs": [],
   "source": [
    "from nltk.grammar import DependencyGrammar"
   ]
  },
  {
   "cell_type": "markdown",
   "metadata": {},
   "source": [
    "We can load different Dependency Grammar parsers from NLTK:"
   ]
  },
  {
   "cell_type": "code",
   "execution_count": null,
   "metadata": {
    "scrolled": true
   },
   "outputs": [],
   "source": [
    "from nltk.parse import (\n",
    "    DependencyGraph,\n",
    "    ProjectiveDependencyParser,\n",
    "    NonprojectiveDependencyParser,\n",
    ")"
   ]
  },
  {
   "cell_type": "code",
   "execution_count": null,
   "metadata": {
    "scrolled": true
   },
   "outputs": [],
   "source": [
    "treebank_data = \"\"\"Pierre  NNP     2       NMOD\n",
    "Vinken  NNP     8       SUB\n",
    ",       ,       2       P\n",
    "61      CD      5       NMOD\n",
    "years   NNS     6       AMOD\n",
    "old     JJ      2       NMOD\n",
    ",       ,       2       P\n",
    "will    MD      0       ROOT\n",
    "join    VB      8       VC\n",
    "the     DT      11      NMOD\n",
    "board   NN      9       OBJ\n",
    "as      IN      9       VMOD\n",
    "a       DT      15      NMOD\n",
    "nonexecutive    JJ      15      NMOD\n",
    "director        NN      12      PMOD\n",
    "Nov.    NNP     9       VMOD\n",
    "29      CD      16      NMOD\n",
    ".       .       9       VMOD\n",
    "\"\"\""
   ]
  },
  {
   "cell_type": "code",
   "execution_count": null,
   "metadata": {
    "scrolled": true
   },
   "outputs": [],
   "source": [
    "dg = DependencyGraph(treebank_data)"
   ]
  },
  {
   "cell_type": "code",
   "execution_count": null,
   "metadata": {
    "scrolled": true
   },
   "outputs": [],
   "source": [
    "dg.tree().pprint()"
   ]
  },
  {
   "cell_type": "code",
   "execution_count": null,
   "metadata": {
    "scrolled": true
   },
   "outputs": [],
   "source": [
    "for head, rel, dep in dg.triples():\n",
    "    print(\n",
    "        '({h[0]}, {h[1]}), {r}, ({d[0]}, {d[1]})'\n",
    "        .format(h=head, r=rel, d=dep)\n",
    "    )"
   ]
  },
  {
   "cell_type": "markdown",
   "metadata": {},
   "source": [
    "### Dependency Version of the Penn Treebank"
   ]
  },
  {
   "cell_type": "code",
   "execution_count": null,
   "metadata": {
    "scrolled": true
   },
   "outputs": [],
   "source": [
    "from nltk.corpus import dependency_treebank"
   ]
  },
  {
   "cell_type": "code",
   "execution_count": null,
   "metadata": {
    "scrolled": true
   },
   "outputs": [],
   "source": [
    "t = dependency_treebank.parsed_sents()[0]"
   ]
  },
  {
   "cell_type": "code",
   "execution_count": null,
   "metadata": {
    "scrolled": true
   },
   "outputs": [],
   "source": [
    "print(t.to_conll(3))  # doctest: +NORMALIZE_WHITESPACE"
   ]
  },
  {
   "cell_type": "markdown",
   "metadata": {},
   "source": [
    "\"Using the output of zpar (like Malt-TAB but with zero-based indexing)\":"
   ]
  },
  {
   "cell_type": "code",
   "execution_count": null,
   "metadata": {
    "scrolled": true
   },
   "outputs": [],
   "source": [
    "zpar_data = \"\"\"\n",
    "Pierre  NNP     1       NMOD\n",
    "Vinken  NNP     7       SUB\n",
    ",       ,       1       P\n",
    "61      CD      4       NMOD\n",
    "years   NNS     5       AMOD\n",
    "old     JJ      1       NMOD\n",
    ",       ,       1       P\n",
    "will    MD      -1      ROOT\n",
    "join    VB      7       VC\n",
    "the     DT      10      NMOD\n",
    "board   NN      8       OBJ\n",
    "as      IN      8       VMOD\n",
    "a       DT      14      NMOD\n",
    "nonexecutive    JJ      14      NMOD\n",
    "director        NN      11      PMOD\n",
    "Nov.    NNP     8       VMOD\n",
    "29      CD      15      NMOD\n",
    ".       .       7       P\n",
    "\"\"\""
   ]
  },
  {
   "cell_type": "code",
   "execution_count": null,
   "metadata": {
    "scrolled": true
   },
   "outputs": [],
   "source": [
    "zdg = DependencyGraph(zpar_data, zero_based=True)"
   ]
  },
  {
   "cell_type": "code",
   "execution_count": null,
   "metadata": {
    "scrolled": true
   },
   "outputs": [],
   "source": [
    "print(zdg.tree())"
   ]
  },
  {
   "cell_type": "markdown",
   "metadata": {},
   "source": [
    "## Projective Dependency Parsing"
   ]
  },
  {
   "cell_type": "code",
   "execution_count": null,
   "metadata": {
    "scrolled": true
   },
   "outputs": [],
   "source": [
    "grammar = DependencyGrammar.fromstring(\"\"\"\n",
    "'fell' -> 'price' | 'stock'\n",
    "'price' -> 'of' 'the'\n",
    "'of' -> 'stock'\n",
    "'stock' -> 'the'\n",
    "\"\"\")"
   ]
  },
  {
   "cell_type": "code",
   "execution_count": null,
   "metadata": {
    "scrolled": true
   },
   "outputs": [],
   "source": [
    "print(grammar)"
   ]
  },
  {
   "cell_type": "code",
   "execution_count": null,
   "metadata": {
    "scrolled": true
   },
   "outputs": [],
   "source": [
    "dp = ProjectiveDependencyParser(grammar)"
   ]
  },
  {
   "cell_type": "code",
   "execution_count": null,
   "metadata": {
    "scrolled": true
   },
   "outputs": [],
   "source": [
    "for t in sorted(dp.parse(['the', 'price', 'of', 'the', 'stock', 'fell'])):\n",
    "    print(t)"
   ]
  },
  {
   "cell_type": "markdown",
   "metadata": {},
   "source": [
    "## Non-Projective Dependency Parsing"
   ]
  },
  {
   "cell_type": "code",
   "execution_count": null,
   "metadata": {
    "scrolled": true
   },
   "outputs": [],
   "source": [
    "grammar = DependencyGrammar.fromstring(\"\"\"\n",
    "'taught' -> 'play' | 'man'\n",
    "'man' -> 'the'\n",
    "'play' -> 'golf' | 'dog' | 'to'\n",
    "'dog' -> 'his'\n",
    "\"\"\")"
   ]
  },
  {
   "cell_type": "code",
   "execution_count": null,
   "metadata": {
    "scrolled": true
   },
   "outputs": [],
   "source": [
    "print(grammar)"
   ]
  },
  {
   "cell_type": "code",
   "execution_count": null,
   "metadata": {
    "scrolled": true
   },
   "outputs": [],
   "source": [
    "dp = NonprojectiveDependencyParser(grammar)"
   ]
  },
  {
   "cell_type": "code",
   "execution_count": null,
   "metadata": {
    "scrolled": true
   },
   "outputs": [],
   "source": [
    "g, = dp.parse(['the', 'man', 'taught', 'his', 'dog', 'to', 'play', 'golf'])"
   ]
  },
  {
   "cell_type": "code",
   "execution_count": null,
   "metadata": {
    "scrolled": true
   },
   "outputs": [],
   "source": [
    "print(g.root['word'])"
   ]
  },
  {
   "cell_type": "code",
   "execution_count": null,
   "metadata": {
    "scrolled": true
   },
   "outputs": [],
   "source": [
    "print(g)"
   ]
  },
  {
   "cell_type": "code",
   "execution_count": null,
   "metadata": {
    "scrolled": true
   },
   "outputs": [],
   "source": [
    "x = dp.parse(['the', 'man', 'taught', 'his', 'dog', 'to', 'play', 'golf'])\n",
    "for i in x:\n",
    "    print(i)"
   ]
  },
  {
   "cell_type": "code",
   "execution_count": null,
   "metadata": {
    "scrolled": true
   },
   "outputs": [],
   "source": [
    "for _, node in sorted(g.nodes.items()):\n",
    "    if node['word'] is not None:\n",
    "        print('{address} {word}: {d}'.format(d=node['deps'][''], **node))"
   ]
  },
  {
   "cell_type": "code",
   "execution_count": null,
   "metadata": {
    "scrolled": true
   },
   "outputs": [],
   "source": [
    "print(g.tree())"
   ]
  },
  {
   "cell_type": "markdown",
   "metadata": {
    "scrolled": true
   },
   "source": [
    "**(C) 2021-2023 by [Damir Cavar](http://damir.cavar.me/) <<dcavar@iu.edu>>**"
   ]
  }
 ],
 "metadata": {
  "ipub": {
   "titlepage": {
    "author": "Damir Cavar",
    "email": "damir@cavar.me",
    "institution": [
     "Indiana University",
     "NLP-Lab"
    ],
    "title": "Dependency Grammar in NLTK"
   }
  },
  "kernelspec": {
   "display_name": "Python 3",
   "language": "python",
   "name": "python3"
  },
  "language_info": {
   "codemirror_mode": {
    "name": "ipython",
    "version": 3
   },
   "file_extension": ".py",
   "mimetype": "text/x-python",
   "name": "python",
   "nbconvert_exporter": "python",
   "pygments_lexer": "ipython3",
   "version": "3.9.6"
  },
  "latex_metadata": {
   "affiliation": "Indiana University, NLP-Lab, Bloomington, IN, USA",
   "author": "Damir Cavar",
   "title": "Dependency Grammar in NLTK"
  },
  "toc": {
   "base_numbering": 1,
   "nav_menu": {},
   "number_sections": false,
   "sideBar": false,
   "skip_h1_title": false,
   "title_cell": "Table of Contents",
   "title_sidebar": "Contents",
   "toc_cell": false,
   "toc_position": {},
   "toc_section_display": false,
   "toc_window_display": false
  }
 },
 "nbformat": 4,
 "nbformat_minor": 4
}
