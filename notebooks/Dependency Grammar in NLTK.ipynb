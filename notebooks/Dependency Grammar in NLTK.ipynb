{
 "cells": [
  {
   "cell_type": "markdown",
   "metadata": {},
   "source": [
    "# Dependency Grammar in NLTK"
   ]
  },
  {
   "cell_type": "markdown",
   "metadata": {},
   "source": [
    "(C) 2019-2021 by [Damir Cavar](http://damir.cavar.me/)"
   ]
  },
  {
   "cell_type": "markdown",
   "metadata": {},
   "source": [
    "Based on the [NLTK HOWTO Dependency](https://www.nltk.org/howto/dependency.html)."
   ]
  },
  {
   "cell_type": "markdown",
   "metadata": {},
   "source": [
    "We load the DependencyGrammar module from NLTK Grammar:"
   ]
  },
  {
   "cell_type": "code",
   "execution_count": 1,
   "metadata": {
    "scrolled": true
   },
   "outputs": [],
   "source": [
    "from nltk.grammar import DependencyGrammar"
   ]
  },
  {
   "cell_type": "markdown",
   "metadata": {},
   "source": [
    "We can load different Dependency Grammar parsers from NLTK:"
   ]
  },
  {
   "cell_type": "code",
   "execution_count": 2,
   "metadata": {
    "scrolled": true
   },
   "outputs": [],
   "source": [
    "from nltk.parse import (\n",
    "    DependencyGraph,\n",
    "    ProjectiveDependencyParser,\n",
    "    NonprojectiveDependencyParser,\n",
    ")"
   ]
  },
  {
   "cell_type": "code",
   "execution_count": 3,
   "metadata": {
    "scrolled": true
   },
   "outputs": [],
   "source": [
    "treebank_data = \"\"\"Pierre  NNP     2       NMOD\n",
    "Vinken  NNP     8       SUB\n",
    ",       ,       2       P\n",
    "61      CD      5       NMOD\n",
    "years   NNS     6       AMOD\n",
    "old     JJ      2       NMOD\n",
    ",       ,       2       P\n",
    "will    MD      0       ROOT\n",
    "join    VB      8       VC\n",
    "the     DT      11      NMOD\n",
    "board   NN      9       OBJ\n",
    "as      IN      9       VMOD\n",
    "a       DT      15      NMOD\n",
    "nonexecutive    JJ      15      NMOD\n",
    "director        NN      12      PMOD\n",
    "Nov.    NNP     9       VMOD\n",
    "29      CD      16      NMOD\n",
    ".       .       9       VMOD\n",
    "\"\"\""
   ]
  },
  {
   "cell_type": "code",
   "execution_count": 4,
   "metadata": {
    "scrolled": true
   },
   "outputs": [],
   "source": [
    "dg = DependencyGraph(treebank_data)"
   ]
  },
  {
   "cell_type": "code",
   "execution_count": 5,
   "metadata": {
    "scrolled": true
   },
   "outputs": [
    {
     "name": "stdout",
     "output_type": "stream",
     "text": [
      "(will\n",
      "  (Vinken Pierre , (old (years 61)) ,)\n",
      "  (join (board the) (as (director a nonexecutive)) (Nov. 29) .))\n"
     ]
    }
   ],
   "source": [
    "dg.tree().pprint()"
   ]
  },
  {
   "cell_type": "code",
   "execution_count": 6,
   "metadata": {
    "scrolled": true
   },
   "outputs": [
    {
     "name": "stdout",
     "output_type": "stream",
     "text": [
      "(will, MD), SUB, (Vinken, NNP)\n",
      "(Vinken, NNP), NMOD, (Pierre, NNP)\n",
      "(Vinken, NNP), P, (,, ,)\n",
      "(Vinken, NNP), NMOD, (old, JJ)\n",
      "(old, JJ), AMOD, (years, NNS)\n",
      "(years, NNS), NMOD, (61, CD)\n",
      "(Vinken, NNP), P, (,, ,)\n",
      "(will, MD), VC, (join, VB)\n",
      "(join, VB), OBJ, (board, NN)\n",
      "(board, NN), NMOD, (the, DT)\n",
      "(join, VB), VMOD, (as, IN)\n",
      "(as, IN), PMOD, (director, NN)\n",
      "(director, NN), NMOD, (a, DT)\n",
      "(director, NN), NMOD, (nonexecutive, JJ)\n",
      "(join, VB), VMOD, (Nov., NNP)\n",
      "(Nov., NNP), NMOD, (29, CD)\n",
      "(join, VB), VMOD, (., .)\n"
     ]
    }
   ],
   "source": [
    "for head, rel, dep in dg.triples():\n",
    "    print(\n",
    "        '({h[0]}, {h[1]}), {r}, ({d[0]}, {d[1]})'\n",
    "        .format(h=head, r=rel, d=dep)\n",
    "    )"
   ]
  },
  {
   "cell_type": "markdown",
   "metadata": {},
   "source": [
    "### Dependency Version of the Penn Treebank"
   ]
  },
  {
   "cell_type": "code",
   "execution_count": 6,
   "metadata": {
    "scrolled": true
   },
   "outputs": [],
   "source": [
    "from nltk.corpus import dependency_treebank"
   ]
  },
  {
   "cell_type": "code",
   "execution_count": 7,
   "metadata": {
    "scrolled": true
   },
   "outputs": [],
   "source": [
    "t = dependency_treebank.parsed_sents()[0]"
   ]
  },
  {
   "cell_type": "code",
   "execution_count": 8,
   "metadata": {
    "scrolled": true
   },
   "outputs": [
    {
     "name": "stdout",
     "output_type": "stream",
     "text": [
      "Pierre\tNNP\t2\n",
      "Vinken\tNNP\t8\n",
      ",\t,\t2\n",
      "61\tCD\t5\n",
      "years\tNNS\t6\n",
      "old\tJJ\t2\n",
      ",\t,\t2\n",
      "will\tMD\t0\n",
      "join\tVB\t8\n",
      "the\tDT\t11\n",
      "board\tNN\t9\n",
      "as\tIN\t9\n",
      "a\tDT\t15\n",
      "nonexecutive\tJJ\t15\n",
      "director\tNN\t12\n",
      "Nov.\tNNP\t9\n",
      "29\tCD\t16\n",
      ".\t.\t8\n",
      "\n"
     ]
    }
   ],
   "source": [
    "print(t.to_conll(3))  # doctest: +NORMALIZE_WHITESPACE"
   ]
  },
  {
   "cell_type": "markdown",
   "metadata": {},
   "source": [
    "\"Using the output of zpar (like Malt-TAB but with zero-based indexing)\":"
   ]
  },
  {
   "cell_type": "code",
   "execution_count": 9,
   "metadata": {
    "scrolled": true
   },
   "outputs": [],
   "source": [
    "zpar_data = \"\"\"\n",
    "Pierre  NNP     1       NMOD\n",
    "Vinken  NNP     7       SUB\n",
    ",       ,       1       P\n",
    "61      CD      4       NMOD\n",
    "years   NNS     5       AMOD\n",
    "old     JJ      1       NMOD\n",
    ",       ,       1       P\n",
    "will    MD      -1      ROOT\n",
    "join    VB      7       VC\n",
    "the     DT      10      NMOD\n",
    "board   NN      8       OBJ\n",
    "as      IN      8       VMOD\n",
    "a       DT      14      NMOD\n",
    "nonexecutive    JJ      14      NMOD\n",
    "director        NN      11      PMOD\n",
    "Nov.    NNP     8       VMOD\n",
    "29      CD      15      NMOD\n",
    ".       .       7       P\n",
    "\"\"\""
   ]
  },
  {
   "cell_type": "code",
   "execution_count": 10,
   "metadata": {
    "scrolled": true
   },
   "outputs": [],
   "source": [
    "zdg = DependencyGraph(zpar_data, zero_based=True)"
   ]
  },
  {
   "cell_type": "code",
   "execution_count": 11,
   "metadata": {
    "scrolled": true
   },
   "outputs": [
    {
     "name": "stdout",
     "output_type": "stream",
     "text": [
      "(will\n",
      "  (Vinken Pierre , (old (years 61)) ,)\n",
      "  (join (board the) (as (director a nonexecutive)) (Nov. 29))\n",
      "  .)\n"
     ]
    }
   ],
   "source": [
    "print(zdg.tree())"
   ]
  },
  {
   "cell_type": "markdown",
   "metadata": {},
   "source": [
    "## Projective Dependency Parsing"
   ]
  },
  {
   "cell_type": "code",
   "execution_count": 12,
   "metadata": {
    "scrolled": true
   },
   "outputs": [],
   "source": [
    "grammar = DependencyGrammar.fromstring(\"\"\"\n",
    "'fell' -> 'price' | 'stock'\n",
    "'price' -> 'of' 'the'\n",
    "'of' -> 'stock'\n",
    "'stock' -> 'the'\n",
    "\"\"\")"
   ]
  },
  {
   "cell_type": "code",
   "execution_count": 13,
   "metadata": {
    "scrolled": true
   },
   "outputs": [
    {
     "name": "stdout",
     "output_type": "stream",
     "text": [
      "Dependency grammar with 5 productions\n",
      "  'fell' -> 'price'\n",
      "  'fell' -> 'stock'\n",
      "  'price' -> 'of' 'the'\n",
      "  'of' -> 'stock'\n",
      "  'stock' -> 'the'\n"
     ]
    }
   ],
   "source": [
    "print(grammar)"
   ]
  },
  {
   "cell_type": "code",
   "execution_count": 14,
   "metadata": {
    "scrolled": true
   },
   "outputs": [],
   "source": [
    "dp = ProjectiveDependencyParser(grammar)"
   ]
  },
  {
   "cell_type": "code",
   "execution_count": 15,
   "metadata": {
    "scrolled": true
   },
   "outputs": [
    {
     "name": "stdout",
     "output_type": "stream",
     "text": [
      "(fell (price the (of (stock the))))\n",
      "(fell (price the of) (stock the))\n",
      "(fell (price the of the) stock)\n"
     ]
    }
   ],
   "source": [
    "for t in sorted(dp.parse(['the', 'price', 'of', 'the', 'stock', 'fell'])):\n",
    "    print(t)"
   ]
  },
  {
   "cell_type": "markdown",
   "metadata": {},
   "source": [
    "## Non-Projective Dependency Parsing"
   ]
  },
  {
   "cell_type": "code",
   "execution_count": 16,
   "metadata": {
    "scrolled": true
   },
   "outputs": [],
   "source": [
    "grammar = DependencyGrammar.fromstring(\"\"\"\n",
    "'taught' -> 'play' | 'man'\n",
    "'man' -> 'the'\n",
    "'play' -> 'golf' | 'dog' | 'to'\n",
    "'dog' -> 'his'\n",
    "\"\"\")"
   ]
  },
  {
   "cell_type": "code",
   "execution_count": 17,
   "metadata": {
    "scrolled": true
   },
   "outputs": [
    {
     "name": "stdout",
     "output_type": "stream",
     "text": [
      "Dependency grammar with 7 productions\n",
      "  'taught' -> 'play'\n",
      "  'taught' -> 'man'\n",
      "  'man' -> 'the'\n",
      "  'play' -> 'golf'\n",
      "  'play' -> 'dog'\n",
      "  'play' -> 'to'\n",
      "  'dog' -> 'his'\n"
     ]
    }
   ],
   "source": [
    "print(grammar)"
   ]
  },
  {
   "cell_type": "code",
   "execution_count": 18,
   "metadata": {
    "scrolled": true
   },
   "outputs": [],
   "source": [
    "dp = NonprojectiveDependencyParser(grammar)"
   ]
  },
  {
   "cell_type": "code",
   "execution_count": 19,
   "metadata": {
    "scrolled": true
   },
   "outputs": [],
   "source": [
    "g, = dp.parse(['the', 'man', 'taught', 'his', 'dog', 'to', 'play', 'golf'])"
   ]
  },
  {
   "cell_type": "code",
   "execution_count": 20,
   "metadata": {
    "scrolled": true
   },
   "outputs": [
    {
     "name": "stdout",
     "output_type": "stream",
     "text": [
      "taught\n"
     ]
    }
   ],
   "source": [
    "print(g.root['word'])"
   ]
  },
  {
   "cell_type": "code",
   "execution_count": 21,
   "metadata": {
    "scrolled": true
   },
   "outputs": [
    {
     "name": "stdout",
     "output_type": "stream",
     "text": [
      "defaultdict(<function DependencyGraph.__init__.<locals>.<lambda> at 0x7fcb4d1a1700>,\n",
      "            {0: {'address': 0,\n",
      "                 'ctag': 'TOP',\n",
      "                 'deps': defaultdict(<class 'list'>, {'ROOT': [3]}),\n",
      "                 'feats': None,\n",
      "                 'head': None,\n",
      "                 'lemma': None,\n",
      "                 'rel': None,\n",
      "                 'tag': 'TOP',\n",
      "                 'word': None},\n",
      "             1: {'address': 1,\n",
      "                 'ctag': None,\n",
      "                 'deps': defaultdict(<class 'list'>, {}),\n",
      "                 'feats': None,\n",
      "                 'head': None,\n",
      "                 'lemma': None,\n",
      "                 'rel': None,\n",
      "                 'tag': None,\n",
      "                 'word': 'the'},\n",
      "             2: {'address': 2,\n",
      "                 'ctag': None,\n",
      "                 'deps': defaultdict(<class 'list'>, {'': [1]}),\n",
      "                 'feats': None,\n",
      "                 'head': None,\n",
      "                 'lemma': None,\n",
      "                 'rel': None,\n",
      "                 'tag': None,\n",
      "                 'word': 'man'},\n",
      "             3: {'address': 3,\n",
      "                 'ctag': None,\n",
      "                 'deps': defaultdict(<class 'list'>, {'': [2, 7]}),\n",
      "                 'feats': None,\n",
      "                 'head': None,\n",
      "                 'lemma': None,\n",
      "                 'rel': None,\n",
      "                 'tag': None,\n",
      "                 'word': 'taught'},\n",
      "             4: {'address': 4,\n",
      "                 'ctag': None,\n",
      "                 'deps': defaultdict(<class 'list'>, {}),\n",
      "                 'feats': None,\n",
      "                 'head': None,\n",
      "                 'lemma': None,\n",
      "                 'rel': None,\n",
      "                 'tag': None,\n",
      "                 'word': 'his'},\n",
      "             5: {'address': 5,\n",
      "                 'ctag': None,\n",
      "                 'deps': defaultdict(<class 'list'>, {'': [4]}),\n",
      "                 'feats': None,\n",
      "                 'head': None,\n",
      "                 'lemma': None,\n",
      "                 'rel': None,\n",
      "                 'tag': None,\n",
      "                 'word': 'dog'},\n",
      "             6: {'address': 6,\n",
      "                 'ctag': None,\n",
      "                 'deps': defaultdict(<class 'list'>, {}),\n",
      "                 'feats': None,\n",
      "                 'head': None,\n",
      "                 'lemma': None,\n",
      "                 'rel': None,\n",
      "                 'tag': None,\n",
      "                 'word': 'to'},\n",
      "             7: {'address': 7,\n",
      "                 'ctag': None,\n",
      "                 'deps': defaultdict(<class 'list'>, {'': [5, 6, 8]}),\n",
      "                 'feats': None,\n",
      "                 'head': None,\n",
      "                 'lemma': None,\n",
      "                 'rel': None,\n",
      "                 'tag': None,\n",
      "                 'word': 'play'},\n",
      "             8: {'address': 8,\n",
      "                 'ctag': None,\n",
      "                 'deps': defaultdict(<class 'list'>, {}),\n",
      "                 'feats': None,\n",
      "                 'head': None,\n",
      "                 'lemma': None,\n",
      "                 'rel': None,\n",
      "                 'tag': None,\n",
      "                 'word': 'golf'}})\n"
     ]
    }
   ],
   "source": [
    "print(g)"
   ]
  },
  {
   "cell_type": "code",
   "execution_count": 22,
   "metadata": {
    "scrolled": true
   },
   "outputs": [
    {
     "name": "stdout",
     "output_type": "stream",
     "text": [
      "defaultdict(<function DependencyGraph.__init__.<locals>.<lambda> at 0x7fcb4d1a1ee0>,\n",
      "            {0: {'address': 0,\n",
      "                 'ctag': 'TOP',\n",
      "                 'deps': defaultdict(<class 'list'>, {'ROOT': [3]}),\n",
      "                 'feats': None,\n",
      "                 'head': None,\n",
      "                 'lemma': None,\n",
      "                 'rel': None,\n",
      "                 'tag': 'TOP',\n",
      "                 'word': None},\n",
      "             1: {'address': 1,\n",
      "                 'ctag': None,\n",
      "                 'deps': defaultdict(<class 'list'>, {}),\n",
      "                 'feats': None,\n",
      "                 'head': None,\n",
      "                 'lemma': None,\n",
      "                 'rel': None,\n",
      "                 'tag': None,\n",
      "                 'word': 'the'},\n",
      "             2: {'address': 2,\n",
      "                 'ctag': None,\n",
      "                 'deps': defaultdict(<class 'list'>, {'': [1]}),\n",
      "                 'feats': None,\n",
      "                 'head': None,\n",
      "                 'lemma': None,\n",
      "                 'rel': None,\n",
      "                 'tag': None,\n",
      "                 'word': 'man'},\n",
      "             3: {'address': 3,\n",
      "                 'ctag': None,\n",
      "                 'deps': defaultdict(<class 'list'>, {'': [2, 7]}),\n",
      "                 'feats': None,\n",
      "                 'head': None,\n",
      "                 'lemma': None,\n",
      "                 'rel': None,\n",
      "                 'tag': None,\n",
      "                 'word': 'taught'},\n",
      "             4: {'address': 4,\n",
      "                 'ctag': None,\n",
      "                 'deps': defaultdict(<class 'list'>, {}),\n",
      "                 'feats': None,\n",
      "                 'head': None,\n",
      "                 'lemma': None,\n",
      "                 'rel': None,\n",
      "                 'tag': None,\n",
      "                 'word': 'his'},\n",
      "             5: {'address': 5,\n",
      "                 'ctag': None,\n",
      "                 'deps': defaultdict(<class 'list'>, {'': [4]}),\n",
      "                 'feats': None,\n",
      "                 'head': None,\n",
      "                 'lemma': None,\n",
      "                 'rel': None,\n",
      "                 'tag': None,\n",
      "                 'word': 'dog'},\n",
      "             6: {'address': 6,\n",
      "                 'ctag': None,\n",
      "                 'deps': defaultdict(<class 'list'>, {}),\n",
      "                 'feats': None,\n",
      "                 'head': None,\n",
      "                 'lemma': None,\n",
      "                 'rel': None,\n",
      "                 'tag': None,\n",
      "                 'word': 'to'},\n",
      "             7: {'address': 7,\n",
      "                 'ctag': None,\n",
      "                 'deps': defaultdict(<class 'list'>, {'': [5, 6, 8]}),\n",
      "                 'feats': None,\n",
      "                 'head': None,\n",
      "                 'lemma': None,\n",
      "                 'rel': None,\n",
      "                 'tag': None,\n",
      "                 'word': 'play'},\n",
      "             8: {'address': 8,\n",
      "                 'ctag': None,\n",
      "                 'deps': defaultdict(<class 'list'>, {}),\n",
      "                 'feats': None,\n",
      "                 'head': None,\n",
      "                 'lemma': None,\n",
      "                 'rel': None,\n",
      "                 'tag': None,\n",
      "                 'word': 'golf'}})\n"
     ]
    }
   ],
   "source": [
    "x = dp.parse(['the', 'man', 'taught', 'his', 'dog', 'to', 'play', 'golf'])\n",
    "for i in x:\n",
    "    print(i)"
   ]
  },
  {
   "cell_type": "code",
   "execution_count": 23,
   "metadata": {
    "scrolled": true
   },
   "outputs": [
    {
     "name": "stdout",
     "output_type": "stream",
     "text": [
      "1 the: []\n",
      "2 man: [1]\n",
      "3 taught: [2, 7]\n",
      "4 his: []\n",
      "5 dog: [4]\n",
      "6 to: []\n",
      "7 play: [5, 6, 8]\n",
      "8 golf: []\n"
     ]
    }
   ],
   "source": [
    "for _, node in sorted(g.nodes.items()):\n",
    "    if node['word'] is not None:\n",
    "        print('{address} {word}: {d}'.format(d=node['deps'][''], **node))"
   ]
  },
  {
   "cell_type": "code",
   "execution_count": 24,
   "metadata": {
    "scrolled": true
   },
   "outputs": [
    {
     "name": "stdout",
     "output_type": "stream",
     "text": [
      "(taught (man the) (play (dog his) to golf))\n"
     ]
    }
   ],
   "source": [
    "print(g.tree())"
   ]
  },
  {
   "cell_type": "code",
   "execution_count": null,
   "metadata": {
    "scrolled": true
   },
   "outputs": [],
   "source": []
  }
 ],
 "metadata": {
  "ipub": {
   "titlepage": {
    "author": "Damir Cavar",
    "email": "damir@cavar.me",
    "institution": [
     "Indiana University",
     "NLP-Lab"
    ],
    "title": "Dependency Grammar in NLTK"
   }
  },
  "kernelspec": {
   "display_name": "Python 3",
   "language": "python",
   "name": "python3"
  },
  "language_info": {
   "codemirror_mode": {
    "name": "ipython",
    "version": 3
   },
   "file_extension": ".py",
   "mimetype": "text/x-python",
   "name": "python",
   "nbconvert_exporter": "python",
   "pygments_lexer": "ipython3",
   "version": "3.8.6"
  },
  "latex_metadata": {
   "affiliation": "Indiana University, NLP-Lab, Bloomington, IN, USA",
   "author": "Damir Cavar",
   "title": "Dependency Grammar in NLTK"
  },
  "toc": {
   "base_numbering": 1,
   "nav_menu": {},
   "number_sections": false,
   "sideBar": false,
   "skip_h1_title": false,
   "title_cell": "Table of Contents",
   "title_sidebar": "Contents",
   "toc_cell": false,
   "toc_position": {},
   "toc_section_display": false,
   "toc_window_display": false
  }
 },
 "nbformat": 4,
 "nbformat_minor": 4
}
