{
 "cells": [
  {
   "cell_type": "markdown",
   "metadata": {},
   "source": [
    "# RDFlib Graphs\n",
    "\n",
    "(C) 2023-2024 by [Damir Cavar](http://damir.cavar.com/)\n",
    "\n",
    "This notebook provides examples how to use [RDFlib](https://rdflib.readthedocs.io/) to read and write [RDF](https://en.wikipedia.org/wiki/Resource_Description_Framework), [Turtle](https://en.wikipedia.org/wiki/Turtle_(syntax)), and other serialized graph representation."
   ]
  },
  {
   "cell_type": "markdown",
   "metadata": {},
   "source": [
    "**Download:** This and various other Jupyter notebooks are available from my [GitHub repo](https://github.com/dcavar/python-tutorial-notebooks)."
   ]
  },
  {
   "cell_type": "markdown",
   "metadata": {},
   "source": [
    "**License:** [Creative Commons Attribution-ShareAlike 4.0 International License](https://creativecommons.org/licenses/by-sa/4.0/) ([CA BY-SA 4.0](https://creativecommons.org/licenses/by-sa/4.0/))"
   ]
  },
  {
   "cell_type": "markdown",
   "metadata": {},
   "source": [
    "**Prerequisites:**"
   ]
  },
  {
   "cell_type": "code",
   "execution_count": null,
   "metadata": {},
   "outputs": [],
   "source": [
    "!pip install -U rdflib"
   ]
  },
  {
   "cell_type": "markdown",
   "metadata": {},
   "source": [
    "This is a research seminar related notebook created for the seminar on *[Knowledge Graphs, Large Language Models (LLM), and Graph-based Reasoning](http://damir.cavar.me/l715-23/)* taught at [Indiana University at Bloomington](https://bloomington.iu.edu/) in Fall 2023."
   ]
  },
  {
   "cell_type": "markdown",
   "metadata": {},
   "source": [
    "We import the [RDFlib](https://rdflib.readthedocs.io/) components that we intend to use:"
   ]
  },
  {
   "cell_type": "code",
   "execution_count": 53,
   "metadata": {},
   "outputs": [],
   "source": [
    "from rdflib.namespace import RDF, RDFS, SKOS, OWL, DC, DCTERMS, XSD, TIME, NamespaceManager\n",
    "from rdflib import Graph, URIRef, Literal, Namespace\n",
    "from datetime import datetime"
   ]
  },
  {
   "cell_type": "markdown",
   "metadata": {},
   "source": [
    "We want to use specific URIs in the graph, as for example the [Ontology of Linguistic Annotation](https://acoli-repo.github.io/olia/) ([OLiA](https://acoli-repo.github.io/olia/)) and the [Vocabulary for Attaching Essential Metadata](https://lov.linkeddata.es/dataset/lov/vocabs/vaem) ([vaem](https://lov.linkeddata.es/dataset/lov/vocabs/vaem)):"
   ]
  },
  {
   "cell_type": "code",
   "execution_count": 54,
   "metadata": {},
   "outputs": [],
   "source": [
    "default_prefix = r\"http://www.iu.edu/kg/ontology/Example#\"\n",
    "default_uri    = URIRef(r\"http://www.iu.edu/kg/ontology/\")\n",
    "default_ns     = Namespace(default_prefix)\n",
    "olia_ns        = Namespace(r\"http://purl.org/olia/olia.owl#\")\n",
    "vaem_ns        = Namespace(r\"http://www.linkedmodel.org/schema/vaem#\")"
   ]
  },
  {
   "cell_type": "markdown",
   "metadata": {},
   "source": [
    "Creating a graph and defining the namespace for some relevant ontologies as defined above."
   ]
  },
  {
   "cell_type": "code",
   "execution_count": 55,
   "metadata": {},
   "outputs": [],
   "source": [
    "graph = Graph()\n",
    "namespace_manager = NamespaceManager(graph)\n",
    "namespace_manager.bind(\"olia\", olia_ns, override=True)\n",
    "namespace_manager.bind(\"vaem\", vaem_ns, override=True)\n",
    "namespace_manager.bind(\"iu\", default_ns, override=True)\n",
    "graph.namespace_manager = namespace_manager"
   ]
  },
  {
   "cell_type": "markdown",
   "metadata": {},
   "source": [
    "In the following code block we are adding triples to the graph:"
   ]
  },
  {
   "cell_type": "code",
   "execution_count": 56,
   "metadata": {},
   "outputs": [
    {
     "data": {
      "text/plain": [
       "<Graph identifier=Nbbdc38a39763458bb883e149f684a691 (<class 'rdflib.graph.Graph'>)>"
      ]
     },
     "execution_count": 56,
     "metadata": {},
     "output_type": "execute_result"
    }
   ],
   "source": [
    "graph.add( (default_uri, RDF.type,           OWL.Ontology) )\n",
    "graph.add( (default_uri, RDFS.label,         Literal(\"Example Ontology\", lang='en')) )\n",
    "graph.add( (default_uri, RDFS.label,         Literal(\"Beispielontology\", lang='de')) )\n",
    "graph.add( (default_uri, SKOS.prefLabel,     Literal(\"Example Ontology\")) )\n",
    "graph.add( (default_uri, TIME.year,          Literal(\"2023\")) )\n",
    "graph.add( (default_uri, vaem_ns.acronym,    Literal(\"EO\")) )\n",
    "graph.add( (default_uri, DC.creator,         Literal(\"Damir Cavar\")) )\n",
    "graph.add( (default_uri, vaem_ns.hasOwner,   Literal(\"Natural Language Processing Lab\", lang='en')) )\n",
    "graph.add( (default_uri, vaem_ns.hasSteward, Literal(\"Natural Language Processing Lab\")) )\n",
    "dt = datetime.now()\n",
    "graph.add( (default_uri, vaem_ns.publishedDate, Literal(dt.strftime(\"%Y-%m-%dT%H:%M:%SZ\"))) )"
   ]
  },
  {
   "cell_type": "markdown",
   "metadata": {},
   "source": [
    "In the following we add a concept to the graph:"
   ]
  },
  {
   "cell_type": "code",
   "execution_count": 57,
   "metadata": {},
   "outputs": [
    {
     "data": {
      "text/plain": [
       "<Graph identifier=Nbbdc38a39763458bb883e149f684a691 (<class 'rdflib.graph.Graph'>)>"
      ]
     },
     "execution_count": 57,
     "metadata": {},
     "output_type": "execute_result"
    }
   ],
   "source": [
    "concept_uri = URIRef(default_prefix + r\"TestConcept\")\n",
    "graph.add( (concept_uri, RDFS.label, Literal(\"Test Concept\", lang='en')) )\n",
    "graph.add( (concept_uri, RDFS.label, Literal(\"Testkonzept\", lang='de')) )"
   ]
  },
  {
   "cell_type": "markdown",
   "metadata": {},
   "source": [
    "We can insert data into the graph using [SPARQL](https://www.w3.org/TR/sparql11-query/) as well:"
   ]
  },
  {
   "cell_type": "code",
   "execution_count": 58,
   "metadata": {},
   "outputs": [],
   "source": [
    "query = f\"\"\"\n",
    "PREFIX rdfs: <http://www.w3.org/2000/01/rdf-schema#>\n",
    "PREFIX vaem: <http://www.linkedmodel.org/schema/vaem#>\n",
    "PREFIX iu: <http://www.iu.edu/kg/ontology/Example#>\n",
    "INSERT DATA {{\n",
    "    <{default_prefix + r'ExampleConcept'}> rdfs:label \"Example Concept\"@en,\n",
    "                                                      \"Beispielkonzept\"@de .\n",
    "    <{default_prefix + r'ExampleConcept'}> vaem:acronym \"EC\" ;\n",
    "                                           vaem:abbreviation \"ExCo\" .\n",
    "}}\"\"\"\n",
    "graph.update(query)"
   ]
  },
  {
   "cell_type": "markdown",
   "metadata": {},
   "source": [
    "Writing out the graph to a [Turtle](https://en.wikipedia.org/wiki/Turtle_(syntax)) file:"
   ]
  },
  {
   "cell_type": "code",
   "execution_count": 59,
   "metadata": {},
   "outputs": [
    {
     "data": {
      "text/plain": [
       "<Graph identifier=Nbbdc38a39763458bb883e149f684a691 (<class 'rdflib.graph.Graph'>)>"
      ]
     },
     "execution_count": 59,
     "metadata": {},
     "output_type": "execute_result"
    }
   ],
   "source": [
    "graph.serialize(destination=\"test.ttl\", format=\"turtle\", encoding=\"utf-8\")"
   ]
  },
  {
   "cell_type": "markdown",
   "metadata": {},
   "source": [
    "Writing out the graph to an [N-Triples](https://en.wikipedia.org/wiki/N-Triples) file:"
   ]
  },
  {
   "cell_type": "code",
   "execution_count": 60,
   "metadata": {},
   "outputs": [
    {
     "data": {
      "text/plain": [
       "<Graph identifier=Nbbdc38a39763458bb883e149f684a691 (<class 'rdflib.graph.Graph'>)>"
      ]
     },
     "execution_count": 60,
     "metadata": {},
     "output_type": "execute_result"
    }
   ],
   "source": [
    "graph.serialize(destination=\"test.nt\", format=\"nt\", encoding=\"utf-8\")"
   ]
  },
  {
   "cell_type": "markdown",
   "metadata": {},
   "source": [
    "## Graph Queries"
   ]
  },
  {
   "cell_type": "markdown",
   "metadata": {},
   "source": [
    "In the following code we are querying all triples with a specific pattern and using the subject and object elements only. Note, since the elements are `URLib` objects and need to be converted to strings using the `toPython()` method."
   ]
  },
  {
   "cell_type": "code",
   "execution_count": 61,
   "metadata": {},
   "outputs": [
    {
     "name": "stdout",
     "output_type": "stream",
     "text": [
      "('http://www.iu.edu/kg/ontology/', 'Beispielontology')\n",
      "('http://www.iu.edu/kg/ontology/Example#TestConcept', 'Testkonzept')\n",
      "('http://www.iu.edu/kg/ontology/', 'Example Ontology')\n",
      "('http://www.iu.edu/kg/ontology/Example#ExampleConcept', 'Example Concept')\n",
      "('http://www.iu.edu/kg/ontology/Example#ExampleConcept', 'Beispielkonzept')\n",
      "('http://www.iu.edu/kg/ontology/Example#TestConcept', 'Test Concept')\n"
     ]
    }
   ],
   "source": [
    "res = { (s.toPython(), o.toPython()) for s, _, o in graph.triples( (None, RDFS.label, None) ) }\n",
    "for r in res:\n",
    "    print(r)"
   ]
  },
  {
   "cell_type": "markdown",
   "metadata": {},
   "source": [
    "In the following query we are looking for all triples that match with the predicate and object, resulting in a list of subjects:"
   ]
  },
  {
   "cell_type": "code",
   "execution_count": 62,
   "metadata": {},
   "outputs": [
    {
     "name": "stdout",
     "output_type": "stream",
     "text": [
      "http://www.iu.edu/kg/ontology/Example#ExampleConcept\n"
     ]
    }
   ],
   "source": [
    "res = { s.toPython() for s in graph.subjects( RDFS.label, Literal('Example Concept', lang=\"en\")) }\n",
    "for r in res:\n",
    "    print(r)"
   ]
  },
  {
   "cell_type": "markdown",
   "metadata": {},
   "source": [
    "In the following we are querying all the objects that are elements of triples with the specific subject and predicate:"
   ]
  },
  {
   "cell_type": "code",
   "execution_count": 63,
   "metadata": {},
   "outputs": [
    {
     "name": "stdout",
     "output_type": "stream",
     "text": [
      "Beispielkonzept\n",
      "Example Concept\n"
     ]
    }
   ],
   "source": [
    "res = { s.toPython() for s in graph.objects(URIRef(r\"http://www.iu.edu/kg/ontology/Example#ExampleConcept\"), RDFS.label) }\n",
    "for r in res:\n",
    "    print(r)"
   ]
  },
  {
   "cell_type": "markdown",
   "metadata": {},
   "source": [
    "The same queries we can formulate in SPARQL:"
   ]
  },
  {
   "cell_type": "code",
   "execution_count": 64,
   "metadata": {},
   "outputs": [
    {
     "name": "stdout",
     "output_type": "stream",
     "text": [
      "Example Ontology\n",
      "Test Concept\n",
      "Example Concept\n"
     ]
    }
   ],
   "source": [
    "qres = graph.query(\n",
    "    \"\"\"PREFIX rdfs: <http://www.w3.org/2000/01/rdf-schema#>\n",
    "        SELECT ?label\n",
    "        WHERE {\n",
    "            ?s rdfs:label ?label\n",
    "            FILTER langMatches( lang(?label), \"en\" )\n",
    "        }\"\"\"\n",
    ")\n",
    "for row in qres:\n",
    "    print(row.label)"
   ]
  },
  {
   "cell_type": "markdown",
   "metadata": {},
   "source": [
    "(C) 2023-2024 by [Damir Cavar](http://damir.cavar.com/)"
   ]
  }
 ],
 "metadata": {
  "kernelspec": {
   "display_name": "Python 3",
   "language": "python",
   "name": "python3"
  },
  "language_info": {
   "codemirror_mode": {
    "name": "ipython",
    "version": 3
   },
   "file_extension": ".py",
   "mimetype": "text/x-python",
   "name": "python",
   "nbconvert_exporter": "python",
   "pygments_lexer": "ipython3",
   "version": "3.12.1"
  },
  "orig_nbformat": 4
 },
 "nbformat": 4,
 "nbformat_minor": 2
}
