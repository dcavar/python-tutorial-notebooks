{
 "cells": [
  {
   "cell_type": "markdown",
   "metadata": {},
   "source": [
    "# Bayesian Classification for Machine Learning for Computational Linguistics"
   ]
  },
  {
   "cell_type": "markdown",
   "metadata": {},
   "source": [
    "## Using token probabilities for classification"
   ]
  },
  {
   "cell_type": "markdown",
   "metadata": {},
   "source": [
    "**(C) 2017-2025 by [Damir Cavar](http://damir.cavar.me/)**"
   ]
  },
  {
   "cell_type": "markdown",
   "metadata": {},
   "source": [
    "**Download:** This and various other Jupyter notebooks are available from my [GitHub repo](https://github.com/dcavar/python-tutorial-notebooks)."
   ]
  },
  {
   "cell_type": "markdown",
   "metadata": {},
   "source": [
    "**Version:** 1.7, September 2025"
   ]
  },
  {
   "cell_type": "markdown",
   "metadata": {},
   "source": [
    "**License:** [Creative Commons Attribution-ShareAlike 4.0 International License](https://creativecommons.org/licenses/by-sa/4.0/) ([CA BY-SA 4.0](https://creativecommons.org/licenses/by-sa/4.0/))"
   ]
  },
  {
   "cell_type": "markdown",
   "metadata": {},
   "source": [
    "This is a tutorial related to the discussion of a Bayesian classifier in the textbook [Machine Learning: The Art and Science of Algorithms that Make Sense of Data](https://www.cs.bris.ac.uk/~flach/mlbook/) by [Peter Flach](https://www.cs.bris.ac.uk/~flach/)."
   ]
  },
  {
   "cell_type": "markdown",
   "metadata": {},
   "source": [
    "This tutorial was developed as part of my course material for the course Machine Learning for Computational Linguistics in the [Computational Linguistics Program](http://cl.indiana.edu/) of the [Department of Linguistics](http://www.indiana.edu/~lingdept/) at [Indiana University](https://www.indiana.edu/)."
   ]
  },
  {
   "cell_type": "markdown",
   "metadata": {},
   "source": [
    "**Prerequisites:**"
   ]
  },
  {
   "cell_type": "code",
   "execution_count": null,
   "metadata": {},
   "outputs": [],
   "source": [
    "!pip install -U nltk"
   ]
  },
  {
   "cell_type": "markdown",
   "metadata": {},
   "source": [
    "## Creating a Training Corpus"
   ]
  },
  {
   "cell_type": "markdown",
   "metadata": {},
   "source": [
    "Assume that we have a set of e-mails that are annotated as *spam* or *ham*, as described in the textbook."
   ]
  },
  {
   "cell_type": "markdown",
   "metadata": {},
   "source": [
    "There are $4$ e-mails labeled *ham* and $1$ e-mail is labeled *spam*, that is we have a total of $5$ texts in our corpus."
   ]
  },
  {
   "cell_type": "markdown",
   "metadata": {},
   "source": [
    "If we would randomly pick an e-mail from the collection, the probability that we pick a spam e-mail would be $1 / 5$."
   ]
  },
  {
   "cell_type": "markdown",
   "metadata": {},
   "source": [
    "Spam emails might differ from ham e-mails just in some words. Here is a sample email constructed with typical keywords:"
   ]
  },
  {
   "cell_type": "code",
   "execution_count": 1,
   "metadata": {},
   "outputs": [],
   "source": [
    "spam = [ \"\"\"Our medicine cures baldness. No diagnostics needed.\n",
    "            We guarantee Fast Viagra delivery. V1agra\n",
    "            We can provide Human growth hormone. The cheapest Life\n",
    "            Insurance with us. You can Lose weight with this treatment.\n",
    "            Our Medicine now and No medical exams necessary.\n",
    "            Our Online pharmacy is the best.  This cream Removes\n",
    "            wrinkles and Reverses aging.\n",
    "            One treatment and you will Stop snoring.  We sell Valium\n",
    "            and Viagra.\n",
    "            Our Vicodin will help with Weight loss. Cheap Xanax.\"\"\",\n",
    "        \"\"\" We have detected suspicious activity on your account.\n",
    "        To prevent permanent suspension, you must immediately verify\n",
    "        your identity by clicking the link below and updating your payment information. \n",
    "        http://www.micros0ft-teams-support.com/verify \n",
    "        Failure to do so within 12 hours will result in your account being locked.\n",
    "        Thank you for your prompt attention to this matter.\"\"\" ]"
   ]
  },
  {
   "cell_type": "markdown",
   "metadata": {},
   "source": [
    "The data structure above is a list of strings that contains only one string. The triple-double-quotes mark multi-line text. We can output the size of the variable *spam* this way:"
   ]
  },
  {
   "cell_type": "code",
   "execution_count": 2,
   "metadata": {},
   "outputs": [
    {
     "name": "stdout",
     "output_type": "stream",
     "text": [
      "2\n"
     ]
    }
   ],
   "source": [
    "print(len(spam))"
   ]
  },
  {
   "cell_type": "markdown",
   "metadata": {},
   "source": [
    "We can create a list of *ham* mails in a similar way:"
   ]
  },
  {
   "cell_type": "code",
   "execution_count": 3,
   "metadata": {},
   "outputs": [],
   "source": [
    "ham = [ \"\"\"Hi Hans, hope to see you soon at our family party.\n",
    "           When will you arrive.\n",
    "           All the best to the family.\n",
    "           Sue\"\"\",\n",
    "      \"\"\"Dear Ata,\n",
    "         did you receive my last email related to the car insurance\n",
    "         offer? I would be happy to discuss the details with you.\n",
    "         Please give me a call, if you have any questions.\n",
    "         John Smith\n",
    "         Super Car Insurance\"\"\",\n",
    "      \"\"\"Hi everyone:\n",
    "         This is just a gentle reminder of today's first 2017 SLS\n",
    "         Colloquium, from 2.30 to 4.00 pm, in Ballantine 103.\n",
    "         Rodica Frimu will present a job talk entitled \"What is\n",
    "         so tricky in subject-verb agreement?\". The text of the\n",
    "         abstract is below.\n",
    "         If you would like to present something during the Spring,\n",
    "         please let me know.\n",
    "         The current online schedule with updated title\n",
    "         information and abstracts is available under:\n",
    "         http://www.iub.edu/~psyling/SLSColloquium/Spring2017.html\n",
    "         See you soon,\n",
    "         Peter\"\"\",\n",
    "      \"\"\"Dear Friends,\n",
    "         As our first event of 2017, the Polish Studies Center\n",
    "         presents an evening with artist and filmmaker Wojtek Sawa.\n",
    "         Please join us on JANUARY 26, 2017 from 5:30 p.m. to\n",
    "         7:30 p.m. in the Global and International Studies\n",
    "         Building room 1100 for a presentation by Wojtek Sawa\n",
    "         on his interactive  installation art piece The Wall\n",
    "         Speaks–Voices of the Unheard. A reception will follow\n",
    "         the event where you will have a chance to meet the artist\n",
    "         and discuss his work.\n",
    "         Best,\"\"\",\n",
    "         \"\"\"Hi Sue, yes I will be there. Just got back from my trip.\n",
    "           See you soon. Hans\"\"\",\n",
    "           \"\"\"Dear John, yes I got your email. Please call me\n",
    "           tomorrow. Ata\"\"\",\n",
    "           \"\"\"Hey, Peter, I was wondering whether you have some suggestion related to\n",
    "            my research topic. Can we meet next week? I will be in Bloomington\n",
    "            all of the week.\"\"\",]"
   ]
  },
  {
   "cell_type": "markdown",
   "metadata": {},
   "source": [
    "The ham-mail list contains $4$ e-mails:"
   ]
  },
  {
   "cell_type": "code",
   "execution_count": 4,
   "metadata": {},
   "outputs": [
    {
     "name": "stdout",
     "output_type": "stream",
     "text": [
      "7\n"
     ]
    }
   ],
   "source": [
    "print(len(ham))"
   ]
  },
  {
   "cell_type": "markdown",
   "metadata": {},
   "source": [
    "We can access a particular e-mail via index from either spam or ham:"
   ]
  },
  {
   "cell_type": "code",
   "execution_count": 5,
   "metadata": {},
   "outputs": [
    {
     "name": "stdout",
     "output_type": "stream",
     "text": [
      "Our medicine cures baldness. No diagnostics needed.\n",
      "            We guarantee Fast Viagra delivery. V1agra\n",
      "            We can provide Human growth hormone. The cheapest Life\n",
      "            Insurance with us. You can Lose weight with this treatment.\n",
      "            Our Medicine now and No medical exams necessary.\n",
      "            Our Online pharmacy is the best.  This cream Removes\n",
      "            wrinkles and Reverses aging.\n",
      "            One treatment and you will Stop snoring.  We sell Valium\n",
      "            and Viagra.\n",
      "            Our Vicodin will help with Weight loss. Cheap Xanax.\n"
     ]
    }
   ],
   "source": [
    "print(spam[0])"
   ]
  },
  {
   "cell_type": "code",
   "execution_count": 6,
   "metadata": {},
   "outputs": [
    {
     "name": "stdout",
     "output_type": "stream",
     "text": [
      "Dear Friends,\n",
      "         As our first event of 2017, the Polish Studies Center\n",
      "         presents an evening with artist and filmmaker Wojtek Sawa.\n",
      "         Please join us on JANUARY 26, 2017 from 5:30 p.m. to\n",
      "         7:30 p.m. in the Global and International Studies\n",
      "         Building room 1100 for a presentation by Wojtek Sawa\n",
      "         on his interactive  installation art piece The Wall\n",
      "         Speaks–Voices of the Unheard. A reception will follow\n",
      "         the event where you will have a chance to meet the artist\n",
      "         and discuss his work.\n",
      "         Best,\n"
     ]
    }
   ],
   "source": [
    "print(ham[3])"
   ]
  },
  {
   "cell_type": "markdown",
   "metadata": {},
   "source": [
    "We can lower-case the email using the string *lower* function:"
   ]
  },
  {
   "cell_type": "code",
   "execution_count": 7,
   "metadata": {},
   "outputs": [
    {
     "name": "stdout",
     "output_type": "stream",
     "text": [
      "dear friends,\n",
      "         as our first event of 2017, the polish studies center\n",
      "         presents an evening with artist and filmmaker wojtek sawa.\n",
      "         please join us on january 26, 2017 from 5:30 p.m. to\n",
      "         7:30 p.m. in the global and international studies\n",
      "         building room 1100 for a presentation by wojtek sawa\n",
      "         on his interactive  installation art piece the wall\n",
      "         speaks–voices of the unheard. a reception will follow\n",
      "         the event where you will have a chance to meet the artist\n",
      "         and discuss his work.\n",
      "         best,\n"
     ]
    }
   ],
   "source": [
    "print(ham[3].lower())"
   ]
  },
  {
   "cell_type": "markdown",
   "metadata": {},
   "source": [
    "We can loop over all e-mails in spam or ham and lower-case the content:"
   ]
  },
  {
   "cell_type": "code",
   "execution_count": 8,
   "metadata": {},
   "outputs": [
    {
     "name": "stdout",
     "output_type": "stream",
     "text": [
      "hi hans, hope to see you soon at our family party.\n",
      "           when will you arrive.\n",
      "           all the best to the family.\n",
      "           sue\n",
      "dear ata,\n",
      "         did you receive my last email related to the car insurance\n",
      "         offer? i would be happy to discuss the details with you.\n",
      "         please give me a call, if you have any questions.\n",
      "         john smith\n",
      "         super car insurance\n",
      "hi everyone:\n",
      "         this is just a gentle reminder of today's first 2017 sls\n",
      "         colloquium, from 2.30 to 4.00 pm, in ballantine 103.\n",
      "         rodica frimu will present a job talk entitled \"what is\n",
      "         so tricky in subject-verb agreement?\". the text of the\n",
      "         abstract is below.\n",
      "         if you would like to present something during the spring,\n",
      "         please let me know.\n",
      "         the current online schedule with updated title\n",
      "         information and abstracts is available under:\n",
      "         http://www.iub.edu/~psyling/slscolloquium/spring2017.html\n",
      "         see you soon,\n",
      "         peter\n",
      "dear friends,\n",
      "         as our first event of 2017, the polish studies center\n",
      "         presents an evening with artist and filmmaker wojtek sawa.\n",
      "         please join us on january 26, 2017 from 5:30 p.m. to\n",
      "         7:30 p.m. in the global and international studies\n",
      "         building room 1100 for a presentation by wojtek sawa\n",
      "         on his interactive  installation art piece the wall\n",
      "         speaks–voices of the unheard. a reception will follow\n",
      "         the event where you will have a chance to meet the artist\n",
      "         and discuss his work.\n",
      "         best,\n",
      "hi sue, yes i will be there. just got back from my trip.\n",
      "           see you soon. hans\n",
      "dear john, yes i got your email. please call me\n",
      "           tomorrow. ata\n",
      "hey, peter, i was wondering whether you have some suggestion related to\n",
      "            my research topic. can we meet next week? i will be in bloomington\n",
      "            all of the week.\n"
     ]
    }
   ],
   "source": [
    "for text in ham:\n",
    "    print(text.lower())"
   ]
  },
  {
   "cell_type": "markdown",
   "metadata": {},
   "source": [
    "We can use the tokenizer from NLTK to tokenize the lower-cased text into single tokens (words and punctuation marks):"
   ]
  },
  {
   "cell_type": "code",
   "execution_count": 9,
   "metadata": {},
   "outputs": [
    {
     "name": "stdout",
     "output_type": "stream",
     "text": [
      "['hi', 'hans', ',', 'hope', 'to', 'see', 'you', 'soon', 'at', 'our', 'family', 'party', '.', 'when', 'will', 'you', 'arrive', '.', 'all', 'the', 'best', 'to', 'the', 'family', '.', 'sue']\n"
     ]
    }
   ],
   "source": [
    "from nltk import word_tokenize\n",
    "\n",
    "print(word_tokenize(ham[0].lower()))"
   ]
  },
  {
   "cell_type": "markdown",
   "metadata": {},
   "source": [
    "We can count the numer of tokens and types in lower-cased text:"
   ]
  },
  {
   "cell_type": "code",
   "execution_count": 10,
   "metadata": {},
   "outputs": [
    {
     "name": "stdout",
     "output_type": "stream",
     "text": [
      "Counter({'this': 2, 'test': 2, 'is': 1, 'a': 1, '.': 1, 'will': 1, 'teach': 1, 'us': 1, 'how': 1, 'to': 1, 'count': 1, 'tokens': 1, '?': 1})\n",
      "number of  types: 13\n",
      "number of tokens: 15\n"
     ]
    }
   ],
   "source": [
    "from collections import Counter\n",
    "\n",
    "myCounts = Counter(word_tokenize(\"This is a test. Will this test teach us how to count tokens?\".lower()))\n",
    "\n",
    "print(myCounts)\n",
    "print(\"number of  types:\", len(myCounts))\n",
    "print(\"number of tokens:\", sum(myCounts.values()))"
   ]
  },
  {
   "cell_type": "markdown",
   "metadata": {},
   "source": [
    "Now we can create a frequency profile of ham and spam words given the two text collections:"
   ]
  },
  {
   "cell_type": "code",
   "execution_count": 11,
   "metadata": {},
   "outputs": [
    {
     "name": "stdout",
     "output_type": "stream",
     "text": [
      "Ham:\n",
      " Counter({'.': 18, ',': 15, 'the': 15, 'you': 10, 'to': 9, 'will': 6, 'a': 6, 'i': 5, 'of': 5, 'please': 4, 'is': 4, 'in': 4, 'and': 4, 'hi': 3, 'see': 3, 'soon': 3, 'dear': 3, 'my': 3, '?': 3, 'be': 3, 'with': 3, 'me': 3, 'have': 3, ':': 3, '2017': 3, 'from': 3, 'hans': 2, 'our': 2, 'family': 2, 'all': 2, 'best': 2, 'sue': 2, 'ata': 2, 'email': 2, 'related': 2, 'car': 2, 'insurance': 2, 'would': 2, 'discuss': 2, 'call': 2, 'if': 2, 'john': 2, 'just': 2, 'first': 2, 'present': 2, 'peter': 2, 'event': 2, 'studies': 2, 'artist': 2, 'wojtek': 2, 'sawa': 2, 'on': 2, 'p.m.': 2, 'his': 2, 'meet': 2, 'yes': 2, 'got': 2, 'week': 2, 'hope': 1, 'at': 1, 'party': 1, 'when': 1, 'arrive': 1, 'did': 1, 'receive': 1, 'last': 1, 'offer': 1, 'happy': 1, 'details': 1, 'give': 1, 'any': 1, 'questions': 1, 'smith': 1, 'super': 1, 'everyone': 1, 'this': 1, 'gentle': 1, 'reminder': 1, 'today': 1, \"'s\": 1, 'sls': 1, 'colloquium': 1, '2.30': 1, '4.00': 1, 'pm': 1, 'ballantine': 1, '103.': 1, 'rodica': 1, 'frimu': 1, 'job': 1, 'talk': 1, 'entitled': 1, '``': 1, 'what': 1, 'so': 1, 'tricky': 1, 'subject-verb': 1, 'agreement': 1, \"''\": 1, 'text': 1, 'abstract': 1, 'below': 1, 'like': 1, 'something': 1, 'during': 1, 'spring': 1, 'let': 1, 'know': 1, 'current': 1, 'online': 1, 'schedule': 1, 'updated': 1, 'title': 1, 'information': 1, 'abstracts': 1, 'available': 1, 'under': 1, 'http': 1, '//www.iub.edu/~psyling/slscolloquium/spring2017.html': 1, 'friends': 1, 'as': 1, 'polish': 1, 'center': 1, 'presents': 1, 'an': 1, 'evening': 1, 'filmmaker': 1, 'join': 1, 'us': 1, 'january': 1, '26': 1, '5:30': 1, '7:30': 1, 'global': 1, 'international': 1, 'building': 1, 'room': 1, '1100': 1, 'for': 1, 'presentation': 1, 'by': 1, 'interactive': 1, 'installation': 1, 'art': 1, 'piece': 1, 'wall': 1, 'speaks–voices': 1, 'unheard': 1, 'reception': 1, 'follow': 1, 'where': 1, 'chance': 1, 'work': 1, 'there': 1, 'back': 1, 'trip': 1, 'your': 1, 'tomorrow': 1, 'hey': 1, 'was': 1, 'wondering': 1, 'whether': 1, 'some': 1, 'suggestion': 1, 'research': 1, 'topic': 1, 'can': 1, 'we': 1, 'next': 1, 'bloomington': 1})\n",
      "------------------------------\n",
      "Spam:\n",
      " Counter({'.': 17, 'and': 5, 'your': 5, 'our': 4, 'we': 4, 'you': 4, 'the': 3, 'with': 3, 'this': 3, 'will': 3, 'to': 3, 'medicine': 2, 'no': 2, 'viagra': 2, 'can': 2, 'weight': 2, 'treatment': 2, 'account': 2, 'cures': 1, 'baldness': 1, 'diagnostics': 1, 'needed': 1, 'guarantee': 1, 'fast': 1, 'delivery': 1, 'v1agra': 1, 'provide': 1, 'human': 1, 'growth': 1, 'hormone': 1, 'cheapest': 1, 'life': 1, 'insurance': 1, 'us': 1, 'lose': 1, 'now': 1, 'medical': 1, 'exams': 1, 'necessary': 1, 'online': 1, 'pharmacy': 1, 'is': 1, 'best': 1, 'cream': 1, 'removes': 1, 'wrinkles': 1, 'reverses': 1, 'aging': 1, 'one': 1, 'stop': 1, 'snoring': 1, 'sell': 1, 'valium': 1, 'vicodin': 1, 'help': 1, 'loss': 1, 'cheap': 1, 'xanax': 1, 'have': 1, 'detected': 1, 'suspicious': 1, 'activity': 1, 'on': 1, 'prevent': 1, 'permanent': 1, 'suspension': 1, ',': 1, 'must': 1, 'immediately': 1, 'verify': 1, 'identity': 1, 'by': 1, 'clicking': 1, 'link': 1, 'below': 1, 'updating': 1, 'payment': 1, 'information': 1, 'http': 1, ':': 1, '//www.micros0ft-teams-support.com/verify': 1, 'failure': 1, 'do': 1, 'so': 1, 'within': 1, '12': 1, 'hours': 1, 'result': 1, 'in': 1, 'being': 1, 'locked': 1, 'thank': 1, 'for': 1, 'prompt': 1, 'attention': 1, 'matter': 1})\n"
     ]
    }
   ],
   "source": [
    "hamFP = Counter()\n",
    "spamFP = Counter()\n",
    "\n",
    "for text in spam:\n",
    "    spamFP.update(word_tokenize(text.lower()))\n",
    "\n",
    "for text in ham:\n",
    "    hamFP.update(word_tokenize(text.lower()))\n",
    "\n",
    "print(\"Ham:\\n\",  hamFP)\n",
    "print(\"-\" * 30)\n",
    "print(\"Spam:\\n\", spamFP)"
   ]
  },
  {
   "cell_type": "code",
   "execution_count": 12,
   "metadata": {},
   "outputs": [
    {
     "name": "stdout",
     "output_type": "stream",
     "text": [
      "our 6.339850002884625\n",
      "medicine 6.339850002884625\n",
      "cures 3.1699250014423126\n",
      "baldness 3.1699250014423126\n",
      ". 0.0\n",
      "no 6.339850002884625\n",
      "diagnostics 3.1699250014423126\n",
      "needed 3.1699250014423126\n",
      "we 4.754887502163469\n",
      "guarantee 3.1699250014423126\n",
      "fast 3.1699250014423126\n",
      "viagra 6.339850002884625\n",
      "delivery 3.1699250014423126\n",
      "v1agra 3.1699250014423126\n",
      "can 4.339850002884625\n",
      "provide 3.1699250014423126\n",
      "human 3.1699250014423126\n",
      "growth 3.1699250014423126\n",
      "hormone 3.1699250014423126\n",
      "the 0.7251401587694168\n",
      "cheapest 3.1699250014423126\n",
      "life 3.1699250014423126\n",
      "insurance 2.1699250014423126\n",
      "with 3.5097750043269373\n",
      "us 2.1699250014423126\n",
      "you 0.33985000288462475\n",
      "lose 3.1699250014423126\n",
      "weight 6.339850002884625\n",
      "this 3.1699250014423126\n",
      "treatment 6.339850002884625\n",
      "now 3.1699250014423126\n",
      "and 4.6797000057692495\n",
      "medical 3.1699250014423126\n",
      "exams 3.1699250014423126\n",
      "necessary 3.1699250014423126\n",
      "online 2.1699250014423126\n",
      "pharmacy 3.1699250014423126\n",
      "is 2.1699250014423126\n",
      "best 1.5849625007211563\n",
      "cream 3.1699250014423126\n",
      "removes 3.1699250014423126\n",
      "wrinkles 3.1699250014423126\n",
      "reverses 3.1699250014423126\n",
      "aging 3.1699250014423126\n",
      "one 3.1699250014423126\n",
      "will 0.7251401587694168\n",
      "stop 3.1699250014423126\n",
      "snoring 3.1699250014423126\n",
      "sell 3.1699250014423126\n",
      "valium 3.1699250014423126\n",
      "vicodin 3.1699250014423126\n",
      "help 3.1699250014423126\n",
      "loss 3.1699250014423126\n",
      "cheap 3.1699250014423126\n",
      "xanax 3.1699250014423126\n"
     ]
    }
   ],
   "source": [
    "from math import log\n",
    "\n",
    "tokenlist = []\n",
    "frqprofiles = []\n",
    "for x in spam:\n",
    "    frqprofiles.append( Counter(word_tokenize(x.lower())) )\n",
    "    tokenlist.append( set(word_tokenize(x.lower())) )\n",
    "for x in ham:\n",
    "    frqprofiles.append( Counter(word_tokenize(x.lower())) )\n",
    "    tokenlist.append( set(word_tokenize(x.lower())) )\n",
    "#print(tokenlist)\n",
    "\n",
    "for x in frqprofiles[0]:\n",
    "    frq = frqprofiles[0][x]\n",
    "    counter = 0\n",
    "    for y in tokenlist:\n",
    "        if x in y:\n",
    "            counter += 1\n",
    "    print(x, frq * log(len(tokenlist)/counter, 2))\n"
   ]
  },
  {
   "cell_type": "markdown",
   "metadata": {},
   "source": [
    "The probability that we pick randomly an e-mail that is spam or ham can be computed as the ratio of the counts divided by the number of e-mails:"
   ]
  },
  {
   "cell_type": "code",
   "execution_count": 13,
   "metadata": {},
   "outputs": [
    {
     "name": "stdout",
     "output_type": "stream",
     "text": [
      "probability to pick spam: 0.2222222222222222\n",
      "probability to pick  ham: 0.7777777777777778\n"
     ]
    }
   ],
   "source": [
    "total = len(spam) + len(ham)\n",
    "\n",
    "spamP = len(spam) / total\n",
    "hamP  = len(ham) / total\n",
    "\n",
    "print(\"probability to pick spam:\", spamP)\n",
    "print(\"probability to pick  ham:\", hamP)"
   ]
  },
  {
   "cell_type": "markdown",
   "metadata": {},
   "source": [
    "We will need the total token count to calculate the relative frequency of the tokens, that is to generate likelihood estimates. We could *brute force* add one to create space in the probability mass for unknown tokens."
   ]
  },
  {
   "cell_type": "code",
   "execution_count": 14,
   "metadata": {},
   "outputs": [
    {
     "name": "stdout",
     "output_type": "stream",
     "text": [
      "total spam counts + 1: 147\n",
      "total  ham counts + 1: 321\n"
     ]
    }
   ],
   "source": [
    "totalSpam = sum(spamFP.values()) + 1\n",
    "totalHam  = sum(hamFP.values()) + 1\n",
    "\n",
    "print(\"total spam counts + 1:\", totalSpam)\n",
    "print(\"total  ham counts + 1:\", totalHam)"
   ]
  },
  {
   "cell_type": "markdown",
   "metadata": {},
   "source": [
    "We can relativize the counts in the frequency profiles now:"
   ]
  },
  {
   "cell_type": "code",
   "execution_count": 15,
   "metadata": {},
   "outputs": [
    {
     "name": "stdout",
     "output_type": "stream",
     "text": [
      "Counter({'.': 0.056074766355140186, ',': 0.04672897196261682, 'the': 0.04672897196261682, 'you': 0.03115264797507788, 'to': 0.028037383177570093, 'will': 0.018691588785046728, 'a': 0.018691588785046728, 'i': 0.01557632398753894, 'of': 0.01557632398753894, 'please': 0.012461059190031152, 'is': 0.012461059190031152, 'in': 0.012461059190031152, 'and': 0.012461059190031152, 'hi': 0.009345794392523364, 'see': 0.009345794392523364, 'soon': 0.009345794392523364, 'dear': 0.009345794392523364, 'my': 0.009345794392523364, '?': 0.009345794392523364, 'be': 0.009345794392523364, 'with': 0.009345794392523364, 'me': 0.009345794392523364, 'have': 0.009345794392523364, ':': 0.009345794392523364, '2017': 0.009345794392523364, 'from': 0.009345794392523364, 'hans': 0.006230529595015576, 'our': 0.006230529595015576, 'family': 0.006230529595015576, 'all': 0.006230529595015576, 'best': 0.006230529595015576, 'sue': 0.006230529595015576, 'ata': 0.006230529595015576, 'email': 0.006230529595015576, 'related': 0.006230529595015576, 'car': 0.006230529595015576, 'insurance': 0.006230529595015576, 'would': 0.006230529595015576, 'discuss': 0.006230529595015576, 'call': 0.006230529595015576, 'if': 0.006230529595015576, 'john': 0.006230529595015576, 'just': 0.006230529595015576, 'first': 0.006230529595015576, 'present': 0.006230529595015576, 'peter': 0.006230529595015576, 'event': 0.006230529595015576, 'studies': 0.006230529595015576, 'artist': 0.006230529595015576, 'wojtek': 0.006230529595015576, 'sawa': 0.006230529595015576, 'on': 0.006230529595015576, 'p.m.': 0.006230529595015576, 'his': 0.006230529595015576, 'meet': 0.006230529595015576, 'yes': 0.006230529595015576, 'got': 0.006230529595015576, 'week': 0.006230529595015576, 'hope': 0.003115264797507788, 'at': 0.003115264797507788, 'party': 0.003115264797507788, 'when': 0.003115264797507788, 'arrive': 0.003115264797507788, 'did': 0.003115264797507788, 'receive': 0.003115264797507788, 'last': 0.003115264797507788, 'offer': 0.003115264797507788, 'happy': 0.003115264797507788, 'details': 0.003115264797507788, 'give': 0.003115264797507788, 'any': 0.003115264797507788, 'questions': 0.003115264797507788, 'smith': 0.003115264797507788, 'super': 0.003115264797507788, 'everyone': 0.003115264797507788, 'this': 0.003115264797507788, 'gentle': 0.003115264797507788, 'reminder': 0.003115264797507788, 'today': 0.003115264797507788, \"'s\": 0.003115264797507788, 'sls': 0.003115264797507788, 'colloquium': 0.003115264797507788, '2.30': 0.003115264797507788, '4.00': 0.003115264797507788, 'pm': 0.003115264797507788, 'ballantine': 0.003115264797507788, '103.': 0.003115264797507788, 'rodica': 0.003115264797507788, 'frimu': 0.003115264797507788, 'job': 0.003115264797507788, 'talk': 0.003115264797507788, 'entitled': 0.003115264797507788, '``': 0.003115264797507788, 'what': 0.003115264797507788, 'so': 0.003115264797507788, 'tricky': 0.003115264797507788, 'subject-verb': 0.003115264797507788, 'agreement': 0.003115264797507788, \"''\": 0.003115264797507788, 'text': 0.003115264797507788, 'abstract': 0.003115264797507788, 'below': 0.003115264797507788, 'like': 0.003115264797507788, 'something': 0.003115264797507788, 'during': 0.003115264797507788, 'spring': 0.003115264797507788, 'let': 0.003115264797507788, 'know': 0.003115264797507788, 'current': 0.003115264797507788, 'online': 0.003115264797507788, 'schedule': 0.003115264797507788, 'updated': 0.003115264797507788, 'title': 0.003115264797507788, 'information': 0.003115264797507788, 'abstracts': 0.003115264797507788, 'available': 0.003115264797507788, 'under': 0.003115264797507788, 'http': 0.003115264797507788, '//www.iub.edu/~psyling/slscolloquium/spring2017.html': 0.003115264797507788, 'friends': 0.003115264797507788, 'as': 0.003115264797507788, 'polish': 0.003115264797507788, 'center': 0.003115264797507788, 'presents': 0.003115264797507788, 'an': 0.003115264797507788, 'evening': 0.003115264797507788, 'filmmaker': 0.003115264797507788, 'join': 0.003115264797507788, 'us': 0.003115264797507788, 'january': 0.003115264797507788, '26': 0.003115264797507788, '5:30': 0.003115264797507788, '7:30': 0.003115264797507788, 'global': 0.003115264797507788, 'international': 0.003115264797507788, 'building': 0.003115264797507788, 'room': 0.003115264797507788, '1100': 0.003115264797507788, 'for': 0.003115264797507788, 'presentation': 0.003115264797507788, 'by': 0.003115264797507788, 'interactive': 0.003115264797507788, 'installation': 0.003115264797507788, 'art': 0.003115264797507788, 'piece': 0.003115264797507788, 'wall': 0.003115264797507788, 'speaks–voices': 0.003115264797507788, 'unheard': 0.003115264797507788, 'reception': 0.003115264797507788, 'follow': 0.003115264797507788, 'where': 0.003115264797507788, 'chance': 0.003115264797507788, 'work': 0.003115264797507788, 'there': 0.003115264797507788, 'back': 0.003115264797507788, 'trip': 0.003115264797507788, 'your': 0.003115264797507788, 'tomorrow': 0.003115264797507788, 'hey': 0.003115264797507788, 'was': 0.003115264797507788, 'wondering': 0.003115264797507788, 'whether': 0.003115264797507788, 'some': 0.003115264797507788, 'suggestion': 0.003115264797507788, 'research': 0.003115264797507788, 'topic': 0.003115264797507788, 'can': 0.003115264797507788, 'we': 0.003115264797507788, 'next': 0.003115264797507788, 'bloomington': 0.003115264797507788})\n",
      "------------------------------\n",
      "Counter({'.': 0.11564625850340136, 'and': 0.034013605442176874, 'your': 0.034013605442176874, 'our': 0.027210884353741496, 'we': 0.027210884353741496, 'you': 0.027210884353741496, 'the': 0.02040816326530612, 'with': 0.02040816326530612, 'this': 0.02040816326530612, 'will': 0.02040816326530612, 'to': 0.02040816326530612, 'medicine': 0.013605442176870748, 'no': 0.013605442176870748, 'viagra': 0.013605442176870748, 'can': 0.013605442176870748, 'weight': 0.013605442176870748, 'treatment': 0.013605442176870748, 'account': 0.013605442176870748, 'cures': 0.006802721088435374, 'baldness': 0.006802721088435374, 'diagnostics': 0.006802721088435374, 'needed': 0.006802721088435374, 'guarantee': 0.006802721088435374, 'fast': 0.006802721088435374, 'delivery': 0.006802721088435374, 'v1agra': 0.006802721088435374, 'provide': 0.006802721088435374, 'human': 0.006802721088435374, 'growth': 0.006802721088435374, 'hormone': 0.006802721088435374, 'cheapest': 0.006802721088435374, 'life': 0.006802721088435374, 'insurance': 0.006802721088435374, 'us': 0.006802721088435374, 'lose': 0.006802721088435374, 'now': 0.006802721088435374, 'medical': 0.006802721088435374, 'exams': 0.006802721088435374, 'necessary': 0.006802721088435374, 'online': 0.006802721088435374, 'pharmacy': 0.006802721088435374, 'is': 0.006802721088435374, 'best': 0.006802721088435374, 'cream': 0.006802721088435374, 'removes': 0.006802721088435374, 'wrinkles': 0.006802721088435374, 'reverses': 0.006802721088435374, 'aging': 0.006802721088435374, 'one': 0.006802721088435374, 'stop': 0.006802721088435374, 'snoring': 0.006802721088435374, 'sell': 0.006802721088435374, 'valium': 0.006802721088435374, 'vicodin': 0.006802721088435374, 'help': 0.006802721088435374, 'loss': 0.006802721088435374, 'cheap': 0.006802721088435374, 'xanax': 0.006802721088435374, 'have': 0.006802721088435374, 'detected': 0.006802721088435374, 'suspicious': 0.006802721088435374, 'activity': 0.006802721088435374, 'on': 0.006802721088435374, 'prevent': 0.006802721088435374, 'permanent': 0.006802721088435374, 'suspension': 0.006802721088435374, ',': 0.006802721088435374, 'must': 0.006802721088435374, 'immediately': 0.006802721088435374, 'verify': 0.006802721088435374, 'identity': 0.006802721088435374, 'by': 0.006802721088435374, 'clicking': 0.006802721088435374, 'link': 0.006802721088435374, 'below': 0.006802721088435374, 'updating': 0.006802721088435374, 'payment': 0.006802721088435374, 'information': 0.006802721088435374, 'http': 0.006802721088435374, ':': 0.006802721088435374, '//www.micros0ft-teams-support.com/verify': 0.006802721088435374, 'failure': 0.006802721088435374, 'do': 0.006802721088435374, 'so': 0.006802721088435374, 'within': 0.006802721088435374, '12': 0.006802721088435374, 'hours': 0.006802721088435374, 'result': 0.006802721088435374, 'in': 0.006802721088435374, 'being': 0.006802721088435374, 'locked': 0.006802721088435374, 'thank': 0.006802721088435374, 'for': 0.006802721088435374, 'prompt': 0.006802721088435374, 'attention': 0.006802721088435374, 'matter': 0.006802721088435374})\n"
     ]
    }
   ],
   "source": [
    "hamFP  = Counter( dict([ (token, frequency/totalHam)  for token, frequency in hamFP.items() ]) )\n",
    "spamFP = Counter( dict([ (token, frequency/totalSpam) for token, frequency in spamFP.items() ]) )\n",
    "\n",
    "print(hamFP)\n",
    "print(\"-\" * 30)\n",
    "print(spamFP)"
   ]
  },
  {
   "cell_type": "markdown",
   "metadata": {},
   "source": [
    "We can now compute the default probability that we want to assign to unknown words as $1 / totalSpam$ or $1 / totalHam$ respectively. Whenever we encounter an unknown token that is not in our frequency profile, we will assign the default probability to it."
   ]
  },
  {
   "cell_type": "code",
   "execution_count": 16,
   "metadata": {},
   "outputs": [
    {
     "name": "stdout",
     "output_type": "stream",
     "text": [
      "default spam probability: 0.006802721088435374\n",
      "default  ham probability: 0.003115264797507788\n"
     ]
    }
   ],
   "source": [
    "defaultSpam = 1 / totalSpam\n",
    "defaultHam  = 1 / totalHam\n",
    "\n",
    "print(\"default spam probability:\", defaultSpam)\n",
    "print(\"default  ham probability:\", defaultHam)"
   ]
  },
  {
   "cell_type": "markdown",
   "metadata": {},
   "source": [
    "We can test an unknown document by calculating how likely it was generated by the hamFP-distribution or the spamFP-distribution. We have to tokenize the lower-cased unknown document and compute the product of the likelihood of every single token in the text. We should scale this likelihood with the likelihood of randomly picking a ham or a spam e-mail. Let us calculate the likelihood that the random email is spam:"
   ]
  },
  {
   "cell_type": "code",
   "execution_count": 21,
   "metadata": {},
   "outputs": [
    {
     "name": "stdout",
     "output_type": "stream",
     "text": [
      "1.4169476187860514e-40\n"
     ]
    }
   ],
   "source": [
    "unknownEmail = \"\"\"Dear ,\n",
    "we sell the cheapest and best Viagra on the planet. Our delivery is guaranteed confident and cheap.\n",
    "\"\"\"\n",
    "#unknownEmail = \"\"\"Dear Hans,\n",
    "#I have not seen you for so long. When will we go out for a coffee again.\n",
    "#\"\"\"\n",
    "\n",
    "tokens = word_tokenize(unknownEmail.lower())\n",
    "\n",
    "result = 1.0\n",
    "for token in tokens:\n",
    "    result *= spamFP.get(token, defaultSpam)\n",
    "\n",
    "print(result * spamP)"
   ]
  },
  {
   "cell_type": "markdown",
   "metadata": {},
   "source": [
    "Since this number is very small, a better strategy might be to sum up the log-likelihoods:"
   ]
  },
  {
   "cell_type": "code",
   "execution_count": 22,
   "metadata": {},
   "outputs": [
    {
     "name": "stdout",
     "output_type": "stream",
     "text": [
      "-131.70848976462216\n"
     ]
    }
   ],
   "source": [
    "from math import log\n",
    "\n",
    "resultSpam = 0.0\n",
    "for token in tokens:\n",
    "    resultSpam += log(spamFP.get(token, defaultSpam), 2)\n",
    "resultSpam += log(spamP)\n",
    "\n",
    "print(resultSpam)"
   ]
  },
  {
   "cell_type": "code",
   "execution_count": 23,
   "metadata": {},
   "outputs": [
    {
     "name": "stdout",
     "output_type": "stream",
     "text": [
      "-144.4608493674179\n"
     ]
    }
   ],
   "source": [
    "resultHam = 0.0\n",
    "for token in tokens:\n",
    "    resultHam += log(hamFP.get(token, defaultHam), 2)\n",
    "resultHam += log(hamP)\n",
    "\n",
    "print(resultHam)"
   ]
  },
  {
   "cell_type": "markdown",
   "metadata": {},
   "source": [
    "The log-likelihood for spam is larger than for *ham*. Our simple classifier would have guessed that this e-mail is *spam*."
   ]
  },
  {
   "cell_type": "code",
   "execution_count": 24,
   "metadata": {},
   "outputs": [
    {
     "name": "stdout",
     "output_type": "stream",
     "text": [
      "e-mail is spam\n"
     ]
    }
   ],
   "source": [
    "if max(resultHam, resultSpam) == resultHam:\n",
    "    print(\"e-mail is ham\")\n",
    "else:\n",
    "    print(\"e-mail is spam\")"
   ]
  },
  {
   "cell_type": "markdown",
   "metadata": {},
   "source": [
    "The are numerous ways to improve the algorithm and tutorial. Please [send me](http://cavar.me/damir/) your suggestions."
   ]
  },
  {
   "cell_type": "markdown",
   "metadata": {},
   "source": [
    "(C) 2017-2025 by [Damir Cavar](http://damir.cavar.me/) - [Creative Commons Attribution-ShareAlike 4.0 International License](https://creativecommons.org/licenses/by-sa/4.0/) ([CA BY-SA 4.0](https://creativecommons.org/licenses/by-sa/4.0/))"
   ]
  }
 ],
 "metadata": {
  "anaconda-cloud": {},
  "kernelspec": {
   "display_name": "Python 3",
   "language": "python",
   "name": "python3"
  },
  "language_info": {
   "codemirror_mode": {
    "name": "ipython",
    "version": 3
   },
   "file_extension": ".py",
   "mimetype": "text/x-python",
   "name": "python",
   "nbconvert_exporter": "python",
   "pygments_lexer": "ipython3",
   "version": "3.12.3"
  },
  "latex_metadata": {
   "affiliation": "Indiana University, Department of Linguistics, Bloomington, IN, USA",
   "author": "Damir Cavar",
   "title": "Bayesian Classification for Machine Learning for Computational Linguistics"
  },
  "toc": {
   "base_numbering": 1,
   "nav_menu": {},
   "number_sections": false,
   "sideBar": false,
   "skip_h1_title": false,
   "title_cell": "Table of Contents",
   "title_sidebar": "Contents",
   "toc_cell": false,
   "toc_position": {},
   "toc_section_display": false,
   "toc_window_display": false
  }
 },
 "nbformat": 4,
 "nbformat_minor": 4
}
