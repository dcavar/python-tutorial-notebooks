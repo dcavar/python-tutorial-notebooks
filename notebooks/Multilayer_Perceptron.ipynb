{
 "cells": [
  {
   "cell_type": "markdown",
   "metadata": {},
   "source": [
    "# Multilayer Perceptron (MLP)\n",
    "\n",
    "© 2024 by [Damir Cavar](http://damir.cavar.me/)\n",
    "\n",
    "\n",
    "**Download:** This and various other Jupyter notebooks are available from my [GitHub repo](https://github.com/dcavar/python-tutorial-for-ipython).\n",
    "\n",
    "**License:** [Creative Commons Attribution-ShareAlike 4.0 International License](https://creativecommons.org/licenses/by-sa/4.0/) ([CA BY-SA 4.0](https://creativecommons.org/licenses/by-sa/4.0/))\n",
    "\n",
    "**Literature:**\n",
    "\n",
    "- Samy Baladram \"[Multilayer Perceptron, Explained: A Visual Guide with Mini 2D Dataset](https://towardsdatascience.com/multilayer-perceptron-explained-a-visual-guide-with-mini-2d-dataset-0ae8100c5d1c)\"\n",
    "\n"
   ]
  },
  {
   "cell_type": "code",
   "execution_count": 1,
   "metadata": {},
   "outputs": [],
   "source": [
    "import numpy as np"
   ]
  },
  {
   "cell_type": "markdown",
   "metadata": {},
   "source": [
    "## Data\n",
    "\n",
    "We will use the data set from Samy Baladram's article listed above. The data shows scores for temperature and humidity from 0 to 3, and a corresponding decision whether playing golf is possible. See [here](https://towardsdatascience.com/support-vector-classifier-explained-a-visual-guide-with-mini-2d-dataset-62e831e7b9e9) for an explanation of the data set."
   ]
  },
  {
   "cell_type": "code",
   "execution_count": 2,
   "metadata": {},
   "outputs": [],
   "source": [
    "training_data = [\n",
    "    (0, 0, 1),\n",
    "    (1, 0, 0),\n",
    "    (1, 1, 0),\n",
    "    (2, 0, 0),\n",
    "    (3, 1, 1),\n",
    "    (3, 2, 1),\n",
    "    (2, 3, 1),\n",
    "    (3, 3, 0)\n",
    "]"
   ]
  },
  {
   "cell_type": "code",
   "execution_count": 3,
   "metadata": {},
   "outputs": [],
   "source": [
    "test_data = [\n",
    "    (0, 1, 0),\n",
    "    (0, 2, 0),\n",
    "    (1, 3, 1),\n",
    "    (2, 2, 1),\n",
    "    (3, 1, 1)\n",
    "]"
   ]
  },
  {
   "cell_type": "markdown",
   "metadata": {},
   "source": [
    "## Introduction\n",
    "\n",
    "The network architecture will consume an input vector with two dimensions. One dimension is the score for temperature and the other is the score for humidity.\n",
    "\n",
    "We can design the first hidden layer with three nodes, a second subsequent hidden layer with two nodes, and an output layer with one node.\n",
    "\n",
    "All nodes are fully connected and represented as a matrix $W$ of 2 x 3 dimensions. The second hidden layer is a matrix $U$ with 3 x 2 dimensions."
   ]
  },
  {
   "cell_type": "code",
   "execution_count": 4,
   "metadata": {},
   "outputs": [
    {
     "name": "stdout",
     "output_type": "stream",
     "text": [
      "W [[0.72620524 0.25526523 0.69675275]\n",
      " [0.2365146  0.02996081 0.50613528]]\n",
      "U [[0.63461337 0.06771906]\n",
      " [0.86606937 0.3349142 ]\n",
      " [0.91925414 0.75621645]]\n",
      "bias_W [[0.71746436 0.42482447 0.26262425]]\n",
      "bias_U [[0.68904939 0.59691488]]\n",
      "O [[0.04374218]\n",
      " [0.10052295]]\n",
      "bias_O [[0.52142174]]\n"
     ]
    }
   ],
   "source": [
    "W = np.random.random((2, 3))\n",
    "print(f\"W {W}\")\n",
    "U = np.random.random((3, 2))\n",
    "print(f\"U {U}\")\n",
    "bias_W = np.random.random((1, 3))\n",
    "print(f\"bias_W {bias_W}\")\n",
    "bias_U = np.random.random((1, 2))\n",
    "print(f\"bias_U {bias_U}\")\n",
    "O = np.random.random((2, 1))\n",
    "print(f\"O {O}\")\n",
    "bias_O = np.random.random((1, 1))\n",
    "print(f\"bias_O {bias_O}\")"
   ]
  },
  {
   "cell_type": "code",
   "execution_count": 5,
   "metadata": {},
   "outputs": [
    {
     "name": "stdout",
     "output_type": "stream",
     "text": [
      "input_data [[0 0]\n",
      " [1 0]\n",
      " [1 1]\n",
      " [2 0]\n",
      " [3 1]\n",
      " [3 2]\n",
      " [2 3]\n",
      " [3 3]]\n",
      "input_data_ground_truth [[1]\n",
      " [0]\n",
      " [0]\n",
      " [0]\n",
      " [1]\n",
      " [1]\n",
      " [1]\n",
      " [0]]\n"
     ]
    }
   ],
   "source": [
    "input_data = np.array([[x[0], x[1]] for x in training_data])\n",
    "input_data_ground_truth = np.array([[x[2]] for x in training_data])\n",
    "print(f\"input_data {input_data}\")\n",
    "print(f\"input_data_ground_truth {input_data_ground_truth}\")"
   ]
  },
  {
   "cell_type": "code",
   "execution_count": 7,
   "metadata": {},
   "outputs": [
    {
     "data": {
      "text/plain": [
       "array([3, 3])"
      ]
     },
     "execution_count": 7,
     "metadata": {},
     "output_type": "execute_result"
    }
   ],
   "source": [
    "one_hot = np.array([0, 0, 0, 0, 0, 0, 0, 1])\n",
    "one_hot.dot(input_data)"
   ]
  },
  {
   "cell_type": "code",
   "execution_count": 8,
   "metadata": {},
   "outputs": [
    {
     "name": "stdout",
     "output_type": "stream",
     "text": [
      "[0 0] [1]\n",
      "[1 0] [0]\n",
      "[1 1] [0]\n",
      "[2 0] [0]\n",
      "[3 1] [1]\n",
      "[3 2] [1]\n",
      "[2 3] [1]\n",
      "[3 3] [0]\n"
     ]
    }
   ],
   "source": [
    "for row, true_score in zip(input_data, input_data_ground_truth):\n",
    "    print(row, true_score)"
   ]
  },
  {
   "cell_type": "code",
   "execution_count": 9,
   "metadata": {},
   "outputs": [],
   "source": [
    "def sigmoid(z):\n",
    "    return 1/(1 + np.exp(-z))"
   ]
  },
  {
   "cell_type": "code",
   "execution_count": 10,
   "metadata": {},
   "outputs": [],
   "source": [
    "def loss_function(predicted, actual):\n",
    "    return np.log(predicted) if actual else np.log(1 - predicted)"
   ]
  },
  {
   "cell_type": "code",
   "execution_count": 11,
   "metadata": {},
   "outputs": [],
   "source": [
    "learning_rate = 0.01"
   ]
  },
  {
   "cell_type": "code",
   "execution_count": 12,
   "metadata": {},
   "outputs": [
    {
     "name": "stdout",
     "output_type": "stream",
     "text": [
      "output 0.6675859293553982 - true score: 1 - loss -0.4040871638764277\n",
      "output 0.6945833449779889 - true score: 0 - loss -1.1860783525764986\n",
      "output 0.7090513591078905 - true score: 0 - loss -1.2346085191668439\n",
      "output 0.7203067606618183 - true score: 0 - loss -1.2740618501847558\n",
      "output 0.7575838283922055 - true score: 1 - loss -0.2776210831773161\n",
      "output 0.7700554259317871 - true score: 1 - loss -0.2612927849953743\n",
      "output 0.760135340291323 - true score: 1 - loss -0.27425878222531397\n",
      "output 0.782069969876003 - true score: 0 - loss -1.523581230446569\n"
     ]
    }
   ],
   "source": [
    "for row, true_score in zip(input_data, input_data_ground_truth):\n",
    "    # print(row, true_score)\n",
    "    hidden_layer_W = np.maximum(row.dot(W) + bias_W, 0)[0]  # ReLU activation\n",
    "    # print(f\"hidden_layer_W {hidden_layer_W}\")\n",
    "    hidden_layer_U = np.maximum(hidden_layer_W.dot(U) + bias_U, 0)[0]  # ReLU activation\n",
    "    # print(f\"hidden_layer_U {hidden_layer_U}\")\n",
    "    output = (sigmoid(hidden_layer_U.dot(O) + bias_O))[0][0]\n",
    "    loss = loss_function(output, true_score[0])\n",
    "    print(f\"output {output} - true score: {true_score[0]} - loss {loss}\")"
   ]
  },
  {
   "cell_type": "markdown",
   "metadata": {},
   "source": [
    "Adding a loss function using binary cross-entropy:"
   ]
  },
  {
   "cell_type": "code",
   "execution_count": null,
   "metadata": {},
   "outputs": [],
   "source": []
  },
  {
   "cell_type": "markdown",
   "metadata": {},
   "source": [
    "## Training"
   ]
  },
  {
   "cell_type": "markdown",
   "metadata": {},
   "source": [
    "## Backpropagation \n",
    "\n",
    "\n",
    "### Derivative Rules\n",
    "\n",
    "\n",
    "#### Constant Rule\n",
    "\n",
    "$y = k$ with $k$ a constant: $\\frac{dy}{dx}=0$\n",
    "\n",
    "\n",
    "#### Power Rule\n",
    "\n",
    "$y=x^n$ the derivative is: $\\frac{dy}{dx} (n -1)x^{n-1}$ \n",
    "\n",
    "\n",
    "#### Exponential Rule\n",
    "\n",
    "$y=e^{kx}$ the derivative is: $\\frac{dy}{dx}= k e^{kx}$\n",
    "\n",
    "\n",
    "#### Natural Logarithm Rule\n",
    "\n",
    "$y=ln(x)$ the derivative is: $\\frac{dy}{dx}=\\frac{1}{x}$\n",
    "\n",
    "\n",
    "#### Sum and Difference Rule\n",
    "\n",
    "$y = u + v$ or $y = u - v$ the derivatives are: $\\frac{dy}{dx} = \\frac{du}{dx} + \\frac{dv}{dx}$ or $\\frac{dy}{dx} = \\frac{du}{dx} - \\frac{dv}{dx}$\n",
    "\n",
    "\n",
    "#### Product Rule\n",
    "\n",
    "$y = u v$  the derivative is: $\\frac{dy}{dx} = \\frac{du}{dx} v + \\frac{dv}{dx} u$\n",
    "\n",
    "\n",
    "#### Chain Rule\n",
    "\n",
    "$y(x) = u(v(x))$ the derivative is: $\\frac{dy(x)}{dx} = \\frac{du(v(x))}{dx} \\frac{dv(x)}{dx}$\n",
    "\n"
   ]
  },
  {
   "cell_type": "code",
   "execution_count": null,
   "metadata": {},
   "outputs": [],
   "source": []
  },
  {
   "cell_type": "markdown",
   "metadata": {},
   "source": [
    "**© 2024 by [Damir Cavar](http://damir.cavar.me/)**"
   ]
  }
 ],
 "metadata": {
  "kernelspec": {
   "display_name": "Python 3",
   "language": "python",
   "name": "python3"
  },
  "language_info": {
   "codemirror_mode": {
    "name": "ipython",
    "version": 3
   },
   "file_extension": ".py",
   "mimetype": "text/x-python",
   "name": "python",
   "nbconvert_exporter": "python",
   "pygments_lexer": "ipython3",
   "version": "3.12.3"
  }
 },
 "nbformat": 4,
 "nbformat_minor": 2
}
