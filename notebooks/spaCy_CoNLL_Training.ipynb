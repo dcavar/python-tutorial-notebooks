{
 "cells": [
  {
   "cell_type": "markdown",
   "metadata": {},
   "source": [
    "# spaCy Model from CoNLL Data\n",
    "\n",
    "(C) 2024 by [Damir Cavar](http://damir)\n",
    "\n",
    "**Version:** 0.1, November 2024\n",
    "\n",
    "**Download:** This and various other Jupyter notebooks are available from my [GitHub repo](https://github.com/dcavar/python-tutorial-for-ipython).\n",
    "\n",
    "The spaCy documentation provides a good introduction into [training a model](https://spacy.io/usage/training) and in particular using CoNLL data. The following code is based on this [spaCy training documentation](https://spacy.io/usage/training) and the code provided there."
   ]
  },
  {
   "cell_type": "markdown",
   "metadata": {},
   "source": [
    "Converting CoNLL (and [CoNLL-U](https://universaldependencies.org/format.html)) files to the necessary spaCy corpus format can be achieved using the following command:"
   ]
  },
  {
   "cell_type": "code",
   "execution_count": null,
   "metadata": {},
   "outputs": [],
   "source": [
    "!python -m spacy convert ./Marathi/mr_ufal-ud-train.conllu ./Marathi/train.spacy --converter conllu --file-type spacy --seg-sents --morphology --merge-subtokens --lang mr"
   ]
  },
  {
   "cell_type": "markdown",
   "metadata": {},
   "source": [
    "Check the `train_model.ipynb` Jupyter notebook in the `Marathi` subfolder here for details on training a model."
   ]
  },
  {
   "cell_type": "markdown",
   "metadata": {},
   "source": [
    "While [Prodigy](https://prodi.gy/) is an excellent tool for creating training data for spaCy models, [CoNLL-U](https://universaldependencies.org/format.html) files can be created using different tools. One such tool is [INCEpTION](https://inception-project.github.io/). A good resource for CoNLL files for different languages can be found on the [Universal Dependencies](https://universaldependencies.org/) website."
   ]
  },
  {
   "cell_type": "markdown",
   "metadata": {},
   "source": [
    "(C) 2024 by [Damir Cavar](http://damir.cavar.me/)"
   ]
  }
 ],
 "metadata": {
  "kernelspec": {
   "display_name": "Python 3",
   "language": "python",
   "name": "python3"
  },
  "language_info": {
   "name": "python",
   "version": "3.12.3"
  }
 },
 "nbformat": 4,
 "nbformat_minor": 2
}
