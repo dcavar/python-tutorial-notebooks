{
 "cells": [
  {
   "cell_type": "markdown",
   "metadata": {},
   "source": [
    "# AllegroGraph Examples\n",
    "\n",
    "(C) 2023 by [Damir Cavar](http://damir.cavar.me/)\n",
    "\n",
    "The following code shows how to interact with [AllegroGraph](https://allegrograph.com/) ([AG](https://allegrograph.com/)) using Python. The prerequisites for this code to run correctly are that you install the [AG](https://allegrograph.com/) Python module:\n",
    "\n",
    "    pip install agraph-python\n",
    "\n",
    "It is assumed that you have a running instance of [AG](https://allegrograph.com/) accessible using IP and port number.\n",
    "\n",
    "Create a file `secret.py` in the folder next to this notebook and set the following variables in it using your own values for the variables:\n",
    "\n",
    "    ag_host = \"127.0.0.1\"\n",
    "    ag_port = \"10035\"\n",
    "    ag_user = \"username\"\n",
    "    ag_password = \"password\"\n",
    "\n",
    "You can download and install [AG](https://allegrograph.com/) on your local machine (assuming you are running MacOS, Linux, or Linux on the [Windows Linux Subsystem](https://learn.microsoft.com/en-us/windows/wsl/install)) using the instructions at the [AG](https://allegrograph.com/) website."
   ]
  },
  {
   "cell_type": "markdown",
   "metadata": {},
   "source": [
    "**Download:** This and various other Jupyter notebooks are available from my [GitHub repo](https://github.com/dcavar/python-tutorial-notebooks)."
   ]
  },
  {
   "cell_type": "markdown",
   "metadata": {},
   "source": [
    "**License:** [Creative Commons Attribution-ShareAlike 4.0 International License](https://creativecommons.org/licenses/by-sa/4.0/) ([CA BY-SA 4.0](https://creativecommons.org/licenses/by-sa/4.0/))"
   ]
  },
  {
   "cell_type": "markdown",
   "metadata": {},
   "source": [
    "This is a research seminar related notebook created for the seminar on *[Knowledge Graphs, Large Language Models (LLM), and Graph-based Reasoning](http://damir.cavar.me/l715-23/)* taught at [Indiana University at Bloomington](https://bloomington.iu.edu/) in Fall 2023."
   ]
  },
  {
   "cell_type": "code",
   "execution_count": 16,
   "metadata": {},
   "outputs": [],
   "source": [
    "from franz.openrdf.connect import ag_connect\n",
    "from franz.openrdf.rio.rdfformat import RDFFormat\n",
    "from franz.openrdf.vocabulary import RDF, RDFS\n",
    "from secret import ag_password, ag_host, ag_port, ag_user"
   ]
  },
  {
   "cell_type": "markdown",
   "metadata": {},
   "source": [
    "In the following code we connect to [AG](https://allegrograph.com/) and print the number of triples in the store:"
   ]
  },
  {
   "cell_type": "code",
   "execution_count": 12,
   "metadata": {},
   "outputs": [
    {
     "name": "stdout",
     "output_type": "stream",
     "text": [
      "16\n"
     ]
    }
   ],
   "source": [
    "with ag_connect('test', host=ag_host, port=ag_port, user=ag_user, password=ag_password) as conn:\n",
    "    print(conn.size())"
   ]
  },
  {
   "cell_type": "markdown",
   "metadata": {},
   "source": [
    "We can open up a connection and work with it in the following:"
   ]
  },
  {
   "cell_type": "code",
   "execution_count": 6,
   "metadata": {},
   "outputs": [],
   "source": [
    "conn = ag_connect('test', host=ag_host, port=ag_port, user=ag_user, password=ag_password)"
   ]
  },
  {
   "cell_type": "markdown",
   "metadata": {},
   "source": [
    "Adding a triple set to the [AG](https://allegrograph.com/) triplestore can be achieved by uploading a triple file:"
   ]
  },
  {
   "cell_type": "code",
   "execution_count": 7,
   "metadata": {},
   "outputs": [],
   "source": [
    "conn.add(\"test.nt\", base=None, format=RDFFormat.NTRIPLES, contexts=None)"
   ]
  },
  {
   "cell_type": "markdown",
   "metadata": {},
   "source": [
    "We can also upload a Turtle file:"
   ]
  },
  {
   "cell_type": "code",
   "execution_count": 9,
   "metadata": {},
   "outputs": [],
   "source": [
    "conn.add(\"test.ttl\", base=None, format=RDFFormat.TURTLE, contexts=None)"
   ]
  },
  {
   "cell_type": "markdown",
   "metadata": {},
   "source": [
    "We can define our default Knowledge Graph URI:"
   ]
  },
  {
   "cell_type": "code",
   "execution_count": 13,
   "metadata": {},
   "outputs": [],
   "source": [
    "default_prefix = r\"http://www.iu.edu/kg/ontology/Example#\""
   ]
  },
  {
   "cell_type": "markdown",
   "metadata": {},
   "source": [
    "Using this URI we can define URIs for a new concept:"
   ]
  },
  {
   "cell_type": "code",
   "execution_count": 14,
   "metadata": {},
   "outputs": [],
   "source": [
    "concept = conn.createURI(default_prefix + r\"NewConcept\")\n",
    "concept_label = conn.createLiteral(r\"New Concept\")"
   ]
  },
  {
   "cell_type": "markdown",
   "metadata": {},
   "source": [
    "Adding a triple to the opened [AG](https://allegrograph.com/) instance can be achieved using this method:"
   ]
  },
  {
   "cell_type": "code",
   "execution_count": 17,
   "metadata": {},
   "outputs": [],
   "source": [
    "conn.add(concept, RDF.TYPE, concept_label)"
   ]
  },
  {
   "cell_type": "markdown",
   "metadata": {},
   "source": [
    "If [AG](https://allegrograph.com/) is configured to ignore duplicate triples, the number of triples in the store might not increase. Otherwise, you might observe an increase of the size of the graph each time you add the same triple using the following function:"
   ]
  },
  {
   "cell_type": "code",
   "execution_count": 18,
   "metadata": {},
   "outputs": [
    {
     "name": "stdout",
     "output_type": "stream",
     "text": [
      "17\n"
     ]
    }
   ],
   "source": [
    "print(conn.size())"
   ]
  },
  {
   "cell_type": "markdown",
   "metadata": {},
   "source": [
    "We can also insert triples using [SPARQL](https://www.w3.org/TR/sparql11-query/) and the [AG](https://allegrograph.com/) method `executeUpdate` as in the following code:"
   ]
  },
  {
   "cell_type": "code",
   "execution_count": 30,
   "metadata": {},
   "outputs": [],
   "source": [
    "query = conn.executeUpdate(query=\"\"\"\n",
    "    PREFIX iu: <http://www.iu.edu/kg/ontology/Example#>\n",
    "    INSERT DATA { iu:SuperConcept rdfs:label \"Super Concept\" . }\n",
    "\"\"\")"
   ]
  },
  {
   "cell_type": "markdown",
   "metadata": {},
   "source": [
    "We should observe an increase in the size of the graph, if this is not a redundant triple and the setting of [AG](https://allegrograph.com/) blocks assertions of duplicates."
   ]
  },
  {
   "cell_type": "code",
   "execution_count": 31,
   "metadata": {},
   "outputs": [
    {
     "name": "stdout",
     "output_type": "stream",
     "text": [
      "18\n"
     ]
    }
   ],
   "source": [
    "print(conn.size())"
   ]
  },
  {
   "cell_type": "markdown",
   "metadata": {},
   "source": [
    "After finishing our operations, we can close the connection."
   ]
  },
  {
   "cell_type": "code",
   "execution_count": null,
   "metadata": {},
   "outputs": [],
   "source": [
    "conn.close()"
   ]
  },
  {
   "cell_type": "markdown",
   "metadata": {},
   "source": [
    "(C) 2023 by [Damir Cavar](http://damir.cavar.com/)"
   ]
  }
 ],
 "metadata": {
  "kernelspec": {
   "display_name": "Python 3",
   "language": "python",
   "name": "python3"
  },
  "language_info": {
   "codemirror_mode": {
    "name": "ipython",
    "version": 3
   },
   "file_extension": ".py",
   "mimetype": "text/x-python",
   "name": "python",
   "nbconvert_exporter": "python",
   "pygments_lexer": "ipython3",
   "version": "3.11.5"
  },
  "orig_nbformat": 4
 },
 "nbformat": 4,
 "nbformat_minor": 2
}
