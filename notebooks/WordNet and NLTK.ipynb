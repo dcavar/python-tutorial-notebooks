{
 "cells": [
  {
   "cell_type": "markdown",
   "metadata": {},
   "source": [
    "# WordNet and NLTK"
   ]
  },
  {
   "cell_type": "markdown",
   "metadata": {},
   "source": [
    "**(C) 2016-2020 by [Damir Cavar](http://damir.cavar.me/) <<dcavar@iu.edu>>**"
   ]
  },
  {
   "cell_type": "markdown",
   "metadata": {},
   "source": [
    "**Version:** 1.1, November 2020"
   ]
  },
  {
   "cell_type": "markdown",
   "metadata": {},
   "source": [
    "**License:** [Creative Commons Attribution-ShareAlike 4.0 International License](https://creativecommons.org/licenses/by-sa/4.0/) ([CA BY-SA 4.0](https://creativecommons.org/licenses/by-sa/4.0/))"
   ]
  },
  {
   "cell_type": "markdown",
   "metadata": {},
   "source": [
    "This is a brief introduction to [WordNet](https://wordnet.princeton.edu/) in [NLTK](http://www.nltk.org/)."
   ]
  },
  {
   "cell_type": "markdown",
   "metadata": {},
   "source": [
    "You will find more details on [WordNet](https://wordnet.princeton.edu/) as such on [the WordNet website](https://wordnet.princeton.edu/)."
   ]
  },
  {
   "cell_type": "markdown",
   "metadata": {},
   "source": [
    "## Using WordNet"
   ]
  },
  {
   "cell_type": "markdown",
   "metadata": {},
   "source": [
    "Some content and ideas in the following introduction are taken from the [NLTK-howto on WordNet](http://www.nltk.org/howto/wordnet.html)."
   ]
  },
  {
   "cell_type": "markdown",
   "metadata": {},
   "source": [
    "Import the [WordNet](https://wordnet.princeton.edu/) corpus reader in [NLTK](http://www.nltk.org/) using this code:"
   ]
  },
  {
   "cell_type": "code",
   "execution_count": 1,
   "metadata": {
    "scrolled": true
   },
   "outputs": [],
   "source": [
    "from nltk.corpus import wordnet"
   ]
  },
  {
   "cell_type": "markdown",
   "metadata": {},
   "source": [
    "[WordNet](https://wordnet.princeton.edu/) is a lexical resource that organizes nouns, verbs, adjectives, and adverbs into some form of taxonomy. Lexical items are for example organized in groups of synonyms. In [WordNet](https://wordnet.princeton.edu/) these synonym groups are calls synsets. Every  each expressing a distinct concept. Synsets are interlinked by means of conceptual-semantic and lexical relations."
   ]
  },
  {
   "cell_type": "code",
   "execution_count": 2,
   "metadata": {
    "scrolled": true
   },
   "outputs": [
    {
     "data": {
      "text/plain": [
       "[Synset('can.n.01'),\n",
       " Synset('can.n.02'),\n",
       " Synset('can.n.03'),\n",
       " Synset('buttocks.n.01'),\n",
       " Synset('toilet.n.02'),\n",
       " Synset('toilet.n.01'),\n",
       " Synset('can.v.01'),\n",
       " Synset('displace.v.03')]"
      ]
     },
     "execution_count": 2,
     "metadata": {},
     "output_type": "execute_result"
    }
   ],
   "source": [
    "wordnet.synsets('can')"
   ]
  },
  {
   "cell_type": "markdown",
   "metadata": {},
   "source": [
    "The output for the synset contains all synonyms of the word *can* in a list. Each individual synset is a dot-delimited triple that specifies the word, the [part-of-speech](https://en.wikipedia.org/wiki/Part_of_speech) ([PoS](https://en.wikipedia.org/wiki/Part_of_speech)) of the specific words, and a running number from 1 to n, for every specific synset. The [PoS](https://en.wikipedia.org/wiki/Part_of_speech)-tag *n* stands for noun and the [PoS](https://en.wikipedia.org/wiki/Part_of_speech)-tag *v* for verb."
   ]
  },
  {
   "cell_type": "markdown",
   "metadata": {},
   "source": [
    "You can request the synset providing the full code:"
   ]
  },
  {
   "cell_type": "code",
   "execution_count": 3,
   "metadata": {
    "scrolled": true
   },
   "outputs": [
    {
     "data": {
      "text/plain": [
       "Synset('can.v.01')"
      ]
     },
     "execution_count": 3,
     "metadata": {},
     "output_type": "execute_result"
    }
   ],
   "source": [
    "wordnet.synset('can.v.01')"
   ]
  },
  {
   "cell_type": "markdown",
   "metadata": {},
   "source": [
    "You can output the definition of any such synset:"
   ]
  },
  {
   "cell_type": "code",
   "execution_count": 6,
   "metadata": {
    "scrolled": true
   },
   "outputs": [
    {
     "data": {
      "text/plain": [
       "'terminate the employment of; discharge from an office or position'"
      ]
     },
     "execution_count": 6,
     "metadata": {},
     "output_type": "execute_result"
    }
   ],
   "source": [
    "wordnet.synset('displace.v.03').definition()"
   ]
  },
  {
   "cell_type": "markdown",
   "metadata": {},
   "source": [
    "You can request all synsets with a specific [PoS](https://en.wikipedia.org/wiki/Part_of_speech) using the word and the [PoS](https://en.wikipedia.org/wiki/Part_of_speech)-tag in the *synset*-function:"
   ]
  },
  {
   "cell_type": "code",
   "execution_count": 5,
   "metadata": {
    "scrolled": true
   },
   "outputs": [
    {
     "data": {
      "text/plain": [
       "[Synset('can.v.01'), Synset('displace.v.03')]"
      ]
     },
     "execution_count": 5,
     "metadata": {},
     "output_type": "execute_result"
    }
   ],
   "source": [
    "wordnet.synsets('can', pos=wordnet.VERB)"
   ]
  },
  {
   "cell_type": "markdown",
   "metadata": {},
   "source": [
    "The possible PoS-tags are: ADJ, ADJ_SAT, ADV, NOUN, VERB."
   ]
  },
  {
   "cell_type": "markdown",
   "metadata": {},
   "source": [
    "I will use the word *[lemmas](https://en.wikipedia.org/wiki/Headword)* refering to *lemmata*.\n",
    "\n",
    "[WordNet](https://wordnet.princeton.edu/) contains a list of lemmas for each synset. You can print out the lemmas using the following function: "
   ]
  },
  {
   "cell_type": "code",
   "execution_count": 7,
   "metadata": {
    "scrolled": true
   },
   "outputs": [
    {
     "data": {
      "text/plain": [
       "[Lemma('can.v.01.can'), Lemma('can.v.01.tin'), Lemma('can.v.01.put_up')]"
      ]
     },
     "execution_count": 7,
     "metadata": {},
     "output_type": "execute_result"
    }
   ],
   "source": [
    "wordnet.synset('can.v.01').lemmas()"
   ]
  },
  {
   "cell_type": "markdown",
   "metadata": {},
   "source": [
    "You can map the lammas to a list of strings using the following list comprehension function:"
   ]
  },
  {
   "cell_type": "code",
   "execution_count": 8,
   "metadata": {
    "scrolled": true
   },
   "outputs": [
    {
     "data": {
      "text/plain": [
       "['can', 'tin', 'put_up']"
      ]
     },
     "execution_count": 8,
     "metadata": {},
     "output_type": "execute_result"
    }
   ],
   "source": [
    "[str(lemma.name()) for lemma in wordnet.synset('can.v.01').lemmas()]"
   ]
  },
  {
   "cell_type": "markdown",
   "metadata": {},
   "source": [
    "The [NLTK](http://www.nltk.org/) [WordNet](https://wordnet.princeton.edu/) reader provides access to a multi-lingual [WordNet](https://wordnet.princeton.edu/), that is the Open Multilingual WordNet. The multi-lingual data is accessible using [ISO-639 language codes](http://www.iso.org/iso/home/standards/language_codes.htm) (see the [ISO-639 Wikipedia page](https://en.wikipedia.org/wiki/ISO_639-3)):"
   ]
  },
  {
   "cell_type": "code",
   "execution_count": 9,
   "metadata": {
    "scrolled": true
   },
   "outputs": [
    {
     "data": {
      "text/plain": [
       "['eng',\n",
       " 'als',\n",
       " 'arb',\n",
       " 'bul',\n",
       " 'cat',\n",
       " 'cmn',\n",
       " 'dan',\n",
       " 'ell',\n",
       " 'eus',\n",
       " 'fas',\n",
       " 'fin',\n",
       " 'fra',\n",
       " 'glg',\n",
       " 'heb',\n",
       " 'hrv',\n",
       " 'ind',\n",
       " 'ita',\n",
       " 'jpn',\n",
       " 'nld',\n",
       " 'nno',\n",
       " 'nob',\n",
       " 'pol',\n",
       " 'por',\n",
       " 'qcn',\n",
       " 'slv',\n",
       " 'spa',\n",
       " 'swe',\n",
       " 'tha',\n",
       " 'zsm']"
      ]
     },
     "execution_count": 9,
     "metadata": {},
     "output_type": "execute_result"
    }
   ],
   "source": [
    "wordnet.langs()"
   ]
  },
  {
   "cell_type": "markdown",
   "metadata": {},
   "source": [
    "To access the synsets of the Croatian (hrv) word *kuća*, you can use the language code specification in the *synset* function:"
   ]
  },
  {
   "cell_type": "code",
   "execution_count": 1,
   "metadata": {
    "scrolled": true
   },
   "outputs": [
    {
     "ename": "NameError",
     "evalue": "name 'wordnet' is not defined",
     "output_type": "error",
     "traceback": [
      "\u001b[1;31m---------------------------------------------------------------------------\u001b[0m",
      "\u001b[1;31mNameError\u001b[0m                                 Traceback (most recent call last)",
      "\u001b[1;32m<ipython-input-1-a5d534165ba9>\u001b[0m in \u001b[0;36m<module>\u001b[1;34m\u001b[0m\n\u001b[1;32m----> 1\u001b[1;33m \u001b[0mwordnet\u001b[0m\u001b[1;33m.\u001b[0m\u001b[0msynsets\u001b[0m\u001b[1;33m(\u001b[0m\u001b[1;34m'kot'\u001b[0m\u001b[1;33m,\u001b[0m \u001b[0mlang\u001b[0m\u001b[1;33m=\u001b[0m\u001b[1;34m'pol'\u001b[0m\u001b[1;33m)\u001b[0m\u001b[1;33m\u001b[0m\u001b[1;33m\u001b[0m\u001b[0m\n\u001b[0m",
      "\u001b[1;31mNameError\u001b[0m: name 'wordnet' is not defined"
     ]
    }
   ],
   "source": [
    "wordnet.synsets('kot', lang='pol')"
   ]
  },
  {
   "cell_type": "markdown",
   "metadata": {},
   "source": [
    "We can even request the list of lemmas in a specific language for a given English word, for example the synset 01 for the noun *house* would have the following lemmas in Croatian (hrv):"
   ]
  },
  {
   "cell_type": "code",
   "execution_count": 14,
   "metadata": {
    "scrolled": true
   },
   "outputs": [
    {
     "data": {
      "text/plain": [
       "['ハウス',\n",
       " '人家',\n",
       " '人屋',\n",
       " '令堂',\n",
       " '住みか',\n",
       " '住み処',\n",
       " '住宅',\n",
       " '住家',\n",
       " '住み家',\n",
       " '住居',\n",
       " '住屋',\n",
       " 'お宅',\n",
       " '宅',\n",
       " '室家',\n",
       " 'お家',\n",
       " '家',\n",
       " '家宅',\n",
       " '家屋',\n",
       " '宿',\n",
       " '居',\n",
       " '居宅',\n",
       " '居所',\n",
       " '居館',\n",
       " '屋',\n",
       " '屋宇',\n",
       " '建屋',\n",
       " '戸',\n",
       " '棲家',\n",
       " '棲み家',\n",
       " '館']"
      ]
     },
     "execution_count": 14,
     "metadata": {},
     "output_type": "execute_result"
    }
   ],
   "source": [
    "wordnet.synset('house.n.01').lemma_names('jpn')"
   ]
  },
  {
   "cell_type": "markdown",
   "metadata": {},
   "source": [
    "The same word would have the following lemmas in Japanese:"
   ]
  },
  {
   "cell_type": "code",
   "execution_count": 18,
   "metadata": {
    "scrolled": true
   },
   "outputs": [
    {
     "data": {
      "text/plain": [
       "['ハウス',\n",
       " '人家',\n",
       " '人屋',\n",
       " '令堂',\n",
       " '住みか',\n",
       " '住み処',\n",
       " '住宅',\n",
       " '住家',\n",
       " '住み家',\n",
       " '住居',\n",
       " '住屋',\n",
       " 'お宅',\n",
       " '宅',\n",
       " '室家',\n",
       " 'お家',\n",
       " '家',\n",
       " '家宅',\n",
       " '家屋',\n",
       " '宿',\n",
       " '居',\n",
       " '居宅',\n",
       " '居所',\n",
       " '居館',\n",
       " '屋',\n",
       " '屋宇',\n",
       " '建屋',\n",
       " '戸',\n",
       " '棲家',\n",
       " '棲み家',\n",
       " '館']"
      ]
     },
     "execution_count": 18,
     "metadata": {},
     "output_type": "execute_result"
    }
   ],
   "source": [
    "wordnet.synset('house.n.01').lemma_names('jpn')"
   ]
  },
  {
   "cell_type": "markdown",
   "metadata": {},
   "source": [
    "We can save the synset request in a variable called *house*:"
   ]
  },
  {
   "cell_type": "code",
   "execution_count": 15,
   "metadata": {
    "scrolled": true
   },
   "outputs": [],
   "source": [
    "house = wordnet.synset('house.n.02')"
   ]
  },
  {
   "cell_type": "markdown",
   "metadata": {},
   "source": [
    "We can now request the [hypernyms](https://en.wikipedia.org/wiki/Hyponymy_and_hypernymy) for the word *house* using the variable:"
   ]
  },
  {
   "cell_type": "code",
   "execution_count": 16,
   "metadata": {
    "scrolled": true
   },
   "outputs": [
    {
     "data": {
      "text/plain": [
       "[Synset('business.n.01')]"
      ]
     },
     "execution_count": 16,
     "metadata": {},
     "output_type": "execute_result"
    }
   ],
   "source": [
    "house.hypernyms()"
   ]
  },
  {
   "cell_type": "markdown",
   "metadata": {},
   "source": [
    "Try this for some other words like *trout* and *poodle*:"
   ]
  },
  {
   "cell_type": "code",
   "execution_count": 17,
   "metadata": {
    "scrolled": true
   },
   "outputs": [
    {
     "data": {
      "text/plain": [
       "[Synset('fish.n.02')]"
      ]
     },
     "execution_count": 17,
     "metadata": {},
     "output_type": "execute_result"
    }
   ],
   "source": [
    "wordnet.synset('trout.n.01').hypernyms()"
   ]
  },
  {
   "cell_type": "code",
   "execution_count": 18,
   "metadata": {
    "scrolled": true
   },
   "outputs": [
    {
     "data": {
      "text/plain": [
       "[Synset('dog.n.01')]"
      ]
     },
     "execution_count": 18,
     "metadata": {},
     "output_type": "execute_result"
    }
   ],
   "source": [
    "wordnet.synset('poodle.n.01').hypernyms()"
   ]
  },
  {
   "cell_type": "markdown",
   "metadata": {},
   "source": [
    "We can also request the list of [hyponyms](https://en.wikipedia.org/wiki/Hyponymy_and_hypernymy) for a given word. Here we request the list of [hyponyms](https://en.wikipedia.org/wiki/Hyponymy_and_hypernymy) for *house*:"
   ]
  },
  {
   "cell_type": "code",
   "execution_count": 19,
   "metadata": {
    "scrolled": true
   },
   "outputs": [
    {
     "data": {
      "text/plain": [
       "[Synset('basenji.n.01'),\n",
       " Synset('corgi.n.01'),\n",
       " Synset('cur.n.01'),\n",
       " Synset('dalmatian.n.02'),\n",
       " Synset('great_pyrenees.n.01'),\n",
       " Synset('griffon.n.02'),\n",
       " Synset('hunting_dog.n.01'),\n",
       " Synset('lapdog.n.01'),\n",
       " Synset('leonberg.n.01'),\n",
       " Synset('mexican_hairless.n.01'),\n",
       " Synset('newfoundland.n.01'),\n",
       " Synset('pooch.n.01'),\n",
       " Synset('poodle.n.01'),\n",
       " Synset('pug.n.01'),\n",
       " Synset('puppy.n.01'),\n",
       " Synset('spitz.n.01'),\n",
       " Synset('toy_dog.n.01'),\n",
       " Synset('working_dog.n.01')]"
      ]
     },
     "execution_count": 19,
     "metadata": {},
     "output_type": "execute_result"
    }
   ],
   "source": [
    "wordnet.synset('dog.n.01').hyponyms()"
   ]
  },
  {
   "cell_type": "markdown",
   "metadata": {},
   "source": [
    "In the same way we can now request the [holonyms](https://en.wikipedia.org/wiki/Holonymy) for certain words. For example, imagine we are interested in the [holonyms](https://en.wikipedia.org/wiki/Holonymy) for *dog*:"
   ]
  },
  {
   "cell_type": "code",
   "execution_count": 23,
   "metadata": {
    "scrolled": true
   },
   "outputs": [
    {
     "data": {
      "text/plain": [
       "[Synset('aves.n.01'), Synset('flock.n.02')]"
      ]
     },
     "execution_count": 23,
     "metadata": {},
     "output_type": "execute_result"
    }
   ],
   "source": [
    "dog = wordnet.synset('bird.n.01')\n",
    "dog.member_holonyms()"
   ]
  },
  {
   "cell_type": "markdown",
   "metadata": {},
   "source": [
    "We can also request the root [hypernym](https://en.wikipedia.org/wiki/Hyponymy_and_hypernymy) for some word:"
   ]
  },
  {
   "cell_type": "code",
   "execution_count": 25,
   "metadata": {
    "scrolled": true
   },
   "outputs": [
    {
     "data": {
      "text/plain": [
       "[Synset('entity.n.01')]"
      ]
     },
     "execution_count": 25,
     "metadata": {},
     "output_type": "execute_result"
    }
   ],
   "source": [
    "wordnet.synset('finger.n.01').root_hypernyms()"
   ]
  },
  {
   "cell_type": "markdown",
   "metadata": {},
   "source": [
    "We can request the lowest common [hypernym](https://en.wikipedia.org/wiki/Hyponymy_and_hypernymy) for two words, here for example for *leg* and *arm*:"
   ]
  },
  {
   "cell_type": "code",
   "execution_count": 26,
   "metadata": {
    "scrolled": true
   },
   "outputs": [
    {
     "data": {
      "text/plain": [
       "[Synset('limb.n.01')]"
      ]
     },
     "execution_count": 26,
     "metadata": {},
     "output_type": "execute_result"
    }
   ],
   "source": [
    "wordnet.synset('leg.n.01').lowest_common_hypernyms(wordnet.synset('arm.n.01'))"
   ]
  },
  {
   "cell_type": "markdown",
   "metadata": {},
   "source": [
    "In addition to [hypernym](https://en.wikipedia.org/wiki/Hyponymy_and_hypernymy), [hyponyms](https://en.wikipedia.org/wiki/Hyponymy_and_hypernymy), [holonyms](https://en.wikipedia.org/wiki/Holonymy), [WordNet](https://wordnet.princeton.edu/) also provides the means to request [antonyms](https://en.wikipedia.org/wiki/Opposite_(semantics)), derivationally related forms and [pertainyms](http://www.isi.edu/~ulf/amr/lib/popup/pertainym.html). Consider for example the word *good*. You can request the antonyms for a lemma, that is we fetch all lemmas of the synset *good* and request the antonyms for the first lemma:"
   ]
  },
  {
   "cell_type": "code",
   "execution_count": 28,
   "metadata": {
    "scrolled": true
   },
   "outputs": [
    {
     "data": {
      "text/plain": [
       "[Lemma('black.a.01.black')]"
      ]
     },
     "execution_count": 28,
     "metadata": {},
     "output_type": "execute_result"
    }
   ],
   "source": [
    "wordnet.synset('white.a.01').lemmas()[0].antonyms()"
   ]
  },
  {
   "cell_type": "markdown",
   "metadata": {},
   "source": [
    "We can now fetch the lemma names for good for Slovenian for example:"
   ]
  },
  {
   "cell_type": "code",
   "execution_count": 29,
   "metadata": {
    "scrolled": true
   },
   "outputs": [
    {
     "data": {
      "text/plain": [
       "['mraz']"
      ]
     },
     "execution_count": 29,
     "metadata": {},
     "output_type": "execute_result"
    }
   ],
   "source": [
    "wordnet.synset('cold.n.01').lemma_names('slv')"
   ]
  },
  {
   "cell_type": "markdown",
   "metadata": {},
   "source": [
    "Once again, the lemma names we can now use to request their Spanish lemma names:"
   ]
  },
  {
   "cell_type": "code",
   "execution_count": 30,
   "metadata": {
    "scrolled": true
   },
   "outputs": [
    {
     "name": "stdout",
     "output_type": "stream",
     "text": [
      "['can', 'perro']\n"
     ]
    }
   ],
   "source": [
    "slv_good = wordnet.synset('dog.n.01').lemma_names('spa')\n",
    "print(slv_good)"
   ]
  },
  {
   "cell_type": "markdown",
   "metadata": {},
   "source": [
    "We can now request the derivationally related forms for a lemma. In this example we request the derivationally related forms for the adjective ([PoS](https://en.wikipedia.org/wiki/Part_of_speech): *a*) *vocal*, which is the verb ([PoS](https://en.wikipedia.org/wiki/Part_of_speech): *v*) *vocalize*:"
   ]
  },
  {
   "cell_type": "code",
   "execution_count": 31,
   "metadata": {
    "scrolled": true
   },
   "outputs": [
    {
     "data": {
      "text/plain": [
       "[Lemma('sing.v.01.sing'), Lemma('sing.v.02.sing'), Lemma('sing.v.03.sing')]"
      ]
     },
     "execution_count": 31,
     "metadata": {},
     "output_type": "execute_result"
    }
   ],
   "source": [
    "wordnet.lemma('singer.n.01.singer').derivationally_related_forms()"
   ]
  },
  {
   "cell_type": "markdown",
   "metadata": {},
   "source": [
    "We can also request the [pertainyms](http://www.isi.edu/~ulf/amr/lib/popup/pertainym.html) for specific words:"
   ]
  },
  {
   "cell_type": "code",
   "execution_count": 32,
   "metadata": {
    "scrolled": true
   },
   "outputs": [
    {
     "data": {
      "text/plain": [
       "[Lemma('voice.n.02.voice')]"
      ]
     },
     "execution_count": 32,
     "metadata": {},
     "output_type": "execute_result"
    }
   ],
   "source": [
    "wordnet.lemma('vocal.a.01.vocal').pertainyms()"
   ]
  },
  {
   "cell_type": "markdown",
   "metadata": {},
   "source": [
    "For verbs we can for example request the verb frames from [WordNet](https://wordnet.princeton.edu/). In the following example we request the frames for all the different lemmas of the verb *sleep*:"
   ]
  },
  {
   "cell_type": "code",
   "execution_count": 36,
   "metadata": {},
   "outputs": [
    {
     "data": {
      "text/plain": [
       "'communicate or express nonverbally'"
      ]
     },
     "execution_count": 36,
     "metadata": {},
     "output_type": "execute_result"
    }
   ],
   "source": [
    "wordnet.synsets(\"say\")\n",
    "wordnet.synset('say.v.07').definition()"
   ]
  },
  {
   "cell_type": "code",
   "execution_count": 33,
   "metadata": {
    "scrolled": true
   },
   "outputs": [
    {
     "name": "stdout",
     "output_type": "stream",
     "text": [
      "Lemma('state.v.01.state') [8, 11, 26]\n",
      "Somebody state something | Something state something | Somebody state that CLAUSE\n",
      "Lemma('state.v.01.say') [8, 11, 26]\n",
      "Somebody say something | Something say something | Somebody say that CLAUSE\n",
      "Lemma('state.v.01.tell') [8, 11, 26]\n",
      "Somebody tell something | Something tell something | Somebody tell that CLAUSE\n"
     ]
    }
   ],
   "source": [
    "wordnet.synset('say.v.01').frame_ids()\n",
    "for lemma in wordnet.synset('say.v.01').lemmas():\n",
    "    print(lemma, lemma.frame_ids())\n",
    "    print(\" | \".join(lemma.frame_strings()))"
   ]
  },
  {
   "cell_type": "markdown",
   "metadata": {},
   "source": [
    "In the following example we request the verb-frames for the ditransitive verb *to give*:"
   ]
  },
  {
   "cell_type": "code",
   "execution_count": 37,
   "metadata": {
    "scrolled": true
   },
   "outputs": [
    {
     "name": "stdout",
     "output_type": "stream",
     "text": [
      "Lemma('give.v.01.give') [14]\n",
      "Somebody give somebody something\n"
     ]
    }
   ],
   "source": [
    "wordnet.synset('give.v.01').frame_ids()\n",
    "for lemma in wordnet.synset('give.v.01').lemmas():\n",
    "    print(lemma, lemma.frame_ids())\n",
    "    print(\" | \".join(lemma.frame_strings()))"
   ]
  },
  {
   "cell_type": "markdown",
   "metadata": {},
   "source": [
    "## Morphological Analysis and Lemmatization"
   ]
  },
  {
   "cell_type": "markdown",
   "metadata": {},
   "source": [
    "For many tasks in NLP one needs a lemmatizer or morphological analyzer to map inflected word forms to lemmas. Morphy in the WordNet module of the NLTK can do that. To lemmatize a word, provide the word and the PoS to the morphy function in wordnet:"
   ]
  },
  {
   "cell_type": "code",
   "execution_count": 38,
   "metadata": {
    "scrolled": true
   },
   "outputs": [
    {
     "data": {
      "text/plain": [
       "'call'"
      ]
     },
     "execution_count": 38,
     "metadata": {},
     "output_type": "execute_result"
    }
   ],
   "source": [
    "wordnet.morphy('calls', wordnet.NOUN)"
   ]
  },
  {
   "cell_type": "markdown",
   "metadata": {},
   "source": [
    "Morphy can cope with surface forms that are the result of various rules of English word formations, as for example *e*-insertion or consonant reduplication:"
   ]
  },
  {
   "cell_type": "code",
   "execution_count": 40,
   "metadata": {
    "scrolled": true
   },
   "outputs": [
    {
     "data": {
      "text/plain": [
       "'stop'"
      ]
     },
     "execution_count": 40,
     "metadata": {},
     "output_type": "execute_result"
    }
   ],
   "source": [
    "wordnet.morphy('stopped', wordnet.VERB)"
   ]
  },
  {
   "cell_type": "markdown",
   "metadata": {},
   "source": [
    "## Similarity of Words"
   ]
  },
  {
   "cell_type": "markdown",
   "metadata": {},
   "source": [
    "..."
   ]
  },
  {
   "cell_type": "markdown",
   "metadata": {},
   "source": [
    "# References"
   ]
  },
  {
   "cell_type": "markdown",
   "metadata": {},
   "source": [
    "Fellbaum, Christiane (2005). WordNet and wordnets. In: Brown, Keith et al. (eds.), *Encyclopedia of Language and Linguistics*, Second Edition, Oxford: Elsevier, 665-670."
   ]
  },
  {
   "cell_type": "markdown",
   "metadata": {},
   "source": [
    "(C) 2016-2020 by [Damir Cavar](http://damir.cavar.me/) <<dcavar@iu.edu>>"
   ]
  }
 ],
 "metadata": {
  "anaconda-cloud": {
   "attach-environment": true,
   "summary": "A tutorial on WordNet with NLTK."
  },
  "ipub": {
   "titlepage": {
    "author": "Damir Cavar",
    "email": "damir@cavar.me",
    "institution": [
     "Indiana University",
     "NLP-Lab"
    ],
    "title": "WordNet and NLTK"
   }
  },
  "kernelspec": {
   "display_name": "Python 3",
   "language": "python",
   "name": "python3"
  },
  "language_info": {
   "codemirror_mode": {
    "name": "ipython",
    "version": 3
   },
   "file_extension": ".py",
   "mimetype": "text/x-python",
   "name": "python",
   "nbconvert_exporter": "python",
   "pygments_lexer": "ipython3",
   "version": "3.8.5"
  },
  "latex_metadata": {
   "affiliation": "Indiana University, Bloomington, IN",
   "author": "Damir Cavar",
   "title": "Python Tutorial: WordNet and NLTK"
  },
  "toc": {
   "base_numbering": 1,
   "nav_menu": {},
   "number_sections": false,
   "sideBar": false,
   "skip_h1_title": false,
   "title_cell": "Table of Contents",
   "title_sidebar": "Contents",
   "toc_cell": false,
   "toc_position": {},
   "toc_section_display": false,
   "toc_window_display": false
  },
  "widgets": {
   "state": {},
   "version": "1.1.2"
  }
 },
 "nbformat": 4,
 "nbformat_minor": 4
}
