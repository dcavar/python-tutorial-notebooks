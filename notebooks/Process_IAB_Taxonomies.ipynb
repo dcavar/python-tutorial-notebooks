{
 "cells": [
  {
   "cell_type": "markdown",
   "metadata": {},
   "source": [
    "# Process IAB Taxonomies\n",
    "\n",
    "\n",
    "**(C) 2024 by [Damir Cavar](http://damir.cavar.me/)**\n",
    "\n",
    "\n",
    "**Download:** This and various other Jupyter notebooks are available from my [GitHub repo](https://github.com/dcavar/python-tutorial-for-ipython).\n",
    "\n",
    "\n",
    "Resources for the IAB Taxonomies:\n",
    "\n",
    "- [GitHub repo](https://github.com/InteractiveAdvertisingBureau/Taxonomies/)\n",
    "- [IAB Tech Lab](https://iabtechlab.com/)\n"
   ]
  },
  {
   "cell_type": "code",
   "execution_count": 1,
   "metadata": {},
   "outputs": [],
   "source": [
    "import os\n",
    "import pandas as pd"
   ]
  },
  {
   "cell_type": "markdown",
   "metadata": {},
   "source": [
    "The Content Taxonomy, the Audience Taxonomy, and the Ad Product Taxonomy are located in the `data` folder in the `IAB` subfolder. The taxonomy files are TAB-seperated as the file-ending `.tsv` indicates. The following code creates a platform independent path-string for the individual files:"
   ]
  },
  {
   "cell_type": "code",
   "execution_count": 3,
   "metadata": {},
   "outputs": [],
   "source": [
    "content_taxonomy_file = os.path.join('data', 'IAB', 'Content Taxonomy 3.0.tsv')\n",
    "audience_taxonomy_file = os.path.join('data', 'IAB', 'Audience Taxonomy 1.1.tsv')\n",
    "ad_product_taxonomy_file = os.path.join('data', 'IAB', 'Ad Product Taxonomy 2.0.tsv')"
   ]
  },
  {
   "cell_type": "markdown",
   "metadata": {},
   "source": [
    "We can load the Content Taxonomy using `pandas` and the `read_csv` function with a TAB seperator parameter."
   ]
  },
  {
   "cell_type": "code",
   "execution_count": 6,
   "metadata": {},
   "outputs": [],
   "source": [
    "content_taxonomy = pd.read_csv(content_taxonomy_file, sep='\\t')"
   ]
  },
  {
   "cell_type": "code",
   "execution_count": 9,
   "metadata": {},
   "outputs": [
    {
     "name": "stdout",
     "output_type": "stream",
     "text": [
      "    Relational ID System Unnamed: 1                 Unnamed: 2  \\\n",
      "0              Unique ID     Parent                       Name   \n",
      "1                    150        150                Attractions   \n",
      "2                    151        150  Amusement and Theme Parks   \n",
      "3                    179        150         Bars & Restaurants   \n",
      "4                    181        150         Casinos & Gambling   \n",
      "..                   ...        ...                        ...   \n",
      "699                  687        685   Role-Playing Video Games   \n",
      "700                  688        685     Simulation Video Games   \n",
      "701                  689        685         Sports Video Games   \n",
      "702                  690        685       Strategy Video Games   \n",
      "703                  389        NaN          War and Conflicts   \n",
      "\n",
      "    Content Taxonomy v3.0 Tiered Categories                 Unnamed: 4  \\\n",
      "0                                    Tier 1                     Tier 2   \n",
      "1                               Attractions                        NaN   \n",
      "2                               Attractions  Amusement and Theme Parks   \n",
      "3                               Attractions         Bars & Restaurants   \n",
      "4                               Attractions         Casinos & Gambling   \n",
      "..                                      ...                        ...   \n",
      "699                            Video Gaming          Video Game Genres   \n",
      "700                            Video Gaming          Video Game Genres   \n",
      "701                            Video Gaming          Video Game Genres   \n",
      "702                            Video Gaming          Video Game Genres   \n",
      "703                       War and Conflicts                        NaN   \n",
      "\n",
      "                   Unnamed: 5 Unnamed: 6 Extension  \n",
      "0                      Tier 3     Tier 4       NaN  \n",
      "1                         NaN        NaN       NaN  \n",
      "2                         NaN        NaN       NaN  \n",
      "3                         NaN        NaN       NaN  \n",
      "4                         NaN        NaN       NaN  \n",
      "..                        ...        ...       ...  \n",
      "699  Role-Playing Video Games        NaN       NaN  \n",
      "700    Simulation Video Games        NaN       NaN  \n",
      "701        Sports Video Games        NaN       NaN  \n",
      "702      Strategy Video Games        NaN       NaN  \n",
      "703                       NaN        NaN       NaN  \n",
      "\n",
      "[704 rows x 8 columns]\n"
     ]
    }
   ],
   "source": [
    "print(content_taxonomy)"
   ]
  }
 ],
 "metadata": {
  "kernelspec": {
   "display_name": "Python 3",
   "language": "python",
   "name": "python3"
  },
  "language_info": {
   "codemirror_mode": {
    "name": "ipython",
    "version": 3
   },
   "file_extension": ".py",
   "mimetype": "text/x-python",
   "name": "python",
   "nbconvert_exporter": "python",
   "pygments_lexer": "ipython3",
   "version": "3.12.7"
  }
 },
 "nbformat": 4,
 "nbformat_minor": 2
}
