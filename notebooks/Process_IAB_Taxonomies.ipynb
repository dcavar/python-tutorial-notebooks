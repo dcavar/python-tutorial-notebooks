{
 "cells": [
  {
   "cell_type": "markdown",
   "metadata": {},
   "source": [
    "# Process IAB Taxonomies\n",
    "\n",
    "\n",
    "**(C) 2024 by [Damir Cavar](http://damir.cavar.me/)**\n",
    "\n",
    "\n",
    "**Download:** This and various other Jupyter notebooks are available from my [GitHub repo](https://github.com/dcavar/python-tutorial-for-ipython).\n",
    "\n",
    "\n",
    "Resources for the IAB Taxonomies:\n",
    "\n",
    "- [GitHub repo](https://github.com/InteractiveAdvertisingBureau/Taxonomies/)\n",
    "- [IAB Tech Lab](https://iabtechlab.com/)\n"
   ]
  },
  {
   "cell_type": "code",
   "execution_count": 10,
   "metadata": {},
   "outputs": [],
   "source": [
    "import os\n",
    "import pandas as pd"
   ]
  },
  {
   "cell_type": "markdown",
   "metadata": {},
   "source": [
    "The Content Taxonomy, the Audience Taxonomy, and the Ad Product Taxonomy are located in the `data` folder in the `IAB` subfolder. The taxonomy files are TAB-seperated as the file-ending `.tsv` indicates. The following code creates a platform independent path-string for the individual files:"
   ]
  },
  {
   "cell_type": "code",
   "execution_count": 11,
   "metadata": {},
   "outputs": [],
   "source": [
    "content_taxonomy_file = os.path.join('data', 'IAB', 'Content Taxonomy 3.0.tsv')\n",
    "audience_taxonomy_file = os.path.join('data', 'IAB', 'Audience Taxonomy 1.1.tsv')\n",
    "ad_product_taxonomy_file = os.path.join('data', 'IAB', 'Ad Product Taxonomy 2.0.tsv')"
   ]
  },
  {
   "cell_type": "markdown",
   "metadata": {},
   "source": [
    "We can load the Content Taxonomy using `pandas` and the `read_csv` function with a TAB seperator parameter."
   ]
  },
  {
   "cell_type": "code",
   "execution_count": 12,
   "metadata": {},
   "outputs": [],
   "source": [
    "content_taxonomy = pd.read_csv(content_taxonomy_file, sep='\\t', header=0).fillna(\"\")"
   ]
  },
  {
   "cell_type": "code",
   "execution_count": 13,
   "metadata": {},
   "outputs": [
    {
     "name": "stdout",
     "output_type": "stream",
     "text": [
      "    Unique ID Parent                              Name             Tier 1  \\\n",
      "0         150    150                       Attractions        Attractions   \n",
      "1         151    150         Amusement and Theme Parks        Attractions   \n",
      "2         179    150                Bars & Restaurants        Attractions   \n",
      "3         181    150                Casinos & Gambling        Attractions   \n",
      "4         153    150  Historic Site and Landmark Tours        Attractions   \n",
      "..        ...    ...                               ...                ...   \n",
      "698       687    685          Role-Playing Video Games       Video Gaming   \n",
      "699       688    685            Simulation Video Games       Video Gaming   \n",
      "700       689    685                Sports Video Games       Video Gaming   \n",
      "701       690    685              Strategy Video Games       Video Gaming   \n",
      "702       389                        War and Conflicts  War and Conflicts   \n",
      "\n",
      "                               Tier 2                    Tier 3 Tier 4  \\\n",
      "0                                                                        \n",
      "1           Amusement and Theme Parks                                    \n",
      "2                  Bars & Restaurants                                    \n",
      "3                  Casinos & Gambling                                    \n",
      "4    Historic Site and Landmark Tours                                    \n",
      "..                                ...                       ...    ...   \n",
      "698                 Video Game Genres  Role-Playing Video Games          \n",
      "699                 Video Game Genres    Simulation Video Games          \n",
      "700                 Video Game Genres        Sports Video Games          \n",
      "701                 Video Game Genres      Strategy Video Games          \n",
      "702                                                                      \n",
      "\n",
      "    Extension  \n",
      "0              \n",
      "1              \n",
      "2              \n",
      "3              \n",
      "4              \n",
      "..        ...  \n",
      "698            \n",
      "699            \n",
      "700            \n",
      "701            \n",
      "702            \n",
      "\n",
      "[703 rows x 8 columns]\n"
     ]
    }
   ],
   "source": [
    "print(content_taxonomy)"
   ]
  }
 ],
 "metadata": {
  "kernelspec": {
   "display_name": "Python 3",
   "language": "python",
   "name": "python3"
  },
  "language_info": {
   "codemirror_mode": {
    "name": "ipython",
    "version": 3
   },
   "file_extension": ".py",
   "mimetype": "text/x-python",
   "name": "python",
   "nbconvert_exporter": "python",
   "pygments_lexer": "ipython3",
   "version": "3.12.7"
  }
 },
 "nbformat": 4,
 "nbformat_minor": 2
}
