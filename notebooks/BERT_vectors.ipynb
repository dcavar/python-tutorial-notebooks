{
 "cells": [
  {
   "cell_type": "markdown",
   "metadata": {},
   "source": [
    "# BERT and Related Models - Embeddings\n",
    "\n",
    "(C) 2024 by [Damir Cavar](http://damir.cavar.me/)\n",
    "\n",
    "This code pulls embeddings for words or text from BERT.\n",
    "\n",
    "Prerequisites:\n",
    "You will have to install the `transformers` Python module."
   ]
  },
  {
   "cell_type": "code",
   "execution_count": null,
   "metadata": {},
   "outputs": [],
   "source": [
    "!pip install -U transformers"
   ]
  },
  {
   "cell_type": "markdown",
   "metadata": {},
   "source": [
    "We will need to import `pytorch` and `transformers`."
   ]
  },
  {
   "cell_type": "code",
   "execution_count": null,
   "metadata": {},
   "outputs": [],
   "source": [
    "import random\n",
    "import torch\n",
    "from transformers import BertTokenizer, BertModel\n",
    "from numpy import dot"
   ]
  },
  {
   "cell_type": "markdown",
   "metadata": {},
   "source": [
    "We'll seed the random value and check whether we can use CUDA and GPUs for computations."
   ]
  },
  {
   "cell_type": "code",
   "execution_count": 2,
   "metadata": {},
   "outputs": [],
   "source": [
    "random_seed = 42\n",
    "random.seed(random_seed)\n",
    "torch.manual_seed(random_seed)\n",
    "if torch.cuda.is_available():\n",
    "    torch.cuda.manual_seed_all(random_seed)"
   ]
  },
  {
   "cell_type": "markdown",
   "metadata": {},
   "source": [
    "The following function returns the embedding of a text, which could be just one word."
   ]
  },
  {
   "cell_type": "code",
   "execution_count": 3,
   "metadata": {},
   "outputs": [],
   "source": [
    "def get_embedding(text: str, tokenizer, model) -> torch.FloatTensor:\n",
    "\texample_encoding = tokenizer.batch_encode_plus(\n",
    "\t\t[ text ],\n",
    "\t\tpadding            = True,\n",
    "\t\ttruncation         = True,\n",
    "\t\treturn_tensors     = 'pt',\n",
    "\t\tadd_special_tokens = True\n",
    "\t)\n",
    "\texample_input_ids = example_encoding['input_ids']\n",
    "\texample_attention_mask = example_encoding['attention_mask']\n",
    "\twith torch.no_grad():\n",
    "\t\texample_outputs = model(example_input_ids, attention_mask=example_attention_mask)\n",
    "\t\texample_embedding = example_outputs.last_hidden_state.mean(dim=1) # Average pooling\n",
    "\treturn example_embedding[0].tolist()"
   ]
  },
  {
   "cell_type": "markdown",
   "metadata": {},
   "source": [
    "In the following code segment we intialize the BERT tokenizer and load the model:"
   ]
  },
  {
   "cell_type": "code",
   "execution_count": null,
   "metadata": {},
   "outputs": [],
   "source": [
    "tokenizer = BertTokenizer.from_pretrained('bert-base-uncased')\n",
    "model     = BertModel.from_pretrained('bert-base-uncased')\n",
    "vector_length = len(get_embedding(\"test\", tokenizer, model))"
   ]
  },
  {
   "cell_type": "markdown",
   "metadata": {},
   "source": [
    "This is the word list that we want to use to pull embeddings for:"
   ]
  },
  {
   "cell_type": "code",
   "execution_count": 5,
   "metadata": {},
   "outputs": [],
   "source": [
    "word_list = list(set(\"\"\"\n",
    "apple banana cherry date elderberry fig grapefruit honeydew\n",
    "car airplane train bus bicycle motorcycle boat ship\n",
    "dog cat rabbit hamster parrot goldfish\n",
    "\"\"\".split()))"
   ]
  },
  {
   "cell_type": "markdown",
   "metadata": {},
   "source": [
    "Pull embeddings for each word:"
   ]
  },
  {
   "cell_type": "code",
   "execution_count": null,
   "metadata": {},
   "outputs": [],
   "source": [
    "for word in word_list:\n",
    "    vector = get_embedding(word, tokenizer, model)\n",
    "    print(word, vector)"
   ]
  },
  {
   "cell_type": "markdown",
   "metadata": {},
   "source": [
    "(C) 2024 by [Damir Cavar](http://damir.cavar.com/)"
   ]
  }
 ],
 "metadata": {
  "kernelspec": {
   "display_name": "Python 3",
   "language": "python",
   "name": "python3"
  },
  "language_info": {
   "codemirror_mode": {
    "name": "ipython",
    "version": 3
   },
   "file_extension": ".py",
   "mimetype": "text/x-python",
   "name": "python",
   "nbconvert_exporter": "python",
   "pygments_lexer": "ipython3",
   "version": "3.12.3"
  }
 },
 "nbformat": 4,
 "nbformat_minor": 2
}
