{
 "cells": [
  {
   "cell_type": "markdown",
   "metadata": {},
   "source": [
    "# Topic Modeling with MALLET"
   ]
  },
  {
   "cell_type": "markdown",
   "metadata": {},
   "source": [
    "**(C) 2016-2024 by [Damir Cavar](http://cavar.me/damir/) <<dcavar@iu.edu>>**"
   ]
  },
  {
   "cell_type": "markdown",
   "metadata": {},
   "source": [
    "**Version:** 1.1, January 2024"
   ]
  },
  {
   "cell_type": "markdown",
   "metadata": {},
   "source": [
    "**License:** [Creative Commons Attribution-ShareAlike 4.0 International License](https://creativecommons.org/licenses/by-sa/4.0/) ([CA BY-SA 4.0](https://creativecommons.org/licenses/by-sa/4.0/))"
   ]
  },
  {
   "cell_type": "markdown",
   "metadata": {},
   "source": [
    "This is a basic tutorial on Topic Modeling using MALLET. There are various tutorials available online. I make use of the material therein in this notebook, in particular:\n",
    "\n",
    "*  Shawn Graham, Scott Weingart, and Ian Milligan (2012) [Getting Started with Topic Modeling and MALLET](http://programminghistorian.org/lessons/topic-modeling-and-mallet)."
   ]
  },
  {
   "cell_type": "markdown",
   "metadata": {},
   "source": [
    "## Introduction"
   ]
  },
  {
   "cell_type": "markdown",
   "metadata": {},
   "source": [
    "Topic modeling is a method of identifying topics in texts that are represented by a bag of words. The assumption is that some words mentioned in text represent a topic or maybe some discourse thread."
   ]
  },
  {
   "cell_type": "markdown",
   "metadata": {},
   "source": [
    "## Latent Dirichlet Allocation"
   ]
  },
  {
   "cell_type": "markdown",
   "metadata": {},
   "source": [
    "The Latent Drichlet Allocation (LDA) method automatically discovers topics in a collections of sentences or texts."
   ]
  },
  {
   "cell_type": "markdown",
   "metadata": {},
   "source": [
    "Grouping of words into $k$ groups."
   ]
  },
  {
   "cell_type": "markdown",
   "metadata": {},
   "source": [
    "**Initialization:** Assign each word in a document to a topic randomly."
   ]
  },
  {
   "cell_type": "markdown",
   "metadata": {},
   "source": [
    "The initialization results in a topics being assigned words and distributional models of all words and documents to topics. The improvement of the model is achieved using an optimization cycle."
   ]
  },
  {
   "cell_type": "markdown",
   "metadata": {},
   "source": [
    "**Optimization:**\n",
    "\n",
    "- for each document $d$:\n",
    "  - for each word in $d$:\n",
    "    - for each topic $t$ compute:\n",
    "      - $p(t\\ |\\ d)$ (the proportion of words in document $d$ that are currently assigned to topic $t$)\n",
    "      - $p(w\\ |\\ t)$ (the proportion of assignments to topic $t$ over all documents that come from this word $w$)\n",
    "      - Reassign $w$ to a new topic $t$ that maximizes the probability $p(t\\ |\\ d) * p(w\\ |\\ t)$ (according to our generative model, this is essentially the probability that topic $t$ generated word $w$, so it makes sense that we resample the current word’s topic with this probability)\n",
    "      - The reassigning is assuming that all topic assignments except for the current word $w$ are correct, and we are only updating the assignment of the current word using our model of how documents are generated.\n",
    "\n",
    "Repeating this process a large number of times results in an acceptable or accurate model of word, topic, and document associations."
   ]
  },
  {
   "cell_type": "markdown",
   "metadata": {},
   "source": [
    "## Installation and Using MALLET"
   ]
  },
  {
   "cell_type": "markdown",
   "metadata": {},
   "source": [
    "MALLET is a Java-based program. It requires at least an installation of the Java runtime on your system. Java is limited to certain computer types. It will not necessarily run on tablets or Chrome Books. Please follow the instructions on the Oracle Java pages how to set up Java on your computer."
   ]
  },
  {
   "cell_type": "markdown",
   "metadata": {},
   "source": [
    "As explained in Graham et al. (2012), MALLET uses a system variable to point to the path of the MALLET code and data folder. Set this variable *MALLET_HOME* on your system."
   ]
  },
  {
   "cell_type": "markdown",
   "metadata": {},
   "source": [
    "Running MALLET in the command line:"
   ]
  },
  {
   "cell_type": "markdown",
   "metadata": {},
   "source": [
    "*bin/mallet*"
   ]
  },
  {
   "cell_type": "markdown",
   "metadata": {},
   "source": [
    "*bin/mallet import-dir --help*"
   ]
  },
  {
   "cell_type": "markdown",
   "metadata": {},
   "source": [
    "*bin/mallet import-dir --input sample-data/web/en --output tutorial.mallet --keep-sequence --remove-stopwords*"
   ]
  },
  {
   "cell_type": "markdown",
   "metadata": {},
   "source": [
    "Running the same on another folder with the German data:"
   ]
  },
  {
   "cell_type": "markdown",
   "metadata": {},
   "source": [
    "*bin/mallet import-dir --input sample-data/web/de --output tutorial.mallet --keep-sequence --remove-stopwords*"
   ]
  },
  {
   "cell_type": "markdown",
   "metadata": {},
   "source": [
    "*bin/mallet train-topics --input tutorial.mallet*"
   ]
  },
  {
   "cell_type": "markdown",
   "metadata": {},
   "source": [
    "*bin/mallet train-topics --input tutorial.mallet --num-topics 20 --output-state topic-state.gz --output-topic-keys tutorial_keys.txt --output-doc-topics tutorial_composition.txt*"
   ]
  },
  {
   "cell_type": "markdown",
   "metadata": {},
   "source": [
    "*bin\\mallet train-topics  --input tutorial.mallet  --num-topics 20 --optimize-interval 20 --output-state topic-state.gz  --output-topic-keys tutorial_keys.txt --output-doc-topics tutorial_composition.txt*"
   ]
  },
  {
   "cell_type": "markdown",
   "metadata": {},
   "source": [
    "## References"
   ]
  },
  {
   "cell_type": "markdown",
   "metadata": {},
   "source": [
    "Edwin Chen (2011) [Introduction to Latent Dirichlet Allocation](http://blog.echen.me/2011/08/22/introduction-to-latent-dirichlet-allocation/).\n",
    "\n",
    "Shawn Graham, Scott Weingart and Ian Milligan (2012) [Getting Started with Topic Modeling and MALLET](http://programminghistorian.org/lessons/topic-modeling-and-mallet).\n"
   ]
  },
  {
   "cell_type": "code",
   "execution_count": null,
   "metadata": {
    "collapsed": true
   },
   "outputs": [],
   "source": []
  }
 ],
 "metadata": {
  "anaconda-cloud": {},
  "kernelspec": {
   "display_name": "Python [conda root]",
   "language": "python",
   "name": "conda-root-py"
  },
  "language_info": {
   "codemirror_mode": {
    "name": "ipython",
    "version": 3
   },
   "file_extension": ".py",
   "mimetype": "text/x-python",
   "name": "python",
   "nbconvert_exporter": "python",
   "pygments_lexer": "ipython3",
   "version": "3.5.2"
  },
  "widgets": {
   "state": {},
   "version": "1.1.2"
  }
 },
 "nbformat": 4,
 "nbformat_minor": 1
}
