{
 "cells": [
  {
   "cell_type": "code",
   "execution_count": null,
   "metadata": {},
   "outputs": [],
   "source": [
    "def rnn(current_word, previous_state, bias, U):\n",
    "    input = current_word + previous_state\n",
    "    output = bias + U.dot(input)\n",
    "    return relu(output)"
   ]
  },
  {
   "cell_type": "code",
   "execution_count": null,
   "metadata": {},
   "outputs": [],
   "source": [
    "previous_state = [0, 0, 0]\n",
    "bias = 0.5\n",
    "U = [[0.1, 0.1, 0.1], [0.1, 0.1, 0.1], [0.1, 0.1, 0.1]]\n",
    "for token in [\"the\", \"cat\", \"sat\"]:\n",
    "    token_embedding = [] # generated token\n",
    "    previous_state = rnn(token_embedding, previous_state, bias, U)"
   ]
  }
 ],
 "metadata": {
  "language_info": {
   "name": "python"
  }
 },
 "nbformat": 4,
 "nbformat_minor": 2
}
