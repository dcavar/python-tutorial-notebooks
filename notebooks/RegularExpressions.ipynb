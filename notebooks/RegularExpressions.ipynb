{
 "cells": [
  {
   "cell_type": "markdown",
   "metadata": {},
   "source": [
    "# Regular Expressions in Python"
   ]
  },
  {
   "cell_type": "markdown",
   "metadata": {},
   "source": [
    "(C) 2023 by [Damir Cavar](http://damir.cavar.me/)"
   ]
  },
  {
   "cell_type": "markdown",
   "metadata": {},
   "source": [
    "This is a simple example related to regular expressions in Python."
   ]
  },
  {
   "cell_type": "code",
   "execution_count": 2,
   "metadata": {},
   "outputs": [],
   "source": [
    "import re"
   ]
  },
  {
   "cell_type": "code",
   "execution_count": 11,
   "metadata": {},
   "outputs": [],
   "source": [
    "text = \"\"\"\n",
    "Performance reviews are commonplace at big companies, and in theory enable managers to give detailed acknowledgment\n",
    "and constructive criticism. But in reality they do more harm than good because employees focus on impressing their\n",
    "manager rather than on [CR performance per se. Microsoft made this problem worse with a stack ranking system, in which managers\n",
    "graded people on a bell curve, each grade going to a fixed number of employees.\n",
    "\"\"\""
   ]
  },
  {
   "cell_type": "code",
   "execution_count": 14,
   "metadata": {},
   "outputs": [],
   "source": [
    "re_test1 = re.compile(r\"[aA-zZ]CR\") #, re.I | re.MULTILINE)"
   ]
  },
  {
   "cell_type": "code",
   "execution_count": 15,
   "metadata": {},
   "outputs": [
    {
     "name": "stdout",
     "output_type": "stream",
     "text": [
      "[CR 255 258\n"
     ]
    }
   ],
   "source": [
    "for m in re_test1.finditer(text):\n",
    "    print(m.group() , m.start(), m.end())"
   ]
  },
  {
   "cell_type": "markdown",
   "metadata": {},
   "source": [
    "Substitute a subgroup in a string:"
   ]
  },
  {
   "cell_type": "code",
   "execution_count": 19,
   "metadata": {},
   "outputs": [
    {
     "name": "stdout",
     "output_type": "stream",
     "text": [
      "\n",
      "Performance reviews are commonplace at big companies, and in theory enable managers to give detailed acknowledgment\n",
      "and constructive criticism. But in reality they do more harm than good because employees focus on impressing their\n",
      "manager rather than on --[CR-- performance per se. Microsoft made this problem worse with a stack ranking system, in which managers\n",
      "graded people on a bell curve, each grade going to a fixed number of employees.\n",
      "\n"
     ]
    }
   ],
   "source": [
    "res = re.sub(r'(\\[CR)', r'--\\g<1>--', text)\n",
    "print(res)"
   ]
  }
 ],
 "metadata": {
  "kernelspec": {
   "display_name": "Python 3",
   "language": "python",
   "name": "python3"
  },
  "language_info": {
   "codemirror_mode": {
    "name": "ipython",
    "version": 3
   },
   "file_extension": ".py",
   "mimetype": "text/x-python",
   "name": "python",
   "nbconvert_exporter": "python",
   "pygments_lexer": "ipython3",
   "version": "3.11.5"
  },
  "orig_nbformat": 4
 },
 "nbformat": 4,
 "nbformat_minor": 2
}
