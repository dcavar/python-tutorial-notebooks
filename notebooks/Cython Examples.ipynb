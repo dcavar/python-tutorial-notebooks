{
 "cells": [
  {
   "cell_type": "markdown",
   "metadata": {},
   "source": [
    "# Cython Examples"
   ]
  },
  {
   "cell_type": "markdown",
   "metadata": {},
   "source": [
    "(C) 2020-2024 by [Damir Cavar](http://damir.cavar.me/)"
   ]
  },
  {
   "cell_type": "markdown",
   "metadata": {},
   "source": [
    "This is a basic tutorial and example collection on [Cython](https://cython.org/). Some sources and material for learning more about [Cython](https://cython.org/) are:\n",
    "- [Cython Documentation](http://docs.cython.org/en/latest/)\n",
    "- [Cython Wiki](https://github.com/cython/cython/wiki)\n",
    "- [Some Cython videos on PythonLinks](https://pythonlinks.info/cython)\n",
    "- [Cython Tutorial at the SciPy 2009 Conference](https://conference.scipy.org/proceedings/SciPy2009/paper_1/)\n",
    "\n",
    "Books:\n",
    "- [Cython: A Guide for Python Programmers](https://www.amazon.com/Cython-Programmers-Kurt-W-Smith/dp/1491901551/ref=sr_1_1?keywords=Cython&qid=1578066387&sr=8-1) (older edition)\n",
    "- [High Performance Python: Practical Performant Programming for Humans](https://www.amazon.com/High-Performance-Python-Performant-Programming/dp/1492055026/ref=sr_1_2?keywords=Cython&qid=1578066387&sr=8-2) (announced new 2nd edition)"
   ]
  },
  {
   "cell_type": "markdown",
   "metadata": {},
   "source": [
    "## Installing Cython"
   ]
  },
  {
   "cell_type": "markdown",
   "metadata": {},
   "source": [
    "Users of [Anaconda](https://www.anaconda.com/distribution/#download-section) might have to install [Cython](https://cython.org/) using:"
   ]
  },
  {
   "cell_type": "raw",
   "metadata": {},
   "source": [
    "conda install -c anaconda cython"
   ]
  },
  {
   "cell_type": "markdown",
   "metadata": {},
   "source": [
    "If you are using the Python package installer [Pip](https://pypi.org/project/pip/), depending on your system and Python version you might have to install [Cython](https://cython.org/) using:"
   ]
  },
  {
   "cell_type": "code",
   "execution_count": null,
   "metadata": {},
   "outputs": [],
   "source": [
    "!pip install -U cython"
   ]
  },
  {
   "cell_type": "markdown",
   "metadata": {},
   "source": [
    "## Loading Cython"
   ]
  },
  {
   "cell_type": "code",
   "execution_count": null,
   "metadata": {},
   "outputs": [],
   "source": []
  }
 ],
 "metadata": {
  "kernelspec": {
   "display_name": "Python 3",
   "language": "python",
   "name": "python3"
  },
  "language_info": {
   "codemirror_mode": {
    "name": "ipython",
    "version": 3
   },
   "file_extension": ".py",
   "mimetype": "text/x-python",
   "name": "python",
   "nbconvert_exporter": "python",
   "pygments_lexer": "ipython3",
   "version": "3.12.1"
  }
 },
 "nbformat": 4,
 "nbformat_minor": 2
}
