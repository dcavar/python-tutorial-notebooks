{
 "cells": [
  {
   "cell_type": "markdown",
   "metadata": {},
   "source": [
    "# Claude 3 Interaction using the Anthropic API\n",
    "\n",
    "(C) 2024 by [Damir Cavar](http://damir.cavar.me/)\n",
    "\n",
    "The basic API example is documented on the [Anthropic](https://www.anthropic.com/) website. The code below is extended and based on the example provided by [Anthropic](https://www.anthropic.com/)."
   ]
  },
  {
   "cell_type": "markdown",
   "metadata": {},
   "source": [
    "**Download:** This and various other Jupyter notebooks are available from my [GitHub repo](https://github.com/dcavar/python-tutorial-for-ipython)."
   ]
  },
  {
   "cell_type": "markdown",
   "metadata": {},
   "source": [
    "**Version:** 1.0, March 2024"
   ]
  },
  {
   "cell_type": "markdown",
   "metadata": {},
   "source": [
    "**License:** [Creative Commons Attribution-ShareAlike 4.0 International License](https://creativecommons.org/licenses/by-sa/4.0/) ([CA BY-SA 4.0](https://creativecommons.org/licenses/by-sa/4.0/))"
   ]
  },
  {
   "cell_type": "markdown",
   "metadata": {},
   "source": [
    "**Prerequisites:**\n",
    "\n",
    "The code requires the `anthropic` module for Python:"
   ]
  },
  {
   "cell_type": "code",
   "execution_count": null,
   "metadata": {},
   "outputs": [],
   "source": [
    "!pip install -U anthropic"
   ]
  },
  {
   "cell_type": "markdown",
   "metadata": {},
   "source": [
    "You will need to create a file `secret.py` in the same location as this notebook and set the following variable in it:\n",
    "\n",
    "    claude3_apikey = \"...\"\n",
    "\n",
    "Make sure that you replace the three dots with your [Anthropic](https://www.anthropic.com/) API key.\n",
    "\n",
    "Alternatively, follow the instructions on the [Anthropic](https://www.anthropic.com/) site and set the environmental variable `ANTHROPIC_API_KEY` and use `os.environ.get(\"ANTHROPIC_API_KEY\")` for the variable `claude3_apikey`. Should you prefer to use some alternative method to provide the API key to the code, you might need to comment out `from secret import claude3_apikey` below.\n"
   ]
  },
  {
   "cell_type": "markdown",
   "metadata": {},
   "source": [
    "## Introduction\n",
    "\n",
    "This is a simple notebook that shows how to use the [Anthropic](https://www.anthropic.com/) endpoint for [Claude](https://claude.ai/), in particular the newly released [Claude 3](https://claude.ai/)."
   ]
  },
  {
   "cell_type": "markdown",
   "metadata": {},
   "source": [
    "We will use the anthropic module and the API key stored in the `secret.py` file."
   ]
  },
  {
   "cell_type": "code",
   "execution_count": 1,
   "metadata": {},
   "outputs": [],
   "source": [
    "import anthropic\n",
    "from secret import claude3_apikey\n",
    "claude_model = \"claude-3-opus-20240229\""
   ]
  },
  {
   "cell_type": "markdown",
   "metadata": {},
   "source": [
    "The following code creates an Anthropic `client` that connects with Claude 3."
   ]
  },
  {
   "cell_type": "code",
   "execution_count": 2,
   "metadata": {},
   "outputs": [],
   "source": [
    "client = anthropic.Anthropic(\n",
    "    api_key=claude3_apikey,\n",
    ")"
   ]
  },
  {
   "cell_type": "markdown",
   "metadata": {},
   "source": [
    "The following function performs the API call and returns the resulting message content."
   ]
  },
  {
   "cell_type": "code",
   "execution_count": 3,
   "metadata": {},
   "outputs": [],
   "source": [
    "def call_claude3(prompt: str, instructions: str, temperature=0, max_tokens=1000) -> str:\n",
    "    message = client.messages.create(\n",
    "        model=claude_model,\n",
    "        max_tokens=max_tokens,\n",
    "        temperature=temperature,\n",
    "        system=instructions,\n",
    "        messages=[ {\n",
    "                \"role\": \"user\",\n",
    "                \"content\": [ {\n",
    "                        \"type\": \"text\",\n",
    "                        \"text\": prompt\n",
    "                    } ] } ] )\n",
    "    return message.content[0].text"
   ]
  },
  {
   "cell_type": "markdown",
   "metadata": {},
   "source": [
    "The `instructions` text provides a context and instructions to *Claude*. The `prompt` contains the request or question. "
   ]
  },
  {
   "cell_type": "code",
   "execution_count": 4,
   "metadata": {},
   "outputs": [
    {
     "name": "stdout",
     "output_type": "stream",
     "text": [
      "1\n"
     ]
    }
   ],
   "source": [
    "instructions = \"Respond with 1 if the claim is true, and with 0 if it is not.\"\n",
    "prompt       = \"\"\"\n",
    "The following sentence contains an ellipsis: \n",
    "'John bought a car and Mary a bicycle.'\n",
    "\"\"\"\n",
    "\n",
    "print(call_claude3(prompt, instructions, temperature=0.7))"
   ]
  },
  {
   "cell_type": "markdown",
   "metadata": {},
   "source": [
    "(C) 2024 by [Damir Cavar](http://damir.cavar.me/)"
   ]
  }
 ],
 "metadata": {
  "kernelspec": {
   "display_name": "Python 3",
   "language": "python",
   "name": "python3"
  },
  "language_info": {
   "codemirror_mode": {
    "name": "ipython",
    "version": 3
   },
   "file_extension": ".py",
   "mimetype": "text/x-python",
   "name": "python",
   "nbconvert_exporter": "python",
   "pygments_lexer": "ipython3",
   "version": "3.11.6"
  }
 },
 "nbformat": 4,
 "nbformat_minor": 2
}
