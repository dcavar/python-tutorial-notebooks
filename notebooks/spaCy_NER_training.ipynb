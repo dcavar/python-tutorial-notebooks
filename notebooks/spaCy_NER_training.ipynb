{
 "cells": [
  {
   "cell_type": "markdown",
   "metadata": {},
   "source": [
    "# spaCy Named Entity Annotation using Regular Expressions\n",
    "\n",
    "(C) 2024 by [Damir Cavar](http://damir.cavar.me/)\n",
    "\n",
    "**Version:** 0.1, November 2024\n",
    "\n",
    "**Download:** This and various other Jupyter notebooks are available from my [GitHub repo](https://github.com/dcavar/python-tutorial-for-ipython).\n",
    "\n",
    "The following code shows how simple regular expression matches can be converted to spaCy Named Entity labels. The goal is to provide a first level annotation of entities, manually correct the annotations, and generate a corpus for training neural annotation models."
   ]
  },
  {
   "cell_type": "code",
   "execution_count": 9,
   "metadata": {},
   "outputs": [],
   "source": [
    "import spacy\n",
    "import re"
   ]
  },
  {
   "cell_type": "code",
   "execution_count": 2,
   "metadata": {},
   "outputs": [],
   "source": [
    "nlp = spacy.load(\"en_core_web_trf\")"
   ]
  },
  {
   "cell_type": "code",
   "execution_count": 60,
   "metadata": {},
   "outputs": [],
   "source": [
    "banks = \"\"\"\n",
    "Bank of America\n",
    "Bank of America Corporation\n",
    "Citigroup\n",
    "Citigroup Inc.\n",
    "Citi\n",
    "Goldman Sachs\n",
    "The Goldman Sachs Group, Inc.\n",
    "Goldman Sachs Group, Inc.\n",
    "JP Morgan\n",
    "JPMorgan Chase\n",
    "JPMorgan Chase & Co.\n",
    "JPMorganChase\n",
    "Morgan Stanley\n",
    "The PNC Financial Services Group, Inc.\n",
    "PNC Financial Services Group, Inc.\n",
    "PNC Bank\n",
    "U.S. Bancorp\n",
    "Wells Fargo\n",
    "Wells Fargo & Company\n",
    "\"\"\""
   ]
  },
  {
   "cell_type": "code",
   "execution_count": null,
   "metadata": {},
   "outputs": [],
   "source": [
    "insurances = \"\"\"\n",
    "Farmers Insurance Group\n",
    "Farmers\n",
    "Acuity Insurance\n",
    "Aflac\n",
    "Aflac Incorporated\n",
    "Allianz Life\n",
    "Allied Insurance\n",
    "Allstate\n",
    "The Allstate Corporation\n",
    "American Automobile Association\n",
    "AAA\n",
    "American Family Insurance\n",
    "American Income Life Insurance Company\n",
    "AIL\n",
    "American International Group\n",
    "AIG\n",
    "Government Employees Insurance Company\n",
    "GEICO\n",
    "Liberty Mutual\n",
    "Liberty Mutual Insurance Company\n",
    "Zurich Insurance Group\n",
    "Zurich Insurance Group Ltd\n",
    "\"\"\""
   ]
  },
  {
   "cell_type": "markdown",
   "metadata": {},
   "source": [
    "We can filter out regular expression operators and convert them to symbols, as here for the period:"
   ]
  },
  {
   "cell_type": "code",
   "execution_count": 62,
   "metadata": {},
   "outputs": [],
   "source": [
    "banks = banks.replace(r'.', r'\\.')\n",
    "insurances = insurances.replace(r'.', r'\\.')"
   ]
  },
  {
   "cell_type": "markdown",
   "metadata": {},
   "source": [
    "We can remove empty elements from the list by filtering in the list comprehension. Duplicates are removed by converting the list to a set."
   ]
  },
  {
   "cell_type": "code",
   "execution_count": 63,
   "metadata": {},
   "outputs": [],
   "source": [
    "banks_list = { x for x in banks.splitlines() if x }\n",
    "insurances_list = { x for x in insurances.splitlines() if x }"
   ]
  },
  {
   "cell_type": "markdown",
   "metadata": {},
   "source": [
    "The lists can now be converted to labeled groups in Python regular expressions. We will use the labels as Named Entity tags:"
   ]
  },
  {
   "cell_type": "code",
   "execution_count": 64,
   "metadata": {},
   "outputs": [],
   "source": [
    "\n",
    "regular_expression = re.compile( r\"|\".join( (r\"(?P<BANK>\" + r\"|\".join( banks_list ) + r\")\", \n",
    "\t\t\t\t\t\t\t\t\t\t\t r\"(?P<INSURANCE>\" + r\"|\".join( insurances_list ) + r\")\") ) )"
   ]
  },
  {
   "cell_type": "markdown",
   "metadata": {},
   "source": [
    "Here is some sample text that we want to annotate:"
   ]
  },
  {
   "cell_type": "code",
   "execution_count": 65,
   "metadata": {},
   "outputs": [],
   "source": [
    "sample_text = \"\"\"\n",
    "Zurich Insurance Group Ltd is a Swiss insurance company, headquartered in Zürich, and the country's largest insurer.\n",
    "Wells Fargo is an American multinational financial services company with a significant global presence.\n",
    "JPMorgan Chase & Co. (stylized as JPMorganChase) is an American multinational financial services firm headquartered in New York City and incorporated in Delaware. It is the largest bank in the United States and the world's largest bank by market capitalization as of 2023.\n",
    "\"\"\""
   ]
  },
  {
   "cell_type": "code",
   "execution_count": 70,
   "metadata": {},
   "outputs": [
    {
     "name": "stdout",
     "output_type": "stream",
     "text": [
      "INSURANCE: 1 27 Zurich Insurance Group Ltd\n",
      "BANK: 118 129 Wells Fargo\n",
      "BANK: 222 242 JPMorgan Chase & Co.\n",
      "BANK: 256 269 JPMorganChase\n"
     ]
    }
   ],
   "source": [
    "annotations = []\n",
    "for match in regular_expression.finditer(sample_text):\n",
    "\tfor label, value in match.groupdict().items():\n",
    "\t\tif value:\n",
    "\t\t\tbreak\n",
    "\tprint(f\"{label}: {match.start()} {match.end()} {match.group(0)}\")\n",
    "\tif label:\n",
    "\t\tannotations.append( (match.start(), match.end(), label) )"
   ]
  },
  {
   "cell_type": "markdown",
   "metadata": {},
   "source": [
    "We can also run the text through the spaCy NLP pipeline:"
   ]
  },
  {
   "cell_type": "code",
   "execution_count": 78,
   "metadata": {},
   "outputs": [],
   "source": [
    "doc = nlp(sample_text.strip())"
   ]
  },
  {
   "cell_type": "markdown",
   "metadata": {},
   "source": [
    "Now we can process sentence by sentence and generate the entity annotations for the training data:"
   ]
  },
  {
   "cell_type": "code",
   "execution_count": 80,
   "metadata": {},
   "outputs": [],
   "source": [
    "training_data = []\n",
    "for sentence in doc.sents:\n",
    "\tannotations = []\n",
    "\tfor match in regular_expression.finditer(sentence.text):\n",
    "\t\tfor label, value in match.groupdict().items():\n",
    "\t\t\tif value:\n",
    "\t\t\t\tbreak\n",
    "\t\tif label:\n",
    "\t\t\tannotations.append( (match.start(), match.end(), label) )\n",
    "\tif annotations:\n",
    "\t\ttraining_data.append( (sentence.text, { 'entities': annotations }) )"
   ]
  },
  {
   "cell_type": "markdown",
   "metadata": {},
   "source": [
    "The resulting data structure is a list of tuples. The first element is the sentence text. The second is a dictionary with a key `entities` that has a list of antity annotation tuples as value:"
   ]
  },
  {
   "cell_type": "code",
   "execution_count": 83,
   "metadata": {},
   "outputs": [
    {
     "name": "stdout",
     "output_type": "stream",
     "text": [
      "Zurich Insurance Group Ltd is a Swiss insurance company, headquartered in Zürich, and the country's largest insurer.\n",
      "{'entities': [(0, 26, 'INSURANCE')]}\n",
      "Wells Fargo is an American multinational financial services company with a significant global presence.\n",
      "{'entities': [(0, 11, 'BANK')]}\n",
      "JPMorgan Chase & Co. (stylized as JPMorganChase) is an American multinational financial services firm headquartered in New York City and incorporated in Delaware.\n",
      "{'entities': [(0, 20, 'BANK'), (34, 47, 'BANK')]}\n"
     ]
    }
   ],
   "source": [
    "for x in training_data:\n",
    "\tprint(x[0])\n",
    "\tprint(x[1])"
   ]
  },
  {
   "cell_type": "code",
   "execution_count": null,
   "metadata": {},
   "outputs": [],
   "source": []
  },
  {
   "cell_type": "markdown",
   "metadata": {},
   "source": [
    "**(C) 2024 by [Damir Cavar](http://damir.cavar.me/) <<dcavar@iu.edu>>**"
   ]
  }
 ],
 "metadata": {
  "kernelspec": {
   "display_name": "Python 3",
   "language": "python",
   "name": "python3"
  },
  "language_info": {
   "codemirror_mode": {
    "name": "ipython",
    "version": 3
   },
   "file_extension": ".py",
   "mimetype": "text/x-python",
   "name": "python",
   "nbconvert_exporter": "python",
   "pygments_lexer": "ipython3",
   "version": "3.12.3"
  }
 },
 "nbformat": 4,
 "nbformat_minor": 2
}
