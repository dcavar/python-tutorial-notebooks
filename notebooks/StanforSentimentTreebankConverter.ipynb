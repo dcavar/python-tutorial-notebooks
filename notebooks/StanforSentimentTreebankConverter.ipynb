{
 "cells": [
  {
   "cell_type": "markdown",
   "metadata": {},
   "source": [
    "# Convert the Stanford Sentiment Treebank Data to CSV\n",
    "\n",
    "(C) 2023 by [Damir Cavar](http://damir.cavar.me/)\n",
    "\n",
    "The [Stanford Sentiment Treebank](https://nlp.stanford.edu/sentiment/code.html) data can be downloaded at the [website](https://nlp.stanford.edu/sentiment/code.html)."
   ]
  },
  {
   "cell_type": "code",
   "execution_count": 1,
   "metadata": {},
   "outputs": [],
   "source": [
    "import csv\n",
    "import os"
   ]
  },
  {
   "cell_type": "code",
   "execution_count": 14,
   "metadata": {},
   "outputs": [],
   "source": [
    "data = {}"
   ]
  },
  {
   "cell_type": "code",
   "execution_count": 15,
   "metadata": {},
   "outputs": [],
   "source": [
    "with open(os.path.join(\".\", \"data\", \"StanfordSentimentTreebank\", \"datasetSentences.txt\")) as f:\n",
    "    l = f.readline()\n",
    "    for l in f:\n",
    "        segments = l.split(\"\\t\")\n",
    "        data[int(segments[0])] = segments[1].strip()"
   ]
  },
  {
   "cell_type": "code",
   "execution_count": 17,
   "metadata": {},
   "outputs": [],
   "source": [
    "tmp_data = {}\n",
    "with open(os.path.join(\".\", \"data\", \"StanfordSentimentTreebank\", \"sentiment_labels.txt\")) as f:\n",
    "    l = f.readline()\n",
    "    for l in f:\n",
    "        segments = l.split(\"|\")\n",
    "        id = int(segments[0])\n",
    "        # TODO read the tree snippets and associate with sentence\n",
    "data = tmp_data"
   ]
  }
 ],
 "metadata": {
  "kernelspec": {
   "display_name": "Python 3",
   "language": "python",
   "name": "python3"
  },
  "language_info": {
   "codemirror_mode": {
    "name": "ipython",
    "version": 3
   },
   "file_extension": ".py",
   "mimetype": "text/x-python",
   "name": "python",
   "nbconvert_exporter": "python",
   "pygments_lexer": "ipython3",
   "version": "3.11.6"
  }
 },
 "nbformat": 4,
 "nbformat_minor": 2
}
