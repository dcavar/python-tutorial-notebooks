{
 "cells": [
  {
   "cell_type": "markdown",
   "metadata": {},
   "source": [
    "# spaCy Tutorial"
   ]
  },
  {
   "attachments": {},
   "cell_type": "markdown",
   "metadata": {},
   "source": [
    "**(C) 2019-2024 by [Damir Cavar](http://damir.cavar.me/)**"
   ]
  },
  {
   "attachments": {},
   "cell_type": "markdown",
   "metadata": {},
   "source": [
    "**Version:** 1.8, January 2024"
   ]
  },
  {
   "cell_type": "markdown",
   "metadata": {},
   "source": [
    "**Download:** This and various other Jupyter notebooks are available from my [GitHub repo](https://github.com/dcavar/python-tutorial-for-ipython)."
   ]
  },
  {
   "attachments": {},
   "cell_type": "markdown",
   "metadata": {},
   "source": [
    "This is a tutorial related to the L665 course on Machine Learning for NLP focusing on Deep Learning, Spring 2018, and [L645 Advanced Natural Language Processing](http://damir.cavar.me/l645/) in Fall 2023 at Indiana University. The following tutorial assumes that you are using a newer distribution of [Python 3.x](https://python.org/) and [spaCy](https://spacy.io/) 3.5 or newer."
   ]
  },
  {
   "attachments": {},
   "cell_type": "markdown",
   "metadata": {},
   "source": [
    "## Requirements\n",
    "\n",
    "The following code examples presuppose a running [Python 3.x](https://python.org/) environment with [Jupyter Lab](https://jupyter.org/) and [spaCy](https://spacy.io/) installed.\n",
    "\n",
    "To install [spaCy](https://spacy.io/) follow the instructions on the [Install spaCy page](https://spacy.io/usage).\n"
   ]
  },
  {
   "cell_type": "code",
   "execution_count": null,
   "metadata": {},
   "outputs": [],
   "source": [
    "!pip install -U pip setuptools wheel"
   ]
  },
  {
   "cell_type": "markdown",
   "metadata": {},
   "source": [
    "The following installation of spaCy is ideal for my environment, i.e., using a GPU and CUDA 12.x. See the [spaCy homepage](https://spacy.io/usage) for detailed installation instructions."
   ]
  },
  {
   "cell_type": "code",
   "execution_count": null,
   "metadata": {},
   "outputs": [],
   "source": [
    "!pip install -U 'spacy[cuda12x,transformers,lookups,ja]'"
   ]
  },
  {
   "cell_type": "markdown",
   "metadata": {},
   "source": [
    "Once [spaCy](https://spacy.io/) is installed, install the language models using the following commands.\n",
    "\n",
    "For the small English model:\n",
    "\n",
    "\tpython -m spacy download en_core_web_sm\n",
    "\n",
    "For the medium English language model:\n",
    "\n",
    "\tpython -m spacy download en_core_web_md\n",
    "\n",
    "For the large English language model:\n",
    "\n",
    "\tpython -m spacy download en_core_web_lg\n",
    "\n",
    "For the small Spanish language model:\n",
    "\n",
    "\tpython -m spacy download es_core_news_sm"
   ]
  },
  {
   "cell_type": "code",
   "execution_count": null,
   "metadata": {},
   "outputs": [],
   "source": [
    "!python -m spacy download en_core_web_sm\n",
    "!python -m spacy download en_core_web_md\n",
    "!python -m spacy download en_core_web_lg\n",
    "!python -m spacy download es_core_news_sm"
   ]
  },
  {
   "cell_type": "markdown",
   "metadata": {},
   "source": [
    "## Introduction to spaCy"
   ]
  },
  {
   "cell_type": "markdown",
   "metadata": {},
   "source": [
    "Follow the instructions on the [spaCy homepage](https://spacy.io/usage/) about installation of the module and language models. Your local spaCy module is correctly installed, if the following command is successfull:"
   ]
  },
  {
   "cell_type": "code",
   "execution_count": 1,
   "metadata": {},
   "outputs": [],
   "source": [
    "import spacy"
   ]
  },
  {
   "cell_type": "markdown",
   "metadata": {},
   "source": [
    "We can load the English NLP pipeline in the following way:"
   ]
  },
  {
   "cell_type": "code",
   "execution_count": 2,
   "metadata": {},
   "outputs": [
    {
     "name": "stderr",
     "output_type": "stream",
     "text": [
      "/home/damir/.local/lib/python3.12/site-packages/transformers/utils/generic.py:441: UserWarning: torch.utils._pytree._register_pytree_node is deprecated. Please use torch.utils._pytree.register_pytree_node instead.\n",
      "  _torch_pytree._register_pytree_node(\n",
      "/home/damir/.local/lib/python3.12/site-packages/transformers/utils/generic.py:309: UserWarning: torch.utils._pytree._register_pytree_node is deprecated. Please use torch.utils._pytree.register_pytree_node instead.\n",
      "  _torch_pytree._register_pytree_node(\n"
     ]
    }
   ],
   "source": [
    "nlp = spacy.load(\"es_core_news_sm\")"
   ]
  },
  {
   "cell_type": "markdown",
   "metadata": {},
   "source": [
    "### Tokenization"
   ]
  },
  {
   "cell_type": "code",
   "execution_count": 3,
   "metadata": {},
   "outputs": [
    {
     "name": "stdout",
     "output_type": "stream",
     "text": [
      "Como como\n",
      "estas este\n",
      "? ?\n",
      "Estoy estar\n",
      "bien bien\n",
      ". .\n"
     ]
    }
   ],
   "source": [
    "doc = nlp(u'Como estas? Estoy bien.')\n",
    "for token in doc:\n",
    "    print(token.text, token.lemma_)"
   ]
  },
  {
   "cell_type": "markdown",
   "metadata": {},
   "source": [
    "### Part-of-Speech Tagging"
   ]
  },
  {
   "cell_type": "markdown",
   "metadata": {},
   "source": [
    "We can tokenize and part of speech tag the individual tokens using the following code:"
   ]
  },
  {
   "cell_type": "code",
   "execution_count": 4,
   "metadata": {},
   "outputs": [
    {
     "name": "stdout",
     "output_type": "stream",
     "text": [
      "Como\t0\tcomo\tSCONJ\tSCONJ\tmark\tXxxx\tTrue\tTrue\n",
      "estas\t5\teste\tDET\tDET\tROOT\txxxx\tTrue\tTrue\n",
      "?\t10\t?\tPUNCT\tPUNCT\tpunct\t?\tFalse\tFalse\n",
      "Estoy\t12\testar\tAUX\tAUX\tcop\tXxxxx\tTrue\tTrue\n",
      "bien\t18\tbien\tADV\tADV\tROOT\txxxx\tTrue\tTrue\n",
      ".\t22\t.\tPUNCT\tPUNCT\tpunct\t.\tFalse\tFalse\n"
     ]
    }
   ],
   "source": [
    "doc = nlp(u'Como estas? Estoy bien.')\n",
    "\n",
    "for token in doc:\n",
    "    print(\"\\t\".join( (token.text, str(token.idx), token.lemma_, token.pos_, token.tag_, token.dep_,\n",
    "          token.shape_, str(token.is_alpha), str(token.is_stop) )))"
   ]
  },
  {
   "cell_type": "markdown",
   "metadata": {},
   "source": [
    "The above output contains for every token in a line the token itself, the lemma, the Part-of-Speech tag, the dependency label, the orthographic shape (upper and lower case characters as X or x respectively), the boolean for the token being an alphanumeric string, and the boolean for it being a *stopword*."
   ]
  },
  {
   "cell_type": "markdown",
   "metadata": {},
   "source": [
    "### Dependency Parse"
   ]
  },
  {
   "cell_type": "markdown",
   "metadata": {},
   "source": [
    "Using the same approach as above for PoS-tags, we can print the Dependency Parse relations:"
   ]
  },
  {
   "cell_type": "code",
   "execution_count": 4,
   "metadata": {},
   "outputs": [
    {
     "name": "stdout",
     "output_type": "stream",
     "text": [
      "Como mark estas DET []\n",
      "estas ROOT estas DET [Como, ?]\n",
      "? punct estas DET []\n",
      "Estoy cop bien ADV []\n",
      "bien ROOT bien ADV [Estoy, .]\n",
      ". punct bien ADV []\n"
     ]
    }
   ],
   "source": [
    "for token in doc:\n",
    "    print(token.text, token.dep_, token.head.text, token.head.pos_,\n",
    "          [child for child in token.children])"
   ]
  },
  {
   "cell_type": "markdown",
   "metadata": {},
   "source": [
    "As specified in the code, each line represents one token. The token is printed in the first column, followed by the dependency relation to it from the token in the third column, followed by its main category type."
   ]
  },
  {
   "cell_type": "markdown",
   "metadata": {},
   "source": [
    "### Named Entity Recognition"
   ]
  },
  {
   "cell_type": "markdown",
   "metadata": {},
   "source": [
    "Similarly to PoS-tags and Dependency Parse Relations, we can print out Named Entity labels:"
   ]
  },
  {
   "cell_type": "code",
   "execution_count": 6,
   "metadata": {},
   "outputs": [],
   "source": [
    "nlp = spacy.load(\"en_core_web_lg\")"
   ]
  },
  {
   "cell_type": "code",
   "execution_count": 7,
   "metadata": {},
   "outputs": [
    {
     "name": "stdout",
     "output_type": "stream",
     "text": [
      "John 0 4 PERSON\n",
      "Ali Hassan Kuban 11 27 PERSON\n"
     ]
    }
   ],
   "source": [
    "text = \"John loves Ali Hassan Kuban when driving on the highway.\"\n",
    "doc = nlp(text)\n",
    "for ent in doc.ents:\n",
    "    print(ent.text, ent.start_char, ent.end_char, ent.label_)"
   ]
  },
  {
   "cell_type": "markdown",
   "metadata": {},
   "source": [
    "We can extend the input with some more entities:"
   ]
  },
  {
   "cell_type": "code",
   "execution_count": 8,
   "metadata": {},
   "outputs": [],
   "source": [
    "doc = nlp(u'Ali Hassan Kuban said that Apple Inc. from California will buy Google in May 2018.')"
   ]
  },
  {
   "cell_type": "markdown",
   "metadata": {},
   "source": [
    "The corresponding NE-labels are:"
   ]
  },
  {
   "cell_type": "code",
   "execution_count": 9,
   "metadata": {},
   "outputs": [
    {
     "name": "stdout",
     "output_type": "stream",
     "text": [
      "Ali Hassan Kuban 0 16 PERSON\n",
      "Apple Inc. 27 37 ORG\n",
      "California 43 53 GPE\n",
      "Google 63 69 ORG\n",
      "May 2018 73 81 DATE\n"
     ]
    }
   ],
   "source": [
    "for ent in doc.ents:\n",
    "    print(ent.text, ent.start_char, ent.end_char, ent.label_)"
   ]
  },
  {
   "cell_type": "markdown",
   "metadata": {},
   "source": [
    "### Pattern Matching in spaCy"
   ]
  },
  {
   "attachments": {},
   "cell_type": "markdown",
   "metadata": {},
   "source": [
    "You can define patterns in [spaCy](https://spacy.io/) and generate a label (here *HelloWorld*) whenever there is a matching pattern in some text using the [spaCy](https://spacy.io/) [Matcher](https://spacy.io/api/matcher) class. In the code below we print out the label, offset of matching sub-string, and the real match string in the text."
   ]
  },
  {
   "cell_type": "code",
   "execution_count": null,
   "metadata": {},
   "outputs": [],
   "source": [
    "from spacy.matcher import Matcher\n",
    "\n",
    "matcher = Matcher(nlp.vocab)\n",
    "pattern = [{'LOWER': 'hello'}, {'IS_PUNCT': True}, {'LOWER': 'world'}]\n",
    "matcher.add('HelloWorld', [pattern])\n",
    "\n",
    "doc = nlp(u'Hello, world! Hello... world!')\n",
    "matches = matcher(doc)\n",
    "for match_id, start, end in matches:\n",
    "    string_id = nlp.vocab.strings[match_id]  # Get string representation\n",
    "    span = doc[start:end]  # The matched span\n",
    "    print(match_id, string_id, start, end, span.text)\n",
    "print(\"-\" * 50)\n",
    "doc = nlp(u'Hello, world! Hello world!')\n",
    "matches = matcher(doc)\n",
    "for match_id, start, end in matches:\n",
    "    string_id = nlp.vocab.strings[match_id]  # Get string representation\n",
    "    span = doc[start:end]  # The matched span\n",
    "    print(match_id, string_id, start, end, span.text)"
   ]
  },
  {
   "cell_type": "markdown",
   "metadata": {},
   "source": [
    "### spaCy is Missing"
   ]
  },
  {
   "cell_type": "markdown",
   "metadata": {},
   "source": [
    "From the linguistic standpoint, when looking at the analytical output of the NLP pipeline in spaCy, there are some important components missing:"
   ]
  },
  {
   "attachments": {},
   "cell_type": "markdown",
   "metadata": {},
   "source": [
    "- Clause boundary detection\n",
    "- Anaphora resolution (partially solved in the Coreference modules)\n",
    "- Temporal reference resolution\n",
    "- ..."
   ]
  },
  {
   "attachments": {},
   "cell_type": "markdown",
   "metadata": {},
   "source": [
    "There are add-on modules that provide annotations for additional linguistic levels, as for example:\n",
    "\n",
    "- Constituent structure trees (scope relations over constituents and phrases)\n",
    "- Coreference analysis\n",
    "\n",
    "You can find various such addons in the [spaCy Universe](https://spacy.io/universe).\n"
   ]
  },
  {
   "cell_type": "markdown",
   "metadata": {},
   "source": [
    "#### Clause Boundary Detection"
   ]
  },
  {
   "cell_type": "markdown",
   "metadata": {},
   "source": [
    "Complex sentences consist of clauses. For precise processing of semantic properties of natural language utterances we need to segment the sentences into clauses. The following sentence:"
   ]
  },
  {
   "cell_type": "markdown",
   "metadata": {},
   "source": [
    "*The man said that the woman claimed that the child broke the toy.*"
   ]
  },
  {
   "cell_type": "markdown",
   "metadata": {},
   "source": [
    "can be broken into the following clauses:"
   ]
  },
  {
   "cell_type": "markdown",
   "metadata": {},
   "source": [
    "- Matrix clause: [ *the man said* ]\n",
    "- Embedded clause: [ *that the woman claimed* ]\n",
    "- Embedded clause: [ *that the child broke the toy* ]"
   ]
  },
  {
   "cell_type": "markdown",
   "metadata": {},
   "source": [
    "These clauses do not form an ordered list or flat sequence, they in fact are hierarchically organized. The matrix clause verb selects as its complement an embedded finite clause with the complementizer *that*. The embedded predicate *claimed* selects the same kind of clausal complement. We express this hierarchical relation in form of embedding in tree representations:"
   ]
  },
  {
   "cell_type": "markdown",
   "metadata": {},
   "source": [
    "[ *the man said* [ *that the woman claimed* [ *that the child broke the toy* ] ] ]"
   ]
  },
  {
   "cell_type": "markdown",
   "metadata": {},
   "source": [
    "Or using a graphical representation in form of a tree:"
   ]
  },
  {
   "cell_type": "markdown",
   "metadata": {},
   "source": [
    "<img src=\"Embedded_Clauses_1.png\" width=\"60%\" height=\"60%\">"
   ]
  },
  {
   "cell_type": "markdown",
   "metadata": {},
   "source": [
    "The hierarchical relation of sub-clauses is relevant when it comes to semantics. The clause *John sold his car* can be interpreted as an assertion that describes an event with *John* as the agent, and *the car* as the object of a *selling* event in the past. If the clause is embedded under a matrix clause that contains a sentential negation, the proposition is assumed to NOT be true: [ *Mary did not say that* [ *John sold his car* ] ] "
   ]
  },
  {
   "cell_type": "markdown",
   "metadata": {},
   "source": [
    "It is possible with additional effort to translate the Dependency Trees into clauses and reconstruct the clause hierarchy into a relevant form or data structure. SpaCy does not offer a direct data output of such relations."
   ]
  },
  {
   "cell_type": "markdown",
   "metadata": {},
   "source": [
    "One problem still remains, and this is *clausal discontinuities*. None of the common NLP pipelines, and spaCy in particular, can deal with any kind of discontinuities in any reasonable way. Discontinuities can be observed when sytanctic structures are split over the clause or sentence, or elements ocur in a cannoically different position, as in the following example:"
   ]
  },
  {
   "cell_type": "markdown",
   "metadata": {},
   "source": [
    "*Which car did John claim that Mary took?*"
   ]
  },
  {
   "cell_type": "markdown",
   "metadata": {},
   "source": [
    "The embedded clause consists of the sequence [ *Mary took which car* ]. One part of the sequence appears dislocated and precedes the matrix clause in the above example. Simple Dependency Parsers cannot generate any reasonable output that makes it easy to identify and reconstruct the relations of clausal elements in these structures."
   ]
  },
  {
   "cell_type": "markdown",
   "metadata": {},
   "source": [
    "#### Constitutent Structure Trees"
   ]
  },
  {
   "cell_type": "markdown",
   "metadata": {},
   "source": [
    "Dependency Parse trees are a simplification of relations of elements in the clause. They ignore structural and hierarchical relations in a sentence or clause, as shown in the examples above. Instead the Dependency Parse trees show simple functional relations in the sense of sentential functions like *subject* or *object* of a verb."
   ]
  },
  {
   "cell_type": "markdown",
   "metadata": {},
   "source": [
    "SpaCy does not output any kind of constituent structure and more detailed relational properties of phrases and more complex structural units in a sentence or clause."
   ]
  },
  {
   "cell_type": "markdown",
   "metadata": {},
   "source": [
    "Since many semantic properties are defined or determined in terms of structural relations and hierarchies, that is *scope relations*, this is more complicated to reconstruct or map from the Dependency Parse trees."
   ]
  },
  {
   "cell_type": "markdown",
   "metadata": {},
   "source": [
    "#### Anaphora Resolution"
   ]
  },
  {
   "cell_type": "markdown",
   "metadata": {},
   "source": [
    "SpaCy does not offer any anaphora resolution annotation. That is, the referent of a pronoun, as in the following examples, is not annotated in the resulting linguistic data structure:"
   ]
  },
  {
   "cell_type": "markdown",
   "metadata": {},
   "source": [
    "- *John saw **him**.*\n",
    "- *John said that **he** saw the house.*\n",
    "- *Tim sold **his** house. **He** moved to Paris.*\n",
    "- *John saw **himself** in the mirror.*"
   ]
  },
  {
   "cell_type": "markdown",
   "metadata": {},
   "source": [
    "Knowing the restrictions of pronominal binding (in English for example), we can partially generate the potential or most likely anaphora - antecedent relations. This - however - is not part of the spaCy output."
   ]
  },
  {
   "cell_type": "markdown",
   "metadata": {},
   "source": [
    "One problem, however, is that spaCy does not provide parse trees of the *constituent structure* and *clausal hierarchies*, which is crucial for the correct analysis of pronominal anaphoric relations."
   ]
  },
  {
   "cell_type": "markdown",
   "metadata": {},
   "source": [
    "#### Coreference Analysis"
   ]
  },
  {
   "cell_type": "markdown",
   "metadata": {},
   "source": [
    "Some NLP pipelines are capable of providing coreference analyses for constituents in clauses. For example, the two clauses should be analyzed as talking about the same subject:"
   ]
  },
  {
   "cell_type": "markdown",
   "metadata": {},
   "source": [
    "*The CEO of Apple, Tim Cook, decided to apply for a job at Google. Cook said that he is not satisfied with the quality of the iPhones anymore. He prefers the Pixel 2.*"
   ]
  },
  {
   "cell_type": "markdown",
   "metadata": {},
   "source": [
    "The constituents [ *the CEO of Apple, Tim Cook* ] in the first sentence, [ *Cook* ] in the second sentence, and [ *he* ] in the third, should all be tagged as referencing the same entity, that is the one mentioned in the first sentence. SpaCy does not provide such a level of analysis or annotation."
   ]
  },
  {
   "cell_type": "markdown",
   "metadata": {},
   "source": [
    "#### Temporal Reference"
   ]
  },
  {
   "cell_type": "markdown",
   "metadata": {},
   "source": [
    "For various analysis levels it is essential to identify the time references in a sentence or utterance, for example the time the utterance is made or the time the described event happened."
   ]
  },
  {
   "cell_type": "markdown",
   "metadata": {},
   "source": [
    "Certain tenses are expressed as periphrastic constructions, including auxiliaries and main verbs. SpaCy does not provide the relevant information to identify these constructions and tenses."
   ]
  },
  {
   "cell_type": "markdown",
   "metadata": {},
   "source": [
    "## Using the Dependency Parse Visualizer"
   ]
  },
  {
   "cell_type": "markdown",
   "metadata": {},
   "source": [
    "More on Dependency Parse trees"
   ]
  },
  {
   "cell_type": "code",
   "execution_count": 10,
   "metadata": {},
   "outputs": [],
   "source": [
    "import spacy"
   ]
  },
  {
   "cell_type": "markdown",
   "metadata": {},
   "source": [
    "We can load the visualizer:"
   ]
  },
  {
   "cell_type": "code",
   "execution_count": 5,
   "metadata": {},
   "outputs": [],
   "source": [
    "from spacy import displacy"
   ]
  },
  {
   "cell_type": "markdown",
   "metadata": {},
   "source": [
    "Loading the English NLP pipeline:"
   ]
  },
  {
   "cell_type": "code",
   "execution_count": 6,
   "metadata": {},
   "outputs": [],
   "source": [
    "nlp = spacy.load(\"en_core_web_sm\")"
   ]
  },
  {
   "cell_type": "markdown",
   "metadata": {},
   "source": [
    "Process an input sentence:"
   ]
  },
  {
   "cell_type": "code",
   "execution_count": 7,
   "metadata": {},
   "outputs": [],
   "source": [
    "#doc = nlp(u'John said yesterday that Mary bought a new car for her older son.')\n",
    "#doc = nlp(u\"Dick ran and Jane danced yesterday.\")\n",
    "#doc = nlp(u\"Tim Cook loves apples in the evening.\")\n",
    "#doc = nlp(u\"Born in a small town, she took the midnight train going anywhere.\")\n",
    "doc = nlp(u\"John met Peter and Susan called Paul.\")"
   ]
  },
  {
   "attachments": {},
   "cell_type": "markdown",
   "metadata": {},
   "source": [
    "If you want to generate a visualization running code outside of the Jupyter notebook, you could use the following code. You should not use this code, if you are running the notebook. Instead, use the function *display.render* two cells below.\n",
    "\n",
    "Visualizing the Dependency Parse tree can be achieved by running the following server code and opening up a new tab on the URL [http://localhost:5000/](http://localhost:5000/). You can shut down the server by clicking on the stop button at the top in the notebook toolbar. (To launch the server, uncomment the follwoing line and run the cell.)"
   ]
  },
  {
   "cell_type": "code",
   "execution_count": null,
   "metadata": {
    "scrolled": true
   },
   "outputs": [],
   "source": [
    "# displacy.serve(doc, style='dep')"
   ]
  },
  {
   "cell_type": "markdown",
   "metadata": {},
   "source": [
    "Instead of serving the graph, one can render it directly into a Jupyter Notebook:"
   ]
  },
  {
   "cell_type": "code",
   "execution_count": 8,
   "metadata": {},
   "outputs": [
    {
     "data": {
      "text/html": [
       "<span class=\"tex2jax_ignore\"><svg xmlns=\"http://www.w3.org/2000/svg\" xmlns:xlink=\"http://www.w3.org/1999/xlink\" xml:lang=\"en\" id=\"60f468b17daa47afbb489e095c45e68a-0\" class=\"displacy\" width=\"890\" height=\"317.0\" direction=\"ltr\" style=\"max-width: none; height: 317.0px; color: #000000; background: #ffffff; font-family: Arial; direction: ltr\">\n",
       "<text class=\"displacy-token\" fill=\"currentColor\" text-anchor=\"middle\" y=\"227.0\">\n",
       "    <tspan class=\"displacy-word\" fill=\"currentColor\" x=\"50\">John</tspan>\n",
       "    <tspan class=\"displacy-tag\" dy=\"2em\" fill=\"currentColor\" x=\"50\">PROPN</tspan>\n",
       "</text>\n",
       "\n",
       "<text class=\"displacy-token\" fill=\"currentColor\" text-anchor=\"middle\" y=\"227.0\">\n",
       "    <tspan class=\"displacy-word\" fill=\"currentColor\" x=\"170\">met</tspan>\n",
       "    <tspan class=\"displacy-tag\" dy=\"2em\" fill=\"currentColor\" x=\"170\">VERB</tspan>\n",
       "</text>\n",
       "\n",
       "<text class=\"displacy-token\" fill=\"currentColor\" text-anchor=\"middle\" y=\"227.0\">\n",
       "    <tspan class=\"displacy-word\" fill=\"currentColor\" x=\"290\">Peter</tspan>\n",
       "    <tspan class=\"displacy-tag\" dy=\"2em\" fill=\"currentColor\" x=\"290\">PROPN</tspan>\n",
       "</text>\n",
       "\n",
       "<text class=\"displacy-token\" fill=\"currentColor\" text-anchor=\"middle\" y=\"227.0\">\n",
       "    <tspan class=\"displacy-word\" fill=\"currentColor\" x=\"410\">and</tspan>\n",
       "    <tspan class=\"displacy-tag\" dy=\"2em\" fill=\"currentColor\" x=\"410\">CCONJ</tspan>\n",
       "</text>\n",
       "\n",
       "<text class=\"displacy-token\" fill=\"currentColor\" text-anchor=\"middle\" y=\"227.0\">\n",
       "    <tspan class=\"displacy-word\" fill=\"currentColor\" x=\"530\">Susan</tspan>\n",
       "    <tspan class=\"displacy-tag\" dy=\"2em\" fill=\"currentColor\" x=\"530\">PROPN</tspan>\n",
       "</text>\n",
       "\n",
       "<text class=\"displacy-token\" fill=\"currentColor\" text-anchor=\"middle\" y=\"227.0\">\n",
       "    <tspan class=\"displacy-word\" fill=\"currentColor\" x=\"650\">called</tspan>\n",
       "    <tspan class=\"displacy-tag\" dy=\"2em\" fill=\"currentColor\" x=\"650\">VERB</tspan>\n",
       "</text>\n",
       "\n",
       "<text class=\"displacy-token\" fill=\"currentColor\" text-anchor=\"middle\" y=\"227.0\">\n",
       "    <tspan class=\"displacy-word\" fill=\"currentColor\" x=\"770\">Paul.</tspan>\n",
       "    <tspan class=\"displacy-tag\" dy=\"2em\" fill=\"currentColor\" x=\"770\">PROPN</tspan>\n",
       "</text>\n",
       "\n",
       "<g class=\"displacy-arrow\">\n",
       "    <path class=\"displacy-arc\" id=\"arrow-60f468b17daa47afbb489e095c45e68a-0-0\" stroke-width=\"2px\" d=\"M70,182.0 C70,122.0 160.0,122.0 160.0,182.0\" fill=\"none\" stroke=\"currentColor\"/>\n",
       "    <text dy=\"1.25em\" style=\"font-size: 0.8em; letter-spacing: 1px\">\n",
       "        <textPath xlink:href=\"#arrow-60f468b17daa47afbb489e095c45e68a-0-0\" class=\"displacy-label\" startOffset=\"50%\" side=\"left\" fill=\"currentColor\" text-anchor=\"middle\">nsubj</textPath>\n",
       "    </text>\n",
       "    <path class=\"displacy-arrowhead\" d=\"M70,184.0 L62,172.0 78,172.0\" fill=\"currentColor\"/>\n",
       "</g>\n",
       "\n",
       "<g class=\"displacy-arrow\">\n",
       "    <path class=\"displacy-arc\" id=\"arrow-60f468b17daa47afbb489e095c45e68a-0-1\" stroke-width=\"2px\" d=\"M190,182.0 C190,122.0 280.0,122.0 280.0,182.0\" fill=\"none\" stroke=\"currentColor\"/>\n",
       "    <text dy=\"1.25em\" style=\"font-size: 0.8em; letter-spacing: 1px\">\n",
       "        <textPath xlink:href=\"#arrow-60f468b17daa47afbb489e095c45e68a-0-1\" class=\"displacy-label\" startOffset=\"50%\" side=\"left\" fill=\"currentColor\" text-anchor=\"middle\">dobj</textPath>\n",
       "    </text>\n",
       "    <path class=\"displacy-arrowhead\" d=\"M280.0,184.0 L288.0,172.0 272.0,172.0\" fill=\"currentColor\"/>\n",
       "</g>\n",
       "\n",
       "<g class=\"displacy-arrow\">\n",
       "    <path class=\"displacy-arc\" id=\"arrow-60f468b17daa47afbb489e095c45e68a-0-2\" stroke-width=\"2px\" d=\"M310,182.0 C310,122.0 400.0,122.0 400.0,182.0\" fill=\"none\" stroke=\"currentColor\"/>\n",
       "    <text dy=\"1.25em\" style=\"font-size: 0.8em; letter-spacing: 1px\">\n",
       "        <textPath xlink:href=\"#arrow-60f468b17daa47afbb489e095c45e68a-0-2\" class=\"displacy-label\" startOffset=\"50%\" side=\"left\" fill=\"currentColor\" text-anchor=\"middle\">cc</textPath>\n",
       "    </text>\n",
       "    <path class=\"displacy-arrowhead\" d=\"M400.0,184.0 L408.0,172.0 392.0,172.0\" fill=\"currentColor\"/>\n",
       "</g>\n",
       "\n",
       "<g class=\"displacy-arrow\">\n",
       "    <path class=\"displacy-arc\" id=\"arrow-60f468b17daa47afbb489e095c45e68a-0-3\" stroke-width=\"2px\" d=\"M310,182.0 C310,62.0 525.0,62.0 525.0,182.0\" fill=\"none\" stroke=\"currentColor\"/>\n",
       "    <text dy=\"1.25em\" style=\"font-size: 0.8em; letter-spacing: 1px\">\n",
       "        <textPath xlink:href=\"#arrow-60f468b17daa47afbb489e095c45e68a-0-3\" class=\"displacy-label\" startOffset=\"50%\" side=\"left\" fill=\"currentColor\" text-anchor=\"middle\">conj</textPath>\n",
       "    </text>\n",
       "    <path class=\"displacy-arrowhead\" d=\"M525.0,184.0 L533.0,172.0 517.0,172.0\" fill=\"currentColor\"/>\n",
       "</g>\n",
       "\n",
       "<g class=\"displacy-arrow\">\n",
       "    <path class=\"displacy-arc\" id=\"arrow-60f468b17daa47afbb489e095c45e68a-0-4\" stroke-width=\"2px\" d=\"M190,182.0 C190,2.0 650.0,2.0 650.0,182.0\" fill=\"none\" stroke=\"currentColor\"/>\n",
       "    <text dy=\"1.25em\" style=\"font-size: 0.8em; letter-spacing: 1px\">\n",
       "        <textPath xlink:href=\"#arrow-60f468b17daa47afbb489e095c45e68a-0-4\" class=\"displacy-label\" startOffset=\"50%\" side=\"left\" fill=\"currentColor\" text-anchor=\"middle\">advcl</textPath>\n",
       "    </text>\n",
       "    <path class=\"displacy-arrowhead\" d=\"M650.0,184.0 L658.0,172.0 642.0,172.0\" fill=\"currentColor\"/>\n",
       "</g>\n",
       "\n",
       "<g class=\"displacy-arrow\">\n",
       "    <path class=\"displacy-arc\" id=\"arrow-60f468b17daa47afbb489e095c45e68a-0-5\" stroke-width=\"2px\" d=\"M670,182.0 C670,122.0 760.0,122.0 760.0,182.0\" fill=\"none\" stroke=\"currentColor\"/>\n",
       "    <text dy=\"1.25em\" style=\"font-size: 0.8em; letter-spacing: 1px\">\n",
       "        <textPath xlink:href=\"#arrow-60f468b17daa47afbb489e095c45e68a-0-5\" class=\"displacy-label\" startOffset=\"50%\" side=\"left\" fill=\"currentColor\" text-anchor=\"middle\">dobj</textPath>\n",
       "    </text>\n",
       "    <path class=\"displacy-arrowhead\" d=\"M760.0,184.0 L768.0,172.0 752.0,172.0\" fill=\"currentColor\"/>\n",
       "</g>\n",
       "</svg></span>"
      ],
      "text/plain": [
       "<IPython.core.display.HTML object>"
      ]
     },
     "metadata": {},
     "output_type": "display_data"
    }
   ],
   "source": [
    "displacy.render(doc, style='dep', jupyter=True, options={\"distance\": 120})"
   ]
  },
  {
   "cell_type": "markdown",
   "metadata": {},
   "source": [
    "In addition to the visualization of the Dependency Trees, we can visualize named entity annotations:"
   ]
  },
  {
   "cell_type": "code",
   "execution_count": null,
   "metadata": {},
   "outputs": [],
   "source": [
    "text = \"\"\"Apple decided to fire Tim Cook and hire somebody called John Doe as the new CEO.\n",
    "They also discussed a merger with Google. On the long run it seems more likely that Apple\n",
    "will merge with Amazon and Microsoft with Google. The companies will all relocate to Austin\n",
    "in Texas before the end of the century. John Doe bought a Porsche.\"\"\"\n"
   ]
  },
  {
   "cell_type": "code",
   "execution_count": null,
   "metadata": {},
   "outputs": [],
   "source": [
    "doc = nlp(text)\n",
    "displacy.render(doc, style='ent', jupyter=True)"
   ]
  },
  {
   "cell_type": "markdown",
   "metadata": {},
   "source": [
    "## Vectors"
   ]
  },
  {
   "cell_type": "markdown",
   "metadata": {},
   "source": [
    "To use vectors in spaCy, you might consider installing the larger models for the particular language. The common module and language packages only come with the small models. The larger models can be installed as described on the [spaCy vectors page](https://spacy.io/usage/vectors-similarity):\n",
    "\n",
    "    python -m spacy download en_core_web_lg\n",
    "\n",
    "The large model *en_core_web_lg* contains more than 1 million unique vectors."
   ]
  },
  {
   "cell_type": "markdown",
   "metadata": {},
   "source": [
    "Let us restart all necessary modules again, in particular spaCy:"
   ]
  },
  {
   "cell_type": "code",
   "execution_count": 17,
   "metadata": {},
   "outputs": [],
   "source": [
    "import spacy"
   ]
  },
  {
   "cell_type": "markdown",
   "metadata": {},
   "source": [
    "We can now import the English NLP pipeline to process some word list. Since the small models in spacy only include context-sensitive tensors, we should use the dowloaded large model for better word vectors. We load the large model as follows:"
   ]
  },
  {
   "cell_type": "code",
   "execution_count": 18,
   "metadata": {},
   "outputs": [],
   "source": [
    "nlp = spacy.load('en_core_web_lg')"
   ]
  },
  {
   "cell_type": "markdown",
   "metadata": {},
   "source": [
    "We can process a list of words by the pipeline using the *nlp* object:"
   ]
  },
  {
   "cell_type": "code",
   "execution_count": 19,
   "metadata": {},
   "outputs": [],
   "source": [
    "tokens = nlp(u'dog poodle beagle cat banana apple')"
   ]
  },
  {
   "cell_type": "markdown",
   "metadata": {},
   "source": [
    "As described in the spaCy chapter *[Word Vectors and Semantic Similarity](https://spacy.io/usage/vectors-similarity)*, the resulting elements of *Doc*, *Span*, and *Token* provide a method *similarity()*, which returns the similarities between words: "
   ]
  },
  {
   "cell_type": "code",
   "execution_count": 20,
   "metadata": {},
   "outputs": [
    {
     "name": "stdout",
     "output_type": "stream",
     "text": [
      "dog dog 1.0\n",
      "dog poodle 0.6339901089668274\n",
      "dog beagle 0.5964534282684326\n",
      "dog cat 0.8220817446708679\n",
      "dog banana 0.2090904861688614\n",
      "dog apple 0.22881002724170685\n",
      "poodle dog 0.6339901089668274\n",
      "poodle poodle 1.0\n",
      "poodle beagle 0.6217650771141052\n",
      "poodle cat 0.6388018131256104\n",
      "poodle banana 0.2899792790412903\n",
      "poodle apple 0.237016960978508\n",
      "beagle dog 0.5964534282684326\n",
      "beagle poodle 0.6217650771141052\n",
      "beagle beagle 1.0\n",
      "beagle cat 0.5943629145622253\n",
      "beagle banana 0.10636148601770401\n",
      "beagle apple 0.1200629323720932\n",
      "cat dog 0.8220817446708679\n",
      "cat poodle 0.6388018131256104\n",
      "cat beagle 0.5943629145622253\n",
      "cat cat 1.0\n",
      "cat banana 0.2235882729291916\n",
      "cat apple 0.20368057489395142\n",
      "banana dog 0.2090904861688614\n",
      "banana poodle 0.2899792790412903\n",
      "banana beagle 0.10636148601770401\n",
      "banana cat 0.2235882729291916\n",
      "banana banana 1.0\n",
      "banana apple 0.6646701097488403\n",
      "apple dog 0.22881002724170685\n",
      "apple poodle 0.237016960978508\n",
      "apple beagle 0.1200629323720932\n",
      "apple cat 0.20368057489395142\n",
      "apple banana 0.6646701097488403\n",
      "apple apple 1.0\n"
     ]
    }
   ],
   "source": [
    "for token1 in tokens:\n",
    "    # print(token1.vector)\n",
    "    for token2 in tokens:\n",
    "        print(token1, token2, token1.similarity(token2))"
   ]
  },
  {
   "cell_type": "markdown",
   "metadata": {},
   "source": [
    "We can access the *vectors* of these objects using the *vector* attribute:"
   ]
  },
  {
   "cell_type": "code",
   "execution_count": 5,
   "metadata": {},
   "outputs": [
    {
     "name": "stdout",
     "output_type": "stream",
     "text": [
      "dog True 75.254234 False\n",
      "cat True 63.188496 False\n",
      "banana True 31.620354 False\n",
      "grungle False 0.0 True\n"
     ]
    }
   ],
   "source": [
    "tokens = nlp(u'dog cat banana grungle')\n",
    "\n",
    "for token in tokens:\n",
    "    print(token.text, token.has_vector, token.vector_norm, token.is_oov)"
   ]
  },
  {
   "cell_type": "markdown",
   "metadata": {},
   "source": [
    "The attribute *has_vector* returns a boolean depending on whether the token has a vector in the model or not. The token *grungle* has no vector. It is also out-of-vocabulary (OOV), as the fourth column shows. Thus, it also has a norm of $0$, that is, it has a length of $0$."
   ]
  },
  {
   "cell_type": "markdown",
   "metadata": {},
   "source": [
    "Here the token vector has a length of $300$. We can print out the vector for a token:"
   ]
  },
  {
   "cell_type": "code",
   "execution_count": 6,
   "metadata": {},
   "outputs": [
    {
     "name": "stdout",
     "output_type": "stream",
     "text": [
      "dog 300 [ 1.2330e+00  4.2963e+00 -7.9738e+00 -1.0121e+01  1.8207e+00  1.4098e+00\n",
      " -4.5180e+00 -5.2261e+00 -2.9157e-01  9.5234e-01  6.9880e+00  5.0637e+00\n",
      " -5.5726e-03  3.3395e+00  6.4596e+00 -6.3742e+00  3.9045e-02 -3.9855e+00\n",
      "  1.2085e+00 -1.3186e+00 -4.8886e+00  3.7066e+00 -2.8281e+00 -3.5447e+00\n",
      "  7.6888e-01  1.5016e+00 -4.3632e+00  8.6480e+00 -5.9286e+00 -1.3055e+00\n",
      "  8.3870e-01  9.0137e-01 -1.7843e+00 -1.0148e+00  2.7300e+00 -6.9039e+00\n",
      "  8.0413e-01  7.4880e+00  6.1078e+00 -4.2130e+00 -1.5384e-01 -5.4995e+00\n",
      "  1.0896e+01  3.9278e+00 -1.3601e-01  7.7732e-02  3.2218e+00 -5.8777e+00\n",
      "  6.1359e-01 -2.4287e+00  6.2820e+00  1.3461e+01  4.3236e+00  2.4266e+00\n",
      " -2.6512e+00  1.1577e+00  5.0848e+00 -1.7058e+00  3.3824e+00  3.2850e+00\n",
      "  1.0969e+00 -8.3711e+00 -1.5554e+00  2.0296e+00 -2.6796e+00 -6.9195e+00\n",
      " -2.3386e+00 -1.9916e+00 -3.0450e+00  2.4890e+00  7.3247e+00  1.3364e+00\n",
      "  2.3828e-01  8.4388e-02  3.1480e+00 -1.1128e+00 -3.5598e+00 -1.2115e-01\n",
      " -2.0357e+00 -3.2731e+00 -7.7205e+00  4.0948e+00 -2.0732e+00  2.0833e+00\n",
      " -2.2803e+00 -4.9850e+00  9.7667e+00  6.1779e+00 -1.0352e+01 -2.2268e+00\n",
      "  2.5765e+00 -5.7440e+00  5.5564e+00 -5.2735e+00  3.0004e+00 -4.2512e+00\n",
      " -1.5682e+00  2.2698e+00  1.0491e+00 -9.0486e+00  4.2936e+00  1.8709e+00\n",
      "  5.1985e+00 -1.3153e+00  6.5224e+00  4.0113e-01 -1.2583e+01  3.6534e+00\n",
      " -2.0961e+00  1.0022e+00 -1.7873e+00 -4.2555e+00  7.7471e+00  1.0173e+00\n",
      "  3.1626e+00  2.3558e+00  3.3589e-01 -4.4178e+00  5.0584e+00 -2.4118e+00\n",
      " -2.7445e+00  3.4170e+00 -1.1574e+01 -2.6568e+00 -3.6933e+00 -2.0398e+00\n",
      "  5.0976e+00  6.5249e+00  3.3573e+00  9.5334e-01 -9.4430e-01 -9.4395e+00\n",
      "  2.7867e+00 -1.7549e+00  1.7287e+00  3.4942e+00 -1.6883e+00 -3.5771e+00\n",
      " -1.9013e+00  2.2239e+00 -5.4335e+00 -6.5724e+00 -6.7228e-01 -1.9748e+00\n",
      " -3.1080e+00 -1.8570e+00  9.9496e-01  8.9135e-01 -4.4254e+00  3.3125e-01\n",
      "  5.8815e+00  1.9384e+00  5.7294e-01 -2.8830e+00  3.8087e+00 -1.3095e+00\n",
      "  5.9208e+00  3.3620e+00  3.3571e+00 -3.8807e-01  9.0022e-01 -5.5742e+00\n",
      " -4.2939e+00  1.4992e+00 -4.7080e+00 -2.9402e+00 -1.2259e+00  3.0980e-01\n",
      "  1.8858e+00 -1.9867e+00 -2.3554e-01 -5.4535e-01 -2.1387e-01  2.4797e+00\n",
      "  5.9710e+00 -7.1249e+00  1.6257e+00 -1.5241e+00  7.5974e-01  1.4312e+00\n",
      "  2.3641e+00 -3.5566e+00  9.2066e-01  4.4934e-01 -1.3233e+00  3.1733e+00\n",
      " -4.7059e+00 -1.2090e+01 -3.9241e-01 -6.8457e-01 -3.6789e+00  6.6279e+00\n",
      " -2.9937e+00 -3.8361e+00  1.3868e+00 -4.9002e+00 -2.4299e+00  6.4312e+00\n",
      "  2.5056e+00 -4.5080e+00 -5.1278e+00 -1.5585e+00 -3.0226e+00 -8.6811e-01\n",
      " -1.1538e+00 -1.0022e+00 -9.1651e-01 -4.7810e-01 -1.6084e+00 -2.7307e+00\n",
      "  3.7080e+00  7.7423e-01 -1.1085e+00 -6.8755e-01 -8.2901e+00  3.2405e+00\n",
      " -1.6108e-01 -6.2837e-01 -5.5960e+00 -4.4865e+00  4.0115e-01 -3.7063e+00\n",
      " -2.1704e+00  4.0789e+00 -1.7973e+00  8.9538e+00  8.9421e-01 -4.8128e+00\n",
      "  4.5367e+00 -3.2579e-01 -5.2344e+00 -3.9766e+00 -2.1979e+00  3.5699e+00\n",
      "  1.4982e+00  6.0972e+00 -1.9704e+00  4.6522e+00 -3.7734e-01  3.9101e-02\n",
      "  2.5361e+00 -1.8096e+00  8.7035e+00 -8.6372e+00 -3.5257e+00  3.1034e+00\n",
      "  3.2635e+00  4.5437e+00 -5.7290e+00 -2.9141e-01 -2.0011e+00  8.5328e+00\n",
      " -4.5064e+00 -4.8276e+00 -1.1786e+01  3.5607e-01 -5.7115e+00  6.3122e+00\n",
      " -3.6650e+00  3.3597e-01  2.5017e+00 -3.5025e+00 -3.7891e+00 -3.1343e+00\n",
      " -1.4429e+00 -6.9119e+00 -2.6114e+00 -5.9757e-01  3.7847e-01  6.3187e+00\n",
      "  2.8965e+00 -2.5397e+00  1.8022e+00  3.5486e+00  4.4721e+00 -4.8481e+00\n",
      " -3.6252e+00  4.0969e+00 -2.0081e+00 -2.0122e-01  2.5244e+00 -6.8817e-01\n",
      "  6.7184e-01 -7.0466e+00  1.6641e+00 -2.2308e+00 -3.8960e+00  6.1320e+00\n",
      " -8.0335e+00 -1.7130e+00  2.5688e+00 -5.2547e+00  6.9845e+00  2.7835e-01\n",
      " -6.4554e+00 -2.1327e+00 -5.6515e+00  1.1174e+01 -8.0568e+00  5.7985e+00]\n"
     ]
    }
   ],
   "source": [
    "n = 0\n",
    "print(tokens[n].text, len(tokens[n].vector), tokens[n].vector)"
   ]
  },
  {
   "cell_type": "markdown",
   "metadata": {},
   "source": [
    "Here just another example of similarities for some famous words:"
   ]
  },
  {
   "cell_type": "code",
   "execution_count": 7,
   "metadata": {},
   "outputs": [
    {
     "name": "stdout",
     "output_type": "stream",
     "text": [
      "queen queen 1.0\n",
      "queen king 0.6108841896057129\n",
      "queen chef 0.13113069534301758\n",
      "king queen 0.6108841896057129\n",
      "king king 1.0\n",
      "king chef 0.04403642565011978\n",
      "chef queen 0.13113069534301758\n",
      "chef king 0.04403642565011978\n",
      "chef chef 1.0\n"
     ]
    }
   ],
   "source": [
    "tokens = nlp(u'queen king chef')\n",
    "\n",
    "for token1 in tokens:\n",
    "    for token2 in tokens:\n",
    "        print(token1, token2, token1.similarity(token2))"
   ]
  },
  {
   "cell_type": "markdown",
   "metadata": {},
   "source": [
    "### Similarities in Context"
   ]
  },
  {
   "cell_type": "markdown",
   "metadata": {},
   "source": [
    "In spaCy parsing, tagging and NER models make use of vector representations of contexts that represent the *meaning of words*. A text *meaning representation* is represented as an array of floats, i.e. a tensor, computed during the NLP pipeline processing. With this approach words that have not been seen before can be typed or classified. SpaCy uses a 4-layer convolutional network for the computation of these tensors. In this approach these tensors model a context of four words left and right of any given word."
   ]
  },
  {
   "cell_type": "markdown",
   "metadata": {},
   "source": [
    "Let us use the example from the spaCy documentation and check the word *labrador*:"
   ]
  },
  {
   "cell_type": "code",
   "execution_count": 8,
   "metadata": {},
   "outputs": [
    {
     "name": "stdout",
     "output_type": "stream",
     "text": [
      "labrador True 22.03589 False\n"
     ]
    }
   ],
   "source": [
    "tokens = nlp(u'labrador')\n",
    "\n",
    "for token in tokens:\n",
    "    print(token.text, token.has_vector, token.vector_norm, token.is_oov)"
   ]
  },
  {
   "cell_type": "markdown",
   "metadata": {},
   "source": [
    "We can now test for the context:"
   ]
  },
  {
   "cell_type": "code",
   "execution_count": 9,
   "metadata": {},
   "outputs": [
    {
     "name": "stdout",
     "output_type": "stream",
     "text": [
      "1: 0.09123279947734134\n",
      "2: 0.0818719127377742\n",
      "3: 0.09721566052157429\n"
     ]
    }
   ],
   "source": [
    "doc1 = nlp(u\"The labrador barked.\")\n",
    "doc2 = nlp(u\"The labrador swam.\")\n",
    "doc3 = nlp(u\"The people on Labrador are Canadians.\")\n",
    "\n",
    "dog = nlp(u\"dog\")\n",
    "\n",
    "count = 0\n",
    "for doc in [doc1, doc2, doc3]:\n",
    "    lab = doc\n",
    "    count += 1\n",
    "    print(str(count) + \":\", lab.similarity(dog))"
   ]
  },
  {
   "cell_type": "markdown",
   "metadata": {},
   "source": [
    "Using this strategy we can compute document or text similarities as well:"
   ]
  },
  {
   "cell_type": "code",
   "execution_count": 10,
   "metadata": {},
   "outputs": [
    {
     "name": "stdout",
     "output_type": "stream",
     "text": [
      "0 1 0.8596882830672081\n",
      "0 2 0.5688490403558649\n",
      "1 0 0.8596882830672081\n",
      "1 2 0.6276001607674082\n",
      "2 0 0.5688490403558649\n",
      "2 1 0.6276001607674082\n"
     ]
    }
   ],
   "source": [
    "docs = ( nlp(u\"Paris is the largest city in France.\"),\n",
    "        nlp(u\"Vilnius is the capital of Lithuania.\"),\n",
    "        nlp(u\"An emu is a large bird.\") )\n",
    "\n",
    "for x in range(len(docs)):\n",
    "    zset = set(range(len(docs)))\n",
    "    zset.remove(x)\n",
    "    for y in zset:\n",
    "        print(x, y, docs[x].similarity(docs[y]))"
   ]
  },
  {
   "cell_type": "markdown",
   "metadata": {},
   "source": [
    "We can vary the word order in sentences and compare them:"
   ]
  },
  {
   "cell_type": "code",
   "execution_count": 11,
   "metadata": {},
   "outputs": [
    {
     "name": "stdout",
     "output_type": "stream",
     "text": [
      "\"dog bites man\" \"dog bites man\" 1.0\n",
      "\"dog bites man\" \"man bites dog\" 0.9999999483653454\n",
      "\"dog bites man\" \"man dog bites\" 0.9999998947030624\n",
      "\"dog bites man\" \"cat eats mouse\" 0.6909646217296318\n",
      "\"man bites dog\" \"dog bites man\" 0.9999999483653454\n",
      "\"man bites dog\" \"man bites dog\" 1.0\n",
      "\"man bites dog\" \"man dog bites\" 1.000000012821272\n",
      "\"man bites dog\" \"cat eats mouse\" 0.69096462081283\n",
      "\"man dog bites\" \"dog bites man\" 0.9999998947030624\n",
      "\"man dog bites\" \"man bites dog\" 1.000000012821272\n",
      "\"man dog bites\" \"man dog bites\" 1.0\n",
      "\"man dog bites\" \"cat eats mouse\" 0.690964625000244\n",
      "\"cat eats mouse\" \"dog bites man\" 0.6909646217296318\n",
      "\"cat eats mouse\" \"man bites dog\" 0.69096462081283\n",
      "\"cat eats mouse\" \"man dog bites\" 0.690964625000244\n",
      "\"cat eats mouse\" \"cat eats mouse\" 1.0\n"
     ]
    }
   ],
   "source": [
    "docs = [nlp(u\"dog bites man\"), nlp(u\"man bites dog\"),\n",
    "        nlp(u\"man dog bites\"), nlp(u\"cat eats mouse\")]\n",
    "\n",
    "for doc in docs:\n",
    "    for other_doc in docs:\n",
    "        print('\"' + doc.text + '\"', '\"' + other_doc.text + '\"', doc.similarity(other_doc))"
   ]
  },
  {
   "cell_type": "markdown",
   "metadata": {},
   "source": [
    "### Custom Models"
   ]
  },
  {
   "cell_type": "markdown",
   "metadata": {},
   "source": [
    "#### Optimization"
   ]
  },
  {
   "cell_type": "code",
   "execution_count": 20,
   "metadata": {},
   "outputs": [],
   "source": [
    "nlp = spacy.load('en_core_web_lg')"
   ]
  },
  {
   "cell_type": "markdown",
   "metadata": {},
   "source": [
    "## Training Models"
   ]
  },
  {
   "cell_type": "markdown",
   "metadata": {},
   "source": [
    "This example code for training an NER model is based on the [training example in spaCy](https://github.com/explosion/spaCy/blob/master/examples/training/train_ner.py)."
   ]
  },
  {
   "cell_type": "markdown",
   "metadata": {},
   "source": [
    "We will import some components from the *__future__* module. Read its [documentation here](https://docs.python.org/3/library/__future__.html)."
   ]
  },
  {
   "cell_type": "code",
   "execution_count": 21,
   "metadata": {},
   "outputs": [],
   "source": [
    "from __future__ import unicode_literals, print_function"
   ]
  },
  {
   "cell_type": "markdown",
   "metadata": {},
   "source": [
    "We import the [*random*](https://docs.python.org/3/library/random.html) module for pseudo-random number generation:"
   ]
  },
  {
   "cell_type": "code",
   "execution_count": 22,
   "metadata": {},
   "outputs": [],
   "source": [
    "import random"
   ]
  },
  {
   "cell_type": "markdown",
   "metadata": {},
   "source": [
    "We import the *Path* object from the [*pathlib*](https://docs.python.org/3/library/pathlib.html) module:"
   ]
  },
  {
   "cell_type": "code",
   "execution_count": 23,
   "metadata": {},
   "outputs": [],
   "source": [
    "from pathlib import Path"
   ]
  },
  {
   "cell_type": "markdown",
   "metadata": {},
   "source": [
    "We import *spaCy*:"
   ]
  },
  {
   "cell_type": "code",
   "execution_count": 24,
   "metadata": {},
   "outputs": [],
   "source": [
    "import spacy"
   ]
  },
  {
   "cell_type": "markdown",
   "metadata": {},
   "source": [
    "We also import the minibatch and compounding module from *spaCy.utils*:"
   ]
  },
  {
   "cell_type": "code",
   "execution_count": 25,
   "metadata": {},
   "outputs": [],
   "source": [
    "from spacy.util import minibatch, compounding\n",
    "from spacy.training.example import Example"
   ]
  },
  {
   "cell_type": "markdown",
   "metadata": {},
   "source": [
    "The training data is formated as JSON:"
   ]
  },
  {
   "cell_type": "code",
   "execution_count": 26,
   "metadata": {},
   "outputs": [],
   "source": [
    "TRAIN_DATA = [\n",
    "    (\"Who is Shaka Khan?\", {\"entities\": [(7, 17, \"PERSON\")]}),\n",
    "    (\"I like London and Berlin.\", {\"entities\": [(7, 13, \"LOC\"), (18, 24, \"LOC\")]}),\n",
    "]"
   ]
  },
  {
   "cell_type": "markdown",
   "metadata": {},
   "source": [
    "We created a blank 'xx' model:"
   ]
  },
  {
   "cell_type": "code",
   "execution_count": 27,
   "metadata": {},
   "outputs": [],
   "source": [
    "nlp = spacy.blank(\"xx\")  # create blank Language class\n",
    "ner = nlp.add_pipe(\"ner\", last=True)"
   ]
  },
  {
   "cell_type": "markdown",
   "metadata": {},
   "source": [
    "We add the named entity labels to the NER model:"
   ]
  },
  {
   "cell_type": "code",
   "execution_count": 28,
   "metadata": {},
   "outputs": [],
   "source": [
    "for _, annotations in TRAIN_DATA:\n",
    "    for ent in annotations.get(\"entities\"):\n",
    "        ner.add_label(ent[2])"
   ]
  },
  {
   "cell_type": "markdown",
   "metadata": {},
   "source": [
    "Assuming that the model is empty and untrained, we reset and initialize the weights randomly using:"
   ]
  },
  {
   "cell_type": "code",
   "execution_count": 29,
   "metadata": {},
   "outputs": [
    {
     "data": {
      "text/plain": [
       "<thinc.optimizers.Optimizer at 0x2b641d22fc0>"
      ]
     },
     "execution_count": 29,
     "metadata": {},
     "output_type": "execute_result"
    }
   ],
   "source": [
    "nlp.begin_training()"
   ]
  },
  {
   "cell_type": "markdown",
   "metadata": {},
   "source": [
    "We would not do this, if the model is supposed to be tuned or retrained on new data."
   ]
  },
  {
   "cell_type": "markdown",
   "metadata": {},
   "source": [
    "We get all pipe-names in the model that are not our NER related pipes to disable them during training:"
   ]
  },
  {
   "cell_type": "code",
   "execution_count": 30,
   "metadata": {},
   "outputs": [],
   "source": [
    "pipe_exceptions = [\"ner\", \"trf_wordpiecer\", \"trf_tok2vec\"]\n",
    "other_pipes = [pipe for pipe in nlp.pipe_names if pipe not in pipe_exceptions]"
   ]
  },
  {
   "cell_type": "markdown",
   "metadata": {},
   "source": [
    "We can now disable the other pipes and train just the NER uing 100 iterations:"
   ]
  },
  {
   "cell_type": "code",
   "execution_count": 31,
   "metadata": {},
   "outputs": [
    {
     "name": "stdout",
     "output_type": "stream",
     "text": [
      "I like London and Berlin.\n",
      "{'entities': [(7, 13, 'LOC'), (18, 24, 'LOC')]}\n",
      "Who is Shaka Khan?\n",
      "{'entities': [(7, 17, 'PERSON')]}\n",
      "Losses {'ner': 9.807347595691681}\n",
      "Who is Shaka Khan?\n",
      "{'entities': [(7, 17, 'PERSON')]}\n",
      "I like London and Berlin.\n",
      "{'entities': [(7, 13, 'LOC'), (18, 24, 'LOC')]}\n",
      "Losses {'ner': 9.369681477546692}\n",
      "I like London and Berlin.\n",
      "{'entities': [(7, 13, 'LOC'), (18, 24, 'LOC')]}\n",
      "Who is Shaka Khan?\n",
      "{'entities': [(7, 17, 'PERSON')]}\n",
      "Losses {'ner': 8.871686816215515}\n",
      "Who is Shaka Khan?\n",
      "{'entities': [(7, 17, 'PERSON')]}\n",
      "I like London and Berlin.\n",
      "{'entities': [(7, 13, 'LOC'), (18, 24, 'LOC')]}\n",
      "Losses {'ner': 8.334201335906982}\n",
      "Who is Shaka Khan?\n",
      "{'entities': [(7, 17, 'PERSON')]}\n",
      "I like London and Berlin.\n",
      "{'entities': [(7, 13, 'LOC'), (18, 24, 'LOC')]}\n",
      "Losses {'ner': 7.543903052806854}\n",
      "Who is Shaka Khan?\n",
      "{'entities': [(7, 17, 'PERSON')]}\n",
      "I like London and Berlin.\n",
      "{'entities': [(7, 13, 'LOC'), (18, 24, 'LOC')]}\n",
      "Losses {'ner': 7.165753066539764}\n",
      "Who is Shaka Khan?\n",
      "{'entities': [(7, 17, 'PERSON')]}\n",
      "I like London and Berlin.\n",
      "{'entities': [(7, 13, 'LOC'), (18, 24, 'LOC')]}\n",
      "Losses {'ner': 6.5413538813591}\n",
      "Who is Shaka Khan?\n",
      "{'entities': [(7, 17, 'PERSON')]}\n",
      "I like London and Berlin.\n",
      "{'entities': [(7, 13, 'LOC'), (18, 24, 'LOC')]}\n",
      "Losses {'ner': 5.844934344291687}\n",
      "Who is Shaka Khan?\n",
      "{'entities': [(7, 17, 'PERSON')]}\n",
      "I like London and Berlin.\n",
      "{'entities': [(7, 13, 'LOC'), (18, 24, 'LOC')]}\n",
      "Losses {'ner': 4.9118446707725525}\n",
      "Who is Shaka Khan?\n",
      "{'entities': [(7, 17, 'PERSON')]}\n",
      "I like London and Berlin.\n",
      "{'entities': [(7, 13, 'LOC'), (18, 24, 'LOC')]}\n",
      "Losses {'ner': 4.92004306614399}\n",
      "Who is Shaka Khan?\n",
      "{'entities': [(7, 17, 'PERSON')]}\n",
      "I like London and Berlin.\n",
      "{'entities': [(7, 13, 'LOC'), (18, 24, 'LOC')]}\n",
      "Losses {'ner': 4.341762537136674}\n",
      "Who is Shaka Khan?\n",
      "{'entities': [(7, 17, 'PERSON')]}\n",
      "I like London and Berlin.\n",
      "{'entities': [(7, 13, 'LOC'), (18, 24, 'LOC')]}\n",
      "Losses {'ner': 4.77932108938694}\n",
      "Who is Shaka Khan?\n",
      "{'entities': [(7, 17, 'PERSON')]}\n",
      "I like London and Berlin.\n",
      "{'entities': [(7, 13, 'LOC'), (18, 24, 'LOC')]}\n",
      "Losses {'ner': 4.258635206148028}\n",
      "I like London and Berlin.\n",
      "{'entities': [(7, 13, 'LOC'), (18, 24, 'LOC')]}\n",
      "Who is Shaka Khan?\n",
      "{'entities': [(7, 17, 'PERSON')]}\n",
      "Losses {'ner': 4.824741402873769}\n",
      "Who is Shaka Khan?\n",
      "{'entities': [(7, 17, 'PERSON')]}\n",
      "I like London and Berlin.\n",
      "{'entities': [(7, 13, 'LOC'), (18, 24, 'LOC')]}\n",
      "Losses {'ner': 3.647263493738137}\n",
      "I like London and Berlin.\n",
      "{'entities': [(7, 13, 'LOC'), (18, 24, 'LOC')]}\n",
      "Who is Shaka Khan?\n",
      "{'entities': [(7, 17, 'PERSON')]}\n",
      "Losses {'ner': 3.5353598798974417}\n",
      "Who is Shaka Khan?\n",
      "{'entities': [(7, 17, 'PERSON')]}\n",
      "I like London and Berlin.\n",
      "{'entities': [(7, 13, 'LOC'), (18, 24, 'LOC')]}\n",
      "Losses {'ner': 3.340225256513804}\n",
      "Who is Shaka Khan?\n",
      "{'entities': [(7, 17, 'PERSON')]}\n",
      "I like London and Berlin.\n",
      "{'entities': [(7, 13, 'LOC'), (18, 24, 'LOC')]}\n",
      "Losses {'ner': 3.264639046508819}\n",
      "I like London and Berlin.\n",
      "{'entities': [(7, 13, 'LOC'), (18, 24, 'LOC')]}\n",
      "Who is Shaka Khan?\n",
      "{'entities': [(7, 17, 'PERSON')]}\n",
      "Losses {'ner': 3.187408015015535}\n",
      "Who is Shaka Khan?\n",
      "{'entities': [(7, 17, 'PERSON')]}\n",
      "I like London and Berlin.\n",
      "{'entities': [(7, 13, 'LOC'), (18, 24, 'LOC')]}\n",
      "Losses {'ner': 3.7551015835488215}\n",
      "I like London and Berlin.\n",
      "{'entities': [(7, 13, 'LOC'), (18, 24, 'LOC')]}\n",
      "Who is Shaka Khan?\n",
      "{'entities': [(7, 17, 'PERSON')]}\n",
      "Losses {'ner': 2.289530265290523}\n",
      "I like London and Berlin.\n",
      "{'entities': [(7, 13, 'LOC'), (18, 24, 'LOC')]}\n",
      "Who is Shaka Khan?\n",
      "{'entities': [(7, 17, 'PERSON')]}\n",
      "Losses {'ner': 3.3376715423946735}\n",
      "Who is Shaka Khan?\n",
      "{'entities': [(7, 17, 'PERSON')]}\n",
      "I like London and Berlin.\n",
      "{'entities': [(7, 13, 'LOC'), (18, 24, 'LOC')]}\n",
      "Losses {'ner': 2.0136118575392175}\n",
      "I like London and Berlin.\n",
      "{'entities': [(7, 13, 'LOC'), (18, 24, 'LOC')]}\n",
      "Who is Shaka Khan?\n",
      "{'entities': [(7, 17, 'PERSON')]}\n",
      "Losses {'ner': 1.8762141591287218}\n",
      "Who is Shaka Khan?\n",
      "{'entities': [(7, 17, 'PERSON')]}\n",
      "I like London and Berlin.\n",
      "{'entities': [(7, 13, 'LOC'), (18, 24, 'LOC')]}\n",
      "Losses {'ner': 1.9188840730348602}\n",
      "I like London and Berlin.\n",
      "{'entities': [(7, 13, 'LOC'), (18, 24, 'LOC')]}\n",
      "Who is Shaka Khan?\n",
      "{'entities': [(7, 17, 'PERSON')]}\n",
      "Losses {'ner': 1.5887604513882252}\n",
      "Who is Shaka Khan?\n",
      "{'entities': [(7, 17, 'PERSON')]}\n",
      "I like London and Berlin.\n",
      "{'entities': [(7, 13, 'LOC'), (18, 24, 'LOC')]}\n",
      "Losses {'ner': 1.3484344640673953}\n",
      "Who is Shaka Khan?\n",
      "{'entities': [(7, 17, 'PERSON')]}\n",
      "I like London and Berlin.\n",
      "{'entities': [(7, 13, 'LOC'), (18, 24, 'LOC')]}\n",
      "Losses {'ner': 0.848252388347646}\n",
      "I like London and Berlin.\n",
      "{'entities': [(7, 13, 'LOC'), (18, 24, 'LOC')]}\n",
      "Who is Shaka Khan?\n",
      "{'entities': [(7, 17, 'PERSON')]}\n",
      "Losses {'ner': 4.57604845675246}\n",
      "I like London and Berlin.\n",
      "{'entities': [(7, 13, 'LOC'), (18, 24, 'LOC')]}\n",
      "Who is Shaka Khan?\n",
      "{'entities': [(7, 17, 'PERSON')]}\n",
      "Losses {'ner': 1.1573812445385556}\n",
      "I like London and Berlin.\n",
      "{'entities': [(7, 13, 'LOC'), (18, 24, 'LOC')]}\n",
      "Who is Shaka Khan?\n",
      "{'entities': [(7, 17, 'PERSON')]}\n",
      "Losses {'ner': 0.7836680602194974}\n",
      "Who is Shaka Khan?\n",
      "{'entities': [(7, 17, 'PERSON')]}\n",
      "I like London and Berlin.\n",
      "{'entities': [(7, 13, 'LOC'), (18, 24, 'LOC')]}\n",
      "Losses {'ner': 1.081124707095114}\n",
      "I like London and Berlin.\n",
      "{'entities': [(7, 13, 'LOC'), (18, 24, 'LOC')]}\n",
      "Who is Shaka Khan?\n",
      "{'entities': [(7, 17, 'PERSON')]}\n",
      "Losses {'ner': 2.5611371530086773}\n",
      "I like London and Berlin.\n",
      "{'entities': [(7, 13, 'LOC'), (18, 24, 'LOC')]}\n",
      "Who is Shaka Khan?\n",
      "{'entities': [(7, 17, 'PERSON')]}\n",
      "Losses {'ner': 3.0154890387589717}\n",
      "Who is Shaka Khan?\n",
      "{'entities': [(7, 17, 'PERSON')]}\n",
      "I like London and Berlin.\n",
      "{'entities': [(7, 13, 'LOC'), (18, 24, 'LOC')]}\n",
      "Losses {'ner': 0.8751591411386901}\n",
      "Who is Shaka Khan?\n",
      "{'entities': [(7, 17, 'PERSON')]}\n",
      "I like London and Berlin.\n",
      "{'entities': [(7, 13, 'LOC'), (18, 24, 'LOC')]}\n",
      "Losses {'ner': 1.7640167556906237}\n",
      "Who is Shaka Khan?\n",
      "{'entities': [(7, 17, 'PERSON')]}\n",
      "I like London and Berlin.\n",
      "{'entities': [(7, 13, 'LOC'), (18, 24, 'LOC')]}\n",
      "Losses {'ner': 2.0371930692425053}\n",
      "I like London and Berlin.\n",
      "{'entities': [(7, 13, 'LOC'), (18, 24, 'LOC')]}\n",
      "Who is Shaka Khan?\n",
      "{'entities': [(7, 17, 'PERSON')]}\n",
      "Losses {'ner': 0.7957044126253718}\n",
      "I like London and Berlin.\n",
      "{'entities': [(7, 13, 'LOC'), (18, 24, 'LOC')]}\n",
      "Who is Shaka Khan?\n",
      "{'entities': [(7, 17, 'PERSON')]}\n",
      "Losses {'ner': 0.6850631531892213}\n",
      "I like London and Berlin.\n",
      "{'entities': [(7, 13, 'LOC'), (18, 24, 'LOC')]}\n",
      "Who is Shaka Khan?\n",
      "{'entities': [(7, 17, 'PERSON')]}\n",
      "Losses {'ner': 0.5150541637458872}\n",
      "I like London and Berlin.\n",
      "{'entities': [(7, 13, 'LOC'), (18, 24, 'LOC')]}\n",
      "Who is Shaka Khan?\n",
      "{'entities': [(7, 17, 'PERSON')]}\n",
      "Losses {'ner': 0.45249649732791986}\n",
      "I like London and Berlin.\n",
      "{'entities': [(7, 13, 'LOC'), (18, 24, 'LOC')]}\n",
      "Who is Shaka Khan?\n",
      "{'entities': [(7, 17, 'PERSON')]}\n",
      "Losses {'ner': 0.5947037761304507}\n",
      "Who is Shaka Khan?\n",
      "{'entities': [(7, 17, 'PERSON')]}\n",
      "I like London and Berlin.\n",
      "{'entities': [(7, 13, 'LOC'), (18, 24, 'LOC')]}\n",
      "Losses {'ner': 0.14031210119793752}\n",
      "Who is Shaka Khan?\n",
      "{'entities': [(7, 17, 'PERSON')]}\n",
      "I like London and Berlin.\n",
      "{'entities': [(7, 13, 'LOC'), (18, 24, 'LOC')]}\n",
      "Losses {'ner': 0.7819525587022729}\n",
      "I like London and Berlin.\n",
      "{'entities': [(7, 13, 'LOC'), (18, 24, 'LOC')]}\n",
      "Who is Shaka Khan?\n",
      "{'entities': [(7, 17, 'PERSON')]}\n",
      "Losses {'ner': 0.29347991975829757}\n",
      "I like London and Berlin.\n",
      "{'entities': [(7, 13, 'LOC'), (18, 24, 'LOC')]}\n",
      "Who is Shaka Khan?\n",
      "{'entities': [(7, 17, 'PERSON')]}\n",
      "Losses {'ner': 0.0796220903233139}\n",
      "Who is Shaka Khan?\n",
      "{'entities': [(7, 17, 'PERSON')]}\n",
      "I like London and Berlin.\n",
      "{'entities': [(7, 13, 'LOC'), (18, 24, 'LOC')]}\n",
      "Losses {'ner': 0.0006723087730059422}\n",
      "Who is Shaka Khan?\n",
      "{'entities': [(7, 17, 'PERSON')]}\n",
      "I like London and Berlin.\n",
      "{'entities': [(7, 13, 'LOC'), (18, 24, 'LOC')]}\n",
      "Losses {'ner': 0.03155381960279156}\n",
      "Who is Shaka Khan?\n",
      "{'entities': [(7, 17, 'PERSON')]}\n",
      "I like London and Berlin.\n",
      "{'entities': [(7, 13, 'LOC'), (18, 24, 'LOC')]}\n",
      "Losses {'ner': 1.3430745274290619}\n",
      "I like London and Berlin.\n",
      "{'entities': [(7, 13, 'LOC'), (18, 24, 'LOC')]}\n",
      "Who is Shaka Khan?\n",
      "{'entities': [(7, 17, 'PERSON')]}\n",
      "Losses {'ner': 0.08352775016741426}\n",
      "I like London and Berlin.\n",
      "{'entities': [(7, 13, 'LOC'), (18, 24, 'LOC')]}\n",
      "Who is Shaka Khan?\n",
      "{'entities': [(7, 17, 'PERSON')]}\n",
      "Losses {'ner': 0.0015205801696685027}\n",
      "Who is Shaka Khan?\n",
      "{'entities': [(7, 17, 'PERSON')]}\n",
      "I like London and Berlin.\n",
      "{'entities': [(7, 13, 'LOC'), (18, 24, 'LOC')]}\n",
      "Losses {'ner': 0.00017097222212371238}\n",
      "Who is Shaka Khan?\n",
      "{'entities': [(7, 17, 'PERSON')]}\n",
      "I like London and Berlin.\n",
      "{'entities': [(7, 13, 'LOC'), (18, 24, 'LOC')]}\n",
      "Losses {'ner': 0.001373792960154848}\n",
      "I like London and Berlin.\n",
      "{'entities': [(7, 13, 'LOC'), (18, 24, 'LOC')]}\n",
      "Who is Shaka Khan?\n",
      "{'entities': [(7, 17, 'PERSON')]}\n",
      "Losses {'ner': 0.0168216644687378}\n",
      "Who is Shaka Khan?\n",
      "{'entities': [(7, 17, 'PERSON')]}\n",
      "I like London and Berlin.\n",
      "{'entities': [(7, 13, 'LOC'), (18, 24, 'LOC')]}\n",
      "Losses {'ner': 7.057150727511425e-06}\n",
      "Who is Shaka Khan?\n",
      "{'entities': [(7, 17, 'PERSON')]}\n",
      "I like London and Berlin.\n",
      "{'entities': [(7, 13, 'LOC'), (18, 24, 'LOC')]}\n",
      "Losses {'ner': 9.183002753924096e-06}\n",
      "Who is Shaka Khan?\n",
      "{'entities': [(7, 17, 'PERSON')]}\n",
      "I like London and Berlin.\n",
      "{'entities': [(7, 13, 'LOC'), (18, 24, 'LOC')]}\n",
      "Losses {'ner': 0.05179606203409046}\n",
      "Who is Shaka Khan?\n",
      "{'entities': [(7, 17, 'PERSON')]}\n",
      "I like London and Berlin.\n",
      "{'entities': [(7, 13, 'LOC'), (18, 24, 'LOC')]}\n",
      "Losses {'ner': 7.560853716092613e-06}\n",
      "I like London and Berlin.\n",
      "{'entities': [(7, 13, 'LOC'), (18, 24, 'LOC')]}\n",
      "Who is Shaka Khan?\n",
      "{'entities': [(7, 17, 'PERSON')]}\n",
      "Losses {'ner': 1.0127835930351777e-06}\n",
      "I like London and Berlin.\n",
      "{'entities': [(7, 13, 'LOC'), (18, 24, 'LOC')]}\n",
      "Who is Shaka Khan?\n",
      "{'entities': [(7, 17, 'PERSON')]}\n",
      "Losses {'ner': 0.0006758011424471069}\n",
      "Who is Shaka Khan?\n",
      "{'entities': [(7, 17, 'PERSON')]}\n",
      "I like London and Berlin.\n",
      "{'entities': [(7, 13, 'LOC'), (18, 24, 'LOC')]}\n",
      "Losses {'ner': 9.556846995022738e-06}\n",
      "Who is Shaka Khan?\n",
      "{'entities': [(7, 17, 'PERSON')]}\n",
      "I like London and Berlin.\n",
      "{'entities': [(7, 13, 'LOC'), (18, 24, 'LOC')]}\n",
      "Losses {'ner': 1.3814524547610548e-07}\n",
      "I like London and Berlin.\n",
      "{'entities': [(7, 13, 'LOC'), (18, 24, 'LOC')]}\n",
      "Who is Shaka Khan?\n",
      "{'entities': [(7, 17, 'PERSON')]}\n",
      "Losses {'ner': 0.0007517005956336752}\n",
      "Who is Shaka Khan?\n",
      "{'entities': [(7, 17, 'PERSON')]}\n",
      "I like London and Berlin.\n",
      "{'entities': [(7, 13, 'LOC'), (18, 24, 'LOC')]}\n",
      "Losses {'ner': 1.06337513957525e-05}\n",
      "I like London and Berlin.\n",
      "{'entities': [(7, 13, 'LOC'), (18, 24, 'LOC')]}\n",
      "Who is Shaka Khan?\n",
      "{'entities': [(7, 17, 'PERSON')]}\n",
      "Losses {'ner': 0.00014363806223329097}\n",
      "I like London and Berlin.\n",
      "{'entities': [(7, 13, 'LOC'), (18, 24, 'LOC')]}\n",
      "Who is Shaka Khan?\n",
      "{'entities': [(7, 17, 'PERSON')]}\n",
      "Losses {'ner': 2.231868613463039e-05}\n",
      "Who is Shaka Khan?\n",
      "{'entities': [(7, 17, 'PERSON')]}\n",
      "I like London and Berlin.\n",
      "{'entities': [(7, 13, 'LOC'), (18, 24, 'LOC')]}\n",
      "Losses {'ner': 0.0005707784140244096}\n",
      "Who is Shaka Khan?\n",
      "{'entities': [(7, 17, 'PERSON')]}\n",
      "I like London and Berlin.\n",
      "{'entities': [(7, 13, 'LOC'), (18, 24, 'LOC')]}\n",
      "Losses {'ner': 0.0021418163306012655}\n",
      "Who is Shaka Khan?\n",
      "{'entities': [(7, 17, 'PERSON')]}\n",
      "I like London and Berlin.\n",
      "{'entities': [(7, 13, 'LOC'), (18, 24, 'LOC')]}\n",
      "Losses {'ner': 1.275140963731887e-05}\n",
      "I like London and Berlin.\n",
      "{'entities': [(7, 13, 'LOC'), (18, 24, 'LOC')]}\n",
      "Who is Shaka Khan?\n",
      "{'entities': [(7, 17, 'PERSON')]}\n",
      "Losses {'ner': 2.1931488112725285e-07}\n",
      "I like London and Berlin.\n",
      "{'entities': [(7, 13, 'LOC'), (18, 24, 'LOC')]}\n",
      "Who is Shaka Khan?\n",
      "{'entities': [(7, 17, 'PERSON')]}\n",
      "Losses {'ner': 0.0003890722650818433}\n",
      "Who is Shaka Khan?\n",
      "{'entities': [(7, 17, 'PERSON')]}\n",
      "I like London and Berlin.\n",
      "{'entities': [(7, 13, 'LOC'), (18, 24, 'LOC')]}\n",
      "Losses {'ner': 4.1843578785686585e-08}\n",
      "Who is Shaka Khan?\n",
      "{'entities': [(7, 17, 'PERSON')]}\n",
      "I like London and Berlin.\n",
      "{'entities': [(7, 13, 'LOC'), (18, 24, 'LOC')]}\n",
      "Losses {'ner': 8.929896458653552e-05}\n",
      "Who is Shaka Khan?\n",
      "{'entities': [(7, 17, 'PERSON')]}\n",
      "I like London and Berlin.\n",
      "{'entities': [(7, 13, 'LOC'), (18, 24, 'LOC')]}\n",
      "Losses {'ner': 0.0024130543613180033}\n",
      "I like London and Berlin.\n",
      "{'entities': [(7, 13, 'LOC'), (18, 24, 'LOC')]}\n",
      "Who is Shaka Khan?\n",
      "{'entities': [(7, 17, 'PERSON')]}\n",
      "Losses {'ner': 1.236306655623008e-06}\n",
      "I like London and Berlin.\n",
      "{'entities': [(7, 13, 'LOC'), (18, 24, 'LOC')]}\n",
      "Who is Shaka Khan?\n",
      "{'entities': [(7, 17, 'PERSON')]}\n",
      "Losses {'ner': 1.597359794511231e-05}\n",
      "I like London and Berlin.\n",
      "{'entities': [(7, 13, 'LOC'), (18, 24, 'LOC')]}\n",
      "Who is Shaka Khan?\n",
      "{'entities': [(7, 17, 'PERSON')]}\n",
      "Losses {'ner': 0.00018721465858798712}\n",
      "Who is Shaka Khan?\n",
      "{'entities': [(7, 17, 'PERSON')]}\n",
      "I like London and Berlin.\n",
      "{'entities': [(7, 13, 'LOC'), (18, 24, 'LOC')]}\n",
      "Losses {'ner': 0.00043306552996940934}\n",
      "I like London and Berlin.\n",
      "{'entities': [(7, 13, 'LOC'), (18, 24, 'LOC')]}\n",
      "Who is Shaka Khan?\n",
      "{'entities': [(7, 17, 'PERSON')]}\n",
      "Losses {'ner': 0.0003575808437839156}\n",
      "Who is Shaka Khan?\n",
      "{'entities': [(7, 17, 'PERSON')]}\n",
      "I like London and Berlin.\n",
      "{'entities': [(7, 13, 'LOC'), (18, 24, 'LOC')]}\n",
      "Losses {'ner': 1.1399778280601603e-07}\n",
      "I like London and Berlin.\n",
      "{'entities': [(7, 13, 'LOC'), (18, 24, 'LOC')]}\n",
      "Who is Shaka Khan?\n",
      "{'entities': [(7, 17, 'PERSON')]}\n",
      "Losses {'ner': 1.8063201454297075e-06}\n",
      "I like London and Berlin.\n",
      "{'entities': [(7, 13, 'LOC'), (18, 24, 'LOC')]}\n",
      "Who is Shaka Khan?\n",
      "{'entities': [(7, 17, 'PERSON')]}\n",
      "Losses {'ner': 1.5902865415785707e-08}\n",
      "I like London and Berlin.\n",
      "{'entities': [(7, 13, 'LOC'), (18, 24, 'LOC')]}\n",
      "Who is Shaka Khan?\n",
      "{'entities': [(7, 17, 'PERSON')]}\n",
      "Losses {'ner': 5.530852709256085e-07}\n",
      "Who is Shaka Khan?\n",
      "{'entities': [(7, 17, 'PERSON')]}\n",
      "I like London and Berlin.\n",
      "{'entities': [(7, 13, 'LOC'), (18, 24, 'LOC')]}\n",
      "Losses {'ner': 9.518420113934817e-06}\n",
      "I like London and Berlin.\n",
      "{'entities': [(7, 13, 'LOC'), (18, 24, 'LOC')]}\n",
      "Who is Shaka Khan?\n",
      "{'entities': [(7, 17, 'PERSON')]}\n",
      "Losses {'ner': 8.673571101554058e-05}\n",
      "I like London and Berlin.\n",
      "{'entities': [(7, 13, 'LOC'), (18, 24, 'LOC')]}\n",
      "Who is Shaka Khan?\n",
      "{'entities': [(7, 17, 'PERSON')]}\n",
      "Losses {'ner': 2.06222143717833e-06}\n",
      "Who is Shaka Khan?\n",
      "{'entities': [(7, 17, 'PERSON')]}\n",
      "I like London and Berlin.\n",
      "{'entities': [(7, 13, 'LOC'), (18, 24, 'LOC')]}\n",
      "Losses {'ner': 1.080093169610751e-06}\n",
      "Who is Shaka Khan?\n",
      "{'entities': [(7, 17, 'PERSON')]}\n",
      "I like London and Berlin.\n",
      "{'entities': [(7, 13, 'LOC'), (18, 24, 'LOC')]}\n",
      "Losses {'ner': 5.678599747520186e-08}\n",
      "I like London and Berlin.\n",
      "{'entities': [(7, 13, 'LOC'), (18, 24, 'LOC')]}\n",
      "Who is Shaka Khan?\n",
      "{'entities': [(7, 17, 'PERSON')]}\n",
      "Losses {'ner': 0.0002942288680026584}\n",
      "I like London and Berlin.\n",
      "{'entities': [(7, 13, 'LOC'), (18, 24, 'LOC')]}\n",
      "Who is Shaka Khan?\n",
      "{'entities': [(7, 17, 'PERSON')]}\n",
      "Losses {'ner': 0.02110879619593734}\n",
      "Who is Shaka Khan?\n",
      "{'entities': [(7, 17, 'PERSON')]}\n",
      "I like London and Berlin.\n",
      "{'entities': [(7, 13, 'LOC'), (18, 24, 'LOC')]}\n",
      "Losses {'ner': 1.7065569966610203e-07}\n",
      "I like London and Berlin.\n",
      "{'entities': [(7, 13, 'LOC'), (18, 24, 'LOC')]}\n",
      "Who is Shaka Khan?\n",
      "{'entities': [(7, 17, 'PERSON')]}\n",
      "Losses {'ner': 0.0005872533935428017}\n",
      "I like London and Berlin.\n",
      "{'entities': [(7, 13, 'LOC'), (18, 24, 'LOC')]}\n",
      "Who is Shaka Khan?\n",
      "{'entities': [(7, 17, 'PERSON')]}\n",
      "Losses {'ner': 3.461229521858351e-08}\n",
      "I like London and Berlin.\n",
      "{'entities': [(7, 13, 'LOC'), (18, 24, 'LOC')]}\n",
      "Who is Shaka Khan?\n",
      "{'entities': [(7, 17, 'PERSON')]}\n",
      "Losses {'ner': 0.00011884575878321416}\n",
      "Who is Shaka Khan?\n",
      "{'entities': [(7, 17, 'PERSON')]}\n",
      "I like London and Berlin.\n",
      "{'entities': [(7, 13, 'LOC'), (18, 24, 'LOC')]}\n",
      "Losses {'ner': 2.5010352009321698e-05}\n",
      "I like London and Berlin.\n",
      "{'entities': [(7, 13, 'LOC'), (18, 24, 'LOC')]}\n",
      "Who is Shaka Khan?\n",
      "{'entities': [(7, 17, 'PERSON')]}\n",
      "Losses {'ner': 7.649967618767422e-08}\n",
      "I like London and Berlin.\n",
      "{'entities': [(7, 13, 'LOC'), (18, 24, 'LOC')]}\n",
      "Who is Shaka Khan?\n",
      "{'entities': [(7, 17, 'PERSON')]}\n",
      "Losses {'ner': 9.278101846875989e-10}\n",
      "I like London and Berlin.\n",
      "{'entities': [(7, 13, 'LOC'), (18, 24, 'LOC')]}\n",
      "Who is Shaka Khan?\n",
      "{'entities': [(7, 17, 'PERSON')]}\n",
      "Losses {'ner': 0.0002482593583389621}\n",
      "I like London and Berlin.\n",
      "{'entities': [(7, 13, 'LOC'), (18, 24, 'LOC')]}\n",
      "Who is Shaka Khan?\n",
      "{'entities': [(7, 17, 'PERSON')]}\n",
      "Losses {'ner': 1.0280933542870184e-09}\n",
      "I like London and Berlin.\n",
      "{'entities': [(7, 13, 'LOC'), (18, 24, 'LOC')]}\n",
      "Who is Shaka Khan?\n",
      "{'entities': [(7, 17, 'PERSON')]}\n",
      "Losses {'ner': 3.3634410759765204e-06}\n"
     ]
    }
   ],
   "source": [
    "with nlp.disable_pipes(*other_pipes):  # only train NER\n",
    "    for itn in range(100):latex\n",
    "        random.shuffle(TRAIN_DATA)\n",
    "        losses = {}\n",
    "        # batch up the examples using spaCy's minibatch\n",
    "        batches = minibatch(TRAIN_DATA, size=compounding(4.0, 32.0, 1.001))\n",
    "        for batch in batches:\n",
    "            for text, annotations in batch:\n",
    "                print(text)\n",
    "                print(annotations)\n",
    "                doc = nlp.make_doc(text)\n",
    "                example = Example.from_dict(doc, annotations)\n",
    "                nlp.update([example],\n",
    "                    drop=0.5,  # dropout - make it harder to memorise data\n",
    "                    losses=losses,\n",
    "                )\n",
    "        print(\"Losses\", losses)"
   ]
  },
  {
   "cell_type": "markdown",
   "metadata": {},
   "source": [
    "We can test the trained model:"
   ]
  },
  {
   "cell_type": "code",
   "execution_count": 32,
   "metadata": {},
   "outputs": [
    {
     "name": "stdout",
     "output_type": "stream",
     "text": [
      "Entities [('London', 'LOC'), ('Berlin', 'LOC')]\n",
      "Tokens [('I', '', 2), ('like', '', 2), ('London', 'LOC', 3), ('and', '', 2), ('Berlin', 'LOC', 3), ('.', '', 2)]\n",
      "Entities [('Shaka Khan', 'PERSON')]\n",
      "Tokens [('Who', '', 2), ('is', '', 2), ('Shaka', 'PERSON', 3), ('Khan', 'PERSON', 1), ('?', '', 2)]\n"
     ]
    }
   ],
   "source": [
    "for text, _ in TRAIN_DATA:\n",
    "    doc = nlp(text)\n",
    "    print(\"Entities\", [(ent.text, ent.label_) for ent in doc.ents])\n",
    "    print(\"Tokens\", [(t.text, t.ent_type_, t.ent_iob) for t in doc])"
   ]
  },
  {
   "cell_type": "markdown",
   "metadata": {},
   "source": [
    "We can define the output directory where the model will be saved as the *models* folder in the directory where the notebook is running:"
   ]
  },
  {
   "cell_type": "code",
   "execution_count": 33,
   "metadata": {},
   "outputs": [],
   "source": [
    "output_dir = Path(\"./models/\")"
   ]
  },
  {
   "cell_type": "markdown",
   "metadata": {},
   "source": [
    "Save model to output dir:"
   ]
  },
  {
   "cell_type": "code",
   "execution_count": 34,
   "metadata": {},
   "outputs": [],
   "source": [
    "if not output_dir.exists():\n",
    "    output_dir.mkdir()\n",
    "nlp.to_disk(output_dir)"
   ]
  },
  {
   "cell_type": "markdown",
   "metadata": {},
   "source": [
    "To make sure everything worked out well, we can test the saved model:"
   ]
  },
  {
   "cell_type": "code",
   "execution_count": 35,
   "metadata": {},
   "outputs": [
    {
     "name": "stdout",
     "output_type": "stream",
     "text": [
      "Entities [('London', 'LOC'), ('Berlin', 'LOC')]\n",
      "Tokens [('I', '', 2), ('like', '', 2), ('London', 'LOC', 3), ('and', '', 2), ('Berlin', 'LOC', 3), ('.', '', 2)]\n",
      "Entities [('Shaka Khan', 'PERSON')]\n",
      "Tokens [('Who', '', 2), ('is', '', 2), ('Shaka', 'PERSON', 3), ('Khan', 'PERSON', 1), ('?', '', 2)]\n"
     ]
    }
   ],
   "source": [
    "nlp2 = spacy.load(output_dir)\n",
    "for text, _ in TRAIN_DATA:\n",
    "    doc = nlp2(text)\n",
    "    print(\"Entities\", [(ent.text, ent.label_) for ent in doc.ents])\n",
    "    print(\"Tokens\", [(t.text, t.ent_type_, t.ent_iob) for t in doc])"
   ]
  },
  {
   "attachments": {},
   "cell_type": "markdown",
   "metadata": {},
   "source": [
    "**(C) 2021-2024 by [Damir Cavar](http://damir.cavar.me/) <<dcavar@iu.edu>>**"
   ]
  }
 ],
 "metadata": {
  "kernelspec": {
   "display_name": "Python 3",
   "language": "python",
   "name": "python3"
  },
  "language_info": {
   "codemirror_mode": {
    "name": "ipython",
    "version": 3
   },
   "file_extension": ".py",
   "mimetype": "text/x-python",
   "name": "python",
   "nbconvert_exporter": "python",
   "pygments_lexer": "ipython3",
   "version": "3.12.1"
  },
  "latex_envs": {
   "LaTeX_envs_menu_present": true,
   "autoclose": false,
   "autocomplete": true,
   "bibliofile": "biblio.bib",
   "cite_by": "apalike",
   "current_citInitial": 1,
   "eqLabelWithNumbers": true,
   "eqNumInitial": 1,
   "hotkeys": {
    "equation": "Ctrl-E",
    "itemize": "Ctrl-I"
   },
   "labels_anchors": false,
   "latex_user_defs": false,
   "report_style_numbering": false,
   "user_envs_cfg": false
  },
  "toc": {
   "base_numbering": 1,
   "nav_menu": {},
   "number_sections": false,
   "sideBar": false,
   "skip_h1_title": false,
   "title_cell": "Table of Contents",
   "title_sidebar": "Contents",
   "toc_cell": false,
   "toc_position": {},
   "toc_section_display": false,
   "toc_window_display": false
  },
  "vscode": {
   "interpreter": {
    "hash": "1e28a5307a9b5c2fbeb0b263581f1cf3bfba9739188743f6a231f74c7de58892"
   }
  }
 },
 "nbformat": 4,
 "nbformat_minor": 4
}
