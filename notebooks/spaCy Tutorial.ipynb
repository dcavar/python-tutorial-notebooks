{
 "cells": [
  {
   "cell_type": "markdown",
   "metadata": {},
   "source": [
    "# spaCy Tutorial"
   ]
  },
  {
   "attachments": {},
   "cell_type": "markdown",
   "metadata": {},
   "source": [
    "**(C) 2019-2023 by [Damir Cavar](http://damir.cavar.me/)**"
   ]
  },
  {
   "attachments": {},
   "cell_type": "markdown",
   "metadata": {},
   "source": [
    "**Version:** 1.7, September 2023"
   ]
  },
  {
   "cell_type": "markdown",
   "metadata": {},
   "source": [
    "**Download:** This and various other Jupyter notebooks are available from my [GitHub repo](https://github.com/dcavar/python-tutorial-for-ipython)."
   ]
  },
  {
   "attachments": {},
   "cell_type": "markdown",
   "metadata": {},
   "source": [
    "This is a tutorial related to the L665 course on Machine Learning for NLP focusing on Deep Learning, Spring 2018, and [L645 Advanced Natural Language Processing](http://damir.cavar.me/l645/) in Fall 2023 at Indiana University. The following tutorial assumes that you are using a newer distribution of [Python 3.x](https://python.org/) and [spaCy](https://spacy.io/) 3.5 or newer."
   ]
  },
  {
   "attachments": {},
   "cell_type": "markdown",
   "metadata": {},
   "source": [
    "## Requirements\n",
    "\n",
    "The following code examples presuppose a running [Python 3.x](https://python.org/) environment with [Jupyter Lab](https://jupyter.org/) and [spaCy](https://spacy.io/) installed.\n",
    "\n",
    "To install [spaCy](https://spacy.io/) follow the instructions on the [Install spaCy page](https://spacy.io/usage).\n",
    "\n",
    "Once [spaCy](https://spacy.io/) is installed, install the language models using the following commands.\n",
    "\n",
    "For the small English model:\n",
    "\n",
    "\tpython -m spacy download en_core_web_sm\n",
    "\n",
    "For the medium English language model:\n",
    "\n",
    "\tpython -m spacy download en_core_web_md\n",
    "\n",
    "For the large English language model:\n",
    "\n",
    "\tpython -m spacy download en_core_web_lg\n",
    "\n",
    "For the small Spanish language model:\n",
    "\n",
    "\tpython -m spacy download es_core_news_sm\n",
    "\n"
   ]
  },
  {
   "cell_type": "markdown",
   "metadata": {},
   "source": [
    "## Introduction to spaCy"
   ]
  },
  {
   "cell_type": "markdown",
   "metadata": {},
   "source": [
    "Follow the instructions on the [spaCy homepage](https://spacy.io/usage/) about installation of the module and language models. Your local spaCy module is correctly installed, if the following command is successfull:"
   ]
  },
  {
   "cell_type": "code",
   "execution_count": 1,
   "metadata": {},
   "outputs": [],
   "source": [
    "import spacy"
   ]
  },
  {
   "cell_type": "markdown",
   "metadata": {},
   "source": [
    "We can load the English NLP pipeline in the following way:"
   ]
  },
  {
   "cell_type": "code",
   "execution_count": 5,
   "metadata": {},
   "outputs": [],
   "source": [
    "nlp = spacy.load(\"es_core_news_sm\")"
   ]
  },
  {
   "cell_type": "markdown",
   "metadata": {},
   "source": [
    "### Tokenization"
   ]
  },
  {
   "cell_type": "code",
   "execution_count": 6,
   "metadata": {},
   "outputs": [
    {
     "name": "stdout",
     "output_type": "stream",
     "text": [
      "Como como\n",
      "estas este\n",
      "? ?\n",
      "Estoy estar\n",
      "bien bien\n",
      ". .\n"
     ]
    }
   ],
   "source": [
    "doc = nlp(u'Como estas? Estoy bien.')\n",
    "for token in doc:\n",
    "    print(token.text, token.lemma_)"
   ]
  },
  {
   "cell_type": "markdown",
   "metadata": {},
   "source": [
    "### Part-of-Speech Tagging"
   ]
  },
  {
   "cell_type": "markdown",
   "metadata": {},
   "source": [
    "We can tokenize and part of speech tag the individual tokens using the following code:"
   ]
  },
  {
   "cell_type": "code",
   "execution_count": 7,
   "metadata": {},
   "outputs": [
    {
     "name": "stdout",
     "output_type": "stream",
     "text": [
      "Como\t0\tcomo\tSCONJ\tSCONJ\tmark\tXxxx\tTrue\tTrue\n",
      "estas\t5\teste\tDET\tDET\tROOT\txxxx\tTrue\tTrue\n",
      "?\t10\t?\tPUNCT\tPUNCT\tpunct\t?\tFalse\tFalse\n",
      "Estoy\t12\testar\tAUX\tAUX\tcop\tXxxxx\tTrue\tTrue\n",
      "bien\t18\tbien\tADV\tADV\tROOT\txxxx\tTrue\tTrue\n",
      ".\t22\t.\tPUNCT\tPUNCT\tpunct\t.\tFalse\tFalse\n"
     ]
    }
   ],
   "source": [
    "doc = nlp(u'Como estas? Estoy bien.')\n",
    "\n",
    "for token in doc:\n",
    "    print(\"\\t\".join( (token.text, str(token.idx), token.lemma_, token.pos_, token.tag_, token.dep_,\n",
    "          token.shape_, str(token.is_alpha), str(token.is_stop) )))"
   ]
  },
  {
   "cell_type": "markdown",
   "metadata": {},
   "source": [
    "The above output contains for every token in a line the token itself, the lemma, the Part-of-Speech tag, the dependency label, the orthographic shape (upper and lower case characters as X or x respectively), the boolean for the token being an alphanumeric string, and the boolean for it being a *stopword*."
   ]
  },
  {
   "cell_type": "markdown",
   "metadata": {},
   "source": [
    "### Dependency Parse"
   ]
  },
  {
   "cell_type": "markdown",
   "metadata": {},
   "source": [
    "Using the same approach as above for PoS-tags, we can print the Dependency Parse relations:"
   ]
  },
  {
   "cell_type": "code",
   "execution_count": 8,
   "metadata": {},
   "outputs": [
    {
     "name": "stdout",
     "output_type": "stream",
     "text": [
      "Como mark estas DET []\n",
      "estas ROOT estas DET [Como, ?]\n",
      "? punct estas DET []\n",
      "Estoy cop bien ADV []\n",
      "bien ROOT bien ADV [Estoy, .]\n",
      ". punct bien ADV []\n"
     ]
    }
   ],
   "source": [
    "for token in doc:\n",
    "    print(token.text, token.dep_, token.head.text, token.head.pos_,\n",
    "          [child for child in token.children])"
   ]
  },
  {
   "cell_type": "markdown",
   "metadata": {},
   "source": [
    "As specified in the code, each line represents one token. The token is printed in the first column, followed by the dependency relation to it from the token in the third column, followed by its main category type."
   ]
  },
  {
   "cell_type": "markdown",
   "metadata": {},
   "source": [
    "### Named Entity Recognition"
   ]
  },
  {
   "cell_type": "markdown",
   "metadata": {},
   "source": [
    "Similarly to PoS-tags and Dependency Parse Relations, we can print out Named Entity labels:"
   ]
  },
  {
   "cell_type": "code",
   "execution_count": 9,
   "metadata": {},
   "outputs": [],
   "source": [
    "nlp = spacy.load(\"en_core_web_lg\")"
   ]
  },
  {
   "cell_type": "code",
   "execution_count": 12,
   "metadata": {},
   "outputs": [
    {
     "name": "stdout",
     "output_type": "stream",
     "text": [
      "John 0 4 PERSON\n",
      "Ali Hassan Kuban 11 27 PERSON\n"
     ]
    }
   ],
   "source": [
    "text = \"John loves Ali Hassan Kuban when driving on the highway.\"\n",
    "doc = nlp(text)\n",
    "for ent in doc.ents:\n",
    "    print(ent.text, ent.start_char, ent.end_char, ent.label_)"
   ]
  },
  {
   "cell_type": "markdown",
   "metadata": {},
   "source": [
    "We can extend the input with some more entities:"
   ]
  },
  {
   "cell_type": "code",
   "execution_count": 13,
   "metadata": {},
   "outputs": [],
   "source": [
    "doc = nlp(u'Ali Hassan Kuban said that Apple Inc. from California will buy Google in May 2018.')"
   ]
  },
  {
   "cell_type": "markdown",
   "metadata": {},
   "source": [
    "The corresponding NE-labels are:"
   ]
  },
  {
   "cell_type": "code",
   "execution_count": 14,
   "metadata": {},
   "outputs": [
    {
     "name": "stdout",
     "output_type": "stream",
     "text": [
      "Ali Hassan Kuban 0 16 PERSON\n",
      "Apple Inc. 27 37 ORG\n",
      "California 43 53 GPE\n",
      "Google 63 69 ORG\n",
      "May 2018 73 81 DATE\n"
     ]
    }
   ],
   "source": [
    "for ent in doc.ents:\n",
    "    print(ent.text, ent.start_char, ent.end_char, ent.label_)"
   ]
  },
  {
   "cell_type": "markdown",
   "metadata": {},
   "source": [
    "### Pattern Matching in spaCy"
   ]
  },
  {
   "attachments": {},
   "cell_type": "markdown",
   "metadata": {},
   "source": [
    "You can define patterns in [spaCy](https://spacy.io/) and generate a label (here *HelloWorld*) whenever there is a matching pattern in some text using the [spaCy](https://spacy.io/) [Matcher](https://spacy.io/api/matcher) class. In the code below we print out the label, offset of matching sub-string, and the real match string in the text."
   ]
  },
  {
   "cell_type": "code",
   "execution_count": null,
   "metadata": {},
   "outputs": [],
   "source": [
    "from spacy.matcher import Matcher\n",
    "\n",
    "matcher = Matcher(nlp.vocab)\n",
    "pattern = [{'LOWER': 'hello'}, {'IS_PUNCT': True}, {'LOWER': 'world'}]\n",
    "matcher.add('HelloWorld', [pattern])\n",
    "\n",
    "doc = nlp(u'Hello, world! Hello... world!')\n",
    "matches = matcher(doc)\n",
    "for match_id, start, end in matches:\n",
    "    string_id = nlp.vocab.strings[match_id]  # Get string representation\n",
    "    span = doc[start:end]  # The matched span\n",
    "    print(match_id, string_id, start, end, span.text)\n",
    "print(\"-\" * 50)\n",
    "doc = nlp(u'Hello, world! Hello world!')\n",
    "matches = matcher(doc)\n",
    "for match_id, start, end in matches:\n",
    "    string_id = nlp.vocab.strings[match_id]  # Get string representation\n",
    "    span = doc[start:end]  # The matched span\n",
    "    print(match_id, string_id, start, end, span.text)"
   ]
  },
  {
   "cell_type": "markdown",
   "metadata": {},
   "source": [
    "### spaCy is Missing"
   ]
  },
  {
   "cell_type": "markdown",
   "metadata": {},
   "source": [
    "From the linguistic standpoint, when looking at the analytical output of the NLP pipeline in spaCy, there are some important components missing:"
   ]
  },
  {
   "attachments": {},
   "cell_type": "markdown",
   "metadata": {},
   "source": [
    "- Clause boundary detection\n",
    "- Anaphora resolution (partially solved in the Coreference modules)\n",
    "- Temporal reference resolution\n",
    "- ..."
   ]
  },
  {
   "attachments": {},
   "cell_type": "markdown",
   "metadata": {},
   "source": [
    "There are add-on modules that provide annotations for additional linguistic levels, as for example:\n",
    "\n",
    "- Constituent structure trees (scope relations over constituents and phrases)\n",
    "- Coreference analysis\n",
    "\n",
    "You can find various such addons in the [spaCy Universe](https://spacy.io/universe).\n"
   ]
  },
  {
   "cell_type": "markdown",
   "metadata": {},
   "source": [
    "#### Clause Boundary Detection"
   ]
  },
  {
   "cell_type": "markdown",
   "metadata": {},
   "source": [
    "Complex sentences consist of clauses. For precise processing of semantic properties of natural language utterances we need to segment the sentences into clauses. The following sentence:"
   ]
  },
  {
   "cell_type": "markdown",
   "metadata": {},
   "source": [
    "*The man said that the woman claimed that the child broke the toy.*"
   ]
  },
  {
   "cell_type": "markdown",
   "metadata": {},
   "source": [
    "can be broken into the following clauses:"
   ]
  },
  {
   "cell_type": "markdown",
   "metadata": {},
   "source": [
    "- Matrix clause: [ *the man said* ]\n",
    "- Embedded clause: [ *that the woman claimed* ]\n",
    "- Embedded clause: [ *that the child broke the toy* ]"
   ]
  },
  {
   "cell_type": "markdown",
   "metadata": {},
   "source": [
    "These clauses do not form an ordered list or flat sequence, they in fact are hierarchically organized. The matrix clause verb selects as its complement an embedded finite clause with the complementizer *that*. The embedded predicate *claimed* selects the same kind of clausal complement. We express this hierarchical relation in form of embedding in tree representations:"
   ]
  },
  {
   "cell_type": "markdown",
   "metadata": {},
   "source": [
    "[ *the man said* [ *that the woman claimed* [ *that the child broke the toy* ] ] ]"
   ]
  },
  {
   "cell_type": "markdown",
   "metadata": {},
   "source": [
    "Or using a graphical representation in form of a tree:"
   ]
  },
  {
   "cell_type": "markdown",
   "metadata": {},
   "source": [
    "<img src=\"Embedded_Clauses_1.png\" width=\"60%\" height=\"60%\">"
   ]
  },
  {
   "cell_type": "markdown",
   "metadata": {},
   "source": [
    "The hierarchical relation of sub-clauses is relevant when it comes to semantics. The clause *John sold his car* can be interpreted as an assertion that describes an event with *John* as the agent, and *the car* as the object of a *selling* event in the past. If the clause is embedded under a matrix clause that contains a sentential negation, the proposition is assumed to NOT be true: [ *Mary did not say that* [ *John sold his car* ] ] "
   ]
  },
  {
   "cell_type": "markdown",
   "metadata": {},
   "source": [
    "It is possible with additional effort to translate the Dependency Trees into clauses and reconstruct the clause hierarchy into a relevant form or data structure. SpaCy does not offer a direct data output of such relations."
   ]
  },
  {
   "cell_type": "markdown",
   "metadata": {},
   "source": [
    "One problem still remains, and this is *clausal discontinuities*. None of the common NLP pipelines, and spaCy in particular, can deal with any kind of discontinuities in any reasonable way. Discontinuities can be observed when sytanctic structures are split over the clause or sentence, or elements ocur in a cannoically different position, as in the following example:"
   ]
  },
  {
   "cell_type": "markdown",
   "metadata": {},
   "source": [
    "*Which car did John claim that Mary took?*"
   ]
  },
  {
   "cell_type": "markdown",
   "metadata": {},
   "source": [
    "The embedded clause consists of the sequence [ *Mary took which car* ]. One part of the sequence appears dislocated and precedes the matrix clause in the above example. Simple Dependency Parsers cannot generate any reasonable output that makes it easy to identify and reconstruct the relations of clausal elements in these structures."
   ]
  },
  {
   "cell_type": "markdown",
   "metadata": {},
   "source": [
    "#### Constitutent Structure Trees"
   ]
  },
  {
   "cell_type": "markdown",
   "metadata": {},
   "source": [
    "Dependency Parse trees are a simplification of relations of elements in the clause. They ignore structural and hierarchical relations in a sentence or clause, as shown in the examples above. Instead the Dependency Parse trees show simple functional relations in the sense of sentential functions like *subject* or *object* of a verb."
   ]
  },
  {
   "cell_type": "markdown",
   "metadata": {},
   "source": [
    "SpaCy does not output any kind of constituent structure and more detailed relational properties of phrases and more complex structural units in a sentence or clause."
   ]
  },
  {
   "cell_type": "markdown",
   "metadata": {},
   "source": [
    "Since many semantic properties are defined or determined in terms of structural relations and hierarchies, that is *scope relations*, this is more complicated to reconstruct or map from the Dependency Parse trees."
   ]
  },
  {
   "cell_type": "markdown",
   "metadata": {},
   "source": [
    "#### Anaphora Resolution"
   ]
  },
  {
   "cell_type": "markdown",
   "metadata": {},
   "source": [
    "SpaCy does not offer any anaphora resolution annotation. That is, the referent of a pronoun, as in the following examples, is not annotated in the resulting linguistic data structure:"
   ]
  },
  {
   "cell_type": "markdown",
   "metadata": {},
   "source": [
    "- *John saw **him**.*\n",
    "- *John said that **he** saw the house.*\n",
    "- *Tim sold **his** house. **He** moved to Paris.*\n",
    "- *John saw **himself** in the mirror.*"
   ]
  },
  {
   "cell_type": "markdown",
   "metadata": {},
   "source": [
    "Knowing the restrictions of pronominal binding (in English for example), we can partially generate the potential or most likely anaphora - antecedent relations. This - however - is not part of the spaCy output."
   ]
  },
  {
   "cell_type": "markdown",
   "metadata": {},
   "source": [
    "One problem, however, is that spaCy does not provide parse trees of the *constituent structure* and *clausal hierarchies*, which is crucial for the correct analysis of pronominal anaphoric relations."
   ]
  },
  {
   "cell_type": "markdown",
   "metadata": {},
   "source": [
    "#### Coreference Analysis"
   ]
  },
  {
   "cell_type": "markdown",
   "metadata": {},
   "source": [
    "Some NLP pipelines are capable of providing coreference analyses for constituents in clauses. For example, the two clauses should be analyzed as talking about the same subject:"
   ]
  },
  {
   "cell_type": "markdown",
   "metadata": {},
   "source": [
    "*The CEO of Apple, Tim Cook, decided to apply for a job at Google. Cook said that he is not satisfied with the quality of the iPhones anymore. He prefers the Pixel 2.*"
   ]
  },
  {
   "cell_type": "markdown",
   "metadata": {},
   "source": [
    "The constituents [ *the CEO of Apple, Tim Cook* ] in the first sentence, [ *Cook* ] in the second sentence, and [ *he* ] in the third, should all be tagged as referencing the same entity, that is the one mentioned in the first sentence. SpaCy does not provide such a level of analysis or annotation."
   ]
  },
  {
   "cell_type": "markdown",
   "metadata": {},
   "source": [
    "#### Temporal Reference"
   ]
  },
  {
   "cell_type": "markdown",
   "metadata": {},
   "source": [
    "For various analysis levels it is essential to identify the time references in a sentence or utterance, for example the time the utterance is made or the time the described event happened."
   ]
  },
  {
   "cell_type": "markdown",
   "metadata": {},
   "source": [
    "Certain tenses are expressed as periphrastic constructions, including auxiliaries and main verbs. SpaCy does not provide the relevant information to identify these constructions and tenses."
   ]
  },
  {
   "cell_type": "markdown",
   "metadata": {},
   "source": [
    "## Using the Dependency Parse Visualizer"
   ]
  },
  {
   "cell_type": "markdown",
   "metadata": {},
   "source": [
    "More on Dependency Parse trees"
   ]
  },
  {
   "cell_type": "code",
   "execution_count": 15,
   "metadata": {},
   "outputs": [],
   "source": [
    "import spacy"
   ]
  },
  {
   "cell_type": "markdown",
   "metadata": {},
   "source": [
    "We can load the visualizer:"
   ]
  },
  {
   "cell_type": "code",
   "execution_count": 16,
   "metadata": {},
   "outputs": [],
   "source": [
    "from spacy import displacy"
   ]
  },
  {
   "cell_type": "markdown",
   "metadata": {},
   "source": [
    "Loading the English NLP pipeline:"
   ]
  },
  {
   "cell_type": "code",
   "execution_count": 17,
   "metadata": {},
   "outputs": [],
   "source": [
    "nlp = spacy.load(\"en_core_web_sm\")"
   ]
  },
  {
   "cell_type": "markdown",
   "metadata": {},
   "source": [
    "Process an input sentence:"
   ]
  },
  {
   "cell_type": "code",
   "execution_count": 18,
   "metadata": {},
   "outputs": [],
   "source": [
    "#doc = nlp(u'John said yesterday that Mary bought a new car for her older son.')\n",
    "#doc = nlp(u\"Dick ran and Jane danced yesterday.\")\n",
    "doc = nlp(u\"Tim Cook loves apples.\")\n",
    "#doc = nlp(u\"Born in a small town, she took the midnight train going anywhere.\")\n",
    "#doc = nlp(u\"John met Peter and Susan called Paul.\")"
   ]
  },
  {
   "attachments": {},
   "cell_type": "markdown",
   "metadata": {},
   "source": [
    "If you want to generate a visualization running code outside of the Jupyter notebook, you could use the following code. You should not use this code, if you are running the notebook. Instead, use the function *display.render* two cells below.\n",
    "\n",
    "Visualizing the Dependency Parse tree can be achieved by running the following server code and opening up a new tab on the URL [http://localhost:5000/](http://localhost:5000/). You can shut down the server by clicking on the stop button at the top in the notebook toolbar. (To launch the server, uncomment the follwoing line and run the cell.)"
   ]
  },
  {
   "cell_type": "code",
   "execution_count": null,
   "metadata": {
    "scrolled": true
   },
   "outputs": [],
   "source": [
    "# displacy.serve(doc, style='dep')"
   ]
  },
  {
   "cell_type": "markdown",
   "metadata": {},
   "source": [
    "Instead of serving the graph, one can render it directly into a Jupyter Notebook:"
   ]
  },
  {
   "cell_type": "code",
   "execution_count": 19,
   "metadata": {},
   "outputs": [
    {
     "data": {
      "text/html": [
       "<span class=\"tex2jax_ignore\"><svg xmlns=\"http://www.w3.org/2000/svg\" xmlns:xlink=\"http://www.w3.org/1999/xlink\" xml:lang=\"en\" id=\"518d793ca3d848a08dbb92f85997ae64-0\" class=\"displacy\" width=\"530\" height=\"197.0\" direction=\"ltr\" style=\"max-width: none; height: 197.0px; color: #000000; background: #ffffff; font-family: Arial; direction: ltr\">\n",
       "<text class=\"displacy-token\" fill=\"currentColor\" text-anchor=\"middle\" y=\"107.0\">\n",
       "    <tspan class=\"displacy-word\" fill=\"currentColor\" x=\"50\">Tim</tspan>\n",
       "    <tspan class=\"displacy-tag\" dy=\"2em\" fill=\"currentColor\" x=\"50\">PROPN</tspan>\n",
       "</text>\n",
       "\n",
       "<text class=\"displacy-token\" fill=\"currentColor\" text-anchor=\"middle\" y=\"107.0\">\n",
       "    <tspan class=\"displacy-word\" fill=\"currentColor\" x=\"170\">Cook</tspan>\n",
       "    <tspan class=\"displacy-tag\" dy=\"2em\" fill=\"currentColor\" x=\"170\">PROPN</tspan>\n",
       "</text>\n",
       "\n",
       "<text class=\"displacy-token\" fill=\"currentColor\" text-anchor=\"middle\" y=\"107.0\">\n",
       "    <tspan class=\"displacy-word\" fill=\"currentColor\" x=\"290\">loves</tspan>\n",
       "    <tspan class=\"displacy-tag\" dy=\"2em\" fill=\"currentColor\" x=\"290\">VERB</tspan>\n",
       "</text>\n",
       "\n",
       "<text class=\"displacy-token\" fill=\"currentColor\" text-anchor=\"middle\" y=\"107.0\">\n",
       "    <tspan class=\"displacy-word\" fill=\"currentColor\" x=\"410\">apples.</tspan>\n",
       "    <tspan class=\"displacy-tag\" dy=\"2em\" fill=\"currentColor\" x=\"410\">NOUN</tspan>\n",
       "</text>\n",
       "\n",
       "<g class=\"displacy-arrow\">\n",
       "    <path class=\"displacy-arc\" id=\"arrow-518d793ca3d848a08dbb92f85997ae64-0-0\" stroke-width=\"2px\" d=\"M70,62.0 C70,2.0 170.0,2.0 170.0,62.0\" fill=\"none\" stroke=\"currentColor\"/>\n",
       "    <text dy=\"1.25em\" style=\"font-size: 0.8em; letter-spacing: 1px\">\n",
       "        <textPath xlink:href=\"#arrow-518d793ca3d848a08dbb92f85997ae64-0-0\" class=\"displacy-label\" startOffset=\"50%\" side=\"left\" fill=\"currentColor\" text-anchor=\"middle\">compound</textPath>\n",
       "    </text>\n",
       "    <path class=\"displacy-arrowhead\" d=\"M70,64.0 L62,52.0 78,52.0\" fill=\"currentColor\"/>\n",
       "</g>\n",
       "\n",
       "<g class=\"displacy-arrow\">\n",
       "    <path class=\"displacy-arc\" id=\"arrow-518d793ca3d848a08dbb92f85997ae64-0-1\" stroke-width=\"2px\" d=\"M190,62.0 C190,2.0 290.0,2.0 290.0,62.0\" fill=\"none\" stroke=\"currentColor\"/>\n",
       "    <text dy=\"1.25em\" style=\"font-size: 0.8em; letter-spacing: 1px\">\n",
       "        <textPath xlink:href=\"#arrow-518d793ca3d848a08dbb92f85997ae64-0-1\" class=\"displacy-label\" startOffset=\"50%\" side=\"left\" fill=\"currentColor\" text-anchor=\"middle\">nsubj</textPath>\n",
       "    </text>\n",
       "    <path class=\"displacy-arrowhead\" d=\"M190,64.0 L182,52.0 198,52.0\" fill=\"currentColor\"/>\n",
       "</g>\n",
       "\n",
       "<g class=\"displacy-arrow\">\n",
       "    <path class=\"displacy-arc\" id=\"arrow-518d793ca3d848a08dbb92f85997ae64-0-2\" stroke-width=\"2px\" d=\"M310,62.0 C310,2.0 410.0,2.0 410.0,62.0\" fill=\"none\" stroke=\"currentColor\"/>\n",
       "    <text dy=\"1.25em\" style=\"font-size: 0.8em; letter-spacing: 1px\">\n",
       "        <textPath xlink:href=\"#arrow-518d793ca3d848a08dbb92f85997ae64-0-2\" class=\"displacy-label\" startOffset=\"50%\" side=\"left\" fill=\"currentColor\" text-anchor=\"middle\">dobj</textPath>\n",
       "    </text>\n",
       "    <path class=\"displacy-arrowhead\" d=\"M410.0,64.0 L418.0,52.0 402.0,52.0\" fill=\"currentColor\"/>\n",
       "</g>\n",
       "</svg></span>"
      ],
      "text/plain": [
       "<IPython.core.display.HTML object>"
      ]
     },
     "metadata": {},
     "output_type": "display_data"
    }
   ],
   "source": [
    "displacy.render(doc, style='dep', jupyter=True, options={\"distance\": 120})"
   ]
  },
  {
   "cell_type": "markdown",
   "metadata": {},
   "source": [
    "In addition to the visualization of the Dependency Trees, we can visualize named entity annotations:"
   ]
  },
  {
   "cell_type": "code",
   "execution_count": null,
   "metadata": {},
   "outputs": [],
   "source": [
    "text = \"\"\"Apple decided to fire Tim Cook and hire somebody called John Doe as the new CEO.\n",
    "They also discussed a merger with Google. On the long run it seems more likely that Apple\n",
    "will merge with Amazon and Microsoft with Google. The companies will all relocate to\n"
   ]
  },
  {
   "cell_type": "code",
   "execution_count": null,
   "metadata": {},
   "outputs": [],
   "source": [
    "Austin in Texas before the end of the century. John Doe bought a Prosche.\"\"\"\n",
    "\n",
    "doc = nlp(text)\n",
    "displacy.render(doc, style='ent', jupyter=True)"
   ]
  },
  {
   "cell_type": "markdown",
   "metadata": {},
   "source": [
    "## Vectors"
   ]
  },
  {
   "cell_type": "markdown",
   "metadata": {},
   "source": [
    "To use vectors in spaCy, you might consider installing the larger models for the particular language. The common module and language packages only come with the small models. The larger models can be installed as described on the [spaCy vectors page](https://spacy.io/usage/vectors-similarity):\n",
    "\n",
    "    python -m spacy download en_core_web_lg\n",
    "\n",
    "The large model *en_core_web_lg* contains more than 1 million unique vectors."
   ]
  },
  {
   "cell_type": "markdown",
   "metadata": {},
   "source": [
    "Let us restart all necessary modules again, in particular spaCy:"
   ]
  },
  {
   "cell_type": "code",
   "execution_count": 1,
   "metadata": {},
   "outputs": [],
   "source": [
    "import spacy"
   ]
  },
  {
   "cell_type": "markdown",
   "metadata": {},
   "source": [
    "We can now import the English NLP pipeline to process some word list. Since the small models in spacy only include context-sensitive tensors, we should use the dowloaded large model for better word vectors. We load the large model as follows:"
   ]
  },
  {
   "cell_type": "code",
   "execution_count": 2,
   "metadata": {},
   "outputs": [],
   "source": [
    "nlp = spacy.load('en_core_web_lg')"
   ]
  },
  {
   "cell_type": "markdown",
   "metadata": {},
   "source": [
    "We can process a list of words by the pipeline using the *nlp* object:"
   ]
  },
  {
   "cell_type": "code",
   "execution_count": 3,
   "metadata": {},
   "outputs": [],
   "source": [
    "tokens = nlp(u'dog poodle beagle cat banana apple')"
   ]
  },
  {
   "cell_type": "markdown",
   "metadata": {},
   "source": [
    "As described in the spaCy chapter *[Word Vectors and Semantic Similarity](https://spacy.io/usage/vectors-similarity)*, the resulting elements of *Doc*, *Span*, and *Token* provide a method *similarity()*, which returns the similarities between words: "
   ]
  },
  {
   "cell_type": "code",
   "execution_count": 6,
   "metadata": {},
   "outputs": [
    {
     "name": "stdout",
     "output_type": "stream",
     "text": [
      "[ 1.2330e+00  4.2963e+00 -7.9738e+00 -1.0121e+01  1.8207e+00  1.4098e+00\n",
      " -4.5180e+00 -5.2261e+00 -2.9157e-01  9.5234e-01  6.9880e+00  5.0637e+00\n",
      " -5.5726e-03  3.3395e+00  6.4596e+00 -6.3742e+00  3.9045e-02 -3.9855e+00\n",
      "  1.2085e+00 -1.3186e+00 -4.8886e+00  3.7066e+00 -2.8281e+00 -3.5447e+00\n",
      "  7.6888e-01  1.5016e+00 -4.3632e+00  8.6480e+00 -5.9286e+00 -1.3055e+00\n",
      "  8.3870e-01  9.0137e-01 -1.7843e+00 -1.0148e+00  2.7300e+00 -6.9039e+00\n",
      "  8.0413e-01  7.4880e+00  6.1078e+00 -4.2130e+00 -1.5384e-01 -5.4995e+00\n",
      "  1.0896e+01  3.9278e+00 -1.3601e-01  7.7732e-02  3.2218e+00 -5.8777e+00\n",
      "  6.1359e-01 -2.4287e+00  6.2820e+00  1.3461e+01  4.3236e+00  2.4266e+00\n",
      " -2.6512e+00  1.1577e+00  5.0848e+00 -1.7058e+00  3.3824e+00  3.2850e+00\n",
      "  1.0969e+00 -8.3711e+00 -1.5554e+00  2.0296e+00 -2.6796e+00 -6.9195e+00\n",
      " -2.3386e+00 -1.9916e+00 -3.0450e+00  2.4890e+00  7.3247e+00  1.3364e+00\n",
      "  2.3828e-01  8.4388e-02  3.1480e+00 -1.1128e+00 -3.5598e+00 -1.2115e-01\n",
      " -2.0357e+00 -3.2731e+00 -7.7205e+00  4.0948e+00 -2.0732e+00  2.0833e+00\n",
      " -2.2803e+00 -4.9850e+00  9.7667e+00  6.1779e+00 -1.0352e+01 -2.2268e+00\n",
      "  2.5765e+00 -5.7440e+00  5.5564e+00 -5.2735e+00  3.0004e+00 -4.2512e+00\n",
      " -1.5682e+00  2.2698e+00  1.0491e+00 -9.0486e+00  4.2936e+00  1.8709e+00\n",
      "  5.1985e+00 -1.3153e+00  6.5224e+00  4.0113e-01 -1.2583e+01  3.6534e+00\n",
      " -2.0961e+00  1.0022e+00 -1.7873e+00 -4.2555e+00  7.7471e+00  1.0173e+00\n",
      "  3.1626e+00  2.3558e+00  3.3589e-01 -4.4178e+00  5.0584e+00 -2.4118e+00\n",
      " -2.7445e+00  3.4170e+00 -1.1574e+01 -2.6568e+00 -3.6933e+00 -2.0398e+00\n",
      "  5.0976e+00  6.5249e+00  3.3573e+00  9.5334e-01 -9.4430e-01 -9.4395e+00\n",
      "  2.7867e+00 -1.7549e+00  1.7287e+00  3.4942e+00 -1.6883e+00 -3.5771e+00\n",
      " -1.9013e+00  2.2239e+00 -5.4335e+00 -6.5724e+00 -6.7228e-01 -1.9748e+00\n",
      " -3.1080e+00 -1.8570e+00  9.9496e-01  8.9135e-01 -4.4254e+00  3.3125e-01\n",
      "  5.8815e+00  1.9384e+00  5.7294e-01 -2.8830e+00  3.8087e+00 -1.3095e+00\n",
      "  5.9208e+00  3.3620e+00  3.3571e+00 -3.8807e-01  9.0022e-01 -5.5742e+00\n",
      " -4.2939e+00  1.4992e+00 -4.7080e+00 -2.9402e+00 -1.2259e+00  3.0980e-01\n",
      "  1.8858e+00 -1.9867e+00 -2.3554e-01 -5.4535e-01 -2.1387e-01  2.4797e+00\n",
      "  5.9710e+00 -7.1249e+00  1.6257e+00 -1.5241e+00  7.5974e-01  1.4312e+00\n",
      "  2.3641e+00 -3.5566e+00  9.2066e-01  4.4934e-01 -1.3233e+00  3.1733e+00\n",
      " -4.7059e+00 -1.2090e+01 -3.9241e-01 -6.8457e-01 -3.6789e+00  6.6279e+00\n",
      " -2.9937e+00 -3.8361e+00  1.3868e+00 -4.9002e+00 -2.4299e+00  6.4312e+00\n",
      "  2.5056e+00 -4.5080e+00 -5.1278e+00 -1.5585e+00 -3.0226e+00 -8.6811e-01\n",
      " -1.1538e+00 -1.0022e+00 -9.1651e-01 -4.7810e-01 -1.6084e+00 -2.7307e+00\n",
      "  3.7080e+00  7.7423e-01 -1.1085e+00 -6.8755e-01 -8.2901e+00  3.2405e+00\n",
      " -1.6108e-01 -6.2837e-01 -5.5960e+00 -4.4865e+00  4.0115e-01 -3.7063e+00\n",
      " -2.1704e+00  4.0789e+00 -1.7973e+00  8.9538e+00  8.9421e-01 -4.8128e+00\n",
      "  4.5367e+00 -3.2579e-01 -5.2344e+00 -3.9766e+00 -2.1979e+00  3.5699e+00\n",
      "  1.4982e+00  6.0972e+00 -1.9704e+00  4.6522e+00 -3.7734e-01  3.9101e-02\n",
      "  2.5361e+00 -1.8096e+00  8.7035e+00 -8.6372e+00 -3.5257e+00  3.1034e+00\n",
      "  3.2635e+00  4.5437e+00 -5.7290e+00 -2.9141e-01 -2.0011e+00  8.5328e+00\n",
      " -4.5064e+00 -4.8276e+00 -1.1786e+01  3.5607e-01 -5.7115e+00  6.3122e+00\n",
      " -3.6650e+00  3.3597e-01  2.5017e+00 -3.5025e+00 -3.7891e+00 -3.1343e+00\n",
      " -1.4429e+00 -6.9119e+00 -2.6114e+00 -5.9757e-01  3.7847e-01  6.3187e+00\n",
      "  2.8965e+00 -2.5397e+00  1.8022e+00  3.5486e+00  4.4721e+00 -4.8481e+00\n",
      " -3.6252e+00  4.0969e+00 -2.0081e+00 -2.0122e-01  2.5244e+00 -6.8817e-01\n",
      "  6.7184e-01 -7.0466e+00  1.6641e+00 -2.2308e+00 -3.8960e+00  6.1320e+00\n",
      " -8.0335e+00 -1.7130e+00  2.5688e+00 -5.2547e+00  6.9845e+00  2.7835e-01\n",
      " -6.4554e+00 -2.1327e+00 -5.6515e+00  1.1174e+01 -8.0568e+00  5.7985e+00]\n",
      "dog dog 1.0\n",
      "dog poodle 0.6339900493621826\n",
      "dog beagle 0.5964534282684326\n",
      "dog cat 0.8220816850662231\n",
      "dog banana 0.2090904712677002\n",
      "dog apple 0.22881005704402924\n",
      "[-1.4780e+00  1.2229e+00  5.0286e-01 -2.3119e+00 -9.7448e-01 -5.3158e-01\n",
      " -1.1075e+00 -3.5789e+00 -3.2703e-01  2.3263e+00  3.2749e+00 -1.8709e-01\n",
      "  3.2453e-01  1.3394e+00  2.3744e+00 -4.6755e-01 -5.6853e-01  4.0079e-01\n",
      "  6.3082e-01  1.7409e-01 -2.3424e-01  2.0968e+00 -3.7131e+00 -2.1426e+00\n",
      "  1.7036e+00  9.7239e-01 -1.5174e+00  1.2137e+00 -1.9102e+00 -3.3451e-01\n",
      " -1.5116e+00  5.0949e-01 -5.5525e-01  6.2401e-01  1.2437e+00 -6.6071e-01\n",
      " -7.0497e-01  1.5603e+00  5.9678e-03 -1.8424e+00  3.2424e-02 -9.6522e-01\n",
      " -1.6445e-01  1.2724e+00 -1.2949e+00  3.0913e-01 -9.1862e-01  8.6203e-01\n",
      " -6.2259e-02 -2.3514e+00 -2.3165e-01  5.3370e+00  2.4260e+00  8.6987e-01\n",
      "  9.6661e-01  1.0419e+00  2.0567e-01 -5.4749e-01  1.8219e+00 -1.0352e-01\n",
      "  2.5016e+00 -3.3219e+00  7.5033e-01  1.6534e+00 -1.1386e+00 -3.9320e+00\n",
      "  1.7522e-02 -6.3154e-01 -9.9465e-02  7.6961e-01 -1.9218e+00  3.9827e-01\n",
      "  3.3070e-01 -5.9921e-01  7.1397e-01 -6.8911e-01 -1.1051e+00  5.4938e-01\n",
      "  1.4399e+00  7.1017e-02 -2.1063e-01  1.1622e+00 -5.2329e-01  1.8897e+00\n",
      " -1.7050e+00 -3.0375e+00  4.6052e+00  6.0411e-01 -3.8356e+00 -2.1154e-01\n",
      "  6.5327e-01 -6.8816e-01  1.4574e+00 -1.5821e+00 -1.7949e-02  4.3327e-01\n",
      "  8.6849e-01 -1.1448e+00 -1.1648e+00 -3.7879e+00 -5.9913e-02  4.4211e-01\n",
      "  2.3029e+00 -3.9852e-01  2.0679e+00  1.4258e+00 -3.4068e+00  3.6414e+00\n",
      " -9.1947e-01  2.2878e+00  2.8655e-01 -1.4247e+00  2.0146e+00 -3.1812e-01\n",
      "  2.8539e-01 -8.9888e-01  4.0592e-01 -1.8432e+00  1.2320e+00 -1.3494e+00\n",
      " -8.7767e-01  3.1659e+00 -5.3968e+00  1.0224e-01 -6.6218e-01  1.4322e-01\n",
      " -8.0022e-01  2.0837e-02  9.0197e-01 -7.7107e-02 -1.0441e+00 -2.6908e+00\n",
      "  1.6553e+00 -1.4360e+00  1.0224e+00  9.9791e-01 -2.3559e-01 -1.7285e+00\n",
      " -2.7734e+00 -6.2364e-02 -2.1072e+00 -6.9482e-01  2.2085e+00 -1.3520e+00\n",
      " -9.2730e-01  1.1398e+00  2.9343e+00 -5.4456e-01  1.2455e-01  7.2392e-01\n",
      "  2.4813e+00 -3.4872e-01 -5.3726e-01  9.3175e-01  2.0874e+00  1.2429e-01\n",
      "  2.7781e+00  2.1732e+00  7.6570e-01 -1.0391e+00 -3.9576e-01  4.4002e-01\n",
      "  6.9819e-01  1.7145e+00 -2.6506e+00 -2.6748e+00  4.6521e-02  1.4283e+00\n",
      "  1.6001e+00  1.9050e+00 -8.0148e-01  9.0735e-01 -2.7973e-01  1.6729e+00\n",
      " -3.1485e-01 -1.7285e+00  7.4965e-01 -1.9090e+00 -5.8389e-01  2.4445e+00\n",
      "  7.8020e-01 -3.5815e-01 -1.9009e+00 -3.9520e-01 -7.9940e-01  1.2268e+00\n",
      " -1.0254e+00 -3.1311e+00 -7.2086e-01 -3.0978e+00 -8.6339e-03  1.6919e+00\n",
      " -7.9498e-01 -4.1201e-01  2.3169e+00 -1.3500e+00  2.1722e-02  1.5619e-01\n",
      "  6.6812e-01  1.1814e+00 -1.0367e+00 -7.2752e-01 -9.0512e-01  1.5104e+00\n",
      " -4.0906e-01  3.4942e-01  5.1610e-01  5.0468e-03  8.5434e-01  5.3023e-01\n",
      "  2.1079e+00 -1.3006e+00  5.1286e-01 -1.7454e+00 -1.1134e+00 -1.5759e+00\n",
      " -1.1734e-01  2.3153e-01 -7.6550e-01  2.4434e-01  5.8682e-01 -1.4777e+00\n",
      " -3.4915e+00  2.9636e-01  3.1339e-01  2.1800e+00  7.7200e-01  4.8152e-01\n",
      "  2.6104e+00 -9.0304e-02 -2.0323e+00 -1.0364e+00 -2.4177e-01  6.4736e-02\n",
      " -1.3503e+00  9.3529e-01 -4.0185e-01 -1.1851e+00  1.8281e+00  1.9604e+00\n",
      "  1.1000e+00  8.6617e-01  8.4946e-01  5.5623e-01 -7.0048e-01  1.6426e-01\n",
      "  1.8830e+00  5.5777e-01 -9.0313e-01 -9.4585e-01 -2.0764e+00  2.8543e+00\n",
      " -6.6210e-02 -1.3300e+00 -3.6860e+00 -1.4295e+00 -9.4231e-02 -3.2225e-01\n",
      " -2.7843e+00 -1.0216e+00  1.3410e+00 -2.1645e+00 -9.3423e-01 -9.7487e-01\n",
      " -5.0640e-01 -5.6964e-01 -1.5355e+00 -1.4906e+00  2.8756e-01  1.9613e+00\n",
      " -4.0210e-01 -1.2502e+00  8.6553e-01 -1.7403e-01  1.6618e+00 -4.6394e-01\n",
      " -5.2354e-01  4.8768e-01 -1.7721e+00 -2.8640e-02  7.7537e-01 -6.2446e-01\n",
      "  6.4267e-01 -3.6670e+00 -5.9061e-01 -1.5290e+00  1.4118e+00 -2.4818e-02\n",
      " -8.0740e-01  5.6483e-01  1.9826e+00  3.7749e-01  2.0935e+00  6.8184e-01\n",
      " -8.1643e-01  9.3742e-01  9.7801e-01  3.3076e+00 -3.0539e+00  7.0611e-01]\n",
      "poodle dog 0.6339900493621826\n",
      "poodle poodle 1.0\n",
      "poodle beagle 0.6217650771141052\n",
      "poodle cat 0.6388016939163208\n",
      "poodle banana 0.2899792790412903\n",
      "poodle apple 0.2370169311761856\n",
      "[ 0.58328    1.2098    -0.70754   -1.5435     0.25103   -0.33727\n",
      " -0.91154   -1.1195     2.0146     1.926      0.31715    1.6609\n",
      " -0.54084    1.5599    -0.84586    0.060462  -0.71474    1.2818\n",
      "  1.1567     0.18205   -1.3785     1.8252    -1.4684    -0.72792\n",
      "  1.706      1.021     -1.2491     0.65614   -1.6271    -0.55611\n",
      " -2.8026     2.2134    -1.7196    -0.38343    0.50146   -2.1511\n",
      "  0.028607   0.65769    2.3119    -2.1465     0.47338    0.53135\n",
      "  0.78004    2.1823    -0.66335    0.28079   -0.36587   -0.052432\n",
      "  0.99427   -1.8483     0.98302    3.6994     0.65098    0.81009\n",
      " -0.010641  -1.0506     0.46422   -1.5238     1.885     -0.35168\n",
      "  0.026424  -2.7072     0.41993    2.4915    -0.60969   -1.9882\n",
      " -0.10478    1.2975    -0.39367   -0.17079    2.5346     1.2711\n",
      "  1.4391    -0.031206  -1.407      0.57341   -0.34224   -0.18972\n",
      "  0.44676   -1.3733    -0.87722    1.3325    -1.469      1.6911\n",
      " -0.37941   -2.2523     3.0122     1.267     -2.7927    -1.1659\n",
      " -0.73911   -1.0736     2.2681    -0.61734    0.43529   -1.0804\n",
      " -0.03326   -0.0083739  0.10037   -2.3552     1.1254     0.71623\n",
      "  2.6139    -0.059547   1.815      1.2669    -1.0058     2.0871\n",
      "  1.6439    -0.20522   -0.19195   -1.109      0.097588   0.65527\n",
      "  0.56421   -1.454      1.9538     1.9942     1.3636    -1.4418\n",
      " -0.98754    0.95439   -3.1676     0.86141   -1.8356     0.066206\n",
      "  1.1829    -0.081972   2.9886    -1.0686    -0.31838   -2.9373\n",
      "  1.1982    -0.66376    2.3059     0.89978   -0.016318  -1.1115\n",
      " -2.8834    -0.51782   -2.8737    -0.12718   -0.41995   -0.7285\n",
      " -0.52239    1.8509    -0.080612   0.2956     0.0091572 -1.1458\n",
      "  2.3685    -0.25848   -0.17055   -0.11937    0.49771    0.39234\n",
      "  0.71787    0.86149    1.5772    -0.057748  -0.68577   -2.8255\n",
      "  0.17878    1.2215    -3.4137    -1.752     -1.0733     0.43148\n",
      "  1.6172     0.72446   -1.4731     0.37566   -0.04251   -0.50265\n",
      "  0.016223  -1.8973    -0.86064   -1.4327    -1.876      0.66805\n",
      " -0.55806    0.30323   -1.2245     1.0397     1.2042     2.0624\n",
      "  1.5732    -3.0808     0.23585   -0.85531    1.165      0.33483\n",
      "  0.07049   -0.46084    1.24       1.0102    -0.021357   0.90746\n",
      "  0.25894    0.96997    0.86457    1.6394    -1.4663     2.1922\n",
      " -0.32439    0.18704    0.61862   -0.49443    0.23608    0.27895\n",
      " -0.30726    0.32631   -0.50397   -1.6138    -1.0253    -0.65304\n",
      "  0.46672    0.053867  -1.504     -0.095519   0.52859   -1.0264\n",
      " -1.2757     1.8004    -1.8498     3.0954     0.025315   0.46156\n",
      "  1.0679    -0.3084     0.70023   -2.1764     0.21703   -0.98318\n",
      " -0.77722    1.0229    -1.2381     0.9297    -1.0404     1.3641\n",
      "  1.6485    -1.2935     2.2406    -0.80584    1.2425     0.020686\n",
      "  1.574      1.6942    -1.1182     1.4266    -0.51426    0.11956\n",
      "  0.84223   -1.6841    -2.966     -2.4023    -1.3799     2.4392\n",
      " -1.8077    -0.29916    1.3971    -2.2944     1.0263     0.6019\n",
      " -2.1712    -1.2215    -0.21986    0.32568   -0.70084   -0.34646\n",
      "  0.91858    0.28239    1.2398    -0.97557    0.7622    -0.14726\n",
      " -0.020186  -0.80821   -2.3804     0.83881   -0.3813    -0.27084\n",
      "  0.57791   -1.3275    -0.22658    0.59231    0.33735    1.6393\n",
      " -1.5906     1.3357     0.78475   -1.0187     2.6041     1.4491\n",
      " -1.3499     1.674     -0.1301     2.349     -3.2671    -0.27576  ]\n",
      "beagle dog 0.5964534282684326\n",
      "beagle poodle 0.6217650771141052\n",
      "beagle beagle 1.0\n",
      "beagle cat 0.5943629145622253\n",
      "beagle banana 0.10636148601770401\n",
      "beagle apple 0.120062917470932\n",
      "[ 3.7032e+00  4.1982e+00 -5.0002e+00 -1.1322e+01  3.1702e-02 -1.0255e+00\n",
      " -3.0870e+00 -3.7327e+00  5.3875e-01  3.5679e+00  6.9276e+00  1.5793e+00\n",
      "  5.1188e-01  3.1868e+00  6.1534e+00 -4.8941e+00 -2.9959e-01 -3.6276e+00\n",
      "  2.3825e+00 -1.4402e+00 -4.7577e+00  4.3607e+00 -4.9814e+00 -3.6672e+00\n",
      " -1.8052e+00 -2.1888e+00 -4.2875e+00  5.5712e+00 -5.2875e+00 -1.8346e+00\n",
      " -2.2015e+00 -7.7091e-01 -4.8260e+00  1.2464e+00 -1.7945e+00 -8.1280e+00\n",
      "  1.9994e+00  1.1413e+00  3.8032e+00 -2.8783e+00 -4.2136e-01 -4.4177e+00\n",
      "  7.7456e+00  4.9535e+00  1.7402e+00  1.8275e-01  2.4218e+00 -3.1496e+00\n",
      " -3.8057e-02 -2.9818e+00  8.3396e-01  1.1531e+01  3.5684e+00  2.5970e+00\n",
      " -2.8438e+00  3.2755e+00  4.5674e+00  3.2219e+00  3.4206e+00  1.1200e-01\n",
      "  1.0303e-01 -5.8396e+00  4.6370e-01  2.7750e+00 -5.3713e+00 -5.0247e+00\n",
      " -2.0212e+00  5.8772e-01  1.1569e+00  1.3224e+00  4.3994e+00  2.0444e+00\n",
      "  2.1343e+00 -1.9023e+00  2.1469e+00 -2.9085e+00  4.8429e-01 -3.3544e-01\n",
      "  1.4484e+00 -1.5770e+00 -1.1307e+00  2.8320e+00  6.2041e-01  3.7994e+00\n",
      " -3.1162e-01 -6.9221e+00  7.1342e+00  7.2441e+00 -8.9326e+00 -2.7927e+00\n",
      "  2.6613e-01  6.7547e-01  6.7293e+00 -5.8127e+00  3.1567e+00 -1.0634e+00\n",
      " -1.5733e+00  1.3534e+00  3.9218e-01 -8.7077e+00  3.4229e-02  3.3251e+00\n",
      "  4.6713e+00  1.1865e-02  9.8345e-01 -5.3206e-02 -9.1613e+00  6.0161e+00\n",
      " -2.2223e+00  2.5015e+00 -6.0702e-01 -3.6344e-02  7.1884e+00 -1.4431e+00\n",
      "  2.6156e+00 -1.0148e+00  4.1225e+00 -1.8472e+00  4.6292e+00 -2.6506e+00\n",
      " -1.8937e+00  4.1749e+00 -9.6644e+00 -2.4813e+00 -2.7637e+00 -1.0624e+00\n",
      "  3.5988e+00  4.9833e+00  6.4499e-01  2.5784e-01  9.8727e-01 -4.2485e+00\n",
      "  3.4272e-01 -2.2270e+00 -1.8957e+00  8.0796e-01 -2.0265e+00 -6.1828e+00\n",
      " -2.2378e+00  2.8216e+00 -2.0050e+00 -3.8924e+00 -2.9364e-01 -1.6128e+00\n",
      " -6.7874e-01 -1.9855e+00  1.8221e-01  2.1575e+00  4.9825e-01 -1.7326e+00\n",
      "  4.7886e+00  2.9904e+00  8.3447e-01 -4.7417e+00  2.4697e+00  1.3751e+00\n",
      "  4.5358e+00  6.5386e-01  5.5413e+00  2.3963e+00  1.0031e+00 -8.0664e-01\n",
      " -1.4126e+00  2.8689e+00 -8.7339e+00 -2.7457e+00 -3.1805e-01 -2.4484e-01\n",
      "  3.7117e+00 -1.8636e+00  2.9959e-01  6.5062e-02 -1.5682e+00  1.5876e+00\n",
      "  6.9224e-01 -6.7734e+00  3.1065e+00  2.3973e+00 -3.5138e+00  3.4460e+00\n",
      "  3.4252e+00 -5.1906e+00 -6.9372e-01  1.9435e+00 -1.5669e-01  1.9710e+00\n",
      "  8.7743e-01 -8.3110e+00 -4.0306e-01 -5.0165e+00 -5.6309e-02  4.9249e+00\n",
      " -7.1053e+00 -5.2338e+00  2.3535e+00 -2.5255e+00 -2.7785e+00  5.0149e+00\n",
      " -2.8405e+00 -1.8614e+00  2.8818e-03  1.3281e+00  1.0194e+00  3.5155e+00\n",
      "  2.7971e-01  1.3251e+00  1.4386e+00 -6.1719e-01 -2.6864e+00 -3.9613e+00\n",
      "  4.5749e+00 -1.0939e+00  1.3289e+00 -9.5484e-01 -5.4675e+00  2.1607e+00\n",
      "  5.0715e-01  1.4860e-01 -4.8571e+00 -2.2213e+00 -2.3498e-01 -4.2629e+00\n",
      " -8.7002e-01  3.3796e+00 -4.3989e+00  6.1047e+00  3.7927e+00 -6.0760e+00\n",
      "  3.1840e+00 -8.3104e-01 -5.4015e+00 -6.2916e+00  1.2497e+00  1.8026e+00\n",
      " -3.4535e+00 -2.1652e-01 -1.4958e+00  5.7946e-01  2.2505e+00  2.0868e+00\n",
      "  3.9621e-01  1.6076e+00  4.0635e+00 -3.4088e+00 -1.0590e+00 -3.6376e+00\n",
      "  2.0501e+00  1.4785e+00 -1.8906e+00 -2.6215e-01 -5.1386e+00  3.7029e+00\n",
      " -1.8151e+00 -3.2759e+00 -5.1866e+00  2.5485e-01 -4.5696e+00  1.0147e+01\n",
      " -3.0195e+00 -2.4640e+00  7.5459e-01 -5.6395e+00 -5.4095e+00 -2.4363e+00\n",
      " -4.3922e-01 -4.0911e+00 -3.5194e+00  1.8031e+00 -1.3644e-01  6.7990e+00\n",
      "  5.8461e+00  5.3452e-01  1.1042e+00  3.5698e+00  4.4668e+00 -2.4537e+00\n",
      " -2.1832e+00  1.5293e+00 -1.9414e+00 -8.8675e-02 -1.1825e+00 -3.9996e+00\n",
      "  2.8077e+00 -1.8000e+00  4.2545e+00 -1.3813e+00 -2.2921e+00  3.7889e+00\n",
      " -1.5837e+00 -7.2078e-01  4.7743e+00 -3.0923e+00  8.4709e+00  3.0132e-01\n",
      " -5.6173e+00 -5.4610e-01 -4.8459e+00  6.0303e+00 -6.9664e+00  3.1445e+00]\n",
      "cat dog 0.8220816850662231\n",
      "cat poodle 0.6388016939163208\n",
      "cat beagle 0.5943629145622253\n",
      "cat cat 1.0\n",
      "cat banana 0.2235882580280304\n",
      "cat apple 0.2036806046962738\n",
      "[ 0.20778  -2.4151    0.36605   2.0139   -0.23752  -3.1952   -0.2952\n",
      "  1.2272   -3.4129   -0.54969   0.32634  -1.0813    0.55626   1.5195\n",
      "  0.97797  -3.1816   -0.37207  -0.86093   2.1509   -4.0845    0.035405\n",
      "  3.5702   -0.79413  -1.7025   -1.6371   -3.198    -1.9387    0.91166\n",
      "  0.85409   1.8039   -1.103    -2.5274    1.6365   -0.82082   1.0278\n",
      " -1.705     1.5511   -0.95633  -1.4702   -1.865    -0.19324  -0.49123\n",
      "  2.2361    2.2119    3.6654    1.7943   -0.20601   1.5483   -1.3964\n",
      " -0.50819   2.1288   -2.332     1.3539   -2.1917    1.8923    0.28472\n",
      "  0.54285   1.2309    0.26027   1.9542    1.1739   -0.40348   3.2028\n",
      "  0.75381  -2.7179   -1.3587   -1.1965   -2.0923    2.2855   -0.3058\n",
      " -0.63174   0.70083   0.16899   1.2325    0.97006  -0.23356  -2.094\n",
      " -1.737     3.6075   -1.511    -0.9135    0.53878   0.49268   0.44751\n",
      "  0.6315    1.4963    4.1725    2.1961   -1.2409    0.4214    2.9678\n",
      "  1.841     3.0133   -4.4652    0.96521  -0.29787   4.3386   -1.2527\n",
      " -1.7734   -3.5637   -0.20035  -3.3013    0.99951  -0.92888  -0.94594\n",
      "  1.5124   -3.9385    2.7935   -3.1042    3.3382    0.54513  -0.37663\n",
      "  2.5151    0.51468  -0.88907   1.011     3.4705   -3.6037    1.3702\n",
      "  2.3468    1.6674    1.3904   -2.8112    2.237    -1.0344   -0.57164\n",
      "  1.0641   -1.6919    1.958    -0.78305   0.14741   0.51083   1.8278\n",
      " -0.69638   0.90548   0.62282  -1.8315   -2.8587    0.48424  -2.0527\n",
      " -0.53808  -2.3472    1.0354   -1.8257   -0.3892   -0.24943   0.8651\n",
      " -1.5195    1.2166   -2.698    -0.96698   2.2175   -0.16089  -0.49677\n",
      " -0.19646   1.3284    4.0824    1.3919    0.80669  -1.0316   -0.28056\n",
      " -1.8632    0.47716  -0.53628   1.3853   -2.1755   -0.2354    2.4933\n",
      " -0.87255   1.4493   -0.10778  -0.44159   1.3462    4.4211   -1.8385\n",
      "  0.3985    0.47637  -0.60074   3.3583   -0.15006  -0.40495   2.7225\n",
      " -1.6297    0.86797  -4.1445   -2.7793    1.1535   -0.011691  0.9792\n",
      " -1.0141    0.80134   0.43642   1.4337    2.8927    0.82871  -1.1827\n",
      " -1.3838    2.3903   -0.89323   1.1461   -1.7435    0.8654   -0.27075\n",
      " -0.78698   1.5631   -0.5923    0.098082 -0.26682   1.6282   -0.77495\n",
      "  3.2552    1.7964   -1.4314    1.2336    2.3102   -1.6328    2.8366\n",
      " -0.71384   0.43967   1.5627    3.079    -0.922    -0.43981  -0.7659\n",
      "  1.9362   -2.2479    1.041     0.63206   1.5855    3.4097   -2.9204\n",
      " -1.4751   -0.59534  -1.688    -4.1362    2.745    -2.8515    3.6509\n",
      " -0.66993  -2.8794    2.0733    1.1779   -2.0307    2.595    -0.12246\n",
      "  1.5844    1.1855    0.022385 -2.2916   -2.2684   -2.7537    0.34981\n",
      " -4.6243   -0.96521  -1.1435   -2.8894   -0.12619   2.9577   -1.7227\n",
      "  0.24757   1.2149    3.5349   -0.95802   0.080346 -1.6553   -0.6734\n",
      "  2.2918   -1.8229   -1.1336    1.8884    2.4789   -0.66061   2.0529\n",
      " -0.76687   0.32362  -2.2579    0.91278   0.36231   0.61562  -0.15396\n",
      " -0.42917  -0.89848   0.17298  -0.76978  -2.0222   -1.7127   -1.5632\n",
      "  0.56631  -1.354     2.6261    1.9156   -1.5651    1.8315   -1.4257\n",
      " -1.6861   -0.51953   1.7635   -0.50722   1.388    -1.1012  ]\n",
      "banana dog 0.2090904712677002\n",
      "banana poodle 0.2899792790412903\n",
      "banana beagle 0.10636148601770401\n",
      "banana cat 0.2235882580280304\n",
      "banana banana 1.0\n",
      "banana apple 0.6646699905395508\n",
      "[-1.0084   -2.0308   -0.64185   2.6928    0.31771  -2.6662   -3.7372\n",
      "  5.4714   -5.1751    0.51958   5.4893   -2.0918   -2.4932    2.3152\n",
      "  0.39299  -2.4273    3.4246   -2.652     2.5341   -4.8091   -1.9631\n",
      "  4.9045   -2.5438   -1.583    -3.7814   -2.4936   -2.4261    3.8157\n",
      "  0.46178   1.2286   -0.20967  -1.4053   -2.4087   -2.2263    1.4235\n",
      " -1.87      2.5892    3.3832    2.8416   -1.5031    1.0614    1.3467\n",
      "  0.76392   0.93133   2.1568    2.318     1.3607   -0.20667   2.8629\n",
      "  0.76583   1.6461    0.43932   2.0662   -2.4634   -2.7222    1.179\n",
      "  0.041448  2.2244    1.7901   -0.55238   2.6845    3.7043   -0.58959\n",
      " -0.019975 -1.4174   -0.43252  -2.0395   -5.2668    0.78501   0.093281\n",
      " -0.77092   1.9794   -1.2714   -0.45056   2.5462    1.4792   -4.391\n",
      " -2.6146    2.5488   -1.5107    0.20595   1.7052   -0.31624  -0.78084\n",
      "  1.1114    4.4153    5.441     4.3914   -2.641     1.0225   -0.26144\n",
      "  3.36      2.7056   -2.1533    0.37352  -0.34432   5.0564   -2.8785\n",
      " -1.6259   -3.3814   -0.02939  -1.6026    2.7834   -5.6109    1.4836\n",
      "  5.4882   -3.4071    0.90713  -3.1704    1.6337   -1.3856   -1.8585\n",
      "  1.4224   -0.49556   0.52168   1.0445    1.9231   -3.8861   -0.87857\n",
      " -1.307    -0.82609  -0.30245  -3.873     0.48592  -1.3468    0.78578\n",
      "  0.19093  -6.8628    2.7033   -2.8727   -1.8477    3.2288    2.0782\n",
      " -1.8447    2.1007    1.319    -3.0202   -4.9433    0.84073  -2.6418\n",
      " -0.091421  1.3504   -1.1077   -0.14208  -1.6702   -0.48354   1.8501\n",
      " -1.4168   -0.96572  -0.97161  -1.9922    4.492     0.45212   0.051715\n",
      " -1.5537    3.256     4.7268    2.7913   -2.3955   -1.9742   -0.64347\n",
      " -2.9866   -0.28671  -0.31315   0.27257  -0.6185   -0.080709  4.8085\n",
      " -0.83882  -3.4872   -1.9937   -0.41303   1.296     3.82     -2.397\n",
      "  0.075676 -0.89804  -2.4687    4.0929   -0.81181  -3.1981    4.2611\n",
      " -2.6092   -1.1662   -1.6013   -4.4613    0.72612  -2.0072    3.433\n",
      " -0.9936    0.094394 -1.7892   -1.3659   -0.49278  -0.62436  -2.3395\n",
      " -2.7867    2.8682    3.4173    0.39109  -0.36233   1.1425    2.1709\n",
      " -2.8608    0.60379   4.3073   -1.72      2.8943    2.0609    0.52322\n",
      "  1.5345    0.29134  -1.4346    5.2392    3.2616   -3.0885    3.3717\n",
      "  0.15035   0.09446   0.92742   3.763    -1.5339   -1.5125    1.868\n",
      "  3.6907   -1.8209   -0.95385   2.8462    2.7702    3.3885   -0.34803\n",
      " -3.2016    0.40178   0.42005  -4.4751    5.8984   -1.0031    5.3031\n",
      "  0.83447  -1.5537    0.59361   0.84827   1.058     4.5737   -0.50473\n",
      "  2.3128   -0.16166   1.3055   -0.22947  -5.9766   -2.9177    1.9629\n",
      " -2.8195   -2.7858   -1.1393   -3.3073   -0.69731   4.3238   -4.4236\n",
      "  0.32115  -3.9934    2.4292   -2.4814    0.20681  -0.69637   2.1049\n",
      " -0.79979   0.48377  -5.2152    2.842     3.4831    2.6903    3.3712\n",
      " -0.082726  2.045    -6.2751    1.2221   -0.13809   1.7602    0.36628\n",
      "  3.0925    0.89382   1.6511   -0.030055  0.905    -2.1697   -2.6423\n",
      "  2.2925   -2.6947    2.6927    1.8836   -0.97302   2.061    -3.4056\n",
      " -2.8099   -0.63786   4.2887    0.59301   0.99132  -0.82037 ]\n",
      "apple dog 0.22881005704402924\n",
      "apple poodle 0.2370169311761856\n",
      "apple beagle 0.120062917470932\n",
      "apple cat 0.2036806046962738\n",
      "apple banana 0.6646699905395508\n",
      "apple apple 1.0\n"
     ]
    }
   ],
   "source": [
    "for token1 in tokens:\n",
    "    print(token1.vector)\n",
    "    for token2 in tokens:\n",
    "        print(token1, token2, token1.similarity(token2))"
   ]
  },
  {
   "cell_type": "markdown",
   "metadata": {},
   "source": [
    "We can access the *vectors* of these objects using the *vector* attribute:"
   ]
  },
  {
   "cell_type": "code",
   "execution_count": 17,
   "metadata": {},
   "outputs": [
    {
     "name": "stdout",
     "output_type": "stream",
     "text": [
      "dog True 75.254234 False\n",
      "cat True 63.188496 False\n",
      "banana True 31.620354 False\n",
      "grungle False 0.0 True\n"
     ]
    }
   ],
   "source": [
    "tokens = nlp(u'dog cat banana grungle')\n",
    "\n",
    "for token in tokens:\n",
    "    print(token.text, token.has_vector, token.vector_norm, token.is_oov)"
   ]
  },
  {
   "cell_type": "markdown",
   "metadata": {},
   "source": [
    "The attribute *has_vector* returns a boolean depending on whether the token has a vector in the model or not. The token *grungle* has no vector. It is also out-of-vocabulary (OOV), as the fourth column shows. Thus, it also has a norm of $0$, that is, it has a length of $0$."
   ]
  },
  {
   "cell_type": "markdown",
   "metadata": {},
   "source": [
    "Here the token vector has a length of $300$. We can print out the vector for a token:"
   ]
  },
  {
   "cell_type": "code",
   "execution_count": 18,
   "metadata": {},
   "outputs": [
    {
     "name": "stdout",
     "output_type": "stream",
     "text": [
      "dog 300 [ 1.2330e+00  4.2963e+00 -7.9738e+00 -1.0121e+01  1.8207e+00  1.4098e+00\n",
      " -4.5180e+00 -5.2261e+00 -2.9157e-01  9.5234e-01  6.9880e+00  5.0637e+00\n",
      " -5.5726e-03  3.3395e+00  6.4596e+00 -6.3742e+00  3.9045e-02 -3.9855e+00\n",
      "  1.2085e+00 -1.3186e+00 -4.8886e+00  3.7066e+00 -2.8281e+00 -3.5447e+00\n",
      "  7.6888e-01  1.5016e+00 -4.3632e+00  8.6480e+00 -5.9286e+00 -1.3055e+00\n",
      "  8.3870e-01  9.0137e-01 -1.7843e+00 -1.0148e+00  2.7300e+00 -6.9039e+00\n",
      "  8.0413e-01  7.4880e+00  6.1078e+00 -4.2130e+00 -1.5384e-01 -5.4995e+00\n",
      "  1.0896e+01  3.9278e+00 -1.3601e-01  7.7732e-02  3.2218e+00 -5.8777e+00\n",
      "  6.1359e-01 -2.4287e+00  6.2820e+00  1.3461e+01  4.3236e+00  2.4266e+00\n",
      " -2.6512e+00  1.1577e+00  5.0848e+00 -1.7058e+00  3.3824e+00  3.2850e+00\n",
      "  1.0969e+00 -8.3711e+00 -1.5554e+00  2.0296e+00 -2.6796e+00 -6.9195e+00\n",
      " -2.3386e+00 -1.9916e+00 -3.0450e+00  2.4890e+00  7.3247e+00  1.3364e+00\n",
      "  2.3828e-01  8.4388e-02  3.1480e+00 -1.1128e+00 -3.5598e+00 -1.2115e-01\n",
      " -2.0357e+00 -3.2731e+00 -7.7205e+00  4.0948e+00 -2.0732e+00  2.0833e+00\n",
      " -2.2803e+00 -4.9850e+00  9.7667e+00  6.1779e+00 -1.0352e+01 -2.2268e+00\n",
      "  2.5765e+00 -5.7440e+00  5.5564e+00 -5.2735e+00  3.0004e+00 -4.2512e+00\n",
      " -1.5682e+00  2.2698e+00  1.0491e+00 -9.0486e+00  4.2936e+00  1.8709e+00\n",
      "  5.1985e+00 -1.3153e+00  6.5224e+00  4.0113e-01 -1.2583e+01  3.6534e+00\n",
      " -2.0961e+00  1.0022e+00 -1.7873e+00 -4.2555e+00  7.7471e+00  1.0173e+00\n",
      "  3.1626e+00  2.3558e+00  3.3589e-01 -4.4178e+00  5.0584e+00 -2.4118e+00\n",
      " -2.7445e+00  3.4170e+00 -1.1574e+01 -2.6568e+00 -3.6933e+00 -2.0398e+00\n",
      "  5.0976e+00  6.5249e+00  3.3573e+00  9.5334e-01 -9.4430e-01 -9.4395e+00\n",
      "  2.7867e+00 -1.7549e+00  1.7287e+00  3.4942e+00 -1.6883e+00 -3.5771e+00\n",
      " -1.9013e+00  2.2239e+00 -5.4335e+00 -6.5724e+00 -6.7228e-01 -1.9748e+00\n",
      " -3.1080e+00 -1.8570e+00  9.9496e-01  8.9135e-01 -4.4254e+00  3.3125e-01\n",
      "  5.8815e+00  1.9384e+00  5.7294e-01 -2.8830e+00  3.8087e+00 -1.3095e+00\n",
      "  5.9208e+00  3.3620e+00  3.3571e+00 -3.8807e-01  9.0022e-01 -5.5742e+00\n",
      " -4.2939e+00  1.4992e+00 -4.7080e+00 -2.9402e+00 -1.2259e+00  3.0980e-01\n",
      "  1.8858e+00 -1.9867e+00 -2.3554e-01 -5.4535e-01 -2.1387e-01  2.4797e+00\n",
      "  5.9710e+00 -7.1249e+00  1.6257e+00 -1.5241e+00  7.5974e-01  1.4312e+00\n",
      "  2.3641e+00 -3.5566e+00  9.2066e-01  4.4934e-01 -1.3233e+00  3.1733e+00\n",
      " -4.7059e+00 -1.2090e+01 -3.9241e-01 -6.8457e-01 -3.6789e+00  6.6279e+00\n",
      " -2.9937e+00 -3.8361e+00  1.3868e+00 -4.9002e+00 -2.4299e+00  6.4312e+00\n",
      "  2.5056e+00 -4.5080e+00 -5.1278e+00 -1.5585e+00 -3.0226e+00 -8.6811e-01\n",
      " -1.1538e+00 -1.0022e+00 -9.1651e-01 -4.7810e-01 -1.6084e+00 -2.7307e+00\n",
      "  3.7080e+00  7.7423e-01 -1.1085e+00 -6.8755e-01 -8.2901e+00  3.2405e+00\n",
      " -1.6108e-01 -6.2837e-01 -5.5960e+00 -4.4865e+00  4.0115e-01 -3.7063e+00\n",
      " -2.1704e+00  4.0789e+00 -1.7973e+00  8.9538e+00  8.9421e-01 -4.8128e+00\n",
      "  4.5367e+00 -3.2579e-01 -5.2344e+00 -3.9766e+00 -2.1979e+00  3.5699e+00\n",
      "  1.4982e+00  6.0972e+00 -1.9704e+00  4.6522e+00 -3.7734e-01  3.9101e-02\n",
      "  2.5361e+00 -1.8096e+00  8.7035e+00 -8.6372e+00 -3.5257e+00  3.1034e+00\n",
      "  3.2635e+00  4.5437e+00 -5.7290e+00 -2.9141e-01 -2.0011e+00  8.5328e+00\n",
      " -4.5064e+00 -4.8276e+00 -1.1786e+01  3.5607e-01 -5.7115e+00  6.3122e+00\n",
      " -3.6650e+00  3.3597e-01  2.5017e+00 -3.5025e+00 -3.7891e+00 -3.1343e+00\n",
      " -1.4429e+00 -6.9119e+00 -2.6114e+00 -5.9757e-01  3.7847e-01  6.3187e+00\n",
      "  2.8965e+00 -2.5397e+00  1.8022e+00  3.5486e+00  4.4721e+00 -4.8481e+00\n",
      " -3.6252e+00  4.0969e+00 -2.0081e+00 -2.0122e-01  2.5244e+00 -6.8817e-01\n",
      "  6.7184e-01 -7.0466e+00  1.6641e+00 -2.2308e+00 -3.8960e+00  6.1320e+00\n",
      " -8.0335e+00 -1.7130e+00  2.5688e+00 -5.2547e+00  6.9845e+00  2.7835e-01\n",
      " -6.4554e+00 -2.1327e+00 -5.6515e+00  1.1174e+01 -8.0568e+00  5.7985e+00]\n"
     ]
    }
   ],
   "source": [
    "n = 0\n",
    "print(tokens[n].text, len(tokens[n].vector), tokens[n].vector)"
   ]
  },
  {
   "cell_type": "markdown",
   "metadata": {},
   "source": [
    "Here just another example of similarities for some famous words:"
   ]
  },
  {
   "cell_type": "code",
   "execution_count": 19,
   "metadata": {},
   "outputs": [
    {
     "name": "stdout",
     "output_type": "stream",
     "text": [
      "queen queen 1.0\n",
      "queen king 0.6108841896057129\n",
      "queen chef 0.13113069534301758\n",
      "king queen 0.6108841896057129\n",
      "king king 1.0\n",
      "king chef 0.04403642565011978\n",
      "chef queen 0.13113069534301758\n",
      "chef king 0.04403642565011978\n",
      "chef chef 1.0\n"
     ]
    }
   ],
   "source": [
    "tokens = nlp(u'queen king chef')\n",
    "\n",
    "for token1 in tokens:\n",
    "    for token2 in tokens:\n",
    "        print(token1, token2, token1.similarity(token2))"
   ]
  },
  {
   "cell_type": "markdown",
   "metadata": {},
   "source": [
    "### Similarities in Context"
   ]
  },
  {
   "cell_type": "markdown",
   "metadata": {},
   "source": [
    "In spaCy parsing, tagging and NER models make use of vector representations of contexts that represent the *meaning of words*. A text *meaning representation* is represented as an array of floats, i.e. a tensor, computed during the NLP pipeline processing. With this approach words that have not been seen before can be typed or classified. SpaCy uses a 4-layer convolutional network for the computation of these tensors. In this approach these tensors model a context of four words left and right of any given word."
   ]
  },
  {
   "cell_type": "markdown",
   "metadata": {},
   "source": [
    "Let us use the example from the spaCy documentation and check the word *labrador*:"
   ]
  },
  {
   "cell_type": "code",
   "execution_count": null,
   "metadata": {},
   "outputs": [],
   "source": [
    "tokens = nlp(u'labrador')\n",
    "\n",
    "for token in tokens:\n",
    "    print(token.text, token.has_vector, token.vector_norm, token.is_oov)"
   ]
  },
  {
   "cell_type": "markdown",
   "metadata": {},
   "source": [
    "We can now test for the context:"
   ]
  },
  {
   "cell_type": "code",
   "execution_count": null,
   "metadata": {},
   "outputs": [],
   "source": [
    "doc1 = nlp(u\"The labrador barked.\")\n",
    "doc2 = nlp(u\"The labrador swam.\")\n",
    "doc3 = nlp(u\"The people on Labrador are Canadians.\")\n",
    "\n",
    "dog = nlp(u\"dog\")\n",
    "\n",
    "count = 0\n",
    "for doc in [doc1, doc2, doc3]:\n",
    "    lab = doc\n",
    "    count += 1\n",
    "    print(str(count) + \":\", lab.similarity(dog))"
   ]
  },
  {
   "cell_type": "markdown",
   "metadata": {},
   "source": [
    "Using this strategy we can compute document or text similarities as well:"
   ]
  },
  {
   "cell_type": "code",
   "execution_count": null,
   "metadata": {},
   "outputs": [],
   "source": [
    "docs = ( nlp(u\"Paris is the largest city in France.\"),\n",
    "        nlp(u\"Vilnius is the capital of Lithuania.\"),\n",
    "        nlp(u\"An emu is a large bird.\") )\n",
    "\n",
    "for x in range(len(docs)):\n",
    "    zset = set(range(len(docs)))\n",
    "    zset.remove(x)\n",
    "    for y in zset:\n",
    "        print(x, y, docs[x].similarity(docs[y]))"
   ]
  },
  {
   "cell_type": "markdown",
   "metadata": {},
   "source": [
    "We can vary the word order in sentences and compare them:"
   ]
  },
  {
   "cell_type": "code",
   "execution_count": null,
   "metadata": {},
   "outputs": [],
   "source": [
    "docs = [nlp(u\"dog bites man\"), nlp(u\"man bites dog\"),\n",
    "        nlp(u\"man dog bites\"), nlp(u\"cat eats mouse\")]\n",
    "\n",
    "for doc in docs:\n",
    "    for other_doc in docs:\n",
    "        print('\"' + doc.text + '\"', '\"' + other_doc.text + '\"', doc.similarity(other_doc))"
   ]
  },
  {
   "cell_type": "markdown",
   "metadata": {},
   "source": [
    "### Custom Models"
   ]
  },
  {
   "cell_type": "markdown",
   "metadata": {},
   "source": [
    "#### Optimization"
   ]
  },
  {
   "cell_type": "code",
   "execution_count": 20,
   "metadata": {},
   "outputs": [],
   "source": [
    "nlp = spacy.load('en_core_web_lg')"
   ]
  },
  {
   "cell_type": "markdown",
   "metadata": {},
   "source": [
    "## Training Models"
   ]
  },
  {
   "cell_type": "markdown",
   "metadata": {},
   "source": [
    "This example code for training an NER model is based on the [training example in spaCy](https://github.com/explosion/spaCy/blob/master/examples/training/train_ner.py)."
   ]
  },
  {
   "cell_type": "markdown",
   "metadata": {},
   "source": [
    "We will import some components from the *__future__* module. Read its [documentation here](https://docs.python.org/3/library/__future__.html)."
   ]
  },
  {
   "cell_type": "code",
   "execution_count": 21,
   "metadata": {},
   "outputs": [],
   "source": [
    "from __future__ import unicode_literals, print_function"
   ]
  },
  {
   "cell_type": "markdown",
   "metadata": {},
   "source": [
    "We import the [*random*](https://docs.python.org/3/library/random.html) module for pseudo-random number generation:"
   ]
  },
  {
   "cell_type": "code",
   "execution_count": 22,
   "metadata": {},
   "outputs": [],
   "source": [
    "import random"
   ]
  },
  {
   "cell_type": "markdown",
   "metadata": {},
   "source": [
    "We import the *Path* object from the [*pathlib*](https://docs.python.org/3/library/pathlib.html) module:"
   ]
  },
  {
   "cell_type": "code",
   "execution_count": 23,
   "metadata": {},
   "outputs": [],
   "source": [
    "from pathlib import Path"
   ]
  },
  {
   "cell_type": "markdown",
   "metadata": {},
   "source": [
    "We import *spaCy*:"
   ]
  },
  {
   "cell_type": "code",
   "execution_count": 24,
   "metadata": {},
   "outputs": [],
   "source": [
    "import spacy"
   ]
  },
  {
   "cell_type": "markdown",
   "metadata": {},
   "source": [
    "We also import the minibatch and compounding module from *spaCy.utils*:"
   ]
  },
  {
   "cell_type": "code",
   "execution_count": 25,
   "metadata": {},
   "outputs": [],
   "source": [
    "from spacy.util import minibatch, compounding\n",
    "from spacy.training.example import Example"
   ]
  },
  {
   "cell_type": "markdown",
   "metadata": {},
   "source": [
    "The training data is formated as JSON:"
   ]
  },
  {
   "cell_type": "code",
   "execution_count": 26,
   "metadata": {},
   "outputs": [],
   "source": [
    "TRAIN_DATA = [\n",
    "    (\"Who is Shaka Khan?\", {\"entities\": [(7, 17, \"PERSON\")]}),\n",
    "    (\"I like London and Berlin.\", {\"entities\": [(7, 13, \"LOC\"), (18, 24, \"LOC\")]}),\n",
    "]"
   ]
  },
  {
   "cell_type": "markdown",
   "metadata": {},
   "source": [
    "We created a blank 'xx' model:"
   ]
  },
  {
   "cell_type": "code",
   "execution_count": 27,
   "metadata": {},
   "outputs": [],
   "source": [
    "nlp = spacy.blank(\"xx\")  # create blank Language class\n",
    "ner = nlp.add_pipe(\"ner\", last=True)"
   ]
  },
  {
   "cell_type": "markdown",
   "metadata": {},
   "source": [
    "We add the named entity labels to the NER model:"
   ]
  },
  {
   "cell_type": "code",
   "execution_count": 28,
   "metadata": {},
   "outputs": [],
   "source": [
    "for _, annotations in TRAIN_DATA:\n",
    "    for ent in annotations.get(\"entities\"):\n",
    "        ner.add_label(ent[2])"
   ]
  },
  {
   "cell_type": "markdown",
   "metadata": {},
   "source": [
    "Assuming that the model is empty and untrained, we reset and initialize the weights randomly using:"
   ]
  },
  {
   "cell_type": "code",
   "execution_count": 29,
   "metadata": {},
   "outputs": [
    {
     "data": {
      "text/plain": [
       "<thinc.optimizers.Optimizer at 0x2b641d22fc0>"
      ]
     },
     "execution_count": 29,
     "metadata": {},
     "output_type": "execute_result"
    }
   ],
   "source": [
    "nlp.begin_training()"
   ]
  },
  {
   "cell_type": "markdown",
   "metadata": {},
   "source": [
    "We would not do this, if the model is supposed to be tuned or retrained on new data."
   ]
  },
  {
   "cell_type": "markdown",
   "metadata": {},
   "source": [
    "We get all pipe-names in the model that are not our NER related pipes to disable them during training:"
   ]
  },
  {
   "cell_type": "code",
   "execution_count": 30,
   "metadata": {},
   "outputs": [],
   "source": [
    "pipe_exceptions = [\"ner\", \"trf_wordpiecer\", \"trf_tok2vec\"]\n",
    "other_pipes = [pipe for pipe in nlp.pipe_names if pipe not in pipe_exceptions]"
   ]
  },
  {
   "cell_type": "markdown",
   "metadata": {},
   "source": [
    "We can now disable the other pipes and train just the NER uing 100 iterations:"
   ]
  },
  {
   "cell_type": "code",
   "execution_count": 31,
   "metadata": {},
   "outputs": [
    {
     "name": "stdout",
     "output_type": "stream",
     "text": [
      "I like London and Berlin.\n",
      "{'entities': [(7, 13, 'LOC'), (18, 24, 'LOC')]}\n",
      "Who is Shaka Khan?\n",
      "{'entities': [(7, 17, 'PERSON')]}\n",
      "Losses {'ner': 9.807347595691681}\n",
      "Who is Shaka Khan?\n",
      "{'entities': [(7, 17, 'PERSON')]}\n",
      "I like London and Berlin.\n",
      "{'entities': [(7, 13, 'LOC'), (18, 24, 'LOC')]}\n",
      "Losses {'ner': 9.369681477546692}\n",
      "I like London and Berlin.\n",
      "{'entities': [(7, 13, 'LOC'), (18, 24, 'LOC')]}\n",
      "Who is Shaka Khan?\n",
      "{'entities': [(7, 17, 'PERSON')]}\n",
      "Losses {'ner': 8.871686816215515}\n",
      "Who is Shaka Khan?\n",
      "{'entities': [(7, 17, 'PERSON')]}\n",
      "I like London and Berlin.\n",
      "{'entities': [(7, 13, 'LOC'), (18, 24, 'LOC')]}\n",
      "Losses {'ner': 8.334201335906982}\n",
      "Who is Shaka Khan?\n",
      "{'entities': [(7, 17, 'PERSON')]}\n",
      "I like London and Berlin.\n",
      "{'entities': [(7, 13, 'LOC'), (18, 24, 'LOC')]}\n",
      "Losses {'ner': 7.543903052806854}\n",
      "Who is Shaka Khan?\n",
      "{'entities': [(7, 17, 'PERSON')]}\n",
      "I like London and Berlin.\n",
      "{'entities': [(7, 13, 'LOC'), (18, 24, 'LOC')]}\n",
      "Losses {'ner': 7.165753066539764}\n",
      "Who is Shaka Khan?\n",
      "{'entities': [(7, 17, 'PERSON')]}\n",
      "I like London and Berlin.\n",
      "{'entities': [(7, 13, 'LOC'), (18, 24, 'LOC')]}\n",
      "Losses {'ner': 6.5413538813591}\n",
      "Who is Shaka Khan?\n",
      "{'entities': [(7, 17, 'PERSON')]}\n",
      "I like London and Berlin.\n",
      "{'entities': [(7, 13, 'LOC'), (18, 24, 'LOC')]}\n",
      "Losses {'ner': 5.844934344291687}\n",
      "Who is Shaka Khan?\n",
      "{'entities': [(7, 17, 'PERSON')]}\n",
      "I like London and Berlin.\n",
      "{'entities': [(7, 13, 'LOC'), (18, 24, 'LOC')]}\n",
      "Losses {'ner': 4.9118446707725525}\n",
      "Who is Shaka Khan?\n",
      "{'entities': [(7, 17, 'PERSON')]}\n",
      "I like London and Berlin.\n",
      "{'entities': [(7, 13, 'LOC'), (18, 24, 'LOC')]}\n",
      "Losses {'ner': 4.92004306614399}\n",
      "Who is Shaka Khan?\n",
      "{'entities': [(7, 17, 'PERSON')]}\n",
      "I like London and Berlin.\n",
      "{'entities': [(7, 13, 'LOC'), (18, 24, 'LOC')]}\n",
      "Losses {'ner': 4.341762537136674}\n",
      "Who is Shaka Khan?\n",
      "{'entities': [(7, 17, 'PERSON')]}\n",
      "I like London and Berlin.\n",
      "{'entities': [(7, 13, 'LOC'), (18, 24, 'LOC')]}\n",
      "Losses {'ner': 4.77932108938694}\n",
      "Who is Shaka Khan?\n",
      "{'entities': [(7, 17, 'PERSON')]}\n",
      "I like London and Berlin.\n",
      "{'entities': [(7, 13, 'LOC'), (18, 24, 'LOC')]}\n",
      "Losses {'ner': 4.258635206148028}\n",
      "I like London and Berlin.\n",
      "{'entities': [(7, 13, 'LOC'), (18, 24, 'LOC')]}\n",
      "Who is Shaka Khan?\n",
      "{'entities': [(7, 17, 'PERSON')]}\n",
      "Losses {'ner': 4.824741402873769}\n",
      "Who is Shaka Khan?\n",
      "{'entities': [(7, 17, 'PERSON')]}\n",
      "I like London and Berlin.\n",
      "{'entities': [(7, 13, 'LOC'), (18, 24, 'LOC')]}\n",
      "Losses {'ner': 3.647263493738137}\n",
      "I like London and Berlin.\n",
      "{'entities': [(7, 13, 'LOC'), (18, 24, 'LOC')]}\n",
      "Who is Shaka Khan?\n",
      "{'entities': [(7, 17, 'PERSON')]}\n",
      "Losses {'ner': 3.5353598798974417}\n",
      "Who is Shaka Khan?\n",
      "{'entities': [(7, 17, 'PERSON')]}\n",
      "I like London and Berlin.\n",
      "{'entities': [(7, 13, 'LOC'), (18, 24, 'LOC')]}\n",
      "Losses {'ner': 3.340225256513804}\n",
      "Who is Shaka Khan?\n",
      "{'entities': [(7, 17, 'PERSON')]}\n",
      "I like London and Berlin.\n",
      "{'entities': [(7, 13, 'LOC'), (18, 24, 'LOC')]}\n",
      "Losses {'ner': 3.264639046508819}\n",
      "I like London and Berlin.\n",
      "{'entities': [(7, 13, 'LOC'), (18, 24, 'LOC')]}\n",
      "Who is Shaka Khan?\n",
      "{'entities': [(7, 17, 'PERSON')]}\n",
      "Losses {'ner': 3.187408015015535}\n",
      "Who is Shaka Khan?\n",
      "{'entities': [(7, 17, 'PERSON')]}\n",
      "I like London and Berlin.\n",
      "{'entities': [(7, 13, 'LOC'), (18, 24, 'LOC')]}\n",
      "Losses {'ner': 3.7551015835488215}\n",
      "I like London and Berlin.\n",
      "{'entities': [(7, 13, 'LOC'), (18, 24, 'LOC')]}\n",
      "Who is Shaka Khan?\n",
      "{'entities': [(7, 17, 'PERSON')]}\n",
      "Losses {'ner': 2.289530265290523}\n",
      "I like London and Berlin.\n",
      "{'entities': [(7, 13, 'LOC'), (18, 24, 'LOC')]}\n",
      "Who is Shaka Khan?\n",
      "{'entities': [(7, 17, 'PERSON')]}\n",
      "Losses {'ner': 3.3376715423946735}\n",
      "Who is Shaka Khan?\n",
      "{'entities': [(7, 17, 'PERSON')]}\n",
      "I like London and Berlin.\n",
      "{'entities': [(7, 13, 'LOC'), (18, 24, 'LOC')]}\n",
      "Losses {'ner': 2.0136118575392175}\n",
      "I like London and Berlin.\n",
      "{'entities': [(7, 13, 'LOC'), (18, 24, 'LOC')]}\n",
      "Who is Shaka Khan?\n",
      "{'entities': [(7, 17, 'PERSON')]}\n",
      "Losses {'ner': 1.8762141591287218}\n",
      "Who is Shaka Khan?\n",
      "{'entities': [(7, 17, 'PERSON')]}\n",
      "I like London and Berlin.\n",
      "{'entities': [(7, 13, 'LOC'), (18, 24, 'LOC')]}\n",
      "Losses {'ner': 1.9188840730348602}\n",
      "I like London and Berlin.\n",
      "{'entities': [(7, 13, 'LOC'), (18, 24, 'LOC')]}\n",
      "Who is Shaka Khan?\n",
      "{'entities': [(7, 17, 'PERSON')]}\n",
      "Losses {'ner': 1.5887604513882252}\n",
      "Who is Shaka Khan?\n",
      "{'entities': [(7, 17, 'PERSON')]}\n",
      "I like London and Berlin.\n",
      "{'entities': [(7, 13, 'LOC'), (18, 24, 'LOC')]}\n",
      "Losses {'ner': 1.3484344640673953}\n",
      "Who is Shaka Khan?\n",
      "{'entities': [(7, 17, 'PERSON')]}\n",
      "I like London and Berlin.\n",
      "{'entities': [(7, 13, 'LOC'), (18, 24, 'LOC')]}\n",
      "Losses {'ner': 0.848252388347646}\n",
      "I like London and Berlin.\n",
      "{'entities': [(7, 13, 'LOC'), (18, 24, 'LOC')]}\n",
      "Who is Shaka Khan?\n",
      "{'entities': [(7, 17, 'PERSON')]}\n",
      "Losses {'ner': 4.57604845675246}\n",
      "I like London and Berlin.\n",
      "{'entities': [(7, 13, 'LOC'), (18, 24, 'LOC')]}\n",
      "Who is Shaka Khan?\n",
      "{'entities': [(7, 17, 'PERSON')]}\n",
      "Losses {'ner': 1.1573812445385556}\n",
      "I like London and Berlin.\n",
      "{'entities': [(7, 13, 'LOC'), (18, 24, 'LOC')]}\n",
      "Who is Shaka Khan?\n",
      "{'entities': [(7, 17, 'PERSON')]}\n",
      "Losses {'ner': 0.7836680602194974}\n",
      "Who is Shaka Khan?\n",
      "{'entities': [(7, 17, 'PERSON')]}\n",
      "I like London and Berlin.\n",
      "{'entities': [(7, 13, 'LOC'), (18, 24, 'LOC')]}\n",
      "Losses {'ner': 1.081124707095114}\n",
      "I like London and Berlin.\n",
      "{'entities': [(7, 13, 'LOC'), (18, 24, 'LOC')]}\n",
      "Who is Shaka Khan?\n",
      "{'entities': [(7, 17, 'PERSON')]}\n",
      "Losses {'ner': 2.5611371530086773}\n",
      "I like London and Berlin.\n",
      "{'entities': [(7, 13, 'LOC'), (18, 24, 'LOC')]}\n",
      "Who is Shaka Khan?\n",
      "{'entities': [(7, 17, 'PERSON')]}\n",
      "Losses {'ner': 3.0154890387589717}\n",
      "Who is Shaka Khan?\n",
      "{'entities': [(7, 17, 'PERSON')]}\n",
      "I like London and Berlin.\n",
      "{'entities': [(7, 13, 'LOC'), (18, 24, 'LOC')]}\n",
      "Losses {'ner': 0.8751591411386901}\n",
      "Who is Shaka Khan?\n",
      "{'entities': [(7, 17, 'PERSON')]}\n",
      "I like London and Berlin.\n",
      "{'entities': [(7, 13, 'LOC'), (18, 24, 'LOC')]}\n",
      "Losses {'ner': 1.7640167556906237}\n",
      "Who is Shaka Khan?\n",
      "{'entities': [(7, 17, 'PERSON')]}\n",
      "I like London and Berlin.\n",
      "{'entities': [(7, 13, 'LOC'), (18, 24, 'LOC')]}\n",
      "Losses {'ner': 2.0371930692425053}\n",
      "I like London and Berlin.\n",
      "{'entities': [(7, 13, 'LOC'), (18, 24, 'LOC')]}\n",
      "Who is Shaka Khan?\n",
      "{'entities': [(7, 17, 'PERSON')]}\n",
      "Losses {'ner': 0.7957044126253718}\n",
      "I like London and Berlin.\n",
      "{'entities': [(7, 13, 'LOC'), (18, 24, 'LOC')]}\n",
      "Who is Shaka Khan?\n",
      "{'entities': [(7, 17, 'PERSON')]}\n",
      "Losses {'ner': 0.6850631531892213}\n",
      "I like London and Berlin.\n",
      "{'entities': [(7, 13, 'LOC'), (18, 24, 'LOC')]}\n",
      "Who is Shaka Khan?\n",
      "{'entities': [(7, 17, 'PERSON')]}\n",
      "Losses {'ner': 0.5150541637458872}\n",
      "I like London and Berlin.\n",
      "{'entities': [(7, 13, 'LOC'), (18, 24, 'LOC')]}\n",
      "Who is Shaka Khan?\n",
      "{'entities': [(7, 17, 'PERSON')]}\n",
      "Losses {'ner': 0.45249649732791986}\n",
      "I like London and Berlin.\n",
      "{'entities': [(7, 13, 'LOC'), (18, 24, 'LOC')]}\n",
      "Who is Shaka Khan?\n",
      "{'entities': [(7, 17, 'PERSON')]}\n",
      "Losses {'ner': 0.5947037761304507}\n",
      "Who is Shaka Khan?\n",
      "{'entities': [(7, 17, 'PERSON')]}\n",
      "I like London and Berlin.\n",
      "{'entities': [(7, 13, 'LOC'), (18, 24, 'LOC')]}\n",
      "Losses {'ner': 0.14031210119793752}\n",
      "Who is Shaka Khan?\n",
      "{'entities': [(7, 17, 'PERSON')]}\n",
      "I like London and Berlin.\n",
      "{'entities': [(7, 13, 'LOC'), (18, 24, 'LOC')]}\n",
      "Losses {'ner': 0.7819525587022729}\n",
      "I like London and Berlin.\n",
      "{'entities': [(7, 13, 'LOC'), (18, 24, 'LOC')]}\n",
      "Who is Shaka Khan?\n",
      "{'entities': [(7, 17, 'PERSON')]}\n",
      "Losses {'ner': 0.29347991975829757}\n",
      "I like London and Berlin.\n",
      "{'entities': [(7, 13, 'LOC'), (18, 24, 'LOC')]}\n",
      "Who is Shaka Khan?\n",
      "{'entities': [(7, 17, 'PERSON')]}\n",
      "Losses {'ner': 0.0796220903233139}\n",
      "Who is Shaka Khan?\n",
      "{'entities': [(7, 17, 'PERSON')]}\n",
      "I like London and Berlin.\n",
      "{'entities': [(7, 13, 'LOC'), (18, 24, 'LOC')]}\n",
      "Losses {'ner': 0.0006723087730059422}\n",
      "Who is Shaka Khan?\n",
      "{'entities': [(7, 17, 'PERSON')]}\n",
      "I like London and Berlin.\n",
      "{'entities': [(7, 13, 'LOC'), (18, 24, 'LOC')]}\n",
      "Losses {'ner': 0.03155381960279156}\n",
      "Who is Shaka Khan?\n",
      "{'entities': [(7, 17, 'PERSON')]}\n",
      "I like London and Berlin.\n",
      "{'entities': [(7, 13, 'LOC'), (18, 24, 'LOC')]}\n",
      "Losses {'ner': 1.3430745274290619}\n",
      "I like London and Berlin.\n",
      "{'entities': [(7, 13, 'LOC'), (18, 24, 'LOC')]}\n",
      "Who is Shaka Khan?\n",
      "{'entities': [(7, 17, 'PERSON')]}\n",
      "Losses {'ner': 0.08352775016741426}\n",
      "I like London and Berlin.\n",
      "{'entities': [(7, 13, 'LOC'), (18, 24, 'LOC')]}\n",
      "Who is Shaka Khan?\n",
      "{'entities': [(7, 17, 'PERSON')]}\n",
      "Losses {'ner': 0.0015205801696685027}\n",
      "Who is Shaka Khan?\n",
      "{'entities': [(7, 17, 'PERSON')]}\n",
      "I like London and Berlin.\n",
      "{'entities': [(7, 13, 'LOC'), (18, 24, 'LOC')]}\n",
      "Losses {'ner': 0.00017097222212371238}\n",
      "Who is Shaka Khan?\n",
      "{'entities': [(7, 17, 'PERSON')]}\n",
      "I like London and Berlin.\n",
      "{'entities': [(7, 13, 'LOC'), (18, 24, 'LOC')]}\n",
      "Losses {'ner': 0.001373792960154848}\n",
      "I like London and Berlin.\n",
      "{'entities': [(7, 13, 'LOC'), (18, 24, 'LOC')]}\n",
      "Who is Shaka Khan?\n",
      "{'entities': [(7, 17, 'PERSON')]}\n",
      "Losses {'ner': 0.0168216644687378}\n",
      "Who is Shaka Khan?\n",
      "{'entities': [(7, 17, 'PERSON')]}\n",
      "I like London and Berlin.\n",
      "{'entities': [(7, 13, 'LOC'), (18, 24, 'LOC')]}\n",
      "Losses {'ner': 7.057150727511425e-06}\n",
      "Who is Shaka Khan?\n",
      "{'entities': [(7, 17, 'PERSON')]}\n",
      "I like London and Berlin.\n",
      "{'entities': [(7, 13, 'LOC'), (18, 24, 'LOC')]}\n",
      "Losses {'ner': 9.183002753924096e-06}\n",
      "Who is Shaka Khan?\n",
      "{'entities': [(7, 17, 'PERSON')]}\n",
      "I like London and Berlin.\n",
      "{'entities': [(7, 13, 'LOC'), (18, 24, 'LOC')]}\n",
      "Losses {'ner': 0.05179606203409046}\n",
      "Who is Shaka Khan?\n",
      "{'entities': [(7, 17, 'PERSON')]}\n",
      "I like London and Berlin.\n",
      "{'entities': [(7, 13, 'LOC'), (18, 24, 'LOC')]}\n",
      "Losses {'ner': 7.560853716092613e-06}\n",
      "I like London and Berlin.\n",
      "{'entities': [(7, 13, 'LOC'), (18, 24, 'LOC')]}\n",
      "Who is Shaka Khan?\n",
      "{'entities': [(7, 17, 'PERSON')]}\n",
      "Losses {'ner': 1.0127835930351777e-06}\n",
      "I like London and Berlin.\n",
      "{'entities': [(7, 13, 'LOC'), (18, 24, 'LOC')]}\n",
      "Who is Shaka Khan?\n",
      "{'entities': [(7, 17, 'PERSON')]}\n",
      "Losses {'ner': 0.0006758011424471069}\n",
      "Who is Shaka Khan?\n",
      "{'entities': [(7, 17, 'PERSON')]}\n",
      "I like London and Berlin.\n",
      "{'entities': [(7, 13, 'LOC'), (18, 24, 'LOC')]}\n",
      "Losses {'ner': 9.556846995022738e-06}\n",
      "Who is Shaka Khan?\n",
      "{'entities': [(7, 17, 'PERSON')]}\n",
      "I like London and Berlin.\n",
      "{'entities': [(7, 13, 'LOC'), (18, 24, 'LOC')]}\n",
      "Losses {'ner': 1.3814524547610548e-07}\n",
      "I like London and Berlin.\n",
      "{'entities': [(7, 13, 'LOC'), (18, 24, 'LOC')]}\n",
      "Who is Shaka Khan?\n",
      "{'entities': [(7, 17, 'PERSON')]}\n",
      "Losses {'ner': 0.0007517005956336752}\n",
      "Who is Shaka Khan?\n",
      "{'entities': [(7, 17, 'PERSON')]}\n",
      "I like London and Berlin.\n",
      "{'entities': [(7, 13, 'LOC'), (18, 24, 'LOC')]}\n",
      "Losses {'ner': 1.06337513957525e-05}\n",
      "I like London and Berlin.\n",
      "{'entities': [(7, 13, 'LOC'), (18, 24, 'LOC')]}\n",
      "Who is Shaka Khan?\n",
      "{'entities': [(7, 17, 'PERSON')]}\n",
      "Losses {'ner': 0.00014363806223329097}\n",
      "I like London and Berlin.\n",
      "{'entities': [(7, 13, 'LOC'), (18, 24, 'LOC')]}\n",
      "Who is Shaka Khan?\n",
      "{'entities': [(7, 17, 'PERSON')]}\n",
      "Losses {'ner': 2.231868613463039e-05}\n",
      "Who is Shaka Khan?\n",
      "{'entities': [(7, 17, 'PERSON')]}\n",
      "I like London and Berlin.\n",
      "{'entities': [(7, 13, 'LOC'), (18, 24, 'LOC')]}\n",
      "Losses {'ner': 0.0005707784140244096}\n",
      "Who is Shaka Khan?\n",
      "{'entities': [(7, 17, 'PERSON')]}\n",
      "I like London and Berlin.\n",
      "{'entities': [(7, 13, 'LOC'), (18, 24, 'LOC')]}\n",
      "Losses {'ner': 0.0021418163306012655}\n",
      "Who is Shaka Khan?\n",
      "{'entities': [(7, 17, 'PERSON')]}\n",
      "I like London and Berlin.\n",
      "{'entities': [(7, 13, 'LOC'), (18, 24, 'LOC')]}\n",
      "Losses {'ner': 1.275140963731887e-05}\n",
      "I like London and Berlin.\n",
      "{'entities': [(7, 13, 'LOC'), (18, 24, 'LOC')]}\n",
      "Who is Shaka Khan?\n",
      "{'entities': [(7, 17, 'PERSON')]}\n",
      "Losses {'ner': 2.1931488112725285e-07}\n",
      "I like London and Berlin.\n",
      "{'entities': [(7, 13, 'LOC'), (18, 24, 'LOC')]}\n",
      "Who is Shaka Khan?\n",
      "{'entities': [(7, 17, 'PERSON')]}\n",
      "Losses {'ner': 0.0003890722650818433}\n",
      "Who is Shaka Khan?\n",
      "{'entities': [(7, 17, 'PERSON')]}\n",
      "I like London and Berlin.\n",
      "{'entities': [(7, 13, 'LOC'), (18, 24, 'LOC')]}\n",
      "Losses {'ner': 4.1843578785686585e-08}\n",
      "Who is Shaka Khan?\n",
      "{'entities': [(7, 17, 'PERSON')]}\n",
      "I like London and Berlin.\n",
      "{'entities': [(7, 13, 'LOC'), (18, 24, 'LOC')]}\n",
      "Losses {'ner': 8.929896458653552e-05}\n",
      "Who is Shaka Khan?\n",
      "{'entities': [(7, 17, 'PERSON')]}\n",
      "I like London and Berlin.\n",
      "{'entities': [(7, 13, 'LOC'), (18, 24, 'LOC')]}\n",
      "Losses {'ner': 0.0024130543613180033}\n",
      "I like London and Berlin.\n",
      "{'entities': [(7, 13, 'LOC'), (18, 24, 'LOC')]}\n",
      "Who is Shaka Khan?\n",
      "{'entities': [(7, 17, 'PERSON')]}\n",
      "Losses {'ner': 1.236306655623008e-06}\n",
      "I like London and Berlin.\n",
      "{'entities': [(7, 13, 'LOC'), (18, 24, 'LOC')]}\n",
      "Who is Shaka Khan?\n",
      "{'entities': [(7, 17, 'PERSON')]}\n",
      "Losses {'ner': 1.597359794511231e-05}\n",
      "I like London and Berlin.\n",
      "{'entities': [(7, 13, 'LOC'), (18, 24, 'LOC')]}\n",
      "Who is Shaka Khan?\n",
      "{'entities': [(7, 17, 'PERSON')]}\n",
      "Losses {'ner': 0.00018721465858798712}\n",
      "Who is Shaka Khan?\n",
      "{'entities': [(7, 17, 'PERSON')]}\n",
      "I like London and Berlin.\n",
      "{'entities': [(7, 13, 'LOC'), (18, 24, 'LOC')]}\n",
      "Losses {'ner': 0.00043306552996940934}\n",
      "I like London and Berlin.\n",
      "{'entities': [(7, 13, 'LOC'), (18, 24, 'LOC')]}\n",
      "Who is Shaka Khan?\n",
      "{'entities': [(7, 17, 'PERSON')]}\n",
      "Losses {'ner': 0.0003575808437839156}\n",
      "Who is Shaka Khan?\n",
      "{'entities': [(7, 17, 'PERSON')]}\n",
      "I like London and Berlin.\n",
      "{'entities': [(7, 13, 'LOC'), (18, 24, 'LOC')]}\n",
      "Losses {'ner': 1.1399778280601603e-07}\n",
      "I like London and Berlin.\n",
      "{'entities': [(7, 13, 'LOC'), (18, 24, 'LOC')]}\n",
      "Who is Shaka Khan?\n",
      "{'entities': [(7, 17, 'PERSON')]}\n",
      "Losses {'ner': 1.8063201454297075e-06}\n",
      "I like London and Berlin.\n",
      "{'entities': [(7, 13, 'LOC'), (18, 24, 'LOC')]}\n",
      "Who is Shaka Khan?\n",
      "{'entities': [(7, 17, 'PERSON')]}\n",
      "Losses {'ner': 1.5902865415785707e-08}\n",
      "I like London and Berlin.\n",
      "{'entities': [(7, 13, 'LOC'), (18, 24, 'LOC')]}\n",
      "Who is Shaka Khan?\n",
      "{'entities': [(7, 17, 'PERSON')]}\n",
      "Losses {'ner': 5.530852709256085e-07}\n",
      "Who is Shaka Khan?\n",
      "{'entities': [(7, 17, 'PERSON')]}\n",
      "I like London and Berlin.\n",
      "{'entities': [(7, 13, 'LOC'), (18, 24, 'LOC')]}\n",
      "Losses {'ner': 9.518420113934817e-06}\n",
      "I like London and Berlin.\n",
      "{'entities': [(7, 13, 'LOC'), (18, 24, 'LOC')]}\n",
      "Who is Shaka Khan?\n",
      "{'entities': [(7, 17, 'PERSON')]}\n",
      "Losses {'ner': 8.673571101554058e-05}\n",
      "I like London and Berlin.\n",
      "{'entities': [(7, 13, 'LOC'), (18, 24, 'LOC')]}\n",
      "Who is Shaka Khan?\n",
      "{'entities': [(7, 17, 'PERSON')]}\n",
      "Losses {'ner': 2.06222143717833e-06}\n",
      "Who is Shaka Khan?\n",
      "{'entities': [(7, 17, 'PERSON')]}\n",
      "I like London and Berlin.\n",
      "{'entities': [(7, 13, 'LOC'), (18, 24, 'LOC')]}\n",
      "Losses {'ner': 1.080093169610751e-06}\n",
      "Who is Shaka Khan?\n",
      "{'entities': [(7, 17, 'PERSON')]}\n",
      "I like London and Berlin.\n",
      "{'entities': [(7, 13, 'LOC'), (18, 24, 'LOC')]}\n",
      "Losses {'ner': 5.678599747520186e-08}\n",
      "I like London and Berlin.\n",
      "{'entities': [(7, 13, 'LOC'), (18, 24, 'LOC')]}\n",
      "Who is Shaka Khan?\n",
      "{'entities': [(7, 17, 'PERSON')]}\n",
      "Losses {'ner': 0.0002942288680026584}\n",
      "I like London and Berlin.\n",
      "{'entities': [(7, 13, 'LOC'), (18, 24, 'LOC')]}\n",
      "Who is Shaka Khan?\n",
      "{'entities': [(7, 17, 'PERSON')]}\n",
      "Losses {'ner': 0.02110879619593734}\n",
      "Who is Shaka Khan?\n",
      "{'entities': [(7, 17, 'PERSON')]}\n",
      "I like London and Berlin.\n",
      "{'entities': [(7, 13, 'LOC'), (18, 24, 'LOC')]}\n",
      "Losses {'ner': 1.7065569966610203e-07}\n",
      "I like London and Berlin.\n",
      "{'entities': [(7, 13, 'LOC'), (18, 24, 'LOC')]}\n",
      "Who is Shaka Khan?\n",
      "{'entities': [(7, 17, 'PERSON')]}\n",
      "Losses {'ner': 0.0005872533935428017}\n",
      "I like London and Berlin.\n",
      "{'entities': [(7, 13, 'LOC'), (18, 24, 'LOC')]}\n",
      "Who is Shaka Khan?\n",
      "{'entities': [(7, 17, 'PERSON')]}\n",
      "Losses {'ner': 3.461229521858351e-08}\n",
      "I like London and Berlin.\n",
      "{'entities': [(7, 13, 'LOC'), (18, 24, 'LOC')]}\n",
      "Who is Shaka Khan?\n",
      "{'entities': [(7, 17, 'PERSON')]}\n",
      "Losses {'ner': 0.00011884575878321416}\n",
      "Who is Shaka Khan?\n",
      "{'entities': [(7, 17, 'PERSON')]}\n",
      "I like London and Berlin.\n",
      "{'entities': [(7, 13, 'LOC'), (18, 24, 'LOC')]}\n",
      "Losses {'ner': 2.5010352009321698e-05}\n",
      "I like London and Berlin.\n",
      "{'entities': [(7, 13, 'LOC'), (18, 24, 'LOC')]}\n",
      "Who is Shaka Khan?\n",
      "{'entities': [(7, 17, 'PERSON')]}\n",
      "Losses {'ner': 7.649967618767422e-08}\n",
      "I like London and Berlin.\n",
      "{'entities': [(7, 13, 'LOC'), (18, 24, 'LOC')]}\n",
      "Who is Shaka Khan?\n",
      "{'entities': [(7, 17, 'PERSON')]}\n",
      "Losses {'ner': 9.278101846875989e-10}\n",
      "I like London and Berlin.\n",
      "{'entities': [(7, 13, 'LOC'), (18, 24, 'LOC')]}\n",
      "Who is Shaka Khan?\n",
      "{'entities': [(7, 17, 'PERSON')]}\n",
      "Losses {'ner': 0.0002482593583389621}\n",
      "I like London and Berlin.\n",
      "{'entities': [(7, 13, 'LOC'), (18, 24, 'LOC')]}\n",
      "Who is Shaka Khan?\n",
      "{'entities': [(7, 17, 'PERSON')]}\n",
      "Losses {'ner': 1.0280933542870184e-09}\n",
      "I like London and Berlin.\n",
      "{'entities': [(7, 13, 'LOC'), (18, 24, 'LOC')]}\n",
      "Who is Shaka Khan?\n",
      "{'entities': [(7, 17, 'PERSON')]}\n",
      "Losses {'ner': 3.3634410759765204e-06}\n"
     ]
    }
   ],
   "source": [
    "with nlp.disable_pipes(*other_pipes):  # only train NER\n",
    "    for itn in range(100):\n",
    "        random.shuffle(TRAIN_DATA)\n",
    "        losses = {}\n",
    "        # batch up the examples using spaCy's minibatch\n",
    "        batches = minibatch(TRAIN_DATA, size=compounding(4.0, 32.0, 1.001))\n",
    "        for batch in batches:\n",
    "            for text, annotations in batch:\n",
    "                print(text)\n",
    "                print(annotations)\n",
    "                doc = nlp.make_doc(text)\n",
    "                example = Example.from_dict(doc, annotations)\n",
    "                nlp.update([example],\n",
    "                    drop=0.5,  # dropout - make it harder to memorise data\n",
    "                    losses=losses,\n",
    "                )\n",
    "        print(\"Losses\", losses)"
   ]
  },
  {
   "cell_type": "markdown",
   "metadata": {},
   "source": [
    "We can test the trained model:"
   ]
  },
  {
   "cell_type": "code",
   "execution_count": 32,
   "metadata": {},
   "outputs": [
    {
     "name": "stdout",
     "output_type": "stream",
     "text": [
      "Entities [('London', 'LOC'), ('Berlin', 'LOC')]\n",
      "Tokens [('I', '', 2), ('like', '', 2), ('London', 'LOC', 3), ('and', '', 2), ('Berlin', 'LOC', 3), ('.', '', 2)]\n",
      "Entities [('Shaka Khan', 'PERSON')]\n",
      "Tokens [('Who', '', 2), ('is', '', 2), ('Shaka', 'PERSON', 3), ('Khan', 'PERSON', 1), ('?', '', 2)]\n"
     ]
    }
   ],
   "source": [
    "for text, _ in TRAIN_DATA:\n",
    "    doc = nlp(text)\n",
    "    print(\"Entities\", [(ent.text, ent.label_) for ent in doc.ents])\n",
    "    print(\"Tokens\", [(t.text, t.ent_type_, t.ent_iob) for t in doc])"
   ]
  },
  {
   "cell_type": "markdown",
   "metadata": {},
   "source": [
    "We can define the output directory where the model will be saved as the *models* folder in the directory where the notebook is running:"
   ]
  },
  {
   "cell_type": "code",
   "execution_count": 33,
   "metadata": {},
   "outputs": [],
   "source": [
    "output_dir = Path(\"./models/\")"
   ]
  },
  {
   "cell_type": "markdown",
   "metadata": {},
   "source": [
    "Save model to output dir:"
   ]
  },
  {
   "cell_type": "code",
   "execution_count": 34,
   "metadata": {},
   "outputs": [],
   "source": [
    "if not output_dir.exists():\n",
    "    output_dir.mkdir()\n",
    "nlp.to_disk(output_dir)"
   ]
  },
  {
   "cell_type": "markdown",
   "metadata": {},
   "source": [
    "To make sure everything worked out well, we can test the saved model:"
   ]
  },
  {
   "cell_type": "code",
   "execution_count": 35,
   "metadata": {},
   "outputs": [
    {
     "name": "stdout",
     "output_type": "stream",
     "text": [
      "Entities [('London', 'LOC'), ('Berlin', 'LOC')]\n",
      "Tokens [('I', '', 2), ('like', '', 2), ('London', 'LOC', 3), ('and', '', 2), ('Berlin', 'LOC', 3), ('.', '', 2)]\n",
      "Entities [('Shaka Khan', 'PERSON')]\n",
      "Tokens [('Who', '', 2), ('is', '', 2), ('Shaka', 'PERSON', 3), ('Khan', 'PERSON', 1), ('?', '', 2)]\n"
     ]
    }
   ],
   "source": [
    "nlp2 = spacy.load(output_dir)\n",
    "for text, _ in TRAIN_DATA:\n",
    "    doc = nlp2(text)\n",
    "    print(\"Entities\", [(ent.text, ent.label_) for ent in doc.ents])\n",
    "    print(\"Tokens\", [(t.text, t.ent_type_, t.ent_iob) for t in doc])"
   ]
  },
  {
   "attachments": {},
   "cell_type": "markdown",
   "metadata": {},
   "source": [
    "**(C) 2021-2023 by [Damir Cavar](http://damir.cavar.me/) <<dcavar@iu.edu>>**"
   ]
  }
 ],
 "metadata": {
  "kernelspec": {
   "display_name": "Python 3",
   "language": "python",
   "name": "python3"
  },
  "language_info": {
   "codemirror_mode": {
    "name": "ipython",
    "version": 3
   },
   "file_extension": ".py",
   "mimetype": "text/x-python",
   "name": "python",
   "nbconvert_exporter": "python",
   "pygments_lexer": "ipython3",
   "version": "3.11.6"
  },
  "latex_envs": {
   "LaTeX_envs_menu_present": true,
   "autoclose": false,
   "autocomplete": true,
   "bibliofile": "biblio.bib",
   "cite_by": "apalike",
   "current_citInitial": 1,
   "eqLabelWithNumbers": true,
   "eqNumInitial": 1,
   "hotkeys": {
    "equation": "Ctrl-E",
    "itemize": "Ctrl-I"
   },
   "labels_anchors": false,
   "latex_user_defs": false,
   "report_style_numbering": false,
   "user_envs_cfg": false
  },
  "toc": {
   "base_numbering": 1,
   "nav_menu": {},
   "number_sections": false,
   "sideBar": false,
   "skip_h1_title": false,
   "title_cell": "Table of Contents",
   "title_sidebar": "Contents",
   "toc_cell": false,
   "toc_position": {},
   "toc_section_display": false,
   "toc_window_display": false
  },
  "vscode": {
   "interpreter": {
    "hash": "1e28a5307a9b5c2fbeb0b263581f1cf3bfba9739188743f6a231f74c7de58892"
   }
  }
 },
 "nbformat": 4,
 "nbformat_minor": 4
}
