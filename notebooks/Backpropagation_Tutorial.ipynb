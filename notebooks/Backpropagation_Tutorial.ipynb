{
 "cells": [
  {
   "cell_type": "markdown",
   "metadata": {},
   "source": [
    "# Backpropagation Tutorial"
   ]
  },
  {
   "cell_type": "markdown",
   "metadata": {},
   "source": [
    "**(C) 2019-2024 by [Damir Cavar](http://damir.cavar.me/)**"
   ]
  },
  {
   "cell_type": "markdown",
   "metadata": {},
   "source": [
    "**Version:** 0.3, January 2024"
   ]
  },
  {
   "cell_type": "markdown",
   "metadata": {},
   "source": [
    "**Download:** This and various other Jupyter notebooks are available from my [GitHub repo](https://github.com/dcavar/python-tutorial-for-ipython)."
   ]
  },
  {
   "cell_type": "markdown",
   "metadata": {},
   "source": [
    "## Introduction"
   ]
  },
  {
   "cell_type": "markdown",
   "metadata": {},
   "source": [
    "For more details on Backpropagation and its use in Neural Networks see Rumelhart, Hinton, and Williams (1986a) and Rumelhart, Hinton & Williams (1986b). A detailed overview is also provided in Goodfellow, Bengio, and Courville (2016)."
   ]
  },
  {
   "cell_type": "markdown",
   "metadata": {},
   "source": [
    "The ideas and initial versions of this Python-based notebook have been inspired by many open and public tutorials and articles, but in particular by these three:\n",
    "- Andrew Trask (2015) [*A Neural Network in 11 lines of Python (Part 1)*](https://iamtrask.github.io/2015/07/12/basic-python-network/)\n",
    "- Matt Mazur (2015) [*A Step by Step Backpropagation Example*](https://mattmazur.com/2015/03/17/a-step-by-step-backpropagation-example/)\n",
    "- Arunava Chakraborty (2018) [*Derivative of the Sigmoid function*](https://towardsdatascience.com/derivative-of-the-sigmoid-function-536880cf918e)\n",
    "\n",
    "A lot of code examples and discussion has been compiled here using these sources."
   ]
  },
  {
   "cell_type": "markdown",
   "metadata": {},
   "source": [
    "**Prerequisites:**"
   ]
  },
  {
   "cell_type": "code",
   "execution_count": null,
   "metadata": {},
   "outputs": [],
   "source": [
    "!pip install -U numpy"
   ]
  },
  {
   "cell_type": "code",
   "execution_count": null,
   "metadata": {},
   "outputs": [],
   "source": [
    "!pip install -U matplotlib"
   ]
  },
  {
   "cell_type": "markdown",
   "metadata": {},
   "source": [
    "### Preliminaries"
   ]
  },
  {
   "cell_type": "markdown",
   "metadata": {},
   "source": [
    "This notebook uses [nbextensions](https://github.com/ipython-contrib/jupyter_contrib_nbextensions) with *python-markdown/main* enabled. These extensions might not work in Jupyter Lab, thus some variable references in the markdown cells might not display."
   ]
  },
  {
   "cell_type": "markdown",
   "metadata": {},
   "source": [
    "We will use [numpy](https://numpy.org/) in the following demo. Let us import it and assign the *np* alias to it:"
   ]
  },
  {
   "cell_type": "code",
   "execution_count": 1,
   "metadata": {
    "scrolled": true
   },
   "outputs": [],
   "source": [
    "import numpy as np"
   ]
  },
  {
   "cell_type": "markdown",
   "metadata": {},
   "source": [
    "For plots of curves and functions we will use *pyplot* from *matplotlib*. We will import it here:"
   ]
  },
  {
   "cell_type": "code",
   "execution_count": 2,
   "metadata": {},
   "outputs": [],
   "source": [
    "from matplotlib import pyplot as plt"
   ]
  },
  {
   "cell_type": "markdown",
   "metadata": {},
   "source": [
    "## Non-linearity Function and Derivatives"
   ]
  },
  {
   "cell_type": "markdown",
   "metadata": {},
   "source": [
    "The Sigmoid function is defined as:"
   ]
  },
  {
   "cell_type": "markdown",
   "metadata": {},
   "source": [
    "$$\\sigma(x) = \\frac{1}{1 + e^{-x}} $$"
   ]
  },
  {
   "cell_type": "markdown",
   "metadata": {},
   "source": [
    "We can specify it in Python as:"
   ]
  },
  {
   "cell_type": "code",
   "execution_count": 3,
   "metadata": {
    "scrolled": true
   },
   "outputs": [],
   "source": [
    "def sigmoid(x):\n",
    "    return 1 / (1 + np.exp(-x))"
   ]
  },
  {
   "cell_type": "markdown",
   "metadata": {},
   "source": [
    "We can now plot the sigmoid function for x values between -10 and 10:"
   ]
  },
  {
   "cell_type": "code",
   "execution_count": 4,
   "metadata": {},
   "outputs": [
    {
     "name": "stdout",
     "output_type": "stream",
     "text": [
      "\n"
     ]
    },
    {
     "data": {
      "image/png": "[encoded data removed]",
      "text/plain": [
       "<Figure size 640x480 with 1 Axes>"
      ]
     },
     "metadata": {},
     "output_type": "display_data"
    }
   ],
   "source": [
    "%matplotlib inline\n",
    "x = np.arange(-10, 10, 0.2)\n",
    "y = sigmoid(x)\n",
    "fig = "
   ]
  },
  {
   "cell_type": "code",
   "execution_count": 5,
   "metadata": {},
   "outputs": [
    {
     "name": "stdout",
     "output_type": "stream",
     "text": [
      "\n"
     ]
    },
    {
     "data": {
      "text/plain": [
       "<Figure size 640x480 with 0 Axes>"
      ]
     },
     "metadata": {},
     "output_type": "display_data"
    }
   ],
   "source": [
    "plt.figure()\n",
    "ax = fig.add_axes([0, 0, 1, 1])\n",
    "ax.plot(x, y)\n",
    "ax.set_xlabel(\"x\")\n",
    "ax.set_ylabel(\"y\")\n",
    "ax.set_title(\"Sigmoid\")\n",
    "print()"
   ]
  },
  {
   "cell_type": "markdown",
   "metadata": {},
   "source": [
    "In the following for Backpropagation we will make use of the Derivative of the Sigmoid function. The Derivative of Sigmoid is defined as:"
   ]
  },
  {
   "cell_type": "markdown",
   "metadata": {},
   "source": [
    "$$\\frac{d}{dx}\\sigma(x) = \\sigma(x) (1 - \\sigma(x))$$"
   ]
  },
  {
   "cell_type": "markdown",
   "metadata": {},
   "source": [
    "We can derive this equation as follows. Assume that:"
   ]
  },
  {
   "cell_type": "markdown",
   "metadata": {},
   "source": [
    "$$\\frac{d}{dx} \\sigma(x) = \\frac{d}{dx}  \\frac{1}{1 + e^{-x}} $$"
   ]
  },
  {
   "cell_type": "markdown",
   "metadata": {},
   "source": [
    "We can invert the fraction using a negative exponent:"
   ]
  },
  {
   "cell_type": "markdown",
   "metadata": {},
   "source": [
    "$$\\frac{d}{dx} \\sigma(x) = \\frac{d}{dx}  \\frac{1}{1 + e^{-x}} = \\frac{d}{dx} (1 + e^{-x})^{-1}$$"
   ]
  },
  {
   "cell_type": "markdown",
   "metadata": {},
   "source": [
    "We can apply the *reciprocal rule*, which is, the numerator is the derivative of the function ($g'(x)$) times -1 divided by the square of the denominator $g(x)$:"
   ]
  },
  {
   "cell_type": "markdown",
   "metadata": {},
   "source": [
    "$$\\frac{d}{dx} \\left[ \\frac{1}{g(x)} \\right] = \\frac{-g'(x)}{[g(x)]^2} = -g(x)^{-2} g'(x)$$"
   ]
  },
  {
   "cell_type": "markdown",
   "metadata": {},
   "source": [
    "In our Derivative of Sigmoid derivation, we can now reformulate as:"
   ]
  },
  {
   "cell_type": "markdown",
   "metadata": {},
   "source": [
    "$$\\frac{d}{dx} (1 + e^{-x})^{-1} = -(1 + e^{-x})^{-2} \\frac{d}{dx} (1 + e^{-x})$$"
   ]
  },
  {
   "cell_type": "markdown",
   "metadata": {},
   "source": [
    "With $\\alpha$ and $\\beta$ constants, the *Rule of Linearity* says that:"
   ]
  },
  {
   "cell_type": "markdown",
   "metadata": {},
   "source": [
    "$$\\frac{d}{dx} \\left( \\alpha f(x) + \\beta g(x) \\right) = \\frac{d}{dx} \\left( \\alpha f(x) \\right) + \\frac{d}{dx} \\left( \\beta g(x) \\right) = \\alpha f'(x) + \\beta g'(x)$$"
   ]
  },
  {
   "cell_type": "markdown",
   "metadata": {},
   "source": [
    "This means, using the Rule of Linearity and given that the derivative of a constant is 0, we can rewrite our equation as:"
   ]
  },
  {
   "cell_type": "markdown",
   "metadata": {},
   "source": [
    "$$\\frac{d}{dx} (1 + e^{-x})^{-1} = -(1 + e^{-x})^{-2} \\frac{d}{dx} (1 + e^{-x}) = -(1 + e^{-x})^{-2} \\left( \\frac{d}{dx}[1] + \\frac{d}{dx}[e^{-x}] \\right) = -(1 + e^{-x})^{-2} \\left( 0 + \\frac{d}{dx}[e^{-x}] \\right) = -(1 + e^{-x})^{-2} \\frac{d}{dx}[e^{-x}] $$"
   ]
  },
  {
   "cell_type": "markdown",
   "metadata": {},
   "source": [
    "The *Exponential Rule* says that:"
   ]
  },
  {
   "cell_type": "markdown",
   "metadata": {},
   "source": [
    "$$\\frac{d}{dx} e^{u(x)} = e^{u(x)} \\frac{d}{dx} x$$"
   ]
  },
  {
   "cell_type": "markdown",
   "metadata": {},
   "source": [
    "We can thus rewrite:"
   ]
  },
  {
   "cell_type": "markdown",
   "metadata": {},
   "source": [
    "$$\\frac{d}{dx} (1 + e^{-x})^{-1} = -(1 + e^{-x})^{-2} e^{-x} \\frac{d}{dx}[-x] $$"
   ]
  },
  {
   "cell_type": "markdown",
   "metadata": {},
   "source": [
    "This is equivalent to:"
   ]
  },
  {
   "cell_type": "markdown",
   "metadata": {},
   "source": [
    "$$\\frac{d}{dx} (1 + e^{-x})^{-1} = -(1 + e^{-x})^{-2} e^{-x} -\\frac{d}{dx}[x]$$"
   ]
  },
  {
   "cell_type": "markdown",
   "metadata": {},
   "source": [
    "Given that a derivative of a variable is 1, we can rewrite as:"
   ]
  },
  {
   "cell_type": "markdown",
   "metadata": {},
   "source": [
    "$$\\frac{d}{dx} (1 + e^{-x})^{-1} = -(1 + e^{-x})^{-2} e^{-x} -1 = (1 + e^{-x})^{-2} e^{-x} = \\frac{e^{-x}}{(1 + e^{-x})^2}$$"
   ]
  },
  {
   "cell_type": "markdown",
   "metadata": {},
   "source": [
    "We can rewrite the derivative as:"
   ]
  },
  {
   "cell_type": "markdown",
   "metadata": {},
   "source": [
    "$$\\frac{d}{dx} (1 + e^{-x})^{-1} = \\frac{1 e^{-x}}{(1 + e^{-x}) (1 + e^{-x})} = \\frac{1}{1 + e^{-x}} \\frac{e^{-x}}{1 + e^{-x}} = \\frac{1}{1 + e^{-x}} \\frac{e^{-x} + 1 - 1}{1 + e^{-x}} = \\frac{1}{1 + e^{-x}} \\left( \\frac{1 + e^{-x}}{1 + e^{-x}} - \\frac{1}{1 + e^{-x}} \\right)$$"
   ]
  },
  {
   "cell_type": "markdown",
   "metadata": {},
   "source": [
    "We can simplify this to:"
   ]
  },
  {
   "cell_type": "markdown",
   "metadata": {},
   "source": [
    "$$\\frac{d}{dx} (1 + e^{-x})^{-1} = \\frac{1}{1 + e^{-x}} \\left( 1 - \\frac{1}{1 + e^{-x}} \\right)$$"
   ]
  },
  {
   "cell_type": "markdown",
   "metadata": {},
   "source": [
    "This means that we can derive the Derivative of the Sigmoid function as:"
   ]
  },
  {
   "cell_type": "markdown",
   "metadata": {},
   "source": [
    "$$\\frac{d}{dx} \\sigma(x) = \\sigma(x) ( 1 - \\sigma(x) )$$"
   ]
  },
  {
   "cell_type": "markdown",
   "metadata": {},
   "source": [
    "We can specify the Python function of the Derivative of the Sigmoid function as:"
   ]
  },
  {
   "cell_type": "code",
   "execution_count": 6,
   "metadata": {
    "scrolled": true
   },
   "outputs": [],
   "source": [
    "def sigmoidDerivative(x):\n",
    "    return sigmoid(x) * (1 - sigmoid(x))"
   ]
  },
  {
   "cell_type": "markdown",
   "metadata": {},
   "source": [
    "We can plot the Derivative of the Sigmoid Function as follows:"
   ]
  },
  {
   "cell_type": "code",
   "execution_count": 7,
   "metadata": {},
   "outputs": [
    {
     "name": "stdout",
     "output_type": "stream",
     "text": [
      "\n"
     ]
    },
    {
     "data": {
      "image/png": "[encoded data removed]",
      "text/plain": [
       "<Figure size 640x480 with 1 Axes>"
      ]
     },
     "metadata": {},
     "output_type": "display_data"
    }
   ],
   "source": [
    "%matplotlib inline\n",
    "x = np.arange(-10, 10, 0.2)\n",
    "fig = plt.figure()\n",
    "ax = fig.add_axes([0, 0, 1, 1])\n",
    "y = sigmoidDerivative(x)\n",
    "ax.plot(x, y, color=\"red\", label='Derivative of Sigmoid'.format(1))\n",
    "y = sigmoid(x)\n",
    "ax.plot(x, y, color=\"blue\", label='Sigmoid'.format(1))\n",
    "fig.legend(loc='center right')\n",
    "ax.set_xlabel(\"x\")\n",
    "ax.set_ylabel(\"y\")\n",
    "ax.set_title(\"Derivative of the Sigmoid Function\")\n",
    "print()"
   ]
  },
  {
   "cell_type": "markdown",
   "metadata": {},
   "source": [
    "## Forward- and Backpropagation"
   ]
  },
  {
   "cell_type": "markdown",
   "metadata": {},
   "source": [
    "We will define a simple network that takes an input as defined for *X* and that generates a corresponding output as defined in *y*. The input array *X* is:"
   ]
  },
  {
   "cell_type": "code",
   "execution_count": 8,
   "metadata": {
    "scrolled": true
   },
   "outputs": [],
   "source": [
    "X = np.array( [ [0, 0, 1],\n",
    "                [0, 1, 1],\n",
    "                [1, 0, 1],\n",
    "                [1, 1, 1] ] )"
   ]
  },
  {
   "cell_type": "markdown",
   "metadata": {},
   "source": [
    "The rows in $X$ are the input vectors for our training or learning phase. Each vector has 3 dimensions."
   ]
  },
  {
   "cell_type": "markdown",
   "metadata": {},
   "source": [
    "The output array *y* represents the expected output that the network is expected to learn from the input data. It is defined as a row-vector with 4 rows and 1 column:"
   ]
  },
  {
   "cell_type": "code",
   "execution_count": 9,
   "metadata": {
    "scrolled": true
   },
   "outputs": [
    {
     "data": {
      "text/plain": [
       "(4, 1)"
      ]
     },
     "execution_count": 9,
     "metadata": {},
     "output_type": "execute_result"
    }
   ],
   "source": [
    "y = np.array( [0, 0, 1, 1] ).reshape(-1, 1)\n",
    "np.shape(y)"
   ]
  },
  {
   "cell_type": "code",
   "execution_count": 10,
   "metadata": {},
   "outputs": [
    {
     "data": {
      "text/plain": [
       "array([[0],\n",
       "       [0],\n",
       "       [1],\n",
       "       [1]])"
      ]
     },
     "execution_count": 10,
     "metadata": {},
     "output_type": "execute_result"
    }
   ],
   "source": [
    "y"
   ]
  },
  {
   "cell_type": "markdown",
   "metadata": {},
   "source": [
    "We will define a weight matrix *W* and initialize it with random weights:"
   ]
  },
  {
   "cell_type": "code",
   "execution_count": 11,
   "metadata": {
    "scrolled": true
   },
   "outputs": [
    {
     "name": "stdout",
     "output_type": "stream",
     "text": [
      "[[-0.86183264]\n",
      " [ 0.72458454]\n",
      " [ 0.0121525 ]]\n"
     ]
    }
   ],
   "source": [
    "W = 2 * np.random.random((3, 1)) - 1\n",
    "print(W)"
   ]
  },
  {
   "cell_type": "markdown",
   "metadata": {},
   "source": [
    "In this simple example *W* is the weight matrix that connects two layers, the input (*X*) and the output layer (*O*)."
   ]
  },
  {
   "cell_type": "markdown",
   "metadata": {},
   "source": [
    "The optimization or learning phase consists of a certain number of iterations that :"
   ]
  },
  {
   "cell_type": "code",
   "execution_count": 12,
   "metadata": {
    "scrolled": true
   },
   "outputs": [],
   "source": [
    "iterations = 4000"
   ]
  },
  {
   "cell_type": "markdown",
   "metadata": {},
   "source": [
    "Let us keep track of the output error (as becomes clear below) in the following variable:"
   ]
  },
  {
   "cell_type": "code",
   "execution_count": 13,
   "metadata": {},
   "outputs": [],
   "source": [
    "error = 0.0"
   ]
  },
  {
   "cell_type": "markdown",
   "metadata": {},
   "source": [
    "Repeat for a specific number of iterations the following computations. Initially we take the entire set of training examples in *X* and process them all at the same time. This is called *full batch* training, inidicated by the dot-product between *X* and *W*. Computing *O* is the first prediction step by taking the dot-product of *X* and *W* and computing the sigmoid function over it:"
   ]
  },
  {
   "cell_type": "code",
   "execution_count": 14,
   "metadata": {
    "scrolled": true
   },
   "outputs": [
    {
     "name": "stdout",
     "output_type": "stream",
     "text": [
      "Error: 0.6027633085333314\n",
      "Error: 0.0578150091093401\n",
      "Error: 0.02876763301623031\n",
      "Error: 0.019059288119985918\n",
      "Error: 0.014230168204005052\n",
      "Error: 0.011346567218145205\n",
      "Error: 0.009431709277746498\n",
      "Error: 0.008068325114814189\n",
      "Error: 0.007048482406963114\n",
      "Error: 0.00625702218392287\n",
      "Error: 0.005625041094880412\n",
      "Error: 0.005108799717822897\n",
      "Error: 0.00467920232956023\n",
      "Error: 0.004316145087105097\n",
      "Error: 0.004005293234710723\n",
      "Error: 0.003736151185400447\n",
      "Error: 0.0035008584764538823\n",
      "Error: 0.0032934119619949485\n",
      "Error: 0.003109148059964395\n",
      "Error: 0.0029443889955577613\n",
      "Error: 0.0027961954923551788\n",
      "Error: 0.0026621903355198953\n",
      "Error: 0.002540430197706202\n",
      "Error: 0.002429311000585288\n",
      "Error: 0.0023274970052785944\n",
      "Error: 0.00223386697039457\n",
      "Error: 0.002147472770724473\n",
      "Error: 0.0020675072378135706\n",
      "Error: 0.0019932789111077823\n",
      "Error: 0.0019241920274269103\n",
      "Error: 0.0018597305234559216\n",
      "Error: 0.001799445142862851\n",
      "Error: 0.001742942967257644\n",
      "Error: 0.0016898788556069103\n",
      "Error: 0.001639948398252347\n",
      "Error: 0.0015928820819008768\n",
      "Error: 0.0015484404295718398\n",
      "Error: 0.0015064099306244237\n",
      "Error: 0.0014665996149949782\n",
      "Error: 0.0014288381557555389\n",
      "O: [[0.0018113 ]\n",
      " [0.00120636]\n",
      " [0.9989784 ]\n",
      " [0.99846597]]\n"
     ]
    }
   ],
   "source": [
    "for i in range(iterations):\n",
    "    O = sigmoid(np.dot(X, W))\n",
    "    \n",
    "    O_error = y - O\n",
    "    error = np.mean(np.abs(O_error))\n",
    "    if (i % 100) == 0:\n",
    "        print(\"Error:\", error)\n",
    "    \n",
    "    # Compute the delta\n",
    "    O_delta = O_error * sigmoidDerivative(O)\n",
    "    \n",
    "    # update weights\n",
    "    W += np.dot(X.T, O_delta)\n",
    "\n",
    "print(\"O:\", O)"
   ]
  },
  {
   "cell_type": "markdown",
   "metadata": {},
   "source": [
    "The matrix *X* has 4 rows and 3 columns. The weight matrix *W* has 3 rows and 1 column. The output will be a row vector with 4 rows and 1 column, representing the output that we want to align as close as possible to *y*."
   ]
  },
  {
   "cell_type": "markdown",
   "metadata": {
    "variables": {
     " error ": "0.001393528327629781",
     " iterations ": "4000"
    }
   },
   "source": [
    "*O_error* is the difference between *y* and the initial guess in *O*. We want to see *O* to reflect *y* as closely as possible. After {{ iterations }} in the loop above, we see that *O* is resembling *y* very well, with an error of {{ error }}."
   ]
  },
  {
   "cell_type": "markdown",
   "metadata": {},
   "source": [
    "In the next step we compute the derivative of the sigmoid function for the initial guess vector. The Derivative is weighted by the error, which means that if the slope was shallow (close to or approaching 0), the guess was quite good, that is the network was confident about the output for a given input. If the slope was higher, as for example for *x = 0*, the prediction was not very good. Such bad predictions get updated significantly, while the confident predictions get updated minimally, multiplying them with some small number close to 0."
   ]
  },
  {
   "cell_type": "markdown",
   "metadata": {},
   "source": [
    "For every single weight, we "
   ]
  },
  {
   "cell_type": "markdown",
   "metadata": {},
   "source": [
    "## Adding a Layer"
   ]
  },
  {
   "cell_type": "markdown",
   "metadata": {},
   "source": [
    "In the following example we will slightly change the ground truth. Compare the following definition of *y* with the definition above:"
   ]
  },
  {
   "cell_type": "code",
   "execution_count": 21,
   "metadata": {},
   "outputs": [],
   "source": [
    "y = np.array([[0],\n",
    "            [1],\n",
    "            [1],\n",
    "            [0]])"
   ]
  },
  {
   "cell_type": "markdown",
   "metadata": {},
   "source": [
    "In the following network specification we introduce a second layer"
   ]
  },
  {
   "cell_type": "code",
   "execution_count": 18,
   "metadata": {},
   "outputs": [
    {
     "data": {
      "text/plain": [
       "array([[-0.62809686, -0.80727697, -0.68681245, -0.32319426],\n",
       "       [ 0.00332353, -0.90044509, -0.8250264 , -0.36495268],\n",
       "       [-0.42635273,  0.29295359, -0.94077454,  0.04452739]])"
      ]
     },
     "execution_count": 18,
     "metadata": {},
     "output_type": "execute_result"
    }
   ],
   "source": [
    "2 * np.random.random((3, 4)) - 1"
   ]
  },
  {
   "cell_type": "code",
   "execution_count": 19,
   "metadata": {},
   "outputs": [
    {
     "data": {
      "text/plain": [
       "array([[-0.87829835],\n",
       "       [ 0.20545786],\n",
       "       [-0.89181418],\n",
       "       [-0.46497182]])"
      ]
     },
     "execution_count": 19,
     "metadata": {},
     "output_type": "execute_result"
    }
   ],
   "source": [
    "2 * np.random.random((4, 1)) - 1"
   ]
  },
  {
   "cell_type": "code",
   "execution_count": 22,
   "metadata": {},
   "outputs": [
    {
     "name": "stdout",
     "output_type": "stream",
     "text": [
      "Error: 0.4964100319027255\n",
      "Error: 0.39587723965266564\n",
      "Error: 0.02824233301196295\n",
      "Error: 0.009847746184607594\n",
      "Error: 0.005651708908810978\n",
      "Error: 0.0037530047998843748\n",
      "Error: 0.002666343357345524\n",
      "Error: 0.002020890516544325\n",
      "[[0.00154211]\n",
      " [0.99805794]\n",
      " [0.99828371]\n",
      " [0.00135254]]\n"
     ]
    }
   ],
   "source": [
    "np.random.seed(1)\n",
    "\n",
    "# randomly initialize our weights with mean 0\n",
    "Wh = 2 * np.random.random((3, 4)) - 1\n",
    "Wo = 2 * np.random.random((4, 1)) - 1\n",
    "\n",
    "Xt = X.T # precomputing the transform of X for the loop\n",
    "\n",
    "for i in range(80000):\n",
    "\n",
    "    # Feed forward through layers X, H, and O\n",
    "    H = sigmoid(np.dot(X, Wh))\n",
    "    O = sigmoid(np.dot(H, Wo))\n",
    "\n",
    "    # how much did we miss the target value?\n",
    "    O_error = y - O\n",
    "    error = np.mean(np.abs(O_error))\n",
    "    if (i % 10000) == 0:\n",
    "        print(\"Error:\", error)\n",
    "\n",
    "    # compute the direction of the optimization for the output layer\n",
    "    O_delta = O_error * sigmoidDerivative(O)\n",
    "\n",
    "    # how much did each H value contribute to the O error (according to the weights)?\n",
    "    H_error = O_delta.dot(Wo.T)\n",
    "    \n",
    "    # compute the directions of the optimization for the hidden layer\n",
    "    H_delta = H_error * sigmoidDerivative(H)\n",
    "\n",
    "    Wo += H.T.dot(O_delta)\n",
    "    Wh += Xt.dot(H_delta)\n",
    "\n",
    "print(O)"
   ]
  },
  {
   "cell_type": "code",
   "execution_count": null,
   "metadata": {},
   "outputs": [],
   "source": []
  },
  {
   "cell_type": "markdown",
   "metadata": {},
   "source": [
    "## References"
   ]
  },
  {
   "cell_type": "markdown",
   "metadata": {},
   "source": [
    "- Goodfellow, Ian, Yoshua Bengio, Aaron Courville (2016). [Deep Learning](http://www.deeplearningbook.org/). MIT Press.\n",
    "- Nielsen, Michael A. (2015). \"Chapter 2: How the backpropagation algorithm works\". Neural Networks and Deep Learning. Determination Press.\n",
    "- Rumelhart, David E., Geoffrey E. Hinton, Ronald J. Williams (1986a). \"Learning representations by back-propagating errors\". *Nature* 323 (6088): 533–536. [doi:10.1038/323533a0](https://doi.org/10.1038%2F323533a0).\n",
    "- Rumelhart, David E., Geoffrey E. Hinton, Ronald J. Williams (1986b). \"8. Learning Internal Representations by Error Propagation\". In: D. Rumelhart, J.L. McClelland (eds.). Parallel Distributed Processing: Explorations in the Microstructure of Cognition. Volume 1: Foundations. Cambridge: MIT Press."
   ]
  },
  {
   "cell_type": "markdown",
   "metadata": {},
   "source": [
    "**(C) 2021-2024 by [Damir Cavar](http://damir.cavar.me/) <<dcavar@iu.edu>>**"
   ]
  }
 ],
 "metadata": {
  "kernelspec": {
   "display_name": "Python 3",
   "language": "python",
   "name": "python3"
  },
  "language_info": {
   "codemirror_mode": {
    "name": "ipython",
    "version": 3
   },
   "file_extension": ".py",
   "mimetype": "text/x-python",
   "name": "python",
   "nbconvert_exporter": "python",
   "pygments_lexer": "ipython3",
   "version": "3.12.1"
  },
  "toc": {
   "base_numbering": 1,
   "nav_menu": {},
   "number_sections": false,
   "sideBar": false,
   "skip_h1_title": false,
   "title_cell": "Table of Contents",
   "title_sidebar": "Contents",
   "toc_cell": false,
   "toc_position": {},
   "toc_section_display": false,
   "toc_window_display": false
  },
  "vscode": {
   "interpreter": {
    "hash": "1e28a5307a9b5c2fbeb0b263581f1cf3bfba9739188743f6a231f74c7de58892"
   }
  }
 },
 "nbformat": 4,
 "nbformat_minor": 4
}
